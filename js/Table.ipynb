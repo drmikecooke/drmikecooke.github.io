{
 "cells": [
  {
   "cell_type": "code",
   "execution_count": 7,
   "metadata": {},
   "outputs": [],
   "source": [
    "function wrap(open, close) {return (v)=>{return open+v+close}}\n",
    "function arrayWrap(array, open, close) {return array.map(wrap(open,close))}\n",
    "function elementWrap(array, open, close) {return array.map((v)=>{return arrayWrap(v,open,close).join(\"\")})}\n",
    "\n",
    "function Table(heading, heads, data) {\n",
    "    if(!(this instanceof Table)) {return new Table(heading, heads, data)}\n",
    "    this.heading = heading;\n",
    "    this.heads = heads;\n",
    "    this.data = data;\n",
    "    this.caption = wrap(\"<caption>\",\"</caption>\\n\")(heading);\n",
    "    this.th = wrap(\"<tr>\",\"</tr>\\n\")(arrayWrap(heads,\"<th>\",\"</th>\").join(\"\"));\n",
    "    this.td = arrayWrap(elementWrap(data,\"<td>\",\"</td>\"),\"<tr>\",\"</tr>\\n\").join(\"\");\n",
    "    this.HTML = wrap(\"<table>\\n\",\"</table>\\n\")(this.caption+this.th+this.td);\n",
    "    this.column = function(i) {return {head: heads[i], column: data.map((v)=>{return v[i]})}}\n",
    "    this.pData = [{x:this.column(0).column,y:this.column(1).column,type:'scatter',mode:'lines'}];\n",
    "    this.pLayout = {title: heading, showlegend: false, xaxis: {title: heads[0]}, yaxis: {title: heads[1], rangemode: 'tozero'}}\n",
    "    this.CSV = heads.join() + \"\\n\" + data.join(\"\\n\");\n",
    "}"
   ]
  },
  {
   "cell_type": "code",
   "execution_count": 8,
   "metadata": {},
   "outputs": [],
   "source": [
    "var table = new Table(\"Heading\",[\"Head1\",\"Head2\"], [[0,1],[2,3]])"
   ]
  },
  {
   "cell_type": "code",
   "execution_count": 10,
   "metadata": {},
   "outputs": [
    {
     "name": "stdout",
     "output_type": "stream",
     "text": [
      "Head1,Head2\n",
      "0,1\n",
      "2,3\n"
     ]
    }
   ],
   "source": [
    "table.CSV"
   ]
  },
  {
   "cell_type": "code",
   "execution_count": null,
   "metadata": {},
   "outputs": [],
   "source": []
  }
 ],
 "metadata": {
  "kernelspec": {
   "display_name": "JavaScript",
   "language": "javascript",
   "name": "jslab"
  },
  "language_info": {
   "file_extension": ".js",
   "mimetype": "text/javascript",
   "name": "javascript",
   "version": ""
  }
 },
 "nbformat": 4,
 "nbformat_minor": 4
}
