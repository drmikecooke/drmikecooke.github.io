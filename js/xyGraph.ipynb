{
 "cells": [
  {
   "cell_type": "code",
   "execution_count": 3,
   "metadata": {},
   "outputs": [],
   "source": [
    "// Create exponential data array data\n",
    "function expData(initial,ratio,duration) {\n",
    "    var expD = [], value = initial;\n",
    "    for (var m = 0; m<=duration; m++) {\n",
    "        expD.push([m, value]);\n",
    "        value *= ratio;\n",
    "    }\n",
    "    return expD\n",
    "}"
   ]
  },
  {
   "cell_type": "code",
   "execution_count": 4,
   "metadata": {},
   "outputs": [
    {
     "name": "stdout",
     "output_type": "stream",
     "text": [
      "[ [ \u001b[33m0\u001b[39m, \u001b[33m1\u001b[39m ],\n",
      "  [ \u001b[33m1\u001b[39m, \u001b[33m2\u001b[39m ],\n",
      "  [ \u001b[33m2\u001b[39m, \u001b[33m4\u001b[39m ],\n",
      "  [ \u001b[33m3\u001b[39m, \u001b[33m8\u001b[39m ],\n",
      "  [ \u001b[33m4\u001b[39m, \u001b[33m16\u001b[39m ],\n",
      "  [ \u001b[33m5\u001b[39m, \u001b[33m32\u001b[39m ],\n",
      "  [ \u001b[33m6\u001b[39m, \u001b[33m64\u001b[39m ],\n",
      "  [ \u001b[33m7\u001b[39m, \u001b[33m128\u001b[39m ],\n",
      "  [ \u001b[33m8\u001b[39m, \u001b[33m256\u001b[39m ],\n",
      "  [ \u001b[33m9\u001b[39m, \u001b[33m512\u001b[39m ],\n",
      "  [ \u001b[33m10\u001b[39m, \u001b[33m1024\u001b[39m ] ]\n"
     ]
    }
   ],
   "source": [
    "expData(1,2,10)"
   ]
  },
  {
   "cell_type": "code",
   "execution_count": 95,
   "metadata": {},
   "outputs": [],
   "source": [
    "function wrap(open, close) {return (v)=>{return open+v+close}}\n",
    "function arrayWrap(array, open, close) {return array.map(wrap(open,close))}\n",
    "function elementWrap(array, open, close) {return array.map((v)=>{return arrayWrap(v,open,close).join(\"\")})}\n",
    "\n",
    "function Table(heading, heads, data) {\n",
    "    if(!(this instanceof Table)) {return new Table(heading, heads, data)}\n",
    "    this.heading = heading;\n",
    "    this.heads = heads;\n",
    "    this.data = data;\n",
    "    this.caption = wrap(\"<caption>\",\"</caption>\\n\")(heading);\n",
    "    this.th = wrap(\"<tr>\",\"</tr>\\n\")(arrayWrap(heads,\"<th>\",\"</th>\").join(\"\"));\n",
    "    this.td = arrayWrap(elementWrap(data,\"<td>\",\"</td>\"),\"<tr>\",\"</tr>\\n\").join(\"\");\n",
    "    this.HTML = wrap(\"<table>\\n\",\"</table>\\n\")(this.caption+this.th+this.td);\n",
    "    this.column = function(i) {return {head: heads[i], column: data.map((v)=>{return v[i]})}}\n",
    "}"
   ]
  },
  {
   "cell_type": "code",
   "execution_count": 96,
   "metadata": {},
   "outputs": [],
   "source": [
    "var expTable = Table(\"Exponential\", [\"Time\", \"Value\"], expData(1,2,10))"
   ]
  },
  {
   "cell_type": "code",
   "execution_count": 100,
   "metadata": {},
   "outputs": [
    {
     "name": "stdout",
     "output_type": "stream",
     "text": [
      "{ head: \u001b[32m'Value'\u001b[39m,\n",
      "  column: [ \u001b[33m1\u001b[39m, \u001b[33m2\u001b[39m, \u001b[33m4\u001b[39m, \u001b[33m8\u001b[39m, \u001b[33m16\u001b[39m, \u001b[33m32\u001b[39m, \u001b[33m64\u001b[39m, \u001b[33m128\u001b[39m, \u001b[33m256\u001b[39m, \u001b[33m512\u001b[39m, \u001b[33m1024\u001b[39m ] }\n"
     ]
    }
   ],
   "source": [
    "expTable.column(1)"
   ]
  },
  {
   "cell_type": "code",
   "execution_count": 8,
   "metadata": {},
   "outputs": [],
   "source": [
    "function maxColumn(array, column) {return Math.max(...array.map(v=>v[column]))}"
   ]
  },
  {
   "cell_type": "code",
   "execution_count": 9,
   "metadata": {},
   "outputs": [
    {
     "name": "stdout",
     "output_type": "stream",
     "text": [
      "\u001b[33m10\u001b[39m\n"
     ]
    }
   ],
   "source": [
    "maxColumn(expData(1,2,10),0)"
   ]
  },
  {
   "cell_type": "code",
   "execution_count": 10,
   "metadata": {},
   "outputs": [],
   "source": [
    "function scaleData(array, width, height) {\n",
    "    var maxX = maxColumn(array, 0);\n",
    "    var maxY = maxColumn(array, 1);\n",
    "    var xScale = (x) => {return x*width/maxX}\n",
    "    var yScale = (y) => {return (1-y/maxY)*height}\n",
    "    var xyMap = (v) => {return [xScale(v[0]), yScale(v[1])]}\n",
    "    return array.map(xyMap)\n",
    "}"
   ]
  },
  {
   "cell_type": "code",
   "execution_count": 11,
   "metadata": {},
   "outputs": [
    {
     "name": "stdout",
     "output_type": "stream",
     "text": [
      "<polyline points=\"0,299.70703125 50,299.4140625 100,298.828125 150,297.65625 200,295.3125 250,290.625 300,281.25 350,262.5 400,225 450,150 500,0\">\n"
     ]
    }
   ],
   "source": [
    "openHTML('polyline points=\"'+scaleData(expData(1,2,10), 500,300).join(\" \")+'\"')"
   ]
  },
  {
   "cell_type": "code",
   "execution_count": 22,
   "metadata": {},
   "outputs": [],
   "source": []
  },
  {
   "cell_type": "code",
   "execution_count": 27,
   "metadata": {},
   "outputs": [
    {
     "name": "stdout",
     "output_type": "stream",
     "text": [
      "<tr>\n"
     ]
    }
   ],
   "source": [
    "wrap(\"<\",\">\")(\"tr\")"
   ]
  },
  {
   "cell_type": "code",
   "execution_count": null,
   "metadata": {},
   "outputs": [],
   "source": []
  }
 ],
 "metadata": {
  "kernelspec": {
   "display_name": "JavaScript",
   "language": "javascript",
   "name": "jslab"
  },
  "language_info": {
   "file_extension": ".js",
   "mimetype": "text/javascript",
   "name": "javascript",
   "version": ""
  }
 },
 "nbformat": 4,
 "nbformat_minor": 4
}
