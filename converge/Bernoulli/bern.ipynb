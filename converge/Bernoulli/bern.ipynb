{
 "cells": [
  {
   "cell_type": "code",
   "execution_count": 40,
   "metadata": {},
   "outputs": [],
   "source": [
    "var gcd=(a,b)=>!b?a:gcd(b, a % b)\n",
    "var fadd=(a,b)=>new Fraction(a.numerator*b.denominator+a.denominator*b.numerator,a.denominator*b.denominator);\n",
    "var fmul=(a,b)=>new Fraction(a.numerator*b.numerator,a.denominator*b.denominator)\n",
    "\n",
    "function Fraction(numerator,denominator) {\n",
    "    var g=gcd(numerator,denominator)\n",
    "    this.numerator=numerator/g;\n",
    "    this.denominator=denominator/g;\n",
    "}\n",
    "\n",
    "function extend(B){\n",
    "    var p=B.length;\n",
    "    var sum=new Fraction(-(BigInt(0)**BigInt(p)),BigInt(1));// 1 if B empty, 0 else\n",
    "    var binom=BigInt(1);\n",
    "    for (var m=0;m<p;m++) {\n",
    "        sum=fadd(sum,fmul(B[m],new Fraction(binom,BigInt(1))));  \n",
    "        binom=binom*(BigInt(p+1)-BigInt(m))/BigInt(m+1);\n",
    "    }\n",
    "    sum.numerator=-sum.numerator;\n",
    "    B.push(fmul(sum,new Fraction(BigInt(1),binom)))\n",
    "}\n",
    "\n",
    "function Blist(n) {\n",
    "    var Bern=[];\n",
    "    for(var m=1;m<n+1;m++) {\n",
    "        extend(Bern);\n",
    "    }\n",
    "    return Bern\n",
    "}\n",
    "\n",
    "function ftex(fraction){\n",
    "    var string=\"-\"\n",
    "    if(fraction.numerator*fraction.denominator>0){var string=\"+\"}\n",
    "    if(fraction.numerator<0){fraction.numerator=-fraction.numerator}\n",
    "    if(fraction.denominator<0){fraction.denominator=-fraction.denominator}\n",
    "    return `\\\\(${string}\\\\frac\\{${fraction.numerator}\\}\\{${fraction.denominator}\\}\\\\)`\n",
    "}"
   ]
  },
  {
   "cell_type": "code",
   "execution_count": 45,
   "metadata": {},
   "outputs": [
    {
     "name": "stdout",
     "output_type": "stream",
     "text": [
      "\\(-\\frac{1}{2}\\)\n"
     ]
    }
   ],
   "source": [
    "ftex(new Fraction(BigInt(1),BigInt(-2)))"
   ]
  },
  {
   "cell_type": "code",
   "execution_count": null,
   "metadata": {},
   "outputs": [],
   "source": []
  }
 ],
 "metadata": {
  "kernelspec": {
   "display_name": "JavaScript",
   "language": "javascript",
   "name": "jslab"
  },
  "language_info": {
   "file_extension": ".js",
   "mimetype": "text/javascript",
   "name": "javascript",
   "version": ""
  }
 },
 "nbformat": 4,
 "nbformat_minor": 4
}
