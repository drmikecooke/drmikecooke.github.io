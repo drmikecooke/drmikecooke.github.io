{
 "cells": [
  {
   "cell_type": "code",
   "execution_count": 2,
   "metadata": {},
   "outputs": [
    {
     "name": "stdout",
     "output_type": "stream",
     "text": [
      "HTML ready!\n"
     ]
    }
   ],
   "source": [
    "import os\n",
    "project='Gamma'\n",
    "number=10\n",
    "stream = os.popen(f'pandoc -t html --mathjax -i {project}/md/{number}.md')\n",
    "output = stream.read()\n",
    "output\n",
    "\n",
    "from bs4 import BeautifulSoup as soup\n",
    "\n",
    "html=soup(output)\n",
    "\n",
    "title=html.article.h1.text\n",
    "\n",
    "head='<!DOCTYPE html>\\n<html lang=\"en\">\\n'\n",
    "head+='<head>\\n'\n",
    "head+='  <meta http-equiv=\"Content-Type\" content=\"text/html; charset=utf-8\" />\\n'\n",
    "head+='  <meta name=\"viewport\" content=\"width=device-width, initial-scale=1, maximum-scale=1\" />\\n'\n",
    "head+='  <link rel=\"stylesheet\" media=\"screen\" href=\"../screen.css\" />\\n'\n",
    "head+='  <link rel=\"stylesheet\" media=\"print\" href=\"../print.css\" />\\n'\n",
    "head+=f'  <title>{title}</title>\\n'\n",
    "head+='  <link rel=\"icon\" href=\"/images/mike.ico\" type=\"image/ico\" sizes=\"16x16\">\\n'\n",
    "head+='  <script src=\"https://polyfill.io/v3/polyfill.min.js?features=es6\"></script>\\n'\n",
    "head+='  <script id=\"MathJax-script\" async src=\"https://cdn.jsdelivr.net/npm/mathjax@3/es5/tex-chtml.js\"></script>\\n'\n",
    "head+='  <style type=\"text/css\">\\n'\n",
    "head+='    .shrink {font-size:0.95em}\\n'\n",
    "head+='  </style>\\n'\n",
    "head+='</head>\\n'\n",
    "head+='<body>\\n'\n",
    "head+='  <header>C<span class=\"shrink\">o<span class=\"shrink\">n<span class=\"shrink\">v<span class=\"shrink\">e<span class=\"shrink\">r<span class=\"shrink\">g<span class=\"shrink\">e<span class=\"shrink\">n<span class=\"shrink\">c<span class=\"shrink\">e</span></span></span></span></span></span></span></span></span></span></header>\\n'\n",
    "head+='  <script src=\"../nav.js\"></script>\\n'\n",
    "head+='<div id=\"prev\" class=\"pointer\"><a>◀ Previous</a></div>\\n'\n",
    "\n",
    "tail='<div  id=\"next\" class=\"pointer\"><a class=\"pointright\">Next ▶</a></div>\\n'\n",
    "tail+='  <script src=\"/js/footer.js\"></script>\\n'\n",
    "tail+='<script src=\"../number.js\"></script>\\n'\n",
    "tail+='</body>\\n'\n",
    "tail+='</html>'\n",
    "\n",
    "newHTML=head+str(html.article)+tail\n",
    "\n",
    "with open(f'{project}/{number}.html','w') as file:\n",
    "    file.write(newHTML)\n",
    "    \n",
    "print(\"HTML ready!\")"
   ]
  },
  {
   "cell_type": "code",
   "execution_count": null,
   "metadata": {},
   "outputs": [],
   "source": []
  }
 ],
 "metadata": {
  "kernelspec": {
   "display_name": "Python 3",
   "language": "python",
   "name": "python3"
  },
  "language_info": {
   "codemirror_mode": {
    "name": "ipython",
    "version": 3
   },
   "file_extension": ".py",
   "mimetype": "text/x-python",
   "name": "python",
   "nbconvert_exporter": "python",
   "pygments_lexer": "ipython3",
   "version": "3.7.3"
  }
 },
 "nbformat": 4,
 "nbformat_minor": 4
}
