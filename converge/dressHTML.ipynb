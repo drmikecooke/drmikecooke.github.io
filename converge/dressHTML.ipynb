{
 "cells": [
  {
   "cell_type": "code",
   "execution_count": 3,
   "metadata": {},
   "outputs": [
    {
     "name": "stdout",
     "output_type": "stream",
     "text": [
      "HTML ready!\n"
     ]
    }
   ],
   "source": [
    "import os\n",
    "project='deformed'\n",
    "number=2\n",
    "stream = os.popen(f'pandoc -t html --mathjax -i {project}/md/{number}.md')\n",
    "output = stream.read()\n",
    "output\n",
    "\n",
    "from bs4 import BeautifulSoup as soup\n",
    "\n",
    "html=soup(output)\n",
    "\n",
    "title=html.article.h1.text\n",
    "\n",
    "head='<!DOCTYPE html>\\n<html lang=\"en\">\\n'\n",
    "head+='<head>\\n'\n",
    "head+='  <meta http-equiv=\"Content-Type\" content=\"text/html; charset=utf-8\" />\\n'\n",
    "head+='  <meta name=\"viewport\" content=\"width=device-width, initial-scale=1, maximum-scale=1\" />\\n'\n",
    "head+='  <link rel=\"stylesheet\" media=\"screen\" href=\"../screen.css\" />\\n'\n",
    "head+='  <link rel=\"stylesheet\" media=\"print\" href=\"../print.css\" />\\n'\n",
    "head+=f'  <title>{title}</title>\\n'\n",
    "head+='  <link rel=\"icon\" href=\"/images/mike.ico\" type=\"image/ico\" sizes=\"16x16\">\\n'\n",
    "head+='  <script src=\"https://polyfill.io/v3/polyfill.min.js?features=es6\"></script>\\n'\n",
    "head+='  <script id=\"MathJax-script\" async src=\"https://cdn.jsdelivr.net/npm/mathjax@3/es5/tex-chtml.js\"></script>\\n'\n",
    "head+='  <style type=\"text/css\">\\n'\n",
    "head+='    .shrink {font-size:0.95em}\\n'\n",
    "head+='  </style>\\n'\n",
    "head+='</head>\\n'\n",
    "head+='<body>\\n'\n",
    "head+='  <header>C<span class=\"shrink\">o<span class=\"shrink\">n<span class=\"shrink\">v<span class=\"shrink\">e<span class=\"shrink\">r<span class=\"shrink\">g<span class=\"shrink\">e<span class=\"shrink\">n<span class=\"shrink\">c<span class=\"shrink\">e</span></span></span></span></span></span></span></span></span></span></header>\\n'\n",
    "head+='  <script src=\"../nav.js\"></script>\\n'\n",
    "head+='<div id=\"prev\" class=\"pointer\"><a>◀ Previous</a></div>\\n'\n",
    "\n",
    "tail='<div  id=\"next\" class=\"pointer\"><a class=\"pointright\">Next ▶</a></div>\\n'\n",
    "tail+='  <script src=\"/js/footer.js\"></script>\\n'\n",
    "tail+='<script src=\"../number.js\"></script>\\n'\n",
    "tail+='</body>\\n'\n",
    "tail+='</html>'\n",
    "\n",
    "newHTML=head+str(html.article)+tail\n",
    "\n",
    "with open(f'{project}/{number}.html','w') as file:\n",
    "    file.write(newHTML)\n",
    "    \n",
    "print(\"HTML ready!\")"
   ]
  },
  {
   "cell_type": "code",
   "execution_count": 2,
   "metadata": {},
   "outputs": [
    {
     "data": {
      "text/plain": [
       "<html><body><h1 id=\"deformed-algebras\">Deformed algebras</h1>\n",
       "<h2 id=\"creation-and-annihilation\">Creation and annihilation</h2>\n",
       "<p>We start from the standard creation and annihilation operators, and a hermitean (self-adjoint) number operator:</p>\n",
       "<p><span class=\"math display\">\\[[N,a^\\dagger]=a^\\dagger,[N,a]=-a\\]</span></p>\n",
       "<p>Given a state <span class=\"math inline\">\\(N|n\\rangle=n|n\\rangle\\)</span>, we can generate states <span class=\"math inline\">\\(|n+1\\rangle\\propto a^\\dagger|n\\rangle\\)</span> and <span class=\"math inline\">\\(|n-1\\rangle\\propto a|n\\rangle\\)</span>. This follows from the commutation relations:</p>\n",
       "<p><span class=\"math display\">\\[Na^\\dagger|n\\rangle=(a^\\dagger N+a^\\dagger)|n\\rangle=(n+1)a^\\dagger|n\\rangle\\]</span></p>\n",
       "<p>and the analogous calculation for <span class=\"math inline\">\\(a\\)</span>. This only breaks down if <span class=\"math inline\">\\(a^\\dagger|n\\rangle=0\\)</span> or <span class=\"math inline\">\\(a|n\\rangle=0\\)</span>. Such states, if they exist, are the maximum and minimum weight states, respectively. We are, of course, mapping this structure on our understanding of quantum mechanics, but presumably the ideas (not my own) could be of more general use.</p>\n",
       "<p>We assume that all self-adjoint operators that commute with <span class=\"math inline\">\\(N\\)</span> are functions of <span class=\"math inline\">\\(N\\)</span>; i.e., it is a complete set of commuting observables in itself, and if a state <span class=\"math inline\">\\(|n\\rangle\\)</span> exists, it is non-degenerate.</p>\n",
       "<p>We will generally assume that the <span class=\"math inline\">\\(N\\)</span>-spectrum is discrete. We can therefore decompose (with unit vectors <span class=\"math inline\">\\(\\langle n | n\\rangle=1\\)</span>):</p>\n",
       "<p><span class=\"math display\">\\[N=\\sum n|n\\rangle\\langle n|\\]</span></p>\n",
       "<p>We also assume that <span class=\"math inline\">\\(a,a^\\dagger\\)</span> are adjoints of each other.</p>\n",
       "<p>If a self-adjoint operator <span class=\"math inline\">\\(S^\\dagger=S\\)</span> commutes with <span class=\"math inline\">\\(N\\)</span>:</p>\n",
       "<p><span class=\"math display\">\\[NS|n\\rangle=SN|n\\rangle=nS|n\\rangle.\\]</span></p>\n",
       "<p>This means that <span class=\"math inline\">\\(S|n\\rangle\\)</span> is an eigenstate of <span class=\"math inline\">\\(N\\)</span> with <span class=\"math inline\">\\(n\\)</span> eigenvalue and hence <span class=\"math inline\">\\(S|n\\rangle=s(n)|n\\rangle\\)</span>, since N has non-degenerate eigenstates (i.e. there at most one for <em>any</em> possible eigenvalue). Therefore:</p>\n",
       "<p><span class=\"math display\">\\[S=\\sum s(n)|n\\rangle\\langle n|=s(N)\\]</span></p>\n",
       "<p>The self-adjoint combinations <span class=\"math inline\">\\(aa^\\dagger\\)</span> and <span class=\"math inline\">\\(a^\\dagger a\\)</span> commute with <span class=\"math inline\">\\(N\\)</span>, hence:</p>\n",
       "<p><span class=\"math display\">\\[aa^\\dagger=\\Psi(N),a^\\dagger a=\\Phi(N)\\]</span></p>\n",
       "<p>For a discrete state <span class=\"math inline\">\\(|n\\rangle\\)</span>, remembering that <span class=\"math inline\">\\(a^\\dagger|n\\rangle\\propto|n+1\\rangle\\)</span>:</p>\n",
       "<p><span class=\"math display\">\\[a^\\dagger aa^\\dagger|n\\rangle=\\Phi(n+1)a^\\dagger|n\\rangle=\\Psi(n)a^\\dagger|n\\rangle\\]</span></p>\n",
       "<p>So we have:</p>\n",
       "<p><span class=\"math display\">\\[aa^\\dagger=\\Phi(N+1),a^\\dagger a=\\Phi(N)\\]</span></p>\n",
       "<p>We have that <span class=\"math inline\">\\(\\Phi\\)</span> is positive for all “physical” values of <span class=\"math inline\">\\(n\\)</span>, since <span class=\"math inline\">\\(a,a^\\dagger\\)</span> are mutual adjoints:</p>\n",
       "<p><span class=\"math display\">\\[\\langle n|a^\\dagger a|n\\rangle=\\langle an|an\\rangle\\ge0\\]</span></p>\n",
       "<p>where we have abbreviated <span class=\"math inline\">\\(a|n\\rangle=|an\\rangle\\)</span> to make things hopefully clearer. The point is that for a Born probability interpretation to work we need the states to have positive (square) norm.</p>\n",
       "<p>The function <span class=\"math inline\">\\(\\Phi\\)</span> allow us to find the normalizations for <span class=\"math inline\">\\(a,a^\\dagger\\)</span>:</p>\n",
       "<p><span class=\"math display\">\\[a|n\\rangle=\\sqrt{\\Phi(n)}|n-1\\rangle\\]</span></p>\n",
       "<p>up to a phase. Similarly:</p>\n",
       "<p><span class=\"math display\">\\[a^\\dagger|n\\rangle=\\sqrt{\\Phi(n+1)}|n+1\\rangle\\]</span></p>\n",
       "<h2 id=\"fermions\">Fermions</h2>\n",
       "<p>The simplest structure has <span class=\"math inline\">\\(\\Phi(0)=\\Phi(1)=0\\)</span>, which is an isolated “vacuum state”, <span class=\"math inline\">\\(|0\\rangle\\)</span>. Slightly more complicated is the Fermi state pair <span class=\"math inline\">\\(|0\\rangle,|1\\rangle\\)</span>. The operators <span class=\"math inline\">\\(a,a^\\dagger\\)</span> annihilate these states, respectively. Hence <span class=\"math inline\">\\(\\Phi(0)=\\Phi(2)=0\\)</span>. The standard Fermi-Dirac anticommutator, <span class=\"math inline\">\\(\\{a,a^\\dagger\\}=1\\)</span> gives <span class=\"math inline\">\\(\\Phi(1)=1\\)</span>.</p>\n",
       "<h2 id=\"bosons\">Bosons</h2>\n",
       "<p>The function <span class=\"math inline\">\\(\\Phi(n)=n\\)</span> gives the normal harmonic oscillator states and commutation relations: <span class=\"math inline\">\\([a,a^\\dagger]=1\\)</span>.</p>\n",
       "<h2 id=\"angular-momentum-and-spin\">Angular momentum and spin</h2>\n",
       "<p>It is also well known that angular momentum and spin have a creation/annihilation structure, but with the set of commuting observables consisting of the angular momentum/spin in a given direction (<span class=\"math inline\">\\(L_z,S_z\\)</span>) and the squared modulus of the angular momentum vector (<span class=\"math inline\">\\(L^2,S^2\\)</span>). The remaining operator components are reassembled into “raising/lowering” operators for <span class=\"math inline\">\\(L_z,S_z\\)</span>, e.g. <span class=\"math inline\">\\([L_z,L_+]=L_+,[L_z,L_-]=-L_-\\)</span>. These operators also commute with <span class=\"math inline\">\\(L^2\\)</span>, which we can (will?) therefore assume is fixed (and positive, since it represents a square). Using the standard commutators (with <span class=\"math inline\">\\(\\hbar=1\\)</span>), we find:</p>\n",
       "<p><span class=\"math display\">\\[L_+L_-=L^2-L_z^2+L_z,L_-L_+=L^2-L_z^2-L_z\\]</span></p>\n",
       "<p>We note that <span class=\"math inline\">\\(\\Phi(L_z)=L^2-L_z^2+L_z\\)</span> and <span class=\"math inline\">\\(\\Phi(L_z+1)=L^2-L_z^2-L_z\\)</span>, as required, making the suitable replacements of <span class=\"math inline\">\\(N,a,a^\\dagger\\)</span> by <span class=\"math inline\">\\(L_z,L_+,L_-\\)</span>. The angular momentum states are constrained by the requirement that <span class=\"math inline\">\\(\\Phi(L_z)\\ge0\\)</span>. This translates to <span class=\"math inline\">\\(L_z^2+L_z\\le L^2\\)</span>. It is traditional (and useful) to express <span class=\"math inline\">\\(L^2\\)</span> as <span class=\"math inline\">\\(l(l+1)\\)</span>. Working through, the eigenvalues <span class=\"math inline\">\\(l_z\\)</span> of <span class=\"math inline\">\\(L_z\\)</span> are restricted by the condition <span class=\"math inline\">\\(|l_z|\\le l\\)</span>, where we take <span class=\"math inline\">\\(l\\)</span> to be positive.</p>\n",
       "<p>There is a further constraint on the <span class=\"math inline\">\\(l_z\\)</span> from the fact that the raising/lowering operators can take most potential values outside the allowed range. In other words there must be states where <span class=\"math inline\">\\(L_\\pm|0_\\pm\\rangle=0\\)</span>. From <span class=\"math inline\">\\(L_-L_+|0_+\\rangle=\\Phi(l_z+1)|0_+\\rangle=0\\)</span>, we deduce <span class=\"math inline\">\\(|0_+\\rangle=|+l\\rangle\\)</span>. Similarly <span class=\"math inline\">\\(L_+L_-|0_-\\rangle=\\Phi(l_z)|0_-\\rangle=0\\)</span> leads to <span class=\"math inline\">\\(|0_-\\rangle=|-l\\rangle\\)</span>.</p>\n",
       "<p>Since the operators move in (<span class=\"math inline\">\\(\\hbar\\)</span>) unit steps, we must have <span class=\"math inline\">\\((+l)-(-l)=2l\\)</span> being an integer. Hence the allowed values of <span class=\"math inline\">\\(l\\)</span> are half-integral. When applied physically, one finds orbital angular momentum is restricted to integral <span class=\"math inline\">\\(l\\)</span>. But spin, famously, is allowed to explore the spooky half-integral values. In fact, the Fermi-Dirac operators above have the same structure as for spin-1/2, somewhat shifted (back by a 1/2): <span class=\"math inline\">\\(\\Phi(-1/2)=0,\\Phi(+1/2)=1,\\Phi(+3/2)=0\\)</span>. Also our isolated vacuum state is merely spin-0.</p>\n",
       "<h2 id=\"hamiltonian\">Hamiltonian</h2>\n",
       "<p>We want to connect to the “real” world, and that usually comes through probing with some external system, like a radiation field (light, visible or otherwise). The probing reveals more or less differences in energy of the target system. The weaker the probe coupling, the better we can determine the properties (energy levels) of the target as an isolated system; for example, line-widths tend to be narrower, showing the energy differences more precisely and accurately. Generally, we want <span class=\"math inline\">\\(N\\)</span> eigenstates to also be energy eigenstates, so that <span class=\"math inline\">\\(H|n\\rangle=\\varepsilon_n|n\\rangle\\)</span>. So we have in effect <span class=\"math inline\">\\(H=E(N)\\)</span>.</p>\n",
       "<p>The Hamiltonian also is connected with time-dependence through the Schödinger or Heisenberg equations.</p>\n",
       "<p>A common choice for the deformed oscillator Hamiltonian is: <span class=\"math display\">\\[H=\\frac12[aa^\\dagger+a^\\dagger a]=\\frac12[\\Phi(N+1)+\\Phi(N)].\\]</span> One could also ignore the zero point energy, and use just <span class=\"math inline\">\\(H=\\Phi\\)</span>.</p>\n",
       "</body></html>"
      ]
     },
     "execution_count": 2,
     "metadata": {},
     "output_type": "execute_result"
    }
   ],
   "source": [
    "html"
   ]
  },
  {
   "cell_type": "code",
   "execution_count": null,
   "metadata": {},
   "outputs": [],
   "source": []
  }
 ],
 "metadata": {
  "kernelspec": {
   "display_name": "Python 3",
   "language": "python",
   "name": "python3"
  },
  "language_info": {
   "codemirror_mode": {
    "name": "ipython",
    "version": 3
   },
   "file_extension": ".py",
   "mimetype": "text/x-python",
   "name": "python",
   "nbconvert_exporter": "python",
   "pygments_lexer": "ipython3",
   "version": "3.7.3"
  }
 },
 "nbformat": 4,
 "nbformat_minor": 4
}
