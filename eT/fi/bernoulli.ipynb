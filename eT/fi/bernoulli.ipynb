{
 "cells": [
  {
   "cell_type": "code",
   "execution_count": 1,
   "metadata": {},
   "outputs": [],
   "source": [
    "import sympy\n",
    "\n",
    "sympy.init_printing()\n",
    "\n",
    "t,x = sympy.symbols('t x')\n",
    "\n",
    "# Generating function\n",
    "def G():    \n",
    "    return t*sympy.exp(x*t)/(sympy.exp(t)-1)\n",
    "\n",
    "# Bernoulli extractions\n",
    "def B(n):\n",
    "    return sympy.factorial(n)*sympy.series(G(),t,0,n+1).coeff(t**n)\n",
    "\n",
    "# Number recurrence\n",
    "\n",
    "def extend(B):\n",
    "    p=len(B)\n",
    "    sum=B[0]\n",
    "    for n in range(1,p):\n",
    "        sum+=sympy.binomial(p+1,n)*B[n]\n",
    "    B+=[-sum/(p+1)]\n",
    "\n",
    "def Blist(n):\n",
    "    B=[sympy.sympify(1)]\n",
    "    for m in range(1,n+1):\n",
    "        extend(B)\n",
    "    return B"
   ]
  },
  {
   "cell_type": "code",
   "execution_count": 5,
   "metadata": {},
   "outputs": [
    {
     "data": {
      "image/png": "[encoded data removed]",
      "text/latex": [
       "$\\displaystyle \\frac{t e^{t x}}{e^{t} - 1}$"
      ],
      "text/plain": [
       "   t⋅x\n",
       "t⋅ℯ   \n",
       "──────\n",
       " t    \n",
       "ℯ  - 1"
      ]
     },
     "execution_count": 5,
     "metadata": {},
     "output_type": "execute_result"
    }
   ],
   "source": [
    "G()"
   ]
  },
  {
   "cell_type": "code",
   "execution_count": 4,
   "metadata": {},
   "outputs": [
    {
     "data": {
      "image/png": "[encoded data removed]",
      "text/latex": [
       "$\\displaystyle x^{4} - 2 x^{3} + x^{2} - \\frac{1}{30}$"
      ],
      "text/plain": [
       " 4      3    2   1 \n",
       "x  - 2⋅x  + x  - ──\n",
       "                 30"
      ]
     },
     "execution_count": 4,
     "metadata": {},
     "output_type": "execute_result"
    }
   ],
   "source": [
    "B(4)"
   ]
  },
  {
   "cell_type": "code",
   "execution_count": 74,
   "metadata": {},
   "outputs": [
    {
     "data": {
      "image/png": "[encoded data removed]",
      "text/latex": [
       "$\\displaystyle \\left[ 1, \\  - \\frac{1}{2}, \\  \\frac{1}{6}, \\  0, \\  - \\frac{1}{30}, \\  0, \\  \\frac{1}{42}, \\  0, \\  - \\frac{1}{30}, \\  0, \\  \\frac{5}{66}, \\  0, \\  - \\frac{691}{2730}, \\  0, \\  \\frac{7}{6}, \\  0, \\  - \\frac{3617}{510}, \\  0, \\  \\frac{43867}{798}, \\  0, \\  - \\frac{174611}{330}\\right]$"
      ],
      "text/plain": [
       "⎡                                                       -691              -361\n",
       "⎢1, -1/2, 1/6, 0, -1/30, 0, 1/42, 0, -1/30, 0, 5/66, 0, ─────, 0, 7/6, 0, ────\n",
       "⎣                                                        2730              510\n",
       "\n",
       "7      43867     -174611 ⎤\n",
       "──, 0, ─────, 0, ────────⎥\n",
       "        798        330   ⎦"
      ]
     },
     "execution_count": 74,
     "metadata": {},
     "output_type": "execute_result"
    }
   ],
   "source": [
    "Blist(20)"
   ]
  }
 ],
 "metadata": {
  "kernelspec": {
   "display_name": "Python 3",
   "language": "python",
   "name": "python3"
  },
  "language_info": {
   "codemirror_mode": {
    "name": "ipython",
    "version": 3
   },
   "file_extension": ".py",
   "mimetype": "text/x-python",
   "name": "python",
   "nbconvert_exporter": "python",
   "pygments_lexer": "ipython3",
   "version": "3.7.3"
  }
 },
 "nbformat": 4,
 "nbformat_minor": 4
}
