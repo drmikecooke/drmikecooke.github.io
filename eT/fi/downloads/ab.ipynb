{
 "cells": [
  {
   "cell_type": "code",
   "execution_count": 2,
   "metadata": {},
   "outputs": [],
   "source": [
    "from poly import *"
   ]
  },
  {
   "cell_type": "code",
   "execution_count": 3,
   "metadata": {},
   "outputs": [],
   "source": [
    "quad = Polynomial([1,5,6])"
   ]
  },
  {
   "cell_type": "code",
   "execution_count": 4,
   "metadata": {},
   "outputs": [
    {
     "data": {
      "text/plain": [
       "[2, 5]"
      ]
     },
     "execution_count": 4,
     "metadata": {},
     "output_type": "execute_result"
    }
   ],
   "source": [
    "quad.diff().coeff"
   ]
  },
  {
   "cell_type": "code",
   "execution_count": 22,
   "metadata": {},
   "outputs": [],
   "source": [
    "def abStep(poly,guess):\n",
    "    if len(guess) != (len(poly.coeff)-1):\n",
    "        return False\n",
    "    update = []\n",
    "    for z in guess:\n",
    "        print(poly.eval(z))\n",
    "        polesum = 0\n",
    "        for s in guess:            \n",
    "            if s != z:\n",
    "                polesum += 1/(z-s)\n",
    "        update += [z - 1/(poly.diff().eval(z)/poly.eval(z)-polesum)]\n",
    "    return update\n",
    "\n",
    "def abRecur(poly,guess):\n",
    "    new = abStep(poly,guess)\n",
    "    change = 0\n",
    "    for i in range(0,len(new)):\n",
    "        change += abs(new[i]-guess[i])\n",
    "    if change < 0.00001:\n",
    "        return new\n",
    "    else:\n",
    "        return abRecur(poly,new)\n",
    "        "
   ]
  },
  {
   "cell_type": "code",
   "execution_count": 23,
   "metadata": {},
   "outputs": [
    {
     "name": "stdout",
     "output_type": "stream",
     "text": [
      "(19+9j)\n",
      "(17-65j)\n",
      "(4.152967305945895+5.973086993459173j)\n",
      "(-25.23301473990349+4.973761649811609j)\n",
      "(0.22390076854867758+1.3058999924068244j)\n",
      "(-0.9787601591370851+2.025681863266315j)\n",
      "(-0.06838730748094068+0.15563262061575933j)\n",
      "(-0.1171710702100901+0.18773264606320883j)\n",
      "(0.0015871470554298384-0.007722452532709818j)\n",
      "(0.0023912075793326437-0.010488353403131038j)\n",
      "(-4.160832061117503e-07+5.133601666578377e-07j)\n",
      "(-5.853589284399163e-07+6.837540468566314e-07j)\n"
     ]
    },
    {
     "data": {
      "text/plain": [
       "[(-1.9999999999999998+1.8835895164567504e-19j), (-3-2.6893296075324036e-19j)]"
      ]
     },
     "execution_count": 23,
     "metadata": {},
     "output_type": "execute_result"
    }
   ],
   "source": [
    "abRecur(quad,[2+1j,4-5j])"
   ]
  },
  {
   "cell_type": "code",
   "execution_count": 7,
   "metadata": {},
   "outputs": [
    {
     "data": {
      "text/plain": [
       "[(-0.9999989546239788+1.045375122816702e-06j),\n",
       " (-1.0000010453689425-1.0453830758755986e-06j)]"
      ]
     },
     "execution_count": 7,
     "metadata": {},
     "output_type": "execute_result"
    }
   ],
   "source": [
    "abRecur(Polynomial([1,2,1]),[2+1j,4-5j])"
   ]
  },
  {
   "cell_type": "code",
   "execution_count": 8,
   "metadata": {},
   "outputs": [
    {
     "data": {
      "text/plain": [
       "[(1.3561072252245132+1.5777218104420236e-30j), (-1.106107225224513+0j)]"
      ]
     },
     "execution_count": 8,
     "metadata": {},
     "output_type": "execute_result"
    }
   ],
   "source": [
    "abRecur(Polynomial([1,-0.25,-1.5]), [2+1j,4-5j])"
   ]
  },
  {
   "cell_type": "code",
   "execution_count": 9,
   "metadata": {},
   "outputs": [
    {
     "data": {
      "text/plain": [
       "[1.3519136862471954, 1.3519136862471954, 1.3519136862471954]"
      ]
     },
     "execution_count": 9,
     "metadata": {},
     "output_type": "execute_result"
    }
   ],
   "source": [
    "abRecur(Polynomial([1,-0.25,-0.75,-1]), [0,0,0])"
   ]
  },
  {
   "cell_type": "code",
   "execution_count": 10,
   "metadata": {},
   "outputs": [
    {
     "data": {
      "text/plain": [
       "[1.0, (0.9999999558436672+6.548727044496133e-08j)]"
      ]
     },
     "execution_count": 10,
     "metadata": {},
     "output_type": "execute_result"
    }
   ],
   "source": [
    "pDiv(Polynomial([1,2,1]),Polynomial([1,+1.0000000441563328-6.548727044496133e-08j]))[0].coeff"
   ]
  },
  {
   "cell_type": "code",
   "execution_count": 11,
   "metadata": {},
   "outputs": [
    {
     "data": {
      "text/plain": [
       "[1.0, (1.106107225281522+2.594838330057195e-11j)]"
      ]
     },
     "execution_count": 11,
     "metadata": {},
     "output_type": "execute_result"
    }
   ],
   "source": [
    "pDiv(Polynomial([1,-0.25,-1.5]),Polynomial([1,-1.356107225281522-2.594838330057195e-11j]))[0].coeff"
   ]
  },
  {
   "cell_type": "code",
   "execution_count": 12,
   "metadata": {},
   "outputs": [
    {
     "data": {
      "text/plain": [
       "[1.0, 1.1019136862462637, 0.7396921934983953]"
      ]
     },
     "execution_count": 12,
     "metadata": {},
     "output_type": "execute_result"
    }
   ],
   "source": [
    "pDiv(Polynomial([1,-0.25,-0.75,-1]),Polynomial([1,-1.3519136862462637]))[0].coeff"
   ]
  },
  {
   "cell_type": "code",
   "execution_count": 13,
   "metadata": {},
   "outputs": [
    {
     "data": {
      "text/plain": [
       "[(-0.5509568431092008+0.6604080182039447j),\n",
       " (-0.5509568431092008+0.6604080182039447j)]"
      ]
     },
     "execution_count": 13,
     "metadata": {},
     "output_type": "execute_result"
    }
   ],
   "source": [
    "abRecur(pDiv(Polynomial([1,-0.25,-0.75,-1]),Polynomial([1,-1.3519136862462637]))[0],[-0.5+1j,-0.5+1j])"
   ]
  },
  {
   "cell_type": "code",
   "execution_count": 14,
   "metadata": {},
   "outputs": [
    {
     "data": {
      "text/plain": [
       "[(-0.06859382655561008+1.2283194512493876j),\n",
       " (-2.9951219512195113-5.022764227642275j)]"
      ]
     },
     "execution_count": 14,
     "metadata": {},
     "output_type": "execute_result"
    }
   ],
   "source": [
    "abStep(quad,[2+1j,4-5j])"
   ]
  },
  {
   "cell_type": "code",
   "execution_count": 19,
   "metadata": {},
   "outputs": [],
   "source": [
    "twop = Polynomial([1,-0.25,-1.5])"
   ]
  },
  {
   "cell_type": "code",
   "execution_count": 24,
   "metadata": {},
   "outputs": [
    {
     "name": "stdout",
     "output_type": "stream",
     "text": [
      "(1+3.75j)\n",
      "(-11.5-38.75j)\n"
     ]
    },
    {
     "data": {
      "text/plain": [
       "[(1.2472317491425773+0.3852033317001471j),\n",
       " (-0.6622289460413509-1.3370650529500758j)]"
      ]
     },
     "execution_count": 24,
     "metadata": {},
     "output_type": "execute_result"
    }
   ],
   "source": [
    "abStep(twop,[2+1j,4-5j])"
   ]
  },
  {
   "cell_type": "code",
   "execution_count": null,
   "metadata": {},
   "outputs": [],
   "source": []
  }
 ],
 "metadata": {
  "kernelspec": {
   "display_name": "Python 3",
   "language": "python",
   "name": "python3"
  },
  "language_info": {
   "codemirror_mode": {
    "name": "ipython",
    "version": 3
   },
   "file_extension": ".py",
   "mimetype": "text/x-python",
   "name": "python",
   "nbconvert_exporter": "python",
   "pygments_lexer": "ipython3",
   "version": "3.7.3"
  }
 },
 "nbformat": 4,
 "nbformat_minor": 4
}
