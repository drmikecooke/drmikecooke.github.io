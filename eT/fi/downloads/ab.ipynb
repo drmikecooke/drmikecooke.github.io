{
 "cells": [
  {
   "cell_type": "code",
   "execution_count": 1,
   "metadata": {},
   "outputs": [],
   "source": [
    "from poly import *"
   ]
  },
  {
   "cell_type": "code",
   "execution_count": 2,
   "metadata": {},
   "outputs": [],
   "source": [
    "quad = Polynomial([1,5,6])"
   ]
  },
  {
   "cell_type": "code",
   "execution_count": 3,
   "metadata": {},
   "outputs": [
    {
     "data": {
      "text/plain": [
       "[2, 5]"
      ]
     },
     "execution_count": 3,
     "metadata": {},
     "output_type": "execute_result"
    }
   ],
   "source": [
    "quad.diff().coeff"
   ]
  },
  {
   "cell_type": "code",
   "execution_count": 70,
   "metadata": {},
   "outputs": [],
   "source": [
    "def abStep(poly,guess):\n",
    "    if len(guess) != (len(poly.coeff)-1):\n",
    "        return False\n",
    "    update = []\n",
    "    for z in guess:\n",
    "        for s in guess:\n",
    "            polesum = 0\n",
    "            if s != z:\n",
    "                polesum += 1/(z-s)\n",
    "        update += [z - 1/(poly.diff().eval(z)/poly.eval(z)-polesum)]\n",
    "    return update\n",
    "\n",
    "def abRecur(poly,guess):\n",
    "    new = abStep(poly,guess)\n",
    "    change = 0\n",
    "    for i in range(0,len(new)):\n",
    "        change += abs(new[i]-guess[i])\n",
    "    if change < 0.00001:\n",
    "        return new\n",
    "    else:\n",
    "        return abRecur(poly,new)\n",
    "        "
   ]
  },
  {
   "cell_type": "code",
   "execution_count": 71,
   "metadata": {},
   "outputs": [
    {
     "data": {
      "text/plain": [
       "[(-3.000000000000001+2.1731689052993143e-20j),\n",
       " (-1.999999999982217-3.9686702488539865e-12j)]"
      ]
     },
     "execution_count": 71,
     "metadata": {},
     "output_type": "execute_result"
    }
   ],
   "source": [
    "abRecur(quad,[2+1j,4-5j])"
   ]
  },
  {
   "cell_type": "code",
   "execution_count": 72,
   "metadata": {},
   "outputs": [
    {
     "data": {
      "text/plain": [
       "[(-1.0000003927057888+6.170583711357373e-07j),\n",
       " (-0.999995231628418-4.76837158203125e-06j)]"
      ]
     },
     "execution_count": 72,
     "metadata": {},
     "output_type": "execute_result"
    }
   ],
   "source": [
    "abRecur(Polynomial([1,2,1]),[2+1j,4-5j])"
   ]
  },
  {
   "cell_type": "code",
   "execution_count": 73,
   "metadata": {},
   "outputs": [
    {
     "data": {
      "text/plain": [
       "[(1.356107225281522+2.594838330057195e-11j),\n",
       " (1.3561072252244304-2.3019867421204707e-13j)]"
      ]
     },
     "execution_count": 73,
     "metadata": {},
     "output_type": "execute_result"
    }
   ],
   "source": [
    "abRecur(Polynomial([1,-0.25,-1.5]), [2+1j,4-5j])"
   ]
  },
  {
   "cell_type": "code",
   "execution_count": 74,
   "metadata": {},
   "outputs": [
    {
     "data": {
      "text/plain": [
       "[1.3519136862471954, 1.3519136862471954, 1.3519136862471954]"
      ]
     },
     "execution_count": 74,
     "metadata": {},
     "output_type": "execute_result"
    }
   ],
   "source": [
    "abRecur(Polynomial([1,-0.25,-0.75,-1]), [0,0,0])"
   ]
  },
  {
   "cell_type": "code",
   "execution_count": 75,
   "metadata": {},
   "outputs": [
    {
     "data": {
      "text/plain": [
       "[1.0, (0.9999999558436672+6.548727044496133e-08j)]"
      ]
     },
     "execution_count": 75,
     "metadata": {},
     "output_type": "execute_result"
    }
   ],
   "source": [
    "pDiv(Polynomial([1,2,1]),Polynomial([1,+1.0000000441563328-6.548727044496133e-08j]))[0].coeff"
   ]
  },
  {
   "cell_type": "code",
   "execution_count": 76,
   "metadata": {},
   "outputs": [
    {
     "data": {
      "text/plain": [
       "[1.0, (1.106107225281522+2.594838330057195e-11j)]"
      ]
     },
     "execution_count": 76,
     "metadata": {},
     "output_type": "execute_result"
    }
   ],
   "source": [
    "pDiv(Polynomial([1,-0.25,-1.5]),Polynomial([1,-1.356107225281522-2.594838330057195e-11j]))[0].coeff"
   ]
  },
  {
   "cell_type": "code",
   "execution_count": 77,
   "metadata": {},
   "outputs": [
    {
     "data": {
      "text/plain": [
       "[1.0, 1.1019136862462637, 0.7396921934983953]"
      ]
     },
     "execution_count": 77,
     "metadata": {},
     "output_type": "execute_result"
    }
   ],
   "source": [
    "pDiv(Polynomial([1,-0.25,-0.75,-1]),Polynomial([1,-1.3519136862462637]))[0].coeff"
   ]
  },
  {
   "cell_type": "code",
   "execution_count": 82,
   "metadata": {},
   "outputs": [
    {
     "data": {
      "text/plain": [
       "[(-0.5509568431092008+0.6604080182039447j),\n",
       " (-0.5509568431092008+0.6604080182039447j)]"
      ]
     },
     "execution_count": 82,
     "metadata": {},
     "output_type": "execute_result"
    }
   ],
   "source": [
    "abRecur(pDiv(Polynomial([1,-0.25,-0.75,-1]),Polynomial([1,-1.3519136862462637]))[0],[-0.5+1j,-0.5+1j])"
   ]
  },
  {
   "cell_type": "code",
   "execution_count": null,
   "metadata": {},
   "outputs": [],
   "source": []
  }
 ],
 "metadata": {
  "kernelspec": {
   "display_name": "Python 3",
   "language": "python",
   "name": "python3"
  },
  "language_info": {
   "codemirror_mode": {
    "name": "ipython",
    "version": 3
   },
   "file_extension": ".py",
   "mimetype": "text/x-python",
   "name": "python",
   "nbconvert_exporter": "python",
   "pygments_lexer": "ipython3",
   "version": "3.7.3"
  }
 },
 "nbformat": 4,
 "nbformat_minor": 4
}
