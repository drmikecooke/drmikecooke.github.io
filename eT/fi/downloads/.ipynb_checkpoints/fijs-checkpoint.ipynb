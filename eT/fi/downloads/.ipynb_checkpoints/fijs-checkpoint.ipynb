{
 "cells": [
  {
   "cell_type": "code",
   "execution_count": 116,
   "metadata": {},
   "outputs": [],
   "source": [
    "// from/based on https://github.com/scijs/durand-kerner\n",
    "\n",
    "const EPSILON = 1e-8;\n",
    "\n",
    "function nextPow2(v) { // based on https://github.com/mikolalysenko/next-pow-2\n",
    "    v = Math.ceil(v); // deal with fractions\n",
    "    v += v===0; // deal with zero\n",
    "  --v; // decrement so if already power of 2 function returns value\n",
    "  v |= v >>> 1; // drag right so two leading bits if possible\n",
    "  v |= v >>> 2; // drag right so four leading bits\n",
    "  v |= v >>> 4; // drag right giving 8 lbs\n",
    "  v |= v >>> 8; // etc\n",
    "  v |= v >>> 16;\n",
    "    return v+1 // add 1 to make power of 2\n",
    "}\n",
    "\n",
    "var pr = new Float64Array(1024)\n",
    "var pi = new Float64Array(1024)\n",
    "\n",
    "\n",
    "function near(a, b, c, d, tol) {\n",
    "  var qa = a - c\n",
    "  var qb = b - d\n",
    "  var r = qa * qa + qb * qb\n",
    "  if(r * r < tol) {\n",
    "    return true\n",
    "  }\n",
    "  return false\n",
    "}\n",
    "\n",
    "function solve(n, n_iters, tolerance, zr, zi) {\n",
    "  var m = zr.length\n",
    "  var i, j, k, a, b, na, nb, pa, pb, qa, qb, k1, k2, k3, s1, s2, t, d, r\n",
    "  var max = Math.max, abs = Math.abs\n",
    "  for(i=0; i<n_iters; ++i) {\n",
    "    d = 0.0\n",
    "    for(j=0; j<m; ++j) {\n",
    "      //Read in zj\n",
    "      pa = zr[j]\n",
    "      pb = zi[j]\n",
    "      \n",
    "      //Compute denominator\n",
    "      //\n",
    "      //  (zj - z0) * (zj - z1) * ... * (zj - z_{n-1})\n",
    "      //\n",
    "      a = 1.0\n",
    "      b = 0.0\n",
    "      for(k=0; k<m; ++k) {\n",
    "        if(k === j) {\n",
    "          continue\n",
    "        }\n",
    "        qa = pa - zr[k]\n",
    "        qb = pb - zi[k]\n",
    "        if(qa * qa + qb * qb < tolerance) {\n",
    "          continue\n",
    "        }\n",
    "        k1 = qa * (a + b)\n",
    "        k2 = a * (qb - qa)\n",
    "        k3 = b * (qa + qb)\n",
    "        a = k1 - k3\n",
    "        b = k1 + k2\n",
    "      }\n",
    "      \n",
    "      //Compute numerator\n",
    "      na = pr[n-1]\n",
    "      nb = pi[n-1]\n",
    "      s1 = pb - pa\n",
    "      s2 = pa + pb\n",
    "      for(k=n-2; k>=0; --k) {\n",
    "        k1 = pa * (na + nb)\n",
    "        k2 = na * s1\n",
    "        k3 = nb * s2\n",
    "        na = k1 - k3 + pr[k]\n",
    "        nb = k1 + k2 + pi[k]\n",
    "      }\n",
    "      \n",
    "      \n",
    "      //Compute reciprocal\n",
    "      k1 = a*a + b*b\n",
    "      if(abs(k1) > EPSILON) {\n",
    "        a /=  k1\n",
    "        b /= -k1\n",
    "      } else {\n",
    "        a = 1.0\n",
    "        b = 0.0\n",
    "      }\n",
    "      \n",
    "      //Multiply and accumulate\n",
    "      k1 = na * (a + b)\n",
    "      k2 = a * (nb - na)\n",
    "      k3 = b * (na + nb)\n",
    "      \n",
    "      qa = k1 - k3\n",
    "      qb = k1 + k2\n",
    "      \n",
    "      zr[j] = pa - qa\n",
    "      zi[j] = pb - qb\n",
    "      \n",
    "      d = max(d, max(abs(qa), abs(qb)))\n",
    "    }\n",
    "    \n",
    "    //If converged, exit early\n",
    "    if(d < tolerance) {\n",
    "      break\n",
    "    }\n",
    "  }\n",
    "  \n",
    "  //Post process: Combine any repeated roots\n",
    "  var count\n",
    "  for(i=0; i<m; ++i) {\n",
    "    count = 1\n",
    "    a = zr[i]\n",
    "    b = zi[i]\n",
    "    for(j=0; j<m; ++j) {\n",
    "      if(i === j) {\n",
    "        continue\n",
    "      }\n",
    "      if(near(zr[i], zi[i], zr[j], zi[j], tolerance)) {\n",
    "        ++count\n",
    "        a += zr[j]\n",
    "        b += zi[j]\n",
    "      }\n",
    "    }\n",
    "    if(count > 1) {\n",
    "      a /= count\n",
    "      b /= count\n",
    "      for(j=0; j<m; ++j) {\n",
    "        if(i === j) {\n",
    "          continue\n",
    "        }\n",
    "        if(near(zr[i], zi[i], zr[j], zi[j], tolerance)) {\n",
    "          zr[j] = a\n",
    "          zi[j] = b\n",
    "        }\n",
    "      }\n",
    "      zr[i] = a\n",
    "      zi[i] = b\n",
    "    }\n",
    "  }\n",
    "  return [ zr, zi ]\n",
    "}\n",
    "\n",
    "function bound(n) {\n",
    "  var i, b = 0.0\n",
    "  for(i=0; i<n; ++i) {\n",
    "    b = Math.max(b, pr[i] * pr[i] + pi[i] * pi[i])\n",
    "  }\n",
    "  return 1.0 + Math.sqrt(b)\n",
    "}\n",
    "\n",
    "function findRoots(r_coeff, i_coeff, n_iters, tolerance, zr, zi) {\n",
    "  var n = r_coeff.length\n",
    "  if(n <= 1) {\n",
    "    return []\n",
    "  }\n",
    "  if(pr.length < n) {\n",
    "    var nl = nextPow2(n)\n",
    "    pr = new Float64Array(nl)\n",
    "    pi = new Float64Array(nl)\n",
    "  }\n",
    "  for(i=0; i<n; ++i) {\n",
    "    pr[i] = r_coeff[i]\n",
    "  }\n",
    "  if(!i_coeff) {\n",
    "    for(i=0; i<n; ++i) {\n",
    "      pi[i] = 0.0\n",
    "    }\n",
    "  } else {\n",
    "    for(i=0; i<n; ++i) {\n",
    "      pi[i] = i_coeff[i]\n",
    "    }\n",
    "  }\n",
    "  //Rescale coefficients\n",
    "  var a = pr[n-1], b = pi[n-1]\n",
    "  var d = a*a + b*b\n",
    "  a /= d\n",
    "  b /= -d\n",
    "  var k1, k2, k3, s = b - a, t = a + b\n",
    "  for(var i=0; i<n-1; ++i) {\n",
    "    k1 = a * (pr[i] + pi[i])\n",
    "    k2 = pr[i] * s\n",
    "    k3 = pi[i] * t\n",
    "    pr[i] = k1 - k3\n",
    "    pi[i] = k1 + k2\n",
    "  }\n",
    "  pr[n-1] = 1.0\n",
    "  pi[n-1] = 0.0\n",
    "  if(!n_iters) {\n",
    "    n_iters = 100 * n\n",
    "  }\n",
    "  if(!tolerance) {\n",
    "    tolerance = 1e-6\n",
    "  }\n",
    "  //Pick default initial guess if unspecified\n",
    "  if(!zr) {\n",
    "    zr = new Array(n-1)\n",
    "    zi = new Array(n-1)\n",
    "    var r = bound(n), c\n",
    "    for(i=0; i<n-1; ++i) {\n",
    "      t = Math.random() * r\n",
    "      c = Math.cos(Math.random() * 2 * Math.PI)\n",
    "      zr[i] = t * c\n",
    "      zi[i] = t * Math.sqrt(1.0 - c*c)\n",
    "    }\n",
    "  } else if(!zi) {\n",
    "    zi = new Array(zr.length)\n",
    "    for(i=0; i<zi.length; ++i) {\n",
    "      zi[i] = 0.0\n",
    "    }\n",
    "  }\n",
    "  return solve(n, n_iters, tolerance, zr, zi)\n",
    "}"
   ]
  },
  {
   "cell_type": "code",
   "execution_count": 117,
   "metadata": {},
   "outputs": [
    {
     "name": "stdout",
     "output_type": "stream",
     "text": [
      "[ [ \u001b[33m-1.0005763601357243\u001b[39m, \u001b[33m-1.0005763601357243\u001b[39m, \u001b[33m-1.0005763601357243\u001b[39m ],\n",
      "  [ \u001b[33m-0.00005667018835805469\u001b[39m,\n",
      "    \u001b[33m-0.00005667018835805469\u001b[39m,\n",
      "    \u001b[33m-0.00005667018835805469\u001b[39m ] ]\n"
     ]
    }
   ],
   "source": [
    "var re = [1,3,3,1];\n",
    "var im = [0,0,0];\n",
    "findRoots(re,false,false,false,false,false)"
   ]
  },
  {
   "cell_type": "code",
   "execution_count": 121,
   "metadata": {},
   "outputs": [
    {
     "name": "stdout",
     "output_type": "stream",
     "text": [
      "\u001b[33m8\u001b[39m\n"
     ]
    }
   ],
   "source": [
    "nextPow2(4.5)"
   ]
  },
  {
   "cell_type": "code",
   "execution_count": 107,
   "metadata": {},
   "outputs": [],
   "source": [
    "function np(v) {\n",
    "\n",
    "}"
   ]
  },
  {
   "cell_type": "code",
   "execution_count": 108,
   "metadata": {},
   "outputs": [
    {
     "name": "stdout",
     "output_type": "stream",
     "text": [
      "\u001b[33m4\u001b[39m\n"
     ]
    }
   ],
   "source": [
    "4.5>>>0"
   ]
  },
  {
   "cell_type": "code",
   "execution_count": 112,
   "metadata": {},
   "outputs": [
    {
     "name": "stdout",
     "output_type": "stream",
     "text": [
      "\u001b[33m1\u001b[39m\n",
      "\u001b[33m0\u001b[39m\n",
      "\u001b[33m0\u001b[39m\n",
      "\u001b[33m1\u001b[39m\n"
     ]
    }
   ],
   "source": [
    "np(0.1)"
   ]
  },
  {
   "cell_type": "code",
   "execution_count": 44,
   "metadata": {},
   "outputs": [
    {
     "name": "stdout",
     "output_type": "stream",
     "text": [
      "\u001b[33m0\u001b[39m\n"
     ]
    }
   ],
   "source": [
    "10>>>4"
   ]
  },
  {
   "cell_type": "code",
   "execution_count": 77,
   "metadata": {},
   "outputs": [],
   "source": [
    "function dec2bin(dec){\n",
    "    return (dec >>> 0).toString(2);\n",
    "}"
   ]
  },
  {
   "cell_type": "code",
   "execution_count": 78,
   "metadata": {},
   "outputs": [
    {
     "name": "stdout",
     "output_type": "stream",
     "text": [
      "1010\n"
     ]
    }
   ],
   "source": [
    "dec2bin(10)"
   ]
  },
  {
   "cell_type": "code",
   "execution_count": 96,
   "metadata": {},
   "outputs": [],
   "source": [
    "var j=10\n"
   ]
  },
  {
   "cell_type": "code",
   "execution_count": 97,
   "metadata": {},
   "outputs": [
    {
     "name": "stdout",
     "output_type": "stream",
     "text": [
      "\u001b[33m9\u001b[39m\n"
     ]
    }
   ],
   "source": [
    "--j"
   ]
  },
  {
   "cell_type": "code",
   "execution_count": 98,
   "metadata": {},
   "outputs": [
    {
     "name": "stdout",
     "output_type": "stream",
     "text": [
      "\u001b[33m9\u001b[39m\n"
     ]
    }
   ],
   "source": [
    "j--"
   ]
  },
  {
   "cell_type": "code",
   "execution_count": 99,
   "metadata": {},
   "outputs": [
    {
     "name": "stdout",
     "output_type": "stream",
     "text": [
      "\u001b[33m8\u001b[39m\n"
     ]
    }
   ],
   "source": [
    "j--"
   ]
  },
  {
   "cell_type": "code",
   "execution_count": null,
   "metadata": {},
   "outputs": [],
   "source": []
  }
 ],
 "metadata": {
  "kernelspec": {
   "display_name": "JavaScript",
   "language": "javascript",
   "name": "jslab"
  },
  "language_info": {
   "file_extension": ".js",
   "mimetype": "text/javascript",
   "name": "javascript",
   "version": ""
  }
 },
 "nbformat": 4,
 "nbformat_minor": 4
}
