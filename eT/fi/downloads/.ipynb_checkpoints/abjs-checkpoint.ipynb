{
 "cells": [
  {
   "cell_type": "code",
   "execution_count": 49,
   "metadata": {},
   "outputs": [],
   "source": [
    "import {Complex,creal,cstr,cadd,cmul,cinv,cabs,cdiv} from './comp.js'\n",
    "import {Polynomial,pstr,pdeg,peval,pdiff,pGCD} from './poly.js'"
   ]
  },
  {
   "cell_type": "code",
   "execution_count": 50,
   "metadata": {},
   "outputs": [],
   "source": [
    "var p = new Polynomial([creal(6),creal(5),creal(1)])"
   ]
  },
  {
   "cell_type": "code",
   "execution_count": 51,
   "metadata": {},
   "outputs": [],
   "source": [
    "var plin = pdiff(p)"
   ]
  },
  {
   "cell_type": "code",
   "execution_count": 52,
   "metadata": {},
   "outputs": [
    {
     "name": "stdout",
     "output_type": "stream",
     "text": [
      "\u001b[33m0\u001b[39m\n"
     ]
    }
   ],
   "source": [
    "pdeg(pGCD(p,plin))"
   ]
  },
  {
   "cell_type": "code",
   "execution_count": 83,
   "metadata": {},
   "outputs": [],
   "source": [
    "function abStep(poly,guess) {\n",
    "    if(pdeg(poly)!=guess.length) {return false}\n",
    "    var dp=pdiff(poly),dpz,pz,z,s;\n",
    "    var update=[],i,j,ps,zs,os;\n",
    "    for(i=0;i<guess.length;i++) {\n",
    "        z = guess[i];\n",
    "        pz = peval(p,z);\n",
    "        if(cabs(pz)<0.0001) {\n",
    "            update.push(z);\n",
    "        } else {\n",
    "            ps = creal(0);\n",
    "            for(j=0;j<guess.length;j++) {\n",
    "            if(i!=j) {\n",
    "                s = guess[j];\n",
    "                zs = cadd(z,cmul(creal(-1),s));\n",
    "                if(cabs(zs)<0.00001) {return false}\n",
    "                ps = cadd(ps,cinv(zs));\n",
    "            }\n",
    "        }\n",
    "        dpz = peval(dp,z);\n",
    "        os = cadd(cdiv(dpz,pz),cmul(creal(-1),ps));\n",
    "        update.push(cadd(z,cmul(creal(-1),cinv(os))));\n",
    "        }        \n",
    "    }\n",
    "    return update\n",
    "}"
   ]
  },
  {
   "cell_type": "code",
   "execution_count": 87,
   "metadata": {},
   "outputs": [
    {
     "name": "stdout",
     "output_type": "stream",
     "text": [
      "[ Complex { re: \u001b[33m-2.0413129079519905\u001b[39m, im: \u001b[33m0.1696500984155329\u001b[39m },\n",
      "  Complex { re: \u001b[33m-2.92591127099574\u001b[39m, im: \u001b[33m-0.2203893848879689\u001b[39m } ]\n"
     ]
    }
   ],
   "source": [
    "abStep(p,abStep(p,abStep(p,[new Complex([2,1]),new Complex([4,-5])])))"
   ]
  },
  {
   "cell_type": "code",
   "execution_count": null,
   "metadata": {},
   "outputs": [],
   "source": []
  }
 ],
 "metadata": {
  "kernelspec": {
   "display_name": "JavaScript",
   "language": "javascript",
   "name": "jslab"
  },
  "language_info": {
   "file_extension": ".js",
   "mimetype": "text/javascript",
   "name": "javascript",
   "version": ""
  }
 },
 "nbformat": 4,
 "nbformat_minor": 4
}
