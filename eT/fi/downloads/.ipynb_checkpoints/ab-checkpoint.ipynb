{
 "cells": [
  {
   "cell_type": "code",
   "execution_count": 59,
   "metadata": {},
   "outputs": [],
   "source": [
    "class Polynomial:\n",
    "    def __init__(self, coeff):\n",
    "        self.coeff = coeff\n",
    "    def eval(self, x):\n",
    "        result = 0\n",
    "        for a in self.coeff:\n",
    "            result = result * x + a\n",
    "        return result\n",
    "    def diff(self):\n",
    "        diffc = []\n",
    "        n = len(self.coeff) - 1\n",
    "        N = n\n",
    "        while n > 0:\n",
    "            diffc += [n*self.coeff[N-n]]\n",
    "            n -= 1\n",
    "        return Polynomial(diffc)"
   ]
  },
  {
   "cell_type": "code",
   "execution_count": 60,
   "metadata": {},
   "outputs": [],
   "source": [
    "quad = Polynomial([1,5,6])"
   ]
  },
  {
   "cell_type": "code",
   "execution_count": 61,
   "metadata": {},
   "outputs": [
    {
     "data": {
      "text/plain": [
       "[2, 5]"
      ]
     },
     "execution_count": 61,
     "metadata": {},
     "output_type": "execute_result"
    }
   ],
   "source": [
    "quad.diff().coeff"
   ]
  },
  {
   "cell_type": "code",
   "execution_count": 70,
   "metadata": {},
   "outputs": [],
   "source": [
    "def dkStep(poly,guess):\n",
    "    if len(guess) != (len(poly.coeff)-1):\n",
    "        return False\n",
    "    update = []\n",
    "    for z in guess:\n",
    "        for s in guess:\n",
    "            denom = 1\n",
    "            if s != z:\n",
    "                denom *= z-s\n",
    "        update += [z - poly.eval(z)/poly.coeff[0]/denom]\n",
    "    return update"
   ]
  },
  {
   "cell_type": "code",
   "execution_count": 71,
   "metadata": {},
   "outputs": [
    {
     "data": {
      "text/plain": [
       "False"
      ]
     },
     "execution_count": 71,
     "metadata": {},
     "output_type": "execute_result"
    }
   ],
   "source": [
    "dkStep(quad,[-2])"
   ]
  },
  {
   "cell_type": "code",
   "execution_count": 38,
   "metadata": {},
   "outputs": [],
   "source": [
    "cquad = Polynomial([2,0,2])"
   ]
  },
  {
   "cell_type": "code",
   "execution_count": 39,
   "metadata": {},
   "outputs": [
    {
     "data": {
      "text/plain": [
       "[0.0, -3.0]"
      ]
     },
     "execution_count": 39,
     "metadata": {},
     "output_type": "execute_result"
    }
   ],
   "source": [
    "dkStep(cquad,[1,-1])"
   ]
  },
  {
   "cell_type": "code",
   "execution_count": 47,
   "metadata": {},
   "outputs": [
    {
     "data": {
      "text/plain": [
       "[(0.11014416032521836+0.8287573978880998j), (-47038-19935j)]"
      ]
     },
     "execution_count": 47,
     "metadata": {},
     "output_type": "execute_result"
    }
   ],
   "source": [
    "dkStep(cquad,dkStep(cquad,dkStep(cquad,dkStep(cquad,[1+1j,-1-1j]))))"
   ]
  },
  {
   "cell_type": "code",
   "execution_count": 68,
   "metadata": {},
   "outputs": [
    {
     "data": {
      "text/plain": [
       "[(0.45661895394404783-0.9488147190263135j),\n",
       " (1.1786956787109375+80.128173828125j)]"
      ]
     },
     "execution_count": 68,
     "metadata": {},
     "output_type": "execute_result"
    }
   ],
   "source": [
    "dkStep(cquad,dkStep(cquad,dkStep(cquad,dkStep(cquad,[0.5+0.5j,(0.5+0.5j)**2]))))"
   ]
  },
  {
   "cell_type": "code",
   "execution_count": null,
   "metadata": {},
   "outputs": [],
   "source": []
  }
 ],
 "metadata": {
  "kernelspec": {
   "display_name": "Python 3",
   "language": "python",
   "name": "python3"
  },
  "language_info": {
   "codemirror_mode": {
    "name": "ipython",
    "version": 3
   },
   "file_extension": ".py",
   "mimetype": "text/x-python",
   "name": "python",
   "nbconvert_exporter": "python",
   "pygments_lexer": "ipython3",
   "version": "3.7.3"
  }
 },
 "nbformat": 4,
 "nbformat_minor": 4
}
