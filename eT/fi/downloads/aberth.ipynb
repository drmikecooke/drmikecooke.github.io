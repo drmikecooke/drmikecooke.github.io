{
 "cells": [
  {
   "cell_type": "code",
   "execution_count": 9,
   "metadata": {},
   "outputs": [],
   "source": [
    "\"\"\"\n",
    "    function module\n",
    "    \n",
    "###############################################################################\n",
    "    \n",
    "    This module contains a Function class used to represent a polynomial.\n",
    "    \n",
    "    It can be used with the aberthMethod module to find a polynomial's roots.\n",
    "    \n",
    "\"\"\"\n",
    "\n",
    "\n",
    "class   Function():\n",
    "    \"\"\"\n",
    "    Function object that can represent a polynomial.\n",
    "\n",
    "    Parameters\n",
    "    ----------\n",
    "    coef: a dict objet that represent the coeficients of a polynomial, with\n",
    "        exponantiation as key and coeficient as value.\n",
    "\n",
    "    Property\n",
    "    ----------\n",
    "    degree\n",
    "    coef\n",
    "    dcoef\n",
    "\n",
    "    Methods\n",
    "    ----------\n",
    "    image\n",
    "    derivative\n",
    "\n",
    "    \"\"\"\n",
    "\n",
    "    def __init__(self, coef):\n",
    "        \"\"\"print(coef, min(coef), max(coef))\n",
    "        keys = range(min(coef), max(coef)+1)\n",
    "        self.__coef= {}\n",
    "        for key in keys:\n",
    "            self.__coef[key] = complex(coef[key]) if key in coef else complex(0)\"\"\"\n",
    "        self.__coef = {key: complex(value) for key, value in coef.items() if value != 0}\n",
    "        print(self.__coef)\n",
    "            \n",
    "    @property\n",
    "    def degree(self):\n",
    "        \"\"\"\n",
    "        Return the degree of the polynomial.\n",
    "        \"\"\"\n",
    "        return max(self.__coef)\n",
    "\n",
    "    @property\n",
    "    def coef(self):\n",
    "        \"\"\"\n",
    "        Return a list object composed with all the polynomial's coeficients\n",
    "        shifted to have them starting with first exponantiation as 0.\n",
    "        Exponantiation for each is now the index in the list.\n",
    "        \"\"\"\n",
    "        indexes = list(self.__coef.keys())\n",
    "        index = min(indexes) if min(indexes) < 0 else 0\n",
    "        coef = []\n",
    "        remains = len(indexes)\n",
    "        while remains > 0:\n",
    "            if index in self.__coef:\n",
    "                remains -= 1\n",
    "            coef.append(self.__coef.setdefault(index, 0))\n",
    "            index += 1\n",
    "            \n",
    "        return coef\n",
    "\n",
    "    @property\n",
    "    def dcoef(self):\n",
    "        \"\"\"\n",
    "        Return a list object composed with all the polynomial derivative's \n",
    "        coeficients shifted to have them starting with first exponantiation\n",
    "        as 0.\n",
    "        Exponantiation for each is now the index in the list.\n",
    "        \"\"\"\n",
    "        coef = self.coef\n",
    "        dcoef = []\n",
    "        for i, c in enumerate(coef):\n",
    "            dcoef.append(c*i)\n",
    "        return dcoef[1:]\n",
    "\n",
    "    def image(self, x):\n",
    "        \"\"\"\n",
    "        Return the image of the polynomial for 'x'.\n",
    "        \"\"\"\n",
    "        return sum(coef*(pow(x, i)) for i, coef in enumerate(self.coef))\n",
    "\n",
    "    def derivative(self, x):\n",
    "        \"\"\"\n",
    "        Return the derivative of the polynomial for 'x'.\n",
    "        \"\"\"\n",
    "        return (self.image(x + 1.e-12) - self.image(x)) / 1.e-12\n",
    "\n",
    "\"\"\"\n",
    "    aberthMethod module\n",
    "    \n",
    "###############################################################################\n",
    "    \n",
    "    This module works with the Function class from function module.\n",
    "    \n",
    "    It computes all the roots for a given polynomial.\n",
    "    \n",
    "\"\"\"\n",
    "\n",
    "import math\n",
    "import random\n",
    "\n",
    "def     getUpperLowerBounds(f):\n",
    "    \"\"\"\n",
    "    Give the roots' boundaries of a polynomial.\n",
    "\n",
    "    Parameters\n",
    "    ----------\n",
    "    f: a Function objet that represent a polynomial.\n",
    "\n",
    "    \"\"\"\n",
    "    degree = f.degree\n",
    "    coef = f.coef\n",
    "    upper = 1 + 1 / abs(coef[-1]) * max(abs(coef[x]) for x in range(degree))\n",
    "    lower = abs(coef[0]) / (abs(coef[0]) + max(abs(coef[x]) for x in range(1, degree + 1)))\n",
    "    return upper, lower\n",
    "\n",
    "def     initRoots(f):\n",
    "    \"\"\"\n",
    "    Initialize the roots of a polynomial using the roots' boundaries.\n",
    "\n",
    "    Parameters\n",
    "    ----------\n",
    "    f: a Function objet that represent a polynomial\n",
    "\n",
    "    \"\"\"\n",
    "    degree = f.degree\n",
    "    upper, lower = getUpperLowerBounds(f)\n",
    "\n",
    "    roots = []\n",
    "    for i in range(degree):\n",
    "        radius = random.uniform(lower, upper)\n",
    "        angle = random.uniform(0, math.pi*2)\n",
    "        root = complex(radius * math.cos(angle), radius * math.sin(angle))\n",
    "        roots.append(root)\n",
    "\n",
    "    return roots\n",
    "\n",
    "def     aberthMethod(f):\n",
    "    \"\"\"\n",
    "    Compute the roots of a given polynomial using the Aberth Method.\n",
    "\n",
    "    Parameters\n",
    "    ----------\n",
    "    f: a Function objet that represent a polynomial.\n",
    "\n",
    "    \"\"\"\n",
    "    roots = initRoots(f)\n",
    "    iteration = 0\n",
    "    \n",
    "    while True:\n",
    "        valid = 0\n",
    "        for k, r in enumerate(roots):\n",
    "            ratio =  f.image(r) / f.derivative(r)\n",
    "            offset = ratio / (1 - (ratio * sum(1/(r - x) \n",
    "                              for j, x in enumerate(roots) if j != k)))\n",
    "            if round(offset.real, 14) == 0 and round(offset.imag, 14) == 0:\n",
    "                valid += 1\n",
    "            roots[k] -= offset\n",
    "        if valid == len(roots):\n",
    "            return iteration"
   ]
  },
  {
   "cell_type": "code",
   "execution_count": 10,
   "metadata": {},
   "outputs": [
    {
     "name": "stdout",
     "output_type": "stream",
     "text": [
      "{2: (2+0j), 1: (10+0j), 0: (12+0j)}\n"
     ]
    }
   ],
   "source": [
    "quad = Function({2:2, 1:10, 0:12})"
   ]
  },
  {
   "cell_type": "code",
   "execution_count": 11,
   "metadata": {},
   "outputs": [
    {
     "data": {
      "text/plain": [
       "0"
      ]
     },
     "execution_count": 11,
     "metadata": {},
     "output_type": "execute_result"
    }
   ],
   "source": [
    "aberthMethod(quad)"
   ]
  },
  {
   "cell_type": "code",
   "execution_count": 5,
   "metadata": {},
   "outputs": [
    {
     "data": {
      "text/plain": [
       "[(5.900959491629757-2.029241992493118j),\n",
       " (1.7018660221757347+1.4176070814462969j)]"
      ]
     },
     "execution_count": 5,
     "metadata": {},
     "output_type": "execute_result"
    }
   ],
   "source": [
    "initRoots(quad)"
   ]
  },
  {
   "cell_type": "code",
   "execution_count": 8,
   "metadata": {},
   "outputs": [],
   "source": [
    "aberthMethod(quad)"
   ]
  },
  {
   "cell_type": "code",
   "execution_count": 14,
   "metadata": {},
   "outputs": [
    {
     "data": {
      "text/plain": [
       "(2.000177801164682+0j)"
      ]
     },
     "execution_count": 14,
     "metadata": {},
     "output_type": "execute_result"
    }
   ],
   "source": [
    "quad.derivative(-2)"
   ]
  },
  {
   "cell_type": "code",
   "execution_count": null,
   "metadata": {},
   "outputs": [],
   "source": []
  }
 ],
 "metadata": {
  "kernelspec": {
   "display_name": "Python 3",
   "language": "python",
   "name": "python3"
  },
  "language_info": {
   "codemirror_mode": {
    "name": "ipython",
    "version": 3
   },
   "file_extension": ".py",
   "mimetype": "text/x-python",
   "name": "python",
   "nbconvert_exporter": "python",
   "pygments_lexer": "ipython3",
   "version": "3.7.3"
  }
 },
 "nbformat": 4,
 "nbformat_minor": 4
}
