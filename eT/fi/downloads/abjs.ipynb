{
 "cells": [
  {
   "cell_type": "code",
   "execution_count": 1,
   "metadata": {},
   "outputs": [],
   "source": [
    "import {Complex,creal,cstr,cadd,cmul,cinv,cabs,cdiv} from './comp.js'\n",
    "import {Polynomial,pstr,pdeg,peval,pdiff,pGCD} from './poly.js'"
   ]
  },
  {
   "cell_type": "code",
   "execution_count": 2,
   "metadata": {},
   "outputs": [],
   "source": [
    "var p = new Polynomial([creal(6),creal(5),creal(1)])"
   ]
  },
  {
   "cell_type": "code",
   "execution_count": 3,
   "metadata": {},
   "outputs": [],
   "source": [
    "var plin = pdiff(p)"
   ]
  },
  {
   "cell_type": "code",
   "execution_count": 4,
   "metadata": {},
   "outputs": [
    {
     "name": "stdout",
     "output_type": "stream",
     "text": [
      "\u001b[33m0\u001b[39m\n"
     ]
    }
   ],
   "source": [
    "pdeg(pGCD(p,plin))"
   ]
  },
  {
   "cell_type": "code",
   "execution_count": 49,
   "metadata": {},
   "outputs": [],
   "source": [
    "function abStep(poly,guess) {\n",
    "    if(pdeg(poly)!=guess.length) {return 0}\n",
    "    var dp=pdiff(poly),dpz,pz,z,s;\n",
    "    var update=[],i,j,ps,zs,os;\n",
    "    for(i=0;i<guess.length;i++) {\n",
    "        z = guess[i];\n",
    "        pz = peval(poly,z);\n",
    "        if(cabs(pz)<1e-10) {\n",
    "            update.push(z);\n",
    "        } else {\n",
    "            ps = creal(0);\n",
    "            for(j=0;j<guess.length;j++) {\n",
    "            if(i!=j) {\n",
    "                s = guess[j];\n",
    "                zs = cadd(z,cmul(creal(-1),s));\n",
    "                if(cabs(zs)<1e-6) {return 0}\n",
    "                ps = cadd(ps,cinv(zs));\n",
    "            }\n",
    "        }\n",
    "        dpz = peval(dp,z);\n",
    "        os = cadd(cdiv(dpz,pz),cmul(creal(-1),ps));            \n",
    "        update.push(cadd(z,cmul(creal(-1),cinv(os))));\n",
    "        }     \n",
    "    }\n",
    "    return update\n",
    "}\n",
    "\n",
    "function abRecur(poly,guess) {\n",
    "    var update,i,change=0;\n",
    "    update = abStep(poly,guess);\n",
    "    if(update==0) {console.log(\"Error\"); return}\n",
    "    for(i=0;i<guess.length;i++) {\n",
    "        change += cabs(cadd(update[i],cmul(creal(-1),guess[i])))\n",
    "    }\n",
    "    if (change<1e-10) {return update}\n",
    "    return abRecur(poly,update)\n",
    "}"
   ]
  },
  {
   "cell_type": "code",
   "execution_count": 50,
   "metadata": {},
   "outputs": [
    {
     "name": "stdout",
     "output_type": "stream",
     "text": [
      "[ Complex { re: \u001b[33m-0.06859382655561008\u001b[39m, im: \u001b[33m1.2283194512493876\u001b[39m },\n",
      "  Complex { re: \u001b[33m-2.995121951219513\u001b[39m, im: \u001b[33m-5.022764227642275\u001b[39m } ]\n"
     ]
    }
   ],
   "source": [
    "abStep(p,[new Complex([2,1]),new Complex([4,-5])])"
   ]
  },
  {
   "cell_type": "code",
   "execution_count": 51,
   "metadata": {},
   "outputs": [],
   "source": [
    "var twop = new Polynomial([creal(-1.5),creal(-0.25),creal(1)])"
   ]
  },
  {
   "cell_type": "code",
   "execution_count": 52,
   "metadata": {},
   "outputs": [
    {
     "name": "stdout",
     "output_type": "stream",
     "text": [
      "[ Complex { re: \u001b[33m1.356107225224484\u001b[39m, im: \u001b[33m8.517756541325666e-15\u001b[39m },\n",
      "  Complex { re: \u001b[33m-1.1061072252244297\u001b[39m, im: \u001b[33m-6.484267604193322e-14\u001b[39m } ]\n"
     ]
    }
   ],
   "source": [
    "abRecur(twop,[new Complex([2,1]),new Complex([4,-5])])"
   ]
  },
  {
   "cell_type": "code",
   "execution_count": 57,
   "metadata": {},
   "outputs": [],
   "source": [
    "var threep = new Polynomial([creal(-1),creal(-0.75),creal(-0.25),creal(1)])"
   ]
  },
  {
   "cell_type": "code",
   "execution_count": 58,
   "metadata": {},
   "outputs": [
    {
     "name": "stdout",
     "output_type": "stream",
     "text": [
      "[ Complex { re: \u001b[33m1.3519136862464185\u001b[39m, im: \u001b[33m-1.1871094207397087e-13\u001b[39m },\n",
      "  Complex { re: \u001b[33m-0.5509568431238944\u001b[39m, im: \u001b[33m0.6604080182084614\u001b[39m },\n",
      "  Complex { re: \u001b[33m-0.5509568431231111\u001b[39m, im: \u001b[33m-0.6604080182084816\u001b[39m } ]\n"
     ]
    }
   ],
   "source": [
    "abRecur(threep,[new Complex([2,1]), new Complex([4,-5]), new Complex([0.25,-0.75])])"
   ]
  },
  {
   "cell_type": "code",
   "execution_count": 59,
   "metadata": {},
   "outputs": [],
   "source": [
    "var multip = new Polynomial([creal(1),creal(2),creal(1)])"
   ]
  },
  {
   "cell_type": "code",
   "execution_count": 60,
   "metadata": {},
   "outputs": [
    {
     "name": "stdout",
     "output_type": "stream",
     "text": [
      "[ Complex { re: \u001b[33m-0.9999968638743151\u001b[39m, im: \u001b[33m0.0000031361251247801898\u001b[39m },\n",
      "  Complex { re: \u001b[33m-1.000003136125326\u001b[39m, im: \u001b[33m-0.0000031361333518193908\u001b[39m } ]\n"
     ]
    }
   ],
   "source": [
    "abRecur(multip,[new Complex([2,1]),new Complex([4,-5])])"
   ]
  },
  {
   "cell_type": "code",
   "execution_count": null,
   "metadata": {},
   "outputs": [],
   "source": []
  }
 ],
 "metadata": {
  "kernelspec": {
   "display_name": "JavaScript",
   "language": "javascript",
   "name": "jslab"
  },
  "language_info": {
   "file_extension": ".js",
   "mimetype": "text/javascript",
   "name": "javascript",
   "version": ""
  }
 },
 "nbformat": 4,
 "nbformat_minor": 4
}
