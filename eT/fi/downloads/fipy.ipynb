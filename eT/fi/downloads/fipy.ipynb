{
 "cells": [
  {
   "cell_type": "code",
   "execution_count": 5,
   "metadata": {},
   "outputs": [
    {
     "name": "stdin",
     "output_type": "stream",
     "text": [
      "Change default g list [0.25,0.75,1]? (return/new list):  [0.25,1.5]\n"
     ]
    },
    {
     "name": "stdout",
     "output_type": "stream",
     "text": [
      "[-1.10610723  1.35610723]\n"
     ]
    },
    {
     "name": "stdin",
     "output_type": "stream",
     "text": [
      "File name?  two\n",
      "Number format? (Default .3f):  \n"
     ]
    }
   ],
   "source": [
    "#!/usr/bin/env python\n",
    "# coding: utf-8\n",
    "\n",
    "import numpy.polynomial.polynomial as p\n",
    "import scipy.linalg as la\n",
    "import numpy as np\n",
    "\n",
    "glist = input(\"Change default g list [0.25,0.75,1]? (return/new list): \") or \"[0.25,0.75,1]\"\n",
    "glist = glist.strip('[]').split(',')\n",
    "g = [float(x) for x in glist]   \n",
    "    \n",
    "\n",
    "rg = g[::-1] # reverse list for Polynomial class definition\n",
    "\n",
    "characteristic = p.Polynomial(rg+[-1])\n",
    "\n",
    "croots = characteristic.roots() # find roots of characteristic solutions\n",
    "\n",
    "print(croots)\n",
    "\n",
    "# generate infection, forward and backward lists of characteristic powers\n",
    "\n",
    "I = [1] # begin creation of infection list - 1 on day 0\n",
    "\n",
    "forwardlist = [[1]*len(croots)] # list of zero powers of characteristic roots (i.e. 1)\n",
    "backlist = forwardlist.copy()\n",
    "\n",
    "for n in range(1,50):\n",
    "    I = I + [0]\n",
    "    for m in range(0,len(g)):\n",
    "        if (n-m-1 >= 0): I[n] = I[n] + g[m]*I[n-m-1] # ensure that list indices remain non-negative\n",
    "    forwardlist = forwardlist + [[forwardlist[n-1][m]*croots[m] for m in range(0,len(croots))]]\n",
    "    backlist = backlist + [[backlist[n-1][m]/croots[m] for m in range(0,len(croots))]]\n",
    "\n",
    "# make matrix of predictions from roots\n",
    "\n",
    "pmatrix = forwardlist[0:len(croots)]\n",
    "\n",
    "pc = la.solve(np.array(pmatrix),np.array(I[0:len(croots)]))\n",
    "\n",
    "P = np.array(forwardlist)@pc # prediction list\n",
    "\n",
    "B = np.array(backlist)@pc # retro list\n",
    "    \n",
    "D = list(range(0,50)) # day list\n",
    "\n",
    "with open((input(\"File name? \") or \"fi\")+\".csv\",\"w\") as fi:\n",
    "    gs = str(g).strip('[]')\n",
    "    fi.write(\"g list:, {}\\n\".format(gs))\n",
    "    fi.write(\"Date, Infection, Prediction, Retrodiction\\n\")\n",
    "    nf = input(\"Number format? (Default .3f): \") or \".3f\"\n",
    "    ns = \"{0:}, {1:}, {1:}, {1:}\\n\".format(\"{:n}\",\"{:\"+nf+\"}\")\n",
    "    for n in range(0,50):\n",
    "        fi.write(ns.format(D[n], I[n], P[n].real, B[n].real))"
   ]
  },
  {
   "cell_type": "code",
   "execution_count": null,
   "metadata": {},
   "outputs": [],
   "source": []
  }
 ],
 "metadata": {
  "kernelspec": {
   "display_name": "Python 3",
   "language": "python",
   "name": "python3"
  },
  "language_info": {
   "codemirror_mode": {
    "name": "ipython",
    "version": 3
   },
   "file_extension": ".py",
   "mimetype": "text/x-python",
   "name": "python",
   "nbconvert_exporter": "python",
   "pygments_lexer": "ipython3",
   "version": "3.7.3"
  }
 },
 "nbformat": 4,
 "nbformat_minor": 4
}
