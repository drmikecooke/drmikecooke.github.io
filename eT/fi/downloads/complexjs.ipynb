{
 "cells": [
  {
   "cell_type": "code",
   "execution_count": 59,
   "metadata": {},
   "outputs": [],
   "source": [
    "function Complex(array2) {\n",
    "    this.re = array2[0];\n",
    "    this.im = array2[1];\n",
    "}\n",
    "\n",
    "function cstr(z) { return \"(\"+z.re+(z.im<0?\"\":\"+\")+z.im+\"i)\" }\n",
    "function cmul(z1,z2) { return new Complex([z1.re*z2.re-z1.im*z2.im, z1.im*z2.re+z1.re*z2.im]) }\n",
    "function cadd(z1,z2) { return new Complex([z1.re+z2.re, z1.im+z2.im]) }\n",
    "function conj(z1) { return new Complex([z1.re, -z1.im]) }\n",
    "function cabs(z1) { return Math.sqrt(z1.re*z1.re+z1.im*z1.im)}\n",
    "function carg(z1) { return Math.atan2(z1.im,z1.re) }\n",
    "function cinv(z) { var zabs2 = cmul(z,conj(z)).re; return new Complex([z.re/zabs2,-(z.im)/zabs2]) }\n",
    "function cdiv(z1,z2) { return cmul(z1,cinv(z2))}\n",
    "function creal(x) { return new Complex([x,0])}\n",
    "\n",
    "function Polynomial(coeff) {\n",
    "    var leading = coeff.pop();\n",
    "    while(leading!=undefined && cabs(leading)==0 ) {\n",
    "        leading = coeff.pop();\n",
    "    }\n",
    "    if(leading!=undefined) {coeff.push(leading);}\n",
    "    this.coeff = coeff;\n",
    "}\n",
    "\n",
    "function pstr(p) {\n",
    "    if(p.coeff.length==0) {return cstr(creal(0))}\n",
    "    var s=cstr(p.coeff[0]);\n",
    "    for(var i=1;i<p.coeff.length;i++) {s += \" + \"+cstr(p.coeff[i])+\"x\"+(i>1?(\"^\"+i):\"\")}\n",
    "    return s\n",
    "}\n",
    "\n",
    "function pdeg(p) {\n",
    "    if(p.coeff.length==0) {return -Infinity}\n",
    "    return p.coeff.length-1\n",
    "}\n",
    "\n",
    "function peval(p,z) {\n",
    "    var coeff = p.coeff.slice(0);\n",
    "    var result = coeff.pop();\n",
    "    while (coeff.length) {\n",
    "        result = cadd(cmul(result,z),coeff.pop());\n",
    "    }\n",
    "    return result\n",
    "}\n",
    "\n",
    "function pdiff(p) {\n",
    "    var coeff = p.coeff.slice(1);\n",
    "    for(var i=0;i<coeff.length;i++) {coeff[i] = cmul(creal(i+1),coeff[i])}\n",
    "    return new Polynomial(coeff)\n",
    "}\n",
    "\n",
    "function padd(p1,p2) {\n",
    "    var result, p1c=p1.coeff.slice(0), p2c=p2.coeff.slice(0)\n",
    "    if(p2c.lenght>p1c.length) {\n",
    "        p1c = p1c.concat(Array(p2c.length-p1c.length).fill(creal(0)))\n",
    "    } else {\n",
    "        p2c = p2c.concat(Array(p1c.length-p2c.length).fill(creal(0)))\n",
    "    }\n",
    "    return new Polynomial(p1c.map((v,i)=>cadd(v,p2c[i])))\n",
    "}\n",
    "\n",
    "function pmul(p1,p2) {\n",
    "    var result=[], p1c=p1.coeff.slice(0), p2c=p2.coeff.slice(0);\n",
    "    for(var m=0;m<p1c.length;m++) {\n",
    "        for(var n=0;n<p2c.length;n++) {\n",
    "            if((m+n)==result.length) {result = result.concat([creal(0)])}\n",
    "            result[m+n] = cadd(result[m+n],cmul(p1c[m],p2c[n]));\n",
    "        }\n",
    "    }\n",
    "    return new Polynomial(result)\n",
    "}\n",
    "\n",
    "function pdiv(p1,p2) {\n",
    "    var p1c=p1.coeff.slice(0), p2c=p2.coeff.slice(0), qc=Array(p1c.length-p2c.length).fill(creal(0)),cf, nf;\n",
    "    if(p1c.length<p2c.length) {return [new Polynomial([]), new Polynomial(p2c)]}\n",
    "    while(p1c.length>=p2c.length){\n",
    "        cf = cdiv(p1c[p1c.length-1],p2c[p2c.length-1]);\n",
    "        nf = cmul(creal(-1),cf)\n",
    "        qc[p1c.length-p2c.length] = cf;\n",
    "        p1c = p1c.slice(0,-1);\n",
    "        for(var i=0;i<(p2c.length-1);i++) {\n",
    "            p1c[p1c.length-1-i] = cadd(p1c[p1c.length-1-i],cmul(nf,p2c[p2c.length-2-i]));\n",
    "        }\n",
    "    }\n",
    "    return [new Polynomial(qc),new Polynomial(p1c)]\n",
    "}\n",
    "\n",
    "function pGCD(p1,p2) {\n",
    "    var p1c=p1.coeff.slice(0), p2c=p2.coeff.slice(0);\n",
    "    if(p1c.length<p2c.length) {return pGCD(p2,p1)}\n",
    "    var rem = pdiv(p1,p2)[1];\n",
    "    if(pdeg(rem)==-Infinity) {return p2} else {return pGCD(p2,rem)}\n",
    "}"
   ]
  },
  {
   "cell_type": "code",
   "execution_count": 63,
   "metadata": {},
   "outputs": [],
   "source": [
    "var pnew = new Polynomial([creal(1), creal(2), creal(1)])"
   ]
  },
  {
   "cell_type": "code",
   "execution_count": 67,
   "metadata": {},
   "outputs": [],
   "source": [
    "var plin = pdiff(pnew)"
   ]
  },
  {
   "cell_type": "code",
   "execution_count": 68,
   "metadata": {},
   "outputs": [
    {
     "name": "stdout",
     "output_type": "stream",
     "text": [
      "(2+0i) + (2+0i)x\n"
     ]
    }
   ],
   "source": [
    "pstr(pGCD(plin,pnew))"
   ]
  },
  {
   "cell_type": "code",
   "execution_count": 40,
   "metadata": {},
   "outputs": [
    {
     "name": "stdout",
     "output_type": "stream",
     "text": [
      "(1+0i) + (2+0i)x + (1+0i)x^2\n"
     ]
    }
   ],
   "source": [
    "pstr(pnew)"
   ]
  },
  {
   "cell_type": "code",
   "execution_count": 56,
   "metadata": {},
   "outputs": [],
   "source": [
    "var p3 = new Polynomial([creal(-3),creal(1)])"
   ]
  },
  {
   "cell_type": "code",
   "execution_count": 57,
   "metadata": {},
   "outputs": [],
   "source": [
    "var p2 = new Polynomial([creal(-2),creal(1)])"
   ]
  },
  {
   "cell_type": "code",
   "execution_count": 58,
   "metadata": {},
   "outputs": [
    {
     "name": "stdout",
     "output_type": "stream",
     "text": [
      "Polynomial {\n",
      "  coeff:\n",
      "   [ Complex { re: \u001b[33m6\u001b[39m, im: \u001b[33m0\u001b[39m, vec: \u001b[36m[Array]\u001b[39m, toString: \u001b[36m[Function]\u001b[39m },\n",
      "     Complex { re: \u001b[33m-5\u001b[39m, im: \u001b[33m0\u001b[39m, vec: \u001b[36m[Array]\u001b[39m, toString: \u001b[36m[Function]\u001b[39m },\n",
      "     Complex { re: \u001b[33m1\u001b[39m, im: \u001b[33m0\u001b[39m, vec: \u001b[36m[Array]\u001b[39m, toString: \u001b[36m[Function]\u001b[39m } ],\n",
      "  toString: \u001b[36m[Function]\u001b[39m }\n"
     ]
    }
   ],
   "source": [
    "pmul(p2,p3)"
   ]
  },
  {
   "cell_type": "code",
   "execution_count": 59,
   "metadata": {},
   "outputs": [
    {
     "name": "stdout",
     "output_type": "stream",
     "text": [
      "[ [ Complex { re: \u001b[33m0\u001b[39m, im: \u001b[33m0\u001b[39m, vec: \u001b[36m[Array]\u001b[39m, toString: \u001b[36m[Function]\u001b[39m },\n",
      "    Complex { re: \u001b[33m2\u001b[39m, im: \u001b[33m0\u001b[39m, vec: \u001b[36m[Array]\u001b[39m, toString: \u001b[36m[Function]\u001b[39m },\n",
      "    Complex { re: \u001b[33m2\u001b[39m, im: \u001b[33m0\u001b[39m, vec: \u001b[36m[Array]\u001b[39m, toString: \u001b[36m[Function]\u001b[39m } ],\n",
      "  [ Complex { re: \u001b[33m1\u001b[39m, im: \u001b[33m0\u001b[39m, vec: \u001b[36m[Array]\u001b[39m, toString: \u001b[36m[Function]\u001b[39m } ] ]\n"
     ]
    }
   ],
   "source": [
    "pdiv(pnew,p3)"
   ]
  },
  {
   "cell_type": "code",
   "execution_count": 60,
   "metadata": {},
   "outputs": [],
   "source": [
    "var r = [0,12,23]"
   ]
  },
  {
   "cell_type": "code",
   "execution_count": 61,
   "metadata": {},
   "outputs": [
    {
     "name": "stdout",
     "output_type": "stream",
     "text": [
      "[ \u001b[33m0\u001b[39m, \u001b[33m12\u001b[39m, \u001b[33m23\u001b[39m, \u001b[33m2\u001b[39m ]\n"
     ]
    }
   ],
   "source": [
    "r.concat(2)"
   ]
  },
  {
   "cell_type": "code",
   "execution_count": 62,
   "metadata": {},
   "outputs": [
    {
     "name": "stdout",
     "output_type": "stream",
     "text": [
      "[ \u001b[33m0\u001b[39m, \u001b[33m12\u001b[39m ]\n"
     ]
    }
   ],
   "source": [
    "r.slice(-3,-1)"
   ]
  },
  {
   "cell_type": "code",
   "execution_count": 63,
   "metadata": {},
   "outputs": [],
   "source": [
    "var p=new Polynomial([creal(0)])"
   ]
  },
  {
   "cell_type": "code",
   "execution_count": 64,
   "metadata": {},
   "outputs": [
    {
     "name": "stdout",
     "output_type": "stream",
     "text": [
      "[ Complex { re: \u001b[33m0\u001b[39m, im: \u001b[33m0\u001b[39m, vec: [ \u001b[33m0\u001b[39m, \u001b[33m0\u001b[39m ], toString: \u001b[36m[Function]\u001b[39m },\n",
      "  Complex { re: \u001b[33m1\u001b[39m, im: \u001b[33m0\u001b[39m, vec: [ \u001b[33m1\u001b[39m, \u001b[33m0\u001b[39m ], toString: \u001b[36m[Function]\u001b[39m } ]\n"
     ]
    }
   ],
   "source": [
    "p.coeff = [creal(0),creal(1)]"
   ]
  },
  {
   "cell_type": "code",
   "execution_count": 65,
   "metadata": {},
   "outputs": [
    {
     "name": "stdout",
     "output_type": "stream",
     "text": [
      "Polynomial {\n",
      "  coeff:\n",
      "   [ Complex { re: \u001b[33m0\u001b[39m, im: \u001b[33m0\u001b[39m, vec: \u001b[36m[Array]\u001b[39m, toString: \u001b[36m[Function]\u001b[39m },\n",
      "     Complex { re: \u001b[33m1\u001b[39m, im: \u001b[33m0\u001b[39m, vec: \u001b[36m[Array]\u001b[39m, toString: \u001b[36m[Function]\u001b[39m } ],\n",
      "  toString: \u001b[36m[Function]\u001b[39m }\n"
     ]
    }
   ],
   "source": [
    "p"
   ]
  },
  {
   "cell_type": "code",
   "execution_count": 66,
   "metadata": {},
   "outputs": [
    {
     "name": "stdout",
     "output_type": "stream",
     "text": [
      "\u001b[90mundefined\u001b[39m\n"
     ]
    }
   ],
   "source": [
    "console.log([].pop() && true)"
   ]
  },
  {
   "cell_type": "code",
   "execution_count": 67,
   "metadata": {},
   "outputs": [],
   "source": [
    "var pzero = new Polynomial([])"
   ]
  },
  {
   "cell_type": "code",
   "execution_count": 68,
   "metadata": {},
   "outputs": [
    {
     "name": "stdout",
     "output_type": "stream",
     "text": [
      "(0+0i)\n"
     ]
    }
   ],
   "source": [
    "pstr(pzero)"
   ]
  },
  {
   "cell_type": "code",
   "execution_count": 45,
   "metadata": {},
   "outputs": [],
   "source": [
    "if((pzero.coeff)==[]) {console.log(\"Hello\")}"
   ]
  },
  {
   "cell_type": "code",
   "execution_count": 49,
   "metadata": {},
   "outputs": [
    {
     "name": "stdout",
     "output_type": "stream",
     "text": [
      "\u001b[33mtrue\u001b[39m\n"
     ]
    }
   ],
   "source": [
    "pzero.coeff.length==0"
   ]
  },
  {
   "cell_type": "code",
   "execution_count": 48,
   "metadata": {},
   "outputs": [
    {
     "name": "stdout",
     "output_type": "stream",
     "text": [
      "[]\n"
     ]
    }
   ],
   "source": [
    "pzero.coeff"
   ]
  },
  {
   "cell_type": "code",
   "execution_count": 69,
   "metadata": {},
   "outputs": [
    {
     "data": {
      "text/html": [
       "Hello <b>tslab!</b>"
      ]
     },
     "metadata": {},
     "output_type": "display_data"
    }
   ],
   "source": [
    "import * as tslab from \"tslab\";\n",
    "tslab.display.html(\"Hello <b>tslab!</b>\");"
   ]
  },
  {
   "cell_type": "code",
   "execution_count": null,
   "metadata": {},
   "outputs": [],
   "source": []
  }
 ],
 "metadata": {
  "kernelspec": {
   "display_name": "JavaScript",
   "language": "javascript",
   "name": "jslab"
  },
  "language_info": {
   "file_extension": ".js",
   "mimetype": "text/javascript",
   "name": "javascript",
   "version": ""
  }
 },
 "nbformat": 4,
 "nbformat_minor": 4
}
