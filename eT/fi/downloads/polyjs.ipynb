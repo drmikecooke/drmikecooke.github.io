{
 "cells": [
  {
   "cell_type": "code",
   "execution_count": 3,
   "metadata": {},
   "outputs": [],
   "source": [
    "import {Complex,creal,cstr,cabs,cadd,cmul,cdiv} from './comp.js'\n",
    "\n",
    "function Polynomial(coeff) {\n",
    "    var leading = coeff.pop();\n",
    "    while(leading!=undefined && cabs(leading)==0 ) {\n",
    "        leading = coeff.pop();\n",
    "    }\n",
    "    if(leading!=undefined) {coeff.push(leading);}\n",
    "    this.coeff = coeff;\n",
    "}\n",
    "\n",
    "function pstr(p) {\n",
    "    if(p.coeff.length==0) {return cstr(creal(0))}\n",
    "    var s=cstr(p.coeff[0]);\n",
    "    for(var i=1;i<p.coeff.length;i++) {s += \" + \"+cstr(p.coeff[i])+\"x\"+(i>1?(\"^\"+i):\"\")}\n",
    "    return s\n",
    "}\n",
    "\n",
    "function pdeg(p) {\n",
    "    if(p.coeff.length==0) {return -Infinity}\n",
    "    return p.coeff.length-1\n",
    "}\n",
    "\n",
    "function peval(p,z) {\n",
    "    var coeff = p.coeff.slice(0);\n",
    "    var result = coeff.pop();\n",
    "    while (coeff.length) {\n",
    "        result = cadd(cmul(result,z),coeff.pop());\n",
    "    }\n",
    "    return result\n",
    "}\n",
    "\n",
    "function pdiff(p) {\n",
    "    var coeff = p.coeff.slice(1);\n",
    "    for(var i=0;i<coeff.length;i++) {coeff[i] = cmul(creal(i+1),coeff[i])}\n",
    "    return new Polynomial(coeff)\n",
    "}\n",
    "\n",
    "function padd(p1,p2) {\n",
    "    var result, p1c=p1.coeff.slice(0), p2c=p2.coeff.slice(0)\n",
    "    if(p2c.lenght>p1c.length) {\n",
    "        p1c = p1c.concat(Array(p2c.length-p1c.length).fill(creal(0)))\n",
    "    } else {\n",
    "        p2c = p2c.concat(Array(p1c.length-p2c.length).fill(creal(0)))\n",
    "    }\n",
    "    return new Polynomial(p1c.map((v,i)=>cadd(v,p2c[i])))\n",
    "}\n",
    "\n",
    "function pmul(p1,p2) {\n",
    "    var result=[], p1c=p1.coeff.slice(0), p2c=p2.coeff.slice(0);\n",
    "    for(var m=0;m<p1c.length;m++) {\n",
    "        for(var n=0;n<p2c.length;n++) {\n",
    "            if((m+n)==result.length) {result = result.concat([creal(0)])}\n",
    "            result[m+n] = cadd(result[m+n],cmul(p1c[m],p2c[n]));\n",
    "        }\n",
    "    }\n",
    "    return new Polynomial(result)\n",
    "}\n",
    "\n",
    "function pdiv(p1,p2) {\n",
    "    var p1c=p1.coeff.slice(0), p2c=p2.coeff.slice(0), qc=Array(p1c.length-p2c.length).fill(creal(0)),cf, nf;\n",
    "    if(p1c.length<p2c.length) {return [new Polynomial([]), new Polynomial(p2c)]}\n",
    "    while(p1c.length>=p2c.length){\n",
    "        cf = cdiv(p1c[p1c.length-1],p2c[p2c.length-1]);\n",
    "        nf = cmul(creal(-1),cf)\n",
    "        qc[p1c.length-p2c.length] = cf;\n",
    "        p1c = p1c.slice(0,-1);\n",
    "        for(var i=0;i<(p2c.length-1);i++) {\n",
    "            p1c[p1c.length-1-i] = cadd(p1c[p1c.length-1-i],cmul(nf,p2c[p2c.length-2-i]));\n",
    "        }\n",
    "    }\n",
    "    return [new Polynomial(qc),new Polynomial(p1c)]\n",
    "}\n",
    "\n",
    "function pGCD(p1,p2) {\n",
    "    var p1c=p1.coeff.slice(0), p2c=p2.coeff.slice(0);\n",
    "    if(p1c.length<p2c.length) {return pGCD(p2,p1)}\n",
    "    var rem = pdiv(p1,p2)[1];\n",
    "    if(pdeg(rem)==-Infinity) {return p2} else {return pGCD(p2,rem)}\n",
    "}"
   ]
  },
  {
   "cell_type": "code",
   "execution_count": 4,
   "metadata": {},
   "outputs": [],
   "source": [
    "var pnew = new Polynomial([creal(1), creal(2), creal(1)])"
   ]
  },
  {
   "cell_type": "code",
   "execution_count": 5,
   "metadata": {},
   "outputs": [],
   "source": [
    "var plin = pdiff(pnew)"
   ]
  },
  {
   "cell_type": "code",
   "execution_count": 6,
   "metadata": {},
   "outputs": [
    {
     "name": "stdout",
     "output_type": "stream",
     "text": [
      "(2+0i) + (2+0i)x\n"
     ]
    }
   ],
   "source": [
    "pstr(pGCD(plin,pnew))"
   ]
  },
  {
   "cell_type": "code",
   "execution_count": null,
   "metadata": {},
   "outputs": [],
   "source": []
  }
 ],
 "metadata": {
  "kernelspec": {
   "display_name": "JavaScript",
   "language": "javascript",
   "name": "jslab"
  },
  "language_info": {
   "file_extension": ".js",
   "mimetype": "text/javascript",
   "name": "javascript",
   "version": ""
  }
 },
 "nbformat": 4,
 "nbformat_minor": 4
}
