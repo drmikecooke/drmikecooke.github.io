{
 "cells": [
  {
   "cell_type": "code",
   "execution_count": 1,
   "metadata": {},
   "outputs": [],
   "source": [
    "class Polynomial:\n",
    "    def __init__(self, coeff):\n",
    "        self.coeff = coeff\n",
    "    def eval(self, x):\n",
    "        result = 0\n",
    "        for a in self.coeff:\n",
    "            result = result * x + a\n",
    "        return result\n",
    "    def diff(self):\n",
    "        diffc = []\n",
    "        n = len(self.coeff) - 1\n",
    "        N = n\n",
    "        while n > 0:\n",
    "            diffc += [n*self.coeff[N-n]]\n",
    "            n -= 1\n",
    "        return Polynomial(diffc)\n",
    "\n",
    "def pDiv(p1, p2):\n",
    "    p1c = p1.coeff\n",
    "    p2c = p2.coeff\n",
    "    if len(p1c) < len(p2c):\n",
    "        return [Polynomial([0]),p1]\n",
    "    qc = []\n",
    "    for m in range(0,len(p1c)-len(p2c)+1):\n",
    "        qc += [p1c[0]/p2c[0]]\n",
    "        p1c = p1c[1:]\n",
    "        for n in range(0,len(p2c)-1):\n",
    "            p1c[n] = p1c[n]-p2c[n+1]*qc[m]\n",
    "    while p1c[0]==0 and p1c!=[0]:\n",
    "        p1c = p1c[1:]\n",
    "    return [Polynomial(qc),Polynomial(p1c)] # quotient and remainder\n",
    "\n",
    "def pMul(p1,p2):\n",
    "    p1c = p1.coeff\n",
    "    p2c = p2.coeff\n",
    "    result = []\n",
    "    for m in range(0,len(p1c)):\n",
    "        for n in range(0,len(p2c)):\n",
    "            if ((m+n) == len(result)):\n",
    "                result += [0]\n",
    "            result[m+n] += p1c[m]*p2c[n]\n",
    "    return Polynomial(result)\n",
    "                \n",
    "def pGCD(p1,p2):\n",
    "    p1c = p1.coeff\n",
    "    p2c = p2.coeff\n",
    "    if len(p1c) < len(p2c):\n",
    "        rem = pDiv(p2,p1)[1].coeff\n",
    "        if rem==[0]:\n",
    "            return p1\n",
    "        else:\n",
    "            return pGCD(p1,Polynomial(rem))\n",
    "    else:\n",
    "        rem = pDiv(p1,p2)[1].coeff\n",
    "        if rem==[0]:\n",
    "            return p2\n",
    "        else:\n",
    "            return pGCD(p2,Polynomial(rem))"
   ]
  },
  {
   "cell_type": "code",
   "execution_count": 2,
   "metadata": {},
   "outputs": [],
   "source": [
    "quad = Polynomial([1,2,1])\n",
    "linear = Polynomial([1,1])"
   ]
  },
  {
   "cell_type": "code",
   "execution_count": 3,
   "metadata": {},
   "outputs": [],
   "source": [
    "cubic = Polynomial([1,3,3,1])"
   ]
  },
  {
   "cell_type": "code",
   "execution_count": 4,
   "metadata": {},
   "outputs": [
    {
     "data": {
      "text/plain": [
       "[1, 2, 1]"
      ]
     },
     "execution_count": 4,
     "metadata": {},
     "output_type": "execute_result"
    }
   ],
   "source": [
    "pDiv(quad,cubic)[1].coeff"
   ]
  },
  {
   "cell_type": "code",
   "execution_count": 5,
   "metadata": {},
   "outputs": [
    {
     "data": {
      "text/plain": [
       "[1.0, 2.0, 1.0]"
      ]
     },
     "execution_count": 5,
     "metadata": {},
     "output_type": "execute_result"
    }
   ],
   "source": [
    "pDiv(cubic,linear)[0].coeff"
   ]
  },
  {
   "cell_type": "code",
   "execution_count": 6,
   "metadata": {},
   "outputs": [
    {
     "data": {
      "text/latex": [
       "$\\displaystyle 3 \\cdot \\frac{\\pi}{2} + e^{\\frac{I*x}{x^2 + y}}$"
      ],
      "text/plain": [
       "<IPython.core.display.Math object>"
      ]
     },
     "execution_count": 6,
     "metadata": {},
     "output_type": "execute_result"
    }
   ],
   "source": [
    "from IPython.display import Math\n",
    "Math('3 \\cdot \\\\frac{\\pi}{2} + e^{\\\\frac{I*x}{x^2 + y}}')\n"
   ]
  },
  {
   "cell_type": "code",
   "execution_count": 7,
   "metadata": {},
   "outputs": [
    {
     "data": {
      "text/latex": [
       "$\\displaystyle 3x^2+3x+1$"
      ],
      "text/plain": [
       "<IPython.core.display.Math object>"
      ]
     },
     "execution_count": 7,
     "metadata": {},
     "output_type": "execute_result"
    }
   ],
   "source": [
    "Math('3x^2+3x+1')"
   ]
  },
  {
   "cell_type": "code",
   "execution_count": 9,
   "metadata": {},
   "outputs": [
    {
     "data": {
      "text/plain": [
       "[1, 4, 6, 4, 1]"
      ]
     },
     "execution_count": 9,
     "metadata": {},
     "output_type": "execute_result"
    }
   ],
   "source": [
    "pMul(quad,quad).coeff"
   ]
  },
  {
   "cell_type": "code",
   "execution_count": 229,
   "metadata": {},
   "outputs": [
    {
     "data": {
      "text/plain": [
       "[1, 2, 1]"
      ]
     },
     "execution_count": 229,
     "metadata": {},
     "output_type": "execute_result"
    }
   ],
   "source": [
    "pGCD(cubic,quad).coeff"
   ]
  },
  {
   "cell_type": "code",
   "execution_count": 230,
   "metadata": {},
   "outputs": [
    {
     "data": {
      "text/plain": [
       "[0.0]"
      ]
     },
     "execution_count": 230,
     "metadata": {},
     "output_type": "execute_result"
    }
   ],
   "source": [
    "pDiv(cubic,linear)[1].coeff"
   ]
  },
  {
   "cell_type": "code",
   "execution_count": null,
   "metadata": {},
   "outputs": [],
   "source": []
  }
 ],
 "metadata": {
  "kernelspec": {
   "display_name": "Python 3",
   "language": "python",
   "name": "python3"
  },
  "language_info": {
   "codemirror_mode": {
    "name": "ipython",
    "version": 3
   },
   "file_extension": ".py",
   "mimetype": "text/x-python",
   "name": "python",
   "nbconvert_exporter": "python",
   "pygments_lexer": "ipython3",
   "version": "3.7.3"
  }
 },
 "nbformat": 4,
 "nbformat_minor": 4
}
