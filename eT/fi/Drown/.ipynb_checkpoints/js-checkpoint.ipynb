{
 "cells": [
  {
   "cell_type": "code",
   "execution_count": 196,
   "metadata": {},
   "outputs": [],
   "source": [
    "function Sequence(...args) {\n",
    "    if(args.length>2) {console.log('Sequence error - too many arguments');return}\n",
    "    if(!(this instanceof Sequence)){return new Sequence(...args)}    \n",
    "    if(args.length==2) {this.shift = args[1];} else {this.shift = 0;}\n",
    "    if(args.length!=0) {this.list = args[0];} else {this.list = [];}\n",
    "    while(this.list[0]==0) {\n",
    "        this.list = this.list.slice(1);\n",
    "        this.shift++;\n",
    "    }\n",
    "    while(this.list[this.list.length-1]==0) {\n",
    "        this.list = this.list.slice(0,this.list.length-1);\n",
    "    }\n",
    "    if(this.list.length==0) {this.shift=0;}\n",
    "    this.index = function (i) {\n",
    "        var j = i-this.shift;\n",
    "        if(0<=j && j <this.list.length) {return this.list[j]} else {return 0}\n",
    "    }\n",
    "}\n",
    "\n",
    "Object.defineProperty(Sequence.prototype, 'max', {\n",
    "    get: function() {\n",
    "        return this.shift+this.list.length-1;\n",
    "    }/*,\n",
    "    set: function(value) {\n",
    "        this.shift = value;\n",
    "    }*/\n",
    "});\n",
    "\n",
    "function add(seq1,seq2) {\n",
    "    function smax(s) {return s.shift+s.list.length-1}\n",
    "    var shift = Math.min(seq1.shift,seq2.shift);\n",
    "    var seqmax = Math.max(seq1.max,seq2.max);\n",
    "    var seqlen = seqmax-shift+1,seq=[];\n",
    "    for(var i=shift;i<seqmax+1;i++) {\n",
    "        seq.push(seq1.index(i)+seq2.index(i));\n",
    "    }\n",
    "    return Sequence(seq,shift)\n",
    "}\n",
    "\n",
    "function conv(seq1,seq2) {\n",
    "    var shift=seq1.shift+seq2.shift, seq=[];\n",
    "    for(var m=seq1.shift;m<seq1.max+1;m++) {\n",
    "        for(var n=seq2.shift;n<seq2.max+1;n++) {\n",
    "            if(m+n<shift+seq.length) {\n",
    "                seq[m+n-shift]+=seq1.index(m)*seq2.index(n);\n",
    "            } else {\n",
    "                seq.push(seq1.index(m)*seq2.index(n));\n",
    "            }\n",
    "        }\n",
    "    }\n",
    "    return Sequence(seq,shift)\n",
    "}\n",
    "\n",
    "function reccon(z,g) { // Test for recurrence g consistency on seed z\n",
    "    var czg = conv(z,Sequence(g))\n",
    "    return czg.list.slice(g.length-1,czg.list.length-g.length+1).every((v)=>v==0)\n",
    "}\n",
    "\n",
    "function forward(z,g,n) {\n",
    "    if(!reccon(z,g)) {console.log('Seed not consistent with proposed recurrence.'); return}\n",
    "    var zl=z.list,v,m;\n",
    "    if(zl.length<g.length-1) {console.log('Seed inadequate length.'); return}\n",
    "    for(var k=0;k<n;k++){\n",
    "        v=0;\n",
    "        for(m=1;m<g.length;m++) {v+=g[m]*zl[zl.length-m]}\n",
    "        zl.push(-v/g[0])\n",
    "    }    \n",
    "    return z\n",
    "}\n",
    "\n",
    "function backward(z,g,n) {\n",
    "    if(!reccon(z,g)) {console.log('Seed not consistent with proposed recurrence.'); return}\n",
    "    var zl=z.list,v,m;\n",
    "    if(zl.length<g.length-1) {console.log('Seed inadequate length.'); return}\n",
    "    for(var k=0;k<n;k++){\n",
    "        v=0;\n",
    "        for(m=0;m<g.length-1;m++) {v+=g[m]*zl[g.length-m-2]}\n",
    "        zl.unshift(-v/g[g.length-1]);\n",
    "        z.shift--;\n",
    "    }    \n",
    "    return z\n",
    "}\n",
    "\n",
    "function extend(z,g,m,n) {\n",
    "    z = backward(forward(z,g,n),g,m);\n",
    "    if(!reccon(z,g)) {console.log('Extended sequence unreliable.')}\n",
    "    return z\n",
    "}"
   ]
  },
  {
   "cell_type": "code",
   "execution_count": 197,
   "metadata": {},
   "outputs": [
    {
     "name": "stdout",
     "output_type": "stream",
     "text": [
      "\u001b[33m4\u001b[39m\n"
     ]
    }
   ],
   "source": [
    "var z = Sequence([1,2,3],-1),w = Sequence([5,4,3],1)\n",
    "z.list.push(1)"
   ]
  },
  {
   "cell_type": "code",
   "execution_count": 203,
   "metadata": {},
   "outputs": [],
   "source": [
    "var bz = extend(Sequence([1,2,-5],-1),[1,1,3],7,5)"
   ]
  },
  {
   "cell_type": "code",
   "execution_count": 204,
   "metadata": {},
   "outputs": [
    {
     "name": "stdout",
     "output_type": "stream",
     "text": [
      "Sequence {\n",
      "  shift: \u001b[33m-8\u001b[39m,\n",
      "  list:\n",
      "   [ \u001b[33m0.004115226337448559\u001b[39m,\n",
      "     \u001b[33m0.06172839506172839\u001b[39m,\n",
      "     \u001b[33m-0.07407407407407407\u001b[39m,\n",
      "     \u001b[33m-0.1111111111111111\u001b[39m,\n",
      "     \u001b[33m0.3333333333333333\u001b[39m,\n",
      "     \u001b[33m-0\u001b[39m,\n",
      "     \u001b[33m-1\u001b[39m,\n",
      "     \u001b[33m1\u001b[39m,\n",
      "     \u001b[33m2\u001b[39m,\n",
      "     \u001b[33m-5\u001b[39m,\n",
      "     \u001b[33m-1\u001b[39m,\n",
      "     \u001b[33m16\u001b[39m,\n",
      "     \u001b[33m-13\u001b[39m,\n",
      "     \u001b[33m-35\u001b[39m,\n",
      "     \u001b[33m74\u001b[39m ],\n",
      "  index: \u001b[36m[Function]\u001b[39m }\n"
     ]
    }
   ],
   "source": [
    "bz"
   ]
  },
  {
   "cell_type": "code",
   "execution_count": 189,
   "metadata": {},
   "outputs": [
    {
     "name": "stdout",
     "output_type": "stream",
     "text": [
      "Sequence { shift: \u001b[33m-1\u001b[39m, list: [ \u001b[33m1\u001b[39m, \u001b[33m2\u001b[39m, \u001b[33m3\u001b[39m, \u001b[33m1\u001b[39m ], index: \u001b[36m[Function]\u001b[39m }\n"
     ]
    }
   ],
   "source": [
    "z"
   ]
  },
  {
   "cell_type": "code",
   "execution_count": 99,
   "metadata": {},
   "outputs": [
    {
     "name": "stdout",
     "output_type": "stream",
     "text": [
      "\u001b[33m2\u001b[39m\n"
     ]
    }
   ],
   "source": [
    "z.max"
   ]
  },
  {
   "cell_type": "code",
   "execution_count": null,
   "metadata": {},
   "outputs": [],
   "source": []
  }
 ],
 "metadata": {
  "kernelspec": {
   "display_name": "JavaScript",
   "language": "javascript",
   "name": "jslab"
  },
  "language_info": {
   "file_extension": ".js",
   "mimetype": "text/javascript",
   "name": "javascript",
   "version": ""
  }
 },
 "nbformat": 4,
 "nbformat_minor": 4
}
