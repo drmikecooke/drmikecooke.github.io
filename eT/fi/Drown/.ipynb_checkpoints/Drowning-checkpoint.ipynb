{
 "cells": [
  {
   "cell_type": "markdown",
   "metadata": {},
   "source": [
    "Second order equation"
   ]
  },
  {
   "cell_type": "code",
   "execution_count": 15,
   "metadata": {},
   "outputs": [],
   "source": [
    "def f(y):\n",
    "    return 1.75*y[-1]-y[-2]\n",
    "\n",
    "y=[0,1]\n",
    "for i in range(2,51):\n",
    "    y += [f(y)]"
   ]
  },
  {
   "cell_type": "code",
   "execution_count": 16,
   "metadata": {},
   "outputs": [
    {
     "data": {
      "text/plain": [
       "[0,\n",
       " 1,\n",
       " 1.75,\n",
       " 2.0625,\n",
       " 1.859375,\n",
       " 1.19140625,\n",
       " 0.2255859375,\n",
       " -0.796630859375,\n",
       " -1.61968994140625,\n",
       " -2.0378265380859375,\n",
       " -1.9465065002441406,\n",
       " -1.3685598373413086,\n",
       " -0.4484732151031494,\n",
       " 0.5837317109107971,\n",
       " 1.4700037091970444,\n",
       " 1.9887747801840305,\n",
       " 2.010352156125009,\n",
       " 1.5293414930347353,\n",
       " 0.6659954566857778,\n",
       " -0.36384944383462425,\n",
       " -1.3027319833963702,\n",
       " -1.9159315271090236,\n",
       " -2.050148189044421,\n",
       " -1.6718278037187133,\n",
       " -0.8755504674633272,\n",
       " 0.1396144856578907,\n",
       " 1.119875817364636,\n",
       " 1.8201681947302222,\n",
       " 2.065418523413253,\n",
       " 1.7943142212429704,\n",
       " 1.0746313637619451,\n",
       " 0.08629066534043361,\n",
       " -0.9236226994161862,\n",
       " -1.7026303893187595,\n",
       " -2.055980481891643,\n",
       " -1.8953354539916156,\n",
       " -1.2608565625936845,\n",
       " -0.31116353054733237,\n",
       " 0.7163203841358529,\n",
       " 1.564724202785075,\n",
       " 2.021946970738028,\n",
       " 1.973682996006474,\n",
       " 1.4319982722733013,\n",
       " 0.5323139804718036,\n",
       " -0.5004488064476451,\n",
       " -1.4080993917551825,\n",
       " -1.9637251291239242,\n",
       " -2.028419584211685,\n",
       " -1.5860091432465242,\n",
       " -0.7470964164697325,\n",
       " 0.2785904144244924]"
      ]
     },
     "execution_count": 16,
     "metadata": {},
     "output_type": "execute_result"
    }
   ],
   "source": [
    "y"
   ]
  },
  {
   "cell_type": "code",
   "execution_count": 17,
   "metadata": {},
   "outputs": [],
   "source": []
  },
  {
   "cell_type": "code",
   "execution_count": 39,
   "metadata": {},
   "outputs": [
    {
     "data": {
      "text/plain": [
       "(2020, 53, 4)"
      ]
     },
     "execution_count": 39,
     "metadata": {},
     "output_type": "execute_result"
    }
   ],
   "source": [
    "datetime.date(2020,12,31).isocalendar()[1]\n",
    "datetime.date.fromisoformat('2020-12-31').isocalendar()"
   ]
  },
  {
   "cell_type": "code",
   "execution_count": 2,
   "metadata": {},
   "outputs": [
    {
     "name": "stdout",
     "output_type": "stream",
     "text": [
      "[0, 1, 0, 0, 2, 6, 1, 4, 58, 409, 2585, 7267, 19356, 31081, 32065, 32331, 32418, 30764, 22192, 19367, 15873, 10600, 8187, 7219, 6499, 5050, 4114, 4113, 4421, 5040, 5430, 6460, 7621, 7918, 9432, 17877, 22215, 31112, 47693, 82996, 110539, 123137, 153108, 152557, 166323, 168346, 129183, 102369, 108558, 151841, 202341, 2235, 0]\n"
     ]
    }
   ],
   "source": [
    "import datetime\n",
    "import csv\n",
    "weekly = [0]*53\n",
    "with open(\"data.csv\",\"r\") as data:\n",
    "    csvdata = csv.reader(data)\n",
    "    for row in csvdata:\n",
    "        #print(row[4])\n",
    "        if row[3]=='date':\n",
    "            continue\n",
    "            #print(datetime.datetime.fromisoformat(row[3]))\n",
    "        week = datetime.date.fromisoformat(row[3]).isocalendar()[1]\n",
    "        weekly[week-1] += int(row[4])\n",
    "print(weekly)"
   ]
  },
  {
   "cell_type": "code",
   "execution_count": 3,
   "metadata": {},
   "outputs": [
    {
     "name": "stdout",
     "output_type": "stream",
     "text": [
      "[ 1.00295965 -0.05675723 -0.08110286]\n"
     ]
    }
   ],
   "source": [
    "import numpy\n",
    "\n",
    "\n",
    "b=[0]*4\n",
    "for m in range(6,46):\n",
    "    for n in range(0,4):\n",
    "        b[n] += weekly[m]*weekly[m-n]\n",
    "        \n",
    "A=[]\n",
    "for m in range(0,3):\n",
    "    row =[]\n",
    "    for n in range(0,3):\n",
    "        row += [b[abs(m-n)]]\n",
    "    A += [row]\n",
    "\n",
    "coeff = numpy.matmul(numpy.linalg.inv(A),b[1:])\n",
    "print(coeff)"
   ]
  },
  {
   "cell_type": "code",
   "execution_count": 4,
   "metadata": {},
   "outputs": [
    {
     "data": {
      "text/plain": [
       "array([ 1.00295965, -0.05675723, -0.08110286])"
      ]
     },
     "execution_count": 4,
     "metadata": {},
     "output_type": "execute_result"
    }
   ],
   "source": [
    "coeff"
   ]
  },
  {
   "cell_type": "code",
   "execution_count": 16,
   "metadata": {},
   "outputs": [
    {
     "data": {
      "image/png": "[encoded data removed]",
      "text/plain": [
       "<Figure size 432x288 with 1 Axes>"
      ]
     },
     "metadata": {
      "needs_background": "light"
     },
     "output_type": "display_data"
    }
   ],
   "source": [
    "import math\n",
    "\n",
    "r = 1.05\n",
    "rho = 1.045\n",
    "theta = 2*math.pi/30\n",
    "c = [r+2*rho*math.cos(theta),-(2*r*rho*math.cos(theta)+rho*rho),r*rho*rho]\n",
    "n = [500]\n",
    "t = [0]\n",
    "for m in range(1,51):\n",
    "    n += [0]\n",
    "    t += [m]\n",
    "    for l in range(0,3):\n",
    "        if l<len(n)-1:\n",
    "            n[-1] += n[-2-l]*c[l]\n",
    "\n",
    "import matplotlib.pyplot as plt\n",
    "fig, ax = plt.subplots()\n",
    "ax.plot(t, n, weekly)\n",
    "plt.savefig('wave.pdf')"
   ]
  },
  {
   "cell_type": "code",
   "execution_count": 15,
   "metadata": {},
   "outputs": [
    {
     "data": {
      "text/plain": [
       "[3.0845470095263163, -3.2178743600026323, 1.13568]"
      ]
     },
     "execution_count": 15,
     "metadata": {},
     "output_type": "execute_result"
    }
   ],
   "source": [
    "c"
   ]
  },
  {
   "cell_type": "code",
   "execution_count": null,
   "metadata": {},
   "outputs": [],
   "source": []
  }
 ],
 "metadata": {
  "kernelspec": {
   "display_name": "Python 3",
   "language": "python",
   "name": "python3"
  },
  "language_info": {
   "codemirror_mode": {
    "name": "ipython",
    "version": 3
   },
   "file_extension": ".py",
   "mimetype": "text/x-python",
   "name": "python",
   "nbconvert_exporter": "python",
   "pygments_lexer": "ipython3",
   "version": "3.7.3"
  }
 },
 "nbformat": 4,
 "nbformat_minor": 4
}
