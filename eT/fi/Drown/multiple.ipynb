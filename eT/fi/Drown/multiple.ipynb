{
 "cells": [
  {
   "cell_type": "code",
   "execution_count": 1,
   "metadata": {},
   "outputs": [],
   "source": [
    "def forward(g,x,n):\n",
    "    while g[0]==0: # Remove zero from start\n",
    "        g = g[1:]\n",
    "    while g[-1]==0: # Remove zeros from end\n",
    "        g = g[0:-1]\n",
    "    if len(x)<len(g)-1:\n",
    "        print('Input sequence too short')\n",
    "        return\n",
    "    for i in range(0,len(x)-len(g)+1): # Check that input x-sequence conforms to g\n",
    "        check = 0\n",
    "        for m in range(0,len(g)):\n",
    "            check += g[m]*x[i+m]\n",
    "        if check!=0:\n",
    "            print('Input sequence error')\n",
    "            return\n",
    "    for i in range(len(x),n+1):\n",
    "        new = 0\n",
    "        for m in range(1,len(g)):\n",
    "            new += g[-m-1]*x[-m]\n",
    "        x += [-new/g[-1]]\n",
    "    return x"
   ]
  },
  {
   "cell_type": "code",
   "execution_count": 4,
   "metadata": {},
   "outputs": [
    {
     "data": {
      "text/plain": [
       "[1,\n",
       " 2,\n",
       " -1.3333333333333333,\n",
       " -0.888888888888889,\n",
       " 1.1851851851851851,\n",
       " 0.19753086419753094,\n",
       " -0.8559670781893004,\n",
       " 0.15363511659807952,\n",
       " 0.5194330132601738,\n",
       " -0.2755677488187776,\n",
       " -0.25443275923385666,\n",
       " 0.2685227522904706,\n",
       " 0.08011425539241424,\n",
       " -0.2057199199911185,\n",
       " 0.01516380306876334,\n",
       " 0.13209201230449122,\n",
       " -0.05413987281400597,\n",
       " -0.07001471726499216,\n",
       " 0.05943148763100137,\n",
       " 0.026865982299660984,\n",
       " -0.04857631918722124]"
      ]
     },
     "execution_count": 4,
     "metadata": {},
     "output_type": "execute_result"
    }
   ],
   "source": [
    "forward([2,1,3],[1,2],20)"
   ]
  },
  {
   "cell_type": "code",
   "execution_count": 153,
   "metadata": {},
   "outputs": [
    {
     "name": "stdout",
     "output_type": "stream",
     "text": [
      "0\n",
      "1\n",
      "2\n",
      "3\n",
      "4\n",
      "5\n",
      "6\n",
      "7\n",
      "8\n",
      "9\n"
     ]
    }
   ],
   "source": [
    "for i in range(0,10):\n",
    "    print(i)"
   ]
  },
  {
   "cell_type": "code",
   "execution_count": 100,
   "metadata": {},
   "outputs": [],
   "source": [
    "def δ(z):\n",
    "    return {i-1:z[i] for i in list(z.keys())}"
   ]
  },
  {
   "cell_type": "code",
   "execution_count": 101,
   "metadata": {},
   "outputs": [
    {
     "data": {
      "text/plain": [
       "{-1: 1, 0: 2, 1: 3, 2: 4, 3: 5, 4: 6, 5: 7}"
      ]
     },
     "execution_count": 101,
     "metadata": {},
     "output_type": "execute_result"
    }
   ],
   "source": [
    "δ(z)"
   ]
  },
  {
   "cell_type": "code",
   "execution_count": 164,
   "metadata": {},
   "outputs": [],
   "source": [
    "\n",
    "                "
   ]
  }
 ],
 "metadata": {
  "kernelspec": {
   "display_name": "Python 3",
   "language": "python",
   "name": "python3"
  },
  "language_info": {
   "codemirror_mode": {
    "name": "ipython",
    "version": 3
   },
   "file_extension": ".py",
   "mimetype": "text/x-python",
   "name": "python",
   "nbconvert_exporter": "python",
   "pygments_lexer": "ipython3",
   "version": "3.7.3"
  }
 },
 "nbformat": 4,
 "nbformat_minor": 4
}
