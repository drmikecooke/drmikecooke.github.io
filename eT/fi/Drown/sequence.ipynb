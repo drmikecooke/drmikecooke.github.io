{
 "cells": [
  {
   "cell_type": "code",
   "execution_count": 156,
   "metadata": {},
   "outputs": [],
   "source": [
    "class Sequence:\n",
    "    def __init__(self, *args):\n",
    "        if len(args)>2:\n",
    "            print('Error - too many arguments')\n",
    "        self.list = args[0] # keep list\n",
    "        if len(args)==2:\n",
    "            self.min = args[1]\n",
    "        else:\n",
    "            self.min = 0\n",
    "        self.dict = {i+self.min:v for i,v in enumerate(self.list)}\n",
    "        self.max = self.min+len(self.list)-1\n",
    "    def __add__(self,z):\n",
    "        sd = self.dict\n",
    "        zd = z.dict\n",
    "        v = sd.copy()\n",
    "        for i in list(zd.keys()):\n",
    "            if i in list(v.keys()):\n",
    "                v[i] = v[i]+zd[i]\n",
    "            else:\n",
    "                v[i] = zd[i]\n",
    "        [vl,vmin] = listshift(v)\n",
    "        return Sequence(vl,vmin)\n",
    "    def __mul__(self,z):\n",
    "        sd = self.dict\n",
    "        zd = z.dict\n",
    "        vd = {}\n",
    "        for m in list(sd.keys()):\n",
    "            for n in list(zd.keys()):\n",
    "                if m+n in list(vd.keys()):\n",
    "                    vd[m+n] += sd[m]*zd[n]\n",
    "                else:\n",
    "                    vd[m+n] = sd[m]*zd[n]\n",
    "        [vl,vmin] = listshift(vd)\n",
    "        return Sequence(vl,vmin)\n",
    "    def trim(self):\n",
    "        while self.dict[self.min]==0:\n",
    "            del self.dict[self.min]\n",
    "            self.list = self.list[1:]\n",
    "            self.min += 1\n",
    "            \n",
    "\n",
    "def listshift(v):\n",
    "    vmin = min(list(v.keys()))\n",
    "    vmax = max(list(v.keys()))\n",
    "    vl = []\n",
    "    for i in range(vmin,vmax+1):\n",
    "        if i in list(v.keys()):\n",
    "            vl += [v[i]]\n",
    "        else:\n",
    "            vl += [0]\n",
    "    return [vl,vmin]\n",
    "        "
   ]
  },
  {
   "cell_type": "code",
   "execution_count": 157,
   "metadata": {},
   "outputs": [],
   "source": [
    "g = Sequence([0,0,0,3,1,2])\n",
    "z = Sequence([1,\n",
    " 2,\n",
    " -1.3333333333333333,\n",
    " -0.888888888888889,\n",
    " 1.1851851851851851,\n",
    " 0.19753086419753094,\n",
    " -0.8559670781893004,\n",
    " 0.15363511659807952,\n",
    " 0.5194330132601738,\n",
    " -0.2755677488187776,\n",
    " -0.25443275923385666,\n",
    " 0.2685227522904706,\n",
    " 0.08011425539241424,\n",
    " -0.2057199199911185,\n",
    " 0.01516380306876334,\n",
    " 0.13209201230449122,\n",
    " -0.05413987281400597,\n",
    " -0.07001471726499216,\n",
    " 0.05943148763100137,\n",
    " 0.026865982299660984,\n",
    " -0.04857631918722124])"
   ]
  },
  {
   "cell_type": "code",
   "execution_count": 158,
   "metadata": {},
   "outputs": [],
   "source": [
    "g.trim()"
   ]
  },
  {
   "cell_type": "code",
   "execution_count": 159,
   "metadata": {},
   "outputs": [
    {
     "data": {
      "text/plain": [
       "{3: 3, 4: 1, 5: 2}"
      ]
     },
     "execution_count": 159,
     "metadata": {},
     "output_type": "execute_result"
    }
   ],
   "source": [
    "g.dict"
   ]
  },
  {
   "cell_type": "code",
   "execution_count": 161,
   "metadata": {},
   "outputs": [
    {
     "data": {
      "text/plain": [
       "3"
      ]
     },
     "execution_count": 161,
     "metadata": {},
     "output_type": "execute_result"
    }
   ],
   "source": [
    "g.min"
   ]
  },
  {
   "cell_type": "code",
   "execution_count": 68,
   "metadata": {},
   "outputs": [
    {
     "data": {
      "text/plain": [
       "-1"
      ]
     },
     "execution_count": 68,
     "metadata": {},
     "output_type": "execute_result"
    }
   ],
   "source": [
    "z.min"
   ]
  },
  {
   "cell_type": "code",
   "execution_count": 69,
   "metadata": {},
   "outputs": [],
   "source": [
    "    def __mul__(self,w): # convolution\n",
    "        v = {}\n",
    "        for m in list(self.d.keys()):\n",
    "            for n in list(w.d.keys()):\n",
    "                new = self.d[m]*w.d[n]\n",
    "                if (m+n) in list(v.keys()):\n",
    "                    v[m+n] += new\n",
    "                else:\n",
    "                    v[m+n] = new\n",
    "        offset = min(list(v.keys()))\n",
    "        z = [v[i] for i in range(shift,max(list(v.keys()))+1)]\n",
    "        return Sequence(z).shift(offset)"
   ]
  },
  {
   "cell_type": "code",
   "execution_count": null,
   "metadata": {},
   "outputs": [],
   "source": [
    "    def __add__(self,w):\n",
    "        v = self.d.copy()\n",
    "        k = list(v.keys())\n",
    "        for i in list(w.d.keys()):\n",
    "            if i in k:\n",
    "                v[i] = v[i] + w.d[i]\n",
    "            else:\n",
    "                v[i] = w.d[i]\n",
    "        offset = min(self.min,w.min)\n",
    "        z = Sequence([v[i] for i in range(min(self.min,w.min),max(self.max,w.max)+1)])\n",
    "        return self.shift(z,offset)\n",
    "\n",
    "    def shift(self,offset):\n",
    "        self.d = {i+offset: self.d[i] for i in list(self.d.keys())}\n",
    "        self.min = self.min+offset\n",
    "        self.max = self.max+offset\n",
    "        \n",
    "                if len(args)==2:\n",
    "            shift = args[1]\n",
    "        else:\n",
    "            shift = 0\n",
    "        self.d = {(i+shift): v for i,v in enumerate(z)}\n",
    "        self.min = shift\n",
    "        self.max = len(z)+shift-1"
   ]
  }
 ],
 "metadata": {
  "kernelspec": {
   "display_name": "Python 3",
   "language": "python",
   "name": "python3"
  },
  "language_info": {
   "codemirror_mode": {
    "name": "ipython",
    "version": 3
   },
   "file_extension": ".py",
   "mimetype": "text/x-python",
   "name": "python",
   "nbconvert_exporter": "python",
   "pygments_lexer": "ipython3",
   "version": "3.7.3"
  }
 },
 "nbformat": 4,
 "nbformat_minor": 4
}
