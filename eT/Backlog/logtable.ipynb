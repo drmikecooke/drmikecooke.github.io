{
 "cells": [
  {
   "cell_type": "code",
   "execution_count": 47,
   "metadata": {},
   "outputs": [],
   "source": [
    "function wrap(open, close) {return (v)=>{return open+v+close}}\n",
    "function arrayWrap(array, open, close) {return array.map(wrap(open,close))}\n",
    "function elementWrap(array, open, close) {return array.map((v)=>{return arrayWrap(v,open,close).join(\"\")})}\n",
    "\n",
    "function Column(head, data) {\n",
    "    if(!(this instanceof Column)) {return new Column(head, data)}\n",
    "    this.head = head;\n",
    "    this.data = data;\n",
    "}\n",
    "\n",
    "function Table(heading, heads, data) {\n",
    "    if(!(this instanceof Table)) {return new Table(heading, heads, data)}\n",
    "    this.heading = heading;\n",
    "    this.heads = heads;\n",
    "    this.data = data;\n",
    "    this.HTML = ()=>{\n",
    "        var caption = wrap(\"<caption>\",\"</caption>\\n\")(this.heading);\n",
    "        var th = wrap(\"<tr>\",\"</tr>\\n\")(arrayWrap(this.heads,\"<th>\",\"</th>\").join(\"\"));\n",
    "        var td = arrayWrap(elementWrap(this.data,\"<td>\",\"</td>\"),\"<tr>\",\"</tr>\\n\").join(\"\");\n",
    "        return wrap(\"<table>\\n\",\"</table>\\n\")(caption+th+td)\n",
    "    };\n",
    "    this.column = (i)=>{return new Column(heads[i], data.map((v)=>{return v[i]}))}\n",
    "    this.insertColumn = (i, col)=>{\n",
    "        this.heads.splice(i,0, col.head);\n",
    "        this.data.map((v,j)=>{v.splice(i,0,col.data[j])});\n",
    "        };\n",
    "    this.CSV = ()=>{return heads.join() + \"\\n\" + data.join(\"\\n\")};\n",
    "}\n",
    "\n",
    "function PlotlyArgs(div, table, i, j, color, width, bgcolor) {\n",
    "    if(!(this instanceof PlotlyArgs)) {return new PlotlyArgs(div, table, i, j, color, width, bgcolor)}\n",
    "    this.div = div;\n",
    "    this.data = [plotlyTrace(table, i, j, color, width)];\n",
    "    this.layout = plotlyLayout(table, i, j, bgcolor);\n",
    "    this.config = {scrollZoom: false};\n",
    "    this.args = [div, this.data, this.layout, this.config]\n",
    "}\n",
    "\n",
    "function plotlyTrace(table, i, j, color, width) {\n",
    "    return {\n",
    "        x: table.column(i).data,\n",
    "        y: table.column(j).data,\n",
    "        type: 'scatter',\n",
    "        mode: 'lines',\n",
    "        line: {color: color, width: width}\n",
    "    }\n",
    "}\n",
    "\n",
    "function plotlyLayout(table, i, j, bgcolor) {\n",
    "    return {\n",
    "        title: table.heading,\n",
    "        showlegend: false,\n",
    "        xaxis: {title: table.heads[i]},\n",
    "        yaxis: {title: table.heads[j], rangemode: 'tozero'},\n",
    "        plot_bgcolor: bgcolor,\n",
    "    }\n",
    "}"
   ]
  },
  {
   "cell_type": "code",
   "execution_count": 48,
   "metadata": {},
   "outputs": [],
   "source": [
    "function powerArray(base) {\n",
    "    // Make array of powers up to 10\n",
    "    var A = [1], p = 1, n = 0;\n",
    "    while (p<10) {p = p*base; n++; A.push(p);}\n",
    "    return A\n",
    "}"
   ]
  },
  {
   "cell_type": "code",
   "execution_count": 49,
   "metadata": {},
   "outputs": [
    {
     "name": "stdout",
     "output_type": "stream",
     "text": [
      "[ \u001b[33m1\u001b[39m,\n",
      "  \u001b[33m1.1\u001b[39m,\n",
      "  \u001b[33m1.2100000000000002\u001b[39m,\n",
      "  \u001b[33m1.3310000000000004\u001b[39m,\n",
      "  \u001b[33m1.4641000000000006\u001b[39m,\n",
      "  \u001b[33m1.6105100000000008\u001b[39m,\n",
      "  \u001b[33m1.771561000000001\u001b[39m,\n",
      "  \u001b[33m1.9487171000000014\u001b[39m,\n",
      "  \u001b[33m2.1435888100000016\u001b[39m,\n",
      "  \u001b[33m2.357947691000002\u001b[39m,\n",
      "  \u001b[33m2.5937424601000023\u001b[39m,\n",
      "  \u001b[33m2.853116706110003\u001b[39m,\n",
      "  \u001b[33m3.1384283767210035\u001b[39m,\n",
      "  \u001b[33m3.4522712143931042\u001b[39m,\n",
      "  \u001b[33m3.797498335832415\u001b[39m,\n",
      "  \u001b[33m4.177248169415656\u001b[39m,\n",
      "  \u001b[33m4.594972986357222\u001b[39m,\n",
      "  \u001b[33m5.054470284992944\u001b[39m,\n",
      "  \u001b[33m5.559917313492239\u001b[39m,\n",
      "  \u001b[33m6.115909044841463\u001b[39m,\n",
      "  \u001b[33m6.72749994932561\u001b[39m,\n",
      "  \u001b[33m7.400249944258172\u001b[39m,\n",
      "  \u001b[33m8.140274938683989\u001b[39m,\n",
      "  \u001b[33m8.954302432552389\u001b[39m,\n",
      "  \u001b[33m9.849732675807628\u001b[39m,\n",
      "  \u001b[33m10.834705943388391\u001b[39m ]\n"
     ]
    }
   ],
   "source": [
    "powerArray(1.1)"
   ]
  },
  {
   "cell_type": "code",
   "execution_count": 50,
   "metadata": {},
   "outputs": [],
   "source": [
    "var dataArray = powerArray(1.1).map((v,i)=>[i,v])"
   ]
  },
  {
   "cell_type": "code",
   "execution_count": 51,
   "metadata": {},
   "outputs": [],
   "source": [
    "var powerTable = new Table(\"Powers of base b\", [\"n\",\"b<sup>n</sup>\"], dataArray)"
   ]
  },
  {
   "cell_type": "code",
   "execution_count": 52,
   "metadata": {},
   "outputs": [
    {
     "name": "stdout",
     "output_type": "stream",
     "text": [
      "<table>\n",
      "<caption>Powers of base b</caption>\n",
      "<tr><th>n</th><th>b<sup>n</sup></th></tr>\n",
      "<tr><td>0</td><td>1</td></tr>\n",
      "<tr><td>1</td><td>1.1</td></tr>\n",
      "<tr><td>2</td><td>1.2100000000000002</td></tr>\n",
      "<tr><td>3</td><td>1.3310000000000004</td></tr>\n",
      "<tr><td>4</td><td>1.4641000000000006</td></tr>\n",
      "<tr><td>5</td><td>1.6105100000000008</td></tr>\n",
      "<tr><td>6</td><td>1.771561000000001</td></tr>\n",
      "<tr><td>7</td><td>1.9487171000000014</td></tr>\n",
      "<tr><td>8</td><td>2.1435888100000016</td></tr>\n",
      "<tr><td>9</td><td>2.357947691000002</td></tr>\n",
      "<tr><td>10</td><td>2.5937424601000023</td></tr>\n",
      "<tr><td>11</td><td>2.853116706110003</td></tr>\n",
      "<tr><td>12</td><td>3.1384283767210035</td></tr>\n",
      "<tr><td>13</td><td>3.4522712143931042</td></tr>\n",
      "<tr><td>14</td><td>3.797498335832415</td></tr>\n",
      "<tr><td>15</td><td>4.177248169415656</td></tr>\n",
      "<tr><td>16</td><td>4.594972986357222</td></tr>\n",
      "<tr><td>17</td><td>5.054470284992944</td></tr>\n",
      "<tr><td>18</td><td>5.559917313492239</td></tr>\n",
      "<tr><td>19</td><td>6.115909044841463</td></tr>\n",
      "<tr><td>20</td><td>6.72749994932561</td></tr>\n",
      "<tr><td>21</td><td>7.400249944258172</td></tr>\n",
      "<tr><td>22</td><td>8.140274938683989</td></tr>\n",
      "<tr><td>23</td><td>8.954302432552389</td></tr>\n",
      "<tr><td>24</td><td>9.849732675807628</td></tr>\n",
      "<tr><td>25</td><td>10.834705943388391</td></tr>\n",
      "</table>\n",
      "\n"
     ]
    }
   ],
   "source": [
    "powerTable.HTML()"
   ]
  },
  {
   "cell_type": "code",
   "execution_count": 53,
   "metadata": {},
   "outputs": [
    {
     "name": "stdout",
     "output_type": "stream",
     "text": [
      "\u001b[33m24.15255979947703\u001b[39m\n"
     ]
    }
   ],
   "source": [
    "(10-25*dataArray[24][1]+24*dataArray[25][1])/(dataArray[25][1]-dataArray[24][1])"
   ]
  },
  {
   "cell_type": "code",
   "execution_count": 54,
   "metadata": {},
   "outputs": [
    {
     "name": "stdout",
     "output_type": "stream",
     "text": [
      "\u001b[33m24.15885792809679\u001b[39m\n"
     ]
    }
   ],
   "source": [
    "Math.log(10)/Math.log(1.1)"
   ]
  },
  {
   "cell_type": "code",
   "execution_count": 55,
   "metadata": {},
   "outputs": [],
   "source": [
    "function natexp(N) {\n",
    "    var b = 1+1/N;\n",
    "    var p = 1\n",
    "    for (var n=0;n<N;n++) {p *= b}\n",
    "    return p\n",
    "}"
   ]
  },
  {
   "cell_type": "code",
   "execution_count": 56,
   "metadata": {},
   "outputs": [
    {
     "name": "stdout",
     "output_type": "stream",
     "text": [
      "\u001b[33m2.7181459268248984\u001b[39m\n"
     ]
    }
   ],
   "source": [
    "natexp(10000)"
   ]
  },
  {
   "cell_type": "code",
   "execution_count": 57,
   "metadata": {},
   "outputs": [
    {
     "name": "stdout",
     "output_type": "stream",
     "text": [
      "\u001b[33m2.718281828459045\u001b[39m\n"
     ]
    }
   ],
   "source": [
    "Math.exp(1)"
   ]
  },
  {
   "cell_type": "code",
   "execution_count": 60,
   "metadata": {},
   "outputs": [],
   "source": [
    "var pArray = powerArray(1.1);\n",
    "    var xArray = [...Array(11).keys()].slice(2);\n",
    "function logb(x) {\n",
    "    var nint = pArray.findIndex((v)=>v>=x);\n",
    "    return nint + (x-pArray[nint])/(pArray[nint]-pArray[nint-1])\n",
    "}\n",
    "var logbArray = [[1,0,0,0]];\n",
    "var logb10 = logb(10);\n",
    "for (var x of xArray) {logbArray.push([x,logb(x),logb(x)/logb10,Math.log(x)/Math.LN10])}\n",
    "var logTable = new Table(\"log<sub>b/10</sub>x estimates and calculated value\",[\"x\",\"log<sub>b</sub>x\",\"log<sub>10</sub>x (est.)\",\"log<sub>10</sub>x (calc.)\"],logbArray)"
   ]
  },
  {
   "cell_type": "code",
   "execution_count": 62,
   "metadata": {},
   "outputs": [
    {
     "name": "stdout",
     "output_type": "stream",
     "text": [
      "<table>\n",
      "<caption>log<sub>b/10</sub>x estimates and calculated value</caption>\n",
      "<tr><th>x</th><th>log<sub>b</sub>x</th><th>log<sub>10</sub>x (est.)</th><th>log<sub>10</sub>x (calc.)</th></tr>\n",
      "<tr><td>1</td><td>0</td><td>0</td><td>0</td></tr>\n",
      "<tr><td>2</td><td>7.263162364614128</td><td>0.3007201896989565</td><td>0.30102999566398114</td></tr>\n",
      "<tr><td>3</td><td>11.514816984441763</td><td>0.47675348203427625</td><td>0.4771212547196623</td></tr>\n",
      "<tr><td>4</td><td>14.533250172243187</td><td>0.6017271168316438</td><td>0.6020599913279623</td></tr>\n",
      "<tr><td>5</td><td>16.881456789507425</td><td>0.6989510399586276</td><td>0.6989700043360187</td></tr>\n",
      "<tr><td>6</td><td>18.791527394552816</td><td>0.7780346079490792</td><td>0.7781512503836435</td></tr>\n",
      "<tr><td>7</td><td>20.405053961690044</td><td>0.8448402211235538</td><td>0.8450980400142567</td></tr>\n",
      "<tr><td>8</td><td>21.81044567448316</td><td>0.9030283272481702</td><td>0.9030899869919434</td></tr>\n",
      "<tr><td>9</td><td>23.051034201482278</td><td>0.9543930081473758</td><td>0.9542425094393249</td></tr>\n",
      "<tr><td>10</td><td>24.152559799477046</td><td>1</td><td>1</td></tr>\n",
      "</table>\n",
      "\n"
     ]
    }
   ],
   "source": [
    "logTable.HTML()"
   ]
  },
  {
   "cell_type": "code",
   "execution_count": 26,
   "metadata": {},
   "outputs": [
    {
     "name": "stdout",
     "output_type": "stream",
     "text": [
      "[ \u001b[33m0\u001b[39m, \u001b[33m1\u001b[39m, \u001b[33m2\u001b[39m, \u001b[33m3\u001b[39m, \u001b[33m4\u001b[39m, \u001b[33m5\u001b[39m, \u001b[33m6\u001b[39m, \u001b[33m7\u001b[39m, \u001b[33m8\u001b[39m, \u001b[33m9\u001b[39m, \u001b[33m10\u001b[39m ]\n"
     ]
    }
   ],
   "source": [
    "xArray"
   ]
  },
  {
   "cell_type": "code",
   "execution_count": 34,
   "metadata": {},
   "outputs": [
    {
     "name": "stdout",
     "output_type": "stream",
     "text": [
      "\u001b[33mNaN\u001b[39m\n"
     ]
    }
   ],
   "source": [
    "logb(1)"
   ]
  },
  {
   "cell_type": "code",
   "execution_count": 24,
   "metadata": {},
   "outputs": [
    {
     "name": "stdout",
     "output_type": "stream",
     "text": [
      "\u001b[33m5.054470284992944\u001b[39m\n"
     ]
    }
   ],
   "source": [
    "pArray[17]"
   ]
  },
  {
   "cell_type": "code",
   "execution_count": null,
   "metadata": {},
   "outputs": [],
   "source": []
  }
 ],
 "metadata": {
  "kernelspec": {
   "display_name": "JavaScript",
   "language": "javascript",
   "name": "jslab"
  },
  "language_info": {
   "file_extension": ".js",
   "mimetype": "text/javascript",
   "name": "javascript",
   "version": ""
  }
 },
 "nbformat": 4,
 "nbformat_minor": 4
}
