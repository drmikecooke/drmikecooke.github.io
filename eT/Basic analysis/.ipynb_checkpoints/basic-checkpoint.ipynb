{
 "cells": [
  {
   "cell_type": "code",
   "execution_count": 6,
   "metadata": {},
   "outputs": [],
   "source": [
    "function power(b,N) {\n",
    "    var a;\n",
    "    if(N==1) {\n",
    "        return b;\n",
    "    } else {\n",
    "    var d = divmod(N,2);\n",
    "    var p = power(b,d[0]);\n",
    "    if(d[1]) {\n",
    "        a = b\n",
    "    } else {\n",
    "        a = 1\n",
    "    }\n",
    "    return p*p*a\n",
    "    }\n",
    "}\n",
    "\n",
    "function divmod(x,y) {\n",
    "    return [Math.floor(x/y),x%y]\n",
    "}"
   ]
  },
  {
   "cell_type": "code",
   "execution_count": 7,
   "metadata": {},
   "outputs": [
    {
     "name": "stdout",
     "output_type": "stream",
     "text": [
      "\u001b[33m1024\u001b[39m\n"
     ]
    }
   ],
   "source": [
    "power(2,10)"
   ]
  },
  {
   "cell_type": "code",
   "execution_count": 8,
   "metadata": {},
   "outputs": [
    {
     "name": "stdout",
     "output_type": "stream",
     "text": [
      "\u001b[33m32\u001b[39m\n"
     ]
    }
   ],
   "source": [
    "power(2,5)"
   ]
  },
  {
   "cell_type": "code",
   "execution_count": null,
   "metadata": {},
   "outputs": [],
   "source": []
  }
 ],
 "metadata": {
  "kernelspec": {
   "display_name": "JavaScript",
   "language": "javascript",
   "name": "jslab"
  },
  "language_info": {
   "file_extension": ".js",
   "mimetype": "text/javascript",
   "name": "javascript",
   "version": ""
  }
 },
 "nbformat": 4,
 "nbformat_minor": 4
}
