{
 "cells": [
  {
   "cell_type": "code",
   "execution_count": 47,
   "metadata": {},
   "outputs": [],
   "source": [
    "function Description(listName,listString) {\n",
    "    this.n = listName;\n",
    "    this.l = setList(listString);\n",
    "}\n",
    "\n",
    "function setList(string) { return Array.from(new Set(string.split(\",\"))) }\n",
    "\n",
    "function makeSizeText(dn, ds, rn, rs) {\n",
    "  let d = new Description (dn, ds);\n",
    "  let dsize = d.l.length;\n",
    "\n",
    "  let r = new Description(rn, rs);\n",
    "  let rsize = r.l.length;\n",
    "  \n",
    "  let fsize = Math.pow(rsize, dsize);\n",
    "     \n",
    "  // Assemble html string\n",
    "  \n",
    "  return \"|\" + d.n + \"| = \" + dsize + \", |\" + r.n + \"| = \" + rsize +\n",
    "      \", |\" + r.n + \"<sup>\" + d.n + \"</sup>| = |\" + r.n + \"|<sup>|\" + d.n +\"|</sup> = \" +\n",
    "      rsize + \"<sup>\" + dsize + \"</sup> = \" + fsize;\n",
    "}\n",
    "\n",
    "function headText(hname, habbr, dlist) {\n",
    "\tlet t = \"<caption>\"+ hname + \"</caption>\" + \"<tr><th>\" + habbr + \"</th>\";\n",
    "\tif (dlist==\"Subset\") { t += \"<th>\" + dlist + \"</th>\"; }\n",
    "\telse {\n",
    "\tvar i;\n",
    "  for (i = 0; i < dlist.length; i++) {\n",
    "  t += \"<th>\" + dlist[i] + \"</th>\";\n",
    "} \n",
    "}\n",
    "  t += \"</tr>\";\n",
    "  return t;\n",
    "}\n",
    "\n",
    "function createTable(ds,rs,ts) {\n",
    "  var domainlist, rangelist, vartext, tabletext;\n",
    "  var domainsize, rangesize, functionsize;\n",
    "\n",
    "  // Get values and process input fields\n",
    "  \n",
    "  domainlist = setList(ds);\n",
    "  domainsize = domainlist.length;\n",
    "  \n",
    "  if (rs===\"\") {\n",
    "  \tvartext = headText(\"Subsets\", \"Number\", \"Subset\");\n",
    "  \trangelist = setList(\"0,1\");\n",
    "  }\n",
    "  else {\n",
    "  \tvartext = headText(\"Functions (f)\", \"f\", domainlist);\n",
    "  \trangelist = setList(rs);\n",
    "  }\n",
    "  \n",
    "  rangesize = rangelist.length;\n",
    "  \n",
    "  functionsize = Math.pow(rangesize, domainsize);\n",
    "     \n",
    "  // Assemble string\n",
    "  \n",
    "  var i, j, number, remainder, setbuild;\n",
    "    \n",
    "  for (i = 0; i < functionsize; i++) {\n",
    "  \n",
    "  \tvartext += \"<tr><td>\" + (i + 1).toString() + \"</td>\";\n",
    "  \tnumber = i;\n",
    "  \tsetbuild = \"<td>{ \"\n",
    "  \tfor (j = 0; j < domainsize; j++) {\n",
    "  \t\t  \tremainder = number % rangesize;\n",
    "  \t\t  \tnumber = (number - remainder)/rangesize;\n",
    "  \t\t  \tif (rs===\"\" && remainder==1) {\n",
    "  \t\t  \t\tsetbuild += domainlist[j] + \", \";\n",
    "  \t\t  \t} \telse if (!(rs===\"\")) {\n",
    "  \t\t  \t\tvartext += \"<td>\" + rangelist[remainder] + \"</td>\";\n",
    "  \t\t  \t}\n",
    "  \t}\n",
    "  \tif (rs===\"\") {\n",
    " \tif (setbuild.length>6) {\n",
    "  \t\tsetbuild = setbuild.slice(0,setbuild.length-2)\n",
    "  \t}\n",
    "  \t\tvartext += setbuild + \" }<td>\";\n",
    "  \t}\n",
    "  \tvartext += \"</tr>\"\n",
    "}\n",
    "\n",
    "  return vartext;\n",
    "  } "
   ]
  },
  {
   "cell_type": "code",
   "execution_count": 48,
   "metadata": {},
   "outputs": [],
   "source": [
    "let g = new Description(\"Hello\", \"What,the,fuck\")"
   ]
  },
  {
   "cell_type": "code",
   "execution_count": 49,
   "metadata": {},
   "outputs": [
    {
     "name": "stdout",
     "output_type": "stream",
     "text": [
      "Hello\n"
     ]
    }
   ],
   "source": [
    "g.n"
   ]
  },
  {
   "cell_type": "code",
   "execution_count": 50,
   "metadata": {},
   "outputs": [
    {
     "name": "stdout",
     "output_type": "stream",
     "text": [
      "[ \u001b[32m'What'\u001b[39m, \u001b[32m'the'\u001b[39m, \u001b[32m'fuck'\u001b[39m ]\n"
     ]
    }
   ],
   "source": [
    "g.l"
   ]
  },
  {
   "cell_type": "code",
   "execution_count": 51,
   "metadata": {},
   "outputs": [
    {
     "name": "stdout",
     "output_type": "stream",
     "text": [
      "|D| = 3, |R| = 4, |R<sup>D</sup>| = |R|<sup>|D|</sup> = 4<sup>3</sup> = 64\n"
     ]
    }
   ],
   "source": [
    "makeSizeText('D', \"a,b,c\", \"R\", \"0,1,2,3\")"
   ]
  },
  {
   "cell_type": "code",
   "execution_count": 52,
   "metadata": {},
   "outputs": [],
   "source": [
    "function table(data) {\n",
    "    var tHTML = '<table>\\n';\n",
    "    tHTML += '<caption>' + data[0] + '</caption>\\n';\n",
    "    tHTML += tableRow(data[1], \"th\"); // Headings\n",
    "    for(var i=2; i<data.length; i++) { tHTML += tableRow(data[i], \"td\");}\n",
    "    return tHTML + \"</table>\\n\"\n",
    "}\n",
    "\n",
    "function tableRow(row,type) {\n",
    "    var rowHTML = \"<tr>\";\n",
    "    for (var i=0;i<row.length;i++) {rowHTML += \"<\" + type + \">\" + row[i] + \"</\" + type + \">\";};\n",
    "    return rowHTML + \"</tr>\\n\"\n",
    "}"
   ]
  },
  {
   "cell_type": "code",
   "execution_count": 53,
   "metadata": {},
   "outputs": [],
   "source": [
    "var d = [\"function (f)\", [\"f\",\"A\",\"B\",\"C\"], [1,\"2\",\"3\",\"4\"], [2,\"3\",\"4\",\"2\"]]"
   ]
  },
  {
   "cell_type": "code",
   "execution_count": 54,
   "metadata": {},
   "outputs": [
    {
     "name": "stdout",
     "output_type": "stream",
     "text": [
      "<table>\n",
      "<caption>function (f)</caption>\n",
      "<tr><th>f</th><th>A</th><th>B</th><th>C</th></tr>\n",
      "<tr><td>1</td><td>2</td><td>3</td><td>4</td></tr>\n",
      "<tr><td>2</td><td>3</td><td>4</td><td>2</td></tr>\n",
      "</table>\n",
      "\n"
     ]
    }
   ],
   "source": [
    "table(d)"
   ]
  },
  {
   "cell_type": "code",
   "execution_count": 71,
   "metadata": {},
   "outputs": [],
   "source": [
    "function functionTable(ds,rs) {\n",
    "  var domainlist, rangelist, vartext, tableArray = [];\n",
    "  var domainsize, rangesize, functionsize;\n",
    "\n",
    "  // Get values and process input fields\n",
    "  \n",
    "  domainlist = setList(ds);\n",
    "  domainsize = domainlist.length;\n",
    "  \n",
    "  if (rs===\"\") {\n",
    "      tableArray[0] = \"Subsets\";\n",
    "      tableArray[1] = [\"Number\", \"Subset\"];\n",
    "      rangelist = setList(\"0,1\");\n",
    "  }\n",
    "  else {\n",
    "      tableArray[0] = \"Functions (f)\";\n",
    "      tableArray[1] = [\"f\"];\n",
    "      tableArray[1] = tableArray[1].concat(domainlist);\n",
    "      rangelist = setList(rs);\n",
    "  }\n",
    "    \n",
    "  rangesize = rangelist.length;\n",
    "  \n",
    "  functionsize = Math.pow(rangesize, domainsize);\n",
    "  \n",
    "  var i, j, number, remainder, setbuild;\n",
    "    \n",
    " \n",
    "  for (i = 0; i < functionsize; i++) {\n",
    "      tableArray[i+2] = [(i+1).toString()]\n",
    "      number = i;\n",
    "      for (j = 0; j < domainsize; j++) {\n",
    "          remainder = number % rangesize;\n",
    "          number = (number - remainder)/rangesize;\n",
    "          tableArray[i+2] = tableArray[i+2].concat(rangelist[remainder]);\n",
    "      }\n",
    "   /*\n",
    "  \t\n",
    "  \tfor (j = 0; j < domainsize; j++) {\n",
    "  \t\t  \t\n",
    "  \t\t  \t\n",
    "  \t\t  \tif (rs===\"\" && remainder==1) {\n",
    "  \t\t  \t\tsetbuild += domainlist[j] + \", \";\n",
    "  \t\t  \t} \telse if (!(rs===\"\")) {\n",
    "  \t\t  \t\tvartext += \"<td>\" + rangelist[remainder] + \"</td>\";\n",
    "  \t\t  \t}\n",
    "  \t}\n",
    "  \tif (rs===\"\") {\n",
    " \tif (setbuild.length>6) {\n",
    "  \t\tsetbuild = setbuild.slice(0,setbuild.length-2)\n",
    "  \t}\n",
    "  \t\tvartext += setbuild + \" }<td>\";\n",
    "  \t}\n",
    "*/\n",
    "}\n",
    "\n",
    "  return tableArray;\n",
    "  } "
   ]
  },
  {
   "cell_type": "code",
   "execution_count": 72,
   "metadata": {},
   "outputs": [
    {
     "name": "stdout",
     "output_type": "stream",
     "text": [
      "[ \u001b[32m'Functions (f)'\u001b[39m,\n",
      "  [ \u001b[32m'f'\u001b[39m, \u001b[32m'a'\u001b[39m, \u001b[32m'b'\u001b[39m, \u001b[32m'c'\u001b[39m ],\n",
      "  [ \u001b[32m'1'\u001b[39m, \u001b[32m'0'\u001b[39m, \u001b[32m'0'\u001b[39m, \u001b[32m'0'\u001b[39m ],\n",
      "  [ \u001b[32m'2'\u001b[39m, \u001b[32m'1'\u001b[39m, \u001b[32m'0'\u001b[39m, \u001b[32m'0'\u001b[39m ],\n",
      "  [ \u001b[32m'3'\u001b[39m, \u001b[32m'2'\u001b[39m, \u001b[32m'0'\u001b[39m, \u001b[32m'0'\u001b[39m ],\n",
      "  [ \u001b[32m'4'\u001b[39m, \u001b[32m'3'\u001b[39m, \u001b[32m'0'\u001b[39m, \u001b[32m'0'\u001b[39m ],\n",
      "  [ \u001b[32m'5'\u001b[39m, \u001b[32m'0'\u001b[39m, \u001b[32m'1'\u001b[39m, \u001b[32m'0'\u001b[39m ],\n",
      "  [ \u001b[32m'6'\u001b[39m, \u001b[32m'1'\u001b[39m, \u001b[32m'1'\u001b[39m, \u001b[32m'0'\u001b[39m ],\n",
      "  [ \u001b[32m'7'\u001b[39m, \u001b[32m'2'\u001b[39m, \u001b[32m'1'\u001b[39m, \u001b[32m'0'\u001b[39m ],\n",
      "  [ \u001b[32m'8'\u001b[39m, \u001b[32m'3'\u001b[39m, \u001b[32m'1'\u001b[39m, \u001b[32m'0'\u001b[39m ],\n",
      "  [ \u001b[32m'9'\u001b[39m, \u001b[32m'0'\u001b[39m, \u001b[32m'2'\u001b[39m, \u001b[32m'0'\u001b[39m ],\n",
      "  [ \u001b[32m'10'\u001b[39m, \u001b[32m'1'\u001b[39m, \u001b[32m'2'\u001b[39m, \u001b[32m'0'\u001b[39m ],\n",
      "  [ \u001b[32m'11'\u001b[39m, \u001b[32m'2'\u001b[39m, \u001b[32m'2'\u001b[39m, \u001b[32m'0'\u001b[39m ],\n",
      "  [ \u001b[32m'12'\u001b[39m, \u001b[32m'3'\u001b[39m, \u001b[32m'2'\u001b[39m, \u001b[32m'0'\u001b[39m ],\n",
      "  [ \u001b[32m'13'\u001b[39m, \u001b[32m'0'\u001b[39m, \u001b[32m'3'\u001b[39m, \u001b[32m'0'\u001b[39m ],\n",
      "  [ \u001b[32m'14'\u001b[39m, \u001b[32m'1'\u001b[39m, \u001b[32m'3'\u001b[39m, \u001b[32m'0'\u001b[39m ],\n",
      "  [ \u001b[32m'15'\u001b[39m, \u001b[32m'2'\u001b[39m, \u001b[32m'3'\u001b[39m, \u001b[32m'0'\u001b[39m ],\n",
      "  [ \u001b[32m'16'\u001b[39m, \u001b[32m'3'\u001b[39m, \u001b[32m'3'\u001b[39m, \u001b[32m'0'\u001b[39m ],\n",
      "  [ \u001b[32m'17'\u001b[39m, \u001b[32m'0'\u001b[39m, \u001b[32m'0'\u001b[39m, \u001b[32m'1'\u001b[39m ],\n",
      "  [ \u001b[32m'18'\u001b[39m, \u001b[32m'1'\u001b[39m, \u001b[32m'0'\u001b[39m, \u001b[32m'1'\u001b[39m ],\n",
      "  [ \u001b[32m'19'\u001b[39m, \u001b[32m'2'\u001b[39m, \u001b[32m'0'\u001b[39m, \u001b[32m'1'\u001b[39m ],\n",
      "  [ \u001b[32m'20'\u001b[39m, \u001b[32m'3'\u001b[39m, \u001b[32m'0'\u001b[39m, \u001b[32m'1'\u001b[39m ],\n",
      "  [ \u001b[32m'21'\u001b[39m, \u001b[32m'0'\u001b[39m, \u001b[32m'1'\u001b[39m, \u001b[32m'1'\u001b[39m ],\n",
      "  [ \u001b[32m'22'\u001b[39m, \u001b[32m'1'\u001b[39m, \u001b[32m'1'\u001b[39m, \u001b[32m'1'\u001b[39m ],\n",
      "  [ \u001b[32m'23'\u001b[39m, \u001b[32m'2'\u001b[39m, \u001b[32m'1'\u001b[39m, \u001b[32m'1'\u001b[39m ],\n",
      "  [ \u001b[32m'24'\u001b[39m, \u001b[32m'3'\u001b[39m, \u001b[32m'1'\u001b[39m, \u001b[32m'1'\u001b[39m ],\n",
      "  [ \u001b[32m'25'\u001b[39m, \u001b[32m'0'\u001b[39m, \u001b[32m'2'\u001b[39m, \u001b[32m'1'\u001b[39m ],\n",
      "  [ \u001b[32m'26'\u001b[39m, \u001b[32m'1'\u001b[39m, \u001b[32m'2'\u001b[39m, \u001b[32m'1'\u001b[39m ],\n",
      "  [ \u001b[32m'27'\u001b[39m, \u001b[32m'2'\u001b[39m, \u001b[32m'2'\u001b[39m, \u001b[32m'1'\u001b[39m ],\n",
      "  [ \u001b[32m'28'\u001b[39m, \u001b[32m'3'\u001b[39m, \u001b[32m'2'\u001b[39m, \u001b[32m'1'\u001b[39m ],\n",
      "  [ \u001b[32m'29'\u001b[39m, \u001b[32m'0'\u001b[39m, \u001b[32m'3'\u001b[39m, \u001b[32m'1'\u001b[39m ],\n",
      "  [ \u001b[32m'30'\u001b[39m, \u001b[32m'1'\u001b[39m, \u001b[32m'3'\u001b[39m, \u001b[32m'1'\u001b[39m ],\n",
      "  [ \u001b[32m'31'\u001b[39m, \u001b[32m'2'\u001b[39m, \u001b[32m'3'\u001b[39m, \u001b[32m'1'\u001b[39m ],\n",
      "  [ \u001b[32m'32'\u001b[39m, \u001b[32m'3'\u001b[39m, \u001b[32m'3'\u001b[39m, \u001b[32m'1'\u001b[39m ],\n",
      "  [ \u001b[32m'33'\u001b[39m, \u001b[32m'0'\u001b[39m, \u001b[32m'0'\u001b[39m, \u001b[32m'2'\u001b[39m ],\n",
      "  [ \u001b[32m'34'\u001b[39m, \u001b[32m'1'\u001b[39m, \u001b[32m'0'\u001b[39m, \u001b[32m'2'\u001b[39m ],\n",
      "  [ \u001b[32m'35'\u001b[39m, \u001b[32m'2'\u001b[39m, \u001b[32m'0'\u001b[39m, \u001b[32m'2'\u001b[39m ],\n",
      "  [ \u001b[32m'36'\u001b[39m, \u001b[32m'3'\u001b[39m, \u001b[32m'0'\u001b[39m, \u001b[32m'2'\u001b[39m ],\n",
      "  [ \u001b[32m'37'\u001b[39m, \u001b[32m'0'\u001b[39m, \u001b[32m'1'\u001b[39m, \u001b[32m'2'\u001b[39m ],\n",
      "  [ \u001b[32m'38'\u001b[39m, \u001b[32m'1'\u001b[39m, \u001b[32m'1'\u001b[39m, \u001b[32m'2'\u001b[39m ],\n",
      "  [ \u001b[32m'39'\u001b[39m, \u001b[32m'2'\u001b[39m, \u001b[32m'1'\u001b[39m, \u001b[32m'2'\u001b[39m ],\n",
      "  [ \u001b[32m'40'\u001b[39m, \u001b[32m'3'\u001b[39m, \u001b[32m'1'\u001b[39m, \u001b[32m'2'\u001b[39m ],\n",
      "  [ \u001b[32m'41'\u001b[39m, \u001b[32m'0'\u001b[39m, \u001b[32m'2'\u001b[39m, \u001b[32m'2'\u001b[39m ],\n",
      "  [ \u001b[32m'42'\u001b[39m, \u001b[32m'1'\u001b[39m, \u001b[32m'2'\u001b[39m, \u001b[32m'2'\u001b[39m ],\n",
      "  [ \u001b[32m'43'\u001b[39m, \u001b[32m'2'\u001b[39m, \u001b[32m'2'\u001b[39m, \u001b[32m'2'\u001b[39m ],\n",
      "  [ \u001b[32m'44'\u001b[39m, \u001b[32m'3'\u001b[39m, \u001b[32m'2'\u001b[39m, \u001b[32m'2'\u001b[39m ],\n",
      "  [ \u001b[32m'45'\u001b[39m, \u001b[32m'0'\u001b[39m, \u001b[32m'3'\u001b[39m, \u001b[32m'2'\u001b[39m ],\n",
      "  [ \u001b[32m'46'\u001b[39m, \u001b[32m'1'\u001b[39m, \u001b[32m'3'\u001b[39m, \u001b[32m'2'\u001b[39m ],\n",
      "  [ \u001b[32m'47'\u001b[39m, \u001b[32m'2'\u001b[39m, \u001b[32m'3'\u001b[39m, \u001b[32m'2'\u001b[39m ],\n",
      "  [ \u001b[32m'48'\u001b[39m, \u001b[32m'3'\u001b[39m, \u001b[32m'3'\u001b[39m, \u001b[32m'2'\u001b[39m ],\n",
      "  [ \u001b[32m'49'\u001b[39m, \u001b[32m'0'\u001b[39m, \u001b[32m'0'\u001b[39m, \u001b[32m'3'\u001b[39m ],\n",
      "  [ \u001b[32m'50'\u001b[39m, \u001b[32m'1'\u001b[39m, \u001b[32m'0'\u001b[39m, \u001b[32m'3'\u001b[39m ],\n",
      "  [ \u001b[32m'51'\u001b[39m, \u001b[32m'2'\u001b[39m, \u001b[32m'0'\u001b[39m, \u001b[32m'3'\u001b[39m ],\n",
      "  [ \u001b[32m'52'\u001b[39m, \u001b[32m'3'\u001b[39m, \u001b[32m'0'\u001b[39m, \u001b[32m'3'\u001b[39m ],\n",
      "  [ \u001b[32m'53'\u001b[39m, \u001b[32m'0'\u001b[39m, \u001b[32m'1'\u001b[39m, \u001b[32m'3'\u001b[39m ],\n",
      "  [ \u001b[32m'54'\u001b[39m, \u001b[32m'1'\u001b[39m, \u001b[32m'1'\u001b[39m, \u001b[32m'3'\u001b[39m ],\n",
      "  [ \u001b[32m'55'\u001b[39m, \u001b[32m'2'\u001b[39m, \u001b[32m'1'\u001b[39m, \u001b[32m'3'\u001b[39m ],\n",
      "  [ \u001b[32m'56'\u001b[39m, \u001b[32m'3'\u001b[39m, \u001b[32m'1'\u001b[39m, \u001b[32m'3'\u001b[39m ],\n",
      "  [ \u001b[32m'57'\u001b[39m, \u001b[32m'0'\u001b[39m, \u001b[32m'2'\u001b[39m, \u001b[32m'3'\u001b[39m ],\n",
      "  [ \u001b[32m'58'\u001b[39m, \u001b[32m'1'\u001b[39m, \u001b[32m'2'\u001b[39m, \u001b[32m'3'\u001b[39m ],\n",
      "  [ \u001b[32m'59'\u001b[39m, \u001b[32m'2'\u001b[39m, \u001b[32m'2'\u001b[39m, \u001b[32m'3'\u001b[39m ],\n",
      "  [ \u001b[32m'60'\u001b[39m, \u001b[32m'3'\u001b[39m, \u001b[32m'2'\u001b[39m, \u001b[32m'3'\u001b[39m ],\n",
      "  [ \u001b[32m'61'\u001b[39m, \u001b[32m'0'\u001b[39m, \u001b[32m'3'\u001b[39m, \u001b[32m'3'\u001b[39m ],\n",
      "  [ \u001b[32m'62'\u001b[39m, \u001b[32m'1'\u001b[39m, \u001b[32m'3'\u001b[39m, \u001b[32m'3'\u001b[39m ],\n",
      "  [ \u001b[32m'63'\u001b[39m, \u001b[32m'2'\u001b[39m, \u001b[32m'3'\u001b[39m, \u001b[32m'3'\u001b[39m ],\n",
      "  [ \u001b[32m'64'\u001b[39m, \u001b[32m'3'\u001b[39m, \u001b[32m'3'\u001b[39m, \u001b[32m'3'\u001b[39m ] ]\n"
     ]
    }
   ],
   "source": [
    "functionTable(\"a,b,c\",\"0,1,2,3\")"
   ]
  },
  {
   "cell_type": "code",
   "execution_count": null,
   "metadata": {},
   "outputs": [],
   "source": []
  }
 ],
 "metadata": {
  "kernelspec": {
   "display_name": "JavaScript",
   "language": "javascript",
   "name": "jslab"
  },
  "language_info": {
   "file_extension": ".js",
   "mimetype": "text/javascript",
   "name": "javascript",
   "version": ""
  }
 },
 "nbformat": 4,
 "nbformat_minor": 4
}
