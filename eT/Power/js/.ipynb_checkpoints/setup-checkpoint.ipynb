{
 "cells": [
  {
   "cell_type": "code",
   "execution_count": 1,
   "metadata": {},
   "outputs": [],
   "source": [
    "function wrap(open, close) {return (v)=>{return open+v+close}}\n",
    "function arrayWrap(array, open, close) {return array.map(wrap(open,close))}\n",
    "function elementWrap(array, open, close) {return array.map((v)=>{return arrayWrap(v,open,close).join(\"\")})}\n",
    "\n",
    "function Column(head, data) {\n",
    "    if(!(this instanceof Column)) {return new Column(head, data)}\n",
    "    this.head = head;\n",
    "    this.data = data;\n",
    "}\n",
    "\n",
    "function Table(heading, heads, data) {\n",
    "    if(!(this instanceof Table)) {return new Table(heading, heads, data)}\n",
    "    this.heading = heading;\n",
    "    this.heads = heads;\n",
    "    this.data = data;\n",
    "    this.HTML = ()=>{\n",
    "        var caption = wrap(\"<caption>\",\"</caption>\\n\")(heading);\n",
    "        var th = wrap(\"<tr>\",\"</tr>\\n\")(arrayWrap(heads,\"<th>\",\"</th>\").join(\"\"));\n",
    "        var td = arrayWrap(elementWrap(this.data,\"<td>\",\"</td>\"),\"<tr>\",\"</tr>\\n\").join(\"\");\n",
    "        return wrap(\"<table>\\n\",\"</table>\\n\")(caption+th+td)\n",
    "    };\n",
    "    this.column = (i)=>{return new Column(heads[i], data.map((v)=>{return v[i]}))}\n",
    "    this.insertColumn = (i, col)=>{\n",
    "        this.heads.splice(i,0, col.head);\n",
    "        this.data.map((v,j)=>{v.splice(i,0,col.data[j])});\n",
    "        };\n",
    "    this.CSV = ()=>{heads.join() + \"\\n\" + data.join(\"\\n\")};\n",
    "}"
   ]
  },
  {
   "cell_type": "code",
   "execution_count": 2,
   "metadata": {},
   "outputs": [],
   "source": [
    "var domain = new Set((\"a,b,c,d\").split(','));\n",
    "var range = new Set([0,1])"
   ]
  },
  {
   "cell_type": "code",
   "execution_count": 3,
   "metadata": {},
   "outputs": [],
   "source": [
    "function cartesian(array) {\n",
    "    if(array.length===1) {\n",
    "        return array[0]\n",
    "    } else {\n",
    "        var end = array.slice(-1)[0];\n",
    "        var next = array.slice(-2,-1)[0];\n",
    "        var newEnd = new Set();\n",
    "        next.forEach((v,k,s)=>{newEnd = union(newEnd, pair(v,end))});\n",
    "        return cartesian(array.slice(0,-2).concat(newEnd))        \n",
    "    }\n",
    "}\n",
    "\n",
    "function pair(a,set) {\n",
    "    var newSet = new Set();\n",
    "    set.forEach((v,k,s)=>{newSet.add([a].concat(v))});\n",
    "    return newSet\n",
    "}\n",
    "\n",
    "function union(setA, setB) {\n",
    "    let _union = new Set(setA)\n",
    "    setB.forEach((v,k,s)=>{_union.add(v)})\n",
    "    /*for (let elem of setB) {\n",
    "        _union.add(elem)\n",
    "    }*/\n",
    "    return _union\n",
    "}\n",
    "\n",
    "function Morphisms(domain,range) {\n",
    "    if(!(this instanceof Morphisms)) {return new Morphisms(domain, range)}\n",
    "    this.domain = Array.from(domain);\n",
    "    this.range = Array.from(range);\n",
    "    this.functions = cartesian(this.domain.map((v)=>{return range}));\n",
    "    this.table = () => {return new Table(\"Functions\",this.domain,Array.from(this.functions))}\n",
    "}"
   ]
  },
  {
   "cell_type": "code",
   "execution_count": 4,
   "metadata": {},
   "outputs": [],
   "source": [
    "var m = new Morphisms(domain,range), mt = m.table()"
   ]
  },
  {
   "cell_type": "code",
   "execution_count": 5,
   "metadata": {},
   "outputs": [
    {
     "name": "stdout",
     "output_type": "stream",
     "text": [
      "Table {\n",
      "  heading: \u001b[32m'Functions'\u001b[39m,\n",
      "  heads: [ \u001b[32m'a'\u001b[39m, \u001b[32m'b'\u001b[39m, \u001b[32m'c'\u001b[39m, \u001b[32m'd'\u001b[39m ],\n",
      "  data:\n",
      "   [ [ \u001b[33m0\u001b[39m, \u001b[33m0\u001b[39m, \u001b[33m0\u001b[39m, \u001b[33m0\u001b[39m ],\n",
      "     [ \u001b[33m0\u001b[39m, \u001b[33m0\u001b[39m, \u001b[33m0\u001b[39m, \u001b[33m1\u001b[39m ],\n",
      "     [ \u001b[33m0\u001b[39m, \u001b[33m0\u001b[39m, \u001b[33m1\u001b[39m, \u001b[33m0\u001b[39m ],\n",
      "     [ \u001b[33m0\u001b[39m, \u001b[33m0\u001b[39m, \u001b[33m1\u001b[39m, \u001b[33m1\u001b[39m ],\n",
      "     [ \u001b[33m0\u001b[39m, \u001b[33m1\u001b[39m, \u001b[33m0\u001b[39m, \u001b[33m0\u001b[39m ],\n",
      "     [ \u001b[33m0\u001b[39m, \u001b[33m1\u001b[39m, \u001b[33m0\u001b[39m, \u001b[33m1\u001b[39m ],\n",
      "     [ \u001b[33m0\u001b[39m, \u001b[33m1\u001b[39m, \u001b[33m1\u001b[39m, \u001b[33m0\u001b[39m ],\n",
      "     [ \u001b[33m0\u001b[39m, \u001b[33m1\u001b[39m, \u001b[33m1\u001b[39m, \u001b[33m1\u001b[39m ],\n",
      "     [ \u001b[33m1\u001b[39m, \u001b[33m0\u001b[39m, \u001b[33m0\u001b[39m, \u001b[33m0\u001b[39m ],\n",
      "     [ \u001b[33m1\u001b[39m, \u001b[33m0\u001b[39m, \u001b[33m0\u001b[39m, \u001b[33m1\u001b[39m ],\n",
      "     [ \u001b[33m1\u001b[39m, \u001b[33m0\u001b[39m, \u001b[33m1\u001b[39m, \u001b[33m0\u001b[39m ],\n",
      "     [ \u001b[33m1\u001b[39m, \u001b[33m0\u001b[39m, \u001b[33m1\u001b[39m, \u001b[33m1\u001b[39m ],\n",
      "     [ \u001b[33m1\u001b[39m, \u001b[33m1\u001b[39m, \u001b[33m0\u001b[39m, \u001b[33m0\u001b[39m ],\n",
      "     [ \u001b[33m1\u001b[39m, \u001b[33m1\u001b[39m, \u001b[33m0\u001b[39m, \u001b[33m1\u001b[39m ],\n",
      "     [ \u001b[33m1\u001b[39m, \u001b[33m1\u001b[39m, \u001b[33m1\u001b[39m, \u001b[33m0\u001b[39m ],\n",
      "     [ \u001b[33m1\u001b[39m, \u001b[33m1\u001b[39m, \u001b[33m1\u001b[39m, \u001b[33m1\u001b[39m ] ],\n",
      "  HTML: \u001b[36m[Function]\u001b[39m,\n",
      "  column: \u001b[36m[Function]\u001b[39m,\n",
      "  insertColumn: \u001b[36m[Function]\u001b[39m,\n",
      "  CSV: \u001b[36m[Function]\u001b[39m }\n"
     ]
    }
   ],
   "source": [
    "mt"
   ]
  },
  {
   "cell_type": "code",
   "execution_count": 32,
   "metadata": {},
   "outputs": [],
   "source": [
    "function setFromChar(domain,char) {\n",
    "    // convert characteristic function (char) on domain to set\n",
    "    var set = new Set();\n",
    "    char.forEach((v,i)=>{if(v==1){set.add(domain[i])}});\n",
    "    return set\n",
    "}"
   ]
  },
  {
   "cell_type": "code",
   "execution_count": 33,
   "metadata": {},
   "outputs": [
    {
     "name": "stdout",
     "output_type": "stream",
     "text": [
      "Set { \u001b[32m'b'\u001b[39m }\n"
     ]
    }
   ],
   "source": [
    "setFromChar('a,b,c'.split(','),'0,1,0'.split(','))"
   ]
  },
  {
   "cell_type": "code",
   "execution_count": 34,
   "metadata": {},
   "outputs": [
    {
     "name": "stdout",
     "output_type": "stream",
     "text": [
      "[ Set {},\n",
      "  Set { \u001b[32m'd'\u001b[39m },\n",
      "  Set { \u001b[32m'c'\u001b[39m },\n",
      "  Set { \u001b[32m'c'\u001b[39m, \u001b[32m'd'\u001b[39m },\n",
      "  Set { \u001b[32m'b'\u001b[39m },\n",
      "  Set { \u001b[32m'b'\u001b[39m, \u001b[32m'd'\u001b[39m },\n",
      "  Set { \u001b[32m'b'\u001b[39m, \u001b[32m'c'\u001b[39m },\n",
      "  Set { \u001b[32m'b'\u001b[39m, \u001b[32m'c'\u001b[39m, \u001b[32m'd'\u001b[39m },\n",
      "  Set { \u001b[32m'a'\u001b[39m },\n",
      "  Set { \u001b[32m'a'\u001b[39m, \u001b[32m'd'\u001b[39m },\n",
      "  Set { \u001b[32m'a'\u001b[39m, \u001b[32m'c'\u001b[39m },\n",
      "  Set { \u001b[32m'a'\u001b[39m, \u001b[32m'c'\u001b[39m, \u001b[32m'd'\u001b[39m },\n",
      "  Set { \u001b[32m'a'\u001b[39m, \u001b[32m'b'\u001b[39m },\n",
      "  Set { \u001b[32m'a'\u001b[39m, \u001b[32m'b'\u001b[39m, \u001b[32m'd'\u001b[39m },\n",
      "  Set { \u001b[32m'a'\u001b[39m, \u001b[32m'b'\u001b[39m, \u001b[32m'c'\u001b[39m },\n",
      "  Set { \u001b[32m'a'\u001b[39m, \u001b[32m'b'\u001b[39m, \u001b[32m'c'\u001b[39m, \u001b[32m'd'\u001b[39m } ]\n"
     ]
    }
   ],
   "source": [
    "mt.data.map((v)=>{return setFromChar(mt.heads,v)})"
   ]
  },
  {
   "cell_type": "code",
   "execution_count": null,
   "metadata": {},
   "outputs": [],
   "source": []
  }
 ],
 "metadata": {
  "kernelspec": {
   "display_name": "JavaScript",
   "language": "javascript",
   "name": "jslab"
  },
  "language_info": {
   "file_extension": ".js",
   "mimetype": "text/javascript",
   "name": "javascript",
   "version": ""
  }
 },
 "nbformat": 4,
 "nbformat_minor": 4
}
