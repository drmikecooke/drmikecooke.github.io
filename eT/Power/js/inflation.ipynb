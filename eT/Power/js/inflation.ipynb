{
 "cells": [
  {
   "cell_type": "code",
   "execution_count": 16,
   "metadata": {},
   "outputs": [],
   "source": [
    "function inflationCaption(inf, icost) {return \"Inflation = \" + inf + \"% | Initial cost = $\" + parseFloat(icost).toFixed(2)}\n",
    "\n",
    "function inflationGraph(inf, icost) {\n",
    "  var vartext = \"\", tabletext, n, years = [], cost, costs = [], svgtxt;\n",
    "\n",
    "  // Assemble string\n",
    "  vartext = \"Inflation = \" + inf.toString() + \"% | Initial cost = $\" + parseFloat(icost).toFixed(2);\n",
    "\n",
    "  tabletext = \"<tr><th style='padding: 0.15em'>Year</th><th style='padding: 0.15em'>Cost</th></tr>\";\n",
    "  cost = icost;\n",
    "  svgtxt = '';\n",
    "  //  svgtxt='<rect width=\"600\" height=\"350\" style=\"fill:white;stroke-width:10;stroke:green\" />';\n",
    "\n",
    "  for (n = 0; n < 11; n++) {\n",
    "    tabletext += \"<tr><td style='padding: 0.15em'>\" + n.toString() + \"</td><td style='padding: 0.15em'>\" + parseFloat(cost).toFixed(2) + \"</td></tr>\";\n",
    "    years.push(n);\n",
    "    costs.push(cost);\n",
    "    cost = cost * (1 + inf / 100);\n",
    "    svgtxt += svgLine(n * 50 + 75, 25, n * 50 + 75, 275, \"black\", 1);\n",
    "    svgtxt += svgText(n * 50 + 75, 300, \"black\", \"middle\", \"0.8em\", n.toString());\n",
    "  }\n",
    "\n",
    "  svgtxt += svgText(325, 325, \"black\", \"middle\", \"1em\", \"Year\");\n",
    "\n",
    "  var maxcost = Math.max(costs[0], costs[10]);\n",
    "  var maxlog = Math.log(maxcost) / Math.log(10);\n",
    "  var pow10 = Math.pow(10, Math.floor(maxlog));\n",
    "  var max1sig = Math.ceil(maxcost / pow10);\n",
    "  var step, nsteps;\n",
    "  if (max1sig > 5) {\n",
    "    step = pow10;\n",
    "    nsteps = max1sig;\n",
    "  }\n",
    "  else {\n",
    "    step = pow10 / 2;\n",
    "    nsteps = 2 * max1sig;\n",
    "  }\n",
    "  var gridstep = 250 / nsteps;\n",
    "  var yvalue = max1sig * pow10;\n",
    "\n",
    "  for (n = 0; n < nsteps + 1; n++) {\n",
    "    svgtxt += svgLine(75, n * gridstep + 25, 575, n * gridstep + 25, \"black\", 1);\n",
    "    svgtxt += svgText(65, n * gridstep + 30, \"black\", \"end\", \"0.8em\", yvalue.toString());\n",
    "    yvalue -= step;\n",
    "  }\n",
    "  var xgrid = 75;\n",
    "  var ygrid = costs[0] * gridstep / step;\n",
    "  var nx, ny\n",
    "  for (n = 0; n < 10; n++) {\n",
    "    nx = xgrid + 50;\n",
    "    ny = costs[n + 1] * gridstep / step;\n",
    "    svgtxt += svgLine(xgrid, 275 - ygrid, nx, 275 - ny, \"red\", 4);\n",
    "    xgrid = nx;\n",
    "    ygrid = ny;\n",
    "  }\n",
    "  return [vartext, tabletext, svgtxt]\n",
    "}\n",
    "\n",
    "function svgLine(x1, y1, x2, y2, c, w) {\n",
    "  return '<line x1=\"' + x1.toString() + '\" y1=\"' + y1.toString() + '\" x2=\"' + x2.toString() + '\" y2=\"' + y2.toString() + '\" style=\"stroke:' + c + ';stroke-width:' + w.toString() + '\" />\\n'\n",
    "}\n",
    "\n",
    "function svgText(x1, y1, c, a, s, t) {\n",
    "  return '<text x=\"' + x1.toString() + '\" y=\"' + y1.toString() + '\" fill=\"' + c + '\" text-anchor=\"' + a + '\" alignment-baseline=\"central\" font-size=' + s + '>' + t + '</text>\\n'\n",
    "}\n",
    "\n",
    "function inflationTable(inf,icost) {\n",
    "    var tarray = [[inflationCaption(inf, icost)]]; // caption\n",
    "    tarray.push([\"Year\", \"Cost\"]); // headings\n",
    "    var cost = icost\n",
    "    for (var n = 0; n < 11; n++) { // data\n",
    "        tarray.push([n.toString(),Number(cost).toFixed(2)]);\n",
    "        cost = cost * (1 + inf / 100);\n",
    "    }\n",
    "    return tarray\n",
    "}"
   ]
  },
  {
   "cell_type": "code",
   "execution_count": 18,
   "metadata": {},
   "outputs": [
    {
     "name": "stdout",
     "output_type": "stream",
     "text": [
      "Inflation = 10% | Initial cost = $20.00\n"
     ]
    }
   ],
   "source": [
    "inflationCaption(10,20)"
   ]
  },
  {
   "cell_type": "code",
   "execution_count": 10,
   "metadata": {},
   "outputs": [],
   "source": [
    "// function to convert array into string of HTML table code\n",
    "function table(data) {\n",
    "    var tHTML = '<table>\\n';\n",
    "    tHTML += '<caption>' + data[0] + '</caption>\\n';\n",
    "    tHTML += tableRow(data[1], \"th\"); // Headings\n",
    "    for(var i=2; i<data.length; i++) { tHTML += tableRow(data[i], \"td\");}\n",
    "    return tHTML + \"</table>\\n\"\n",
    "}\n",
    "\n",
    "function tableRow(row,type) {\n",
    "    var rowHTML = \"<tr>\";\n",
    "    for (var i=0;i<row.length;i++) {rowHTML += \"<\" + type + \">\" + row[i] + \"</\" + type + \">\";};\n",
    "    return rowHTML + \"</tr>\\n\"\n",
    "}"
   ]
  },
  {
   "cell_type": "code",
   "execution_count": 11,
   "metadata": {},
   "outputs": [
    {
     "name": "stdout",
     "output_type": "stream",
     "text": [
      "<table>\n",
      "<caption>Inflation = 10% | Initial cost = $20.00</caption>\n",
      "<tr><th>Year</th><th>Cost</th></tr>\n",
      "<tr><td>0</td><td>20.00</td></tr>\n",
      "<tr><td>1</td><td>22.00</td></tr>\n",
      "<tr><td>2</td><td>24.20</td></tr>\n",
      "<tr><td>3</td><td>26.62</td></tr>\n",
      "<tr><td>4</td><td>29.28</td></tr>\n",
      "<tr><td>5</td><td>32.21</td></tr>\n",
      "<tr><td>6</td><td>35.43</td></tr>\n",
      "<tr><td>7</td><td>38.97</td></tr>\n",
      "<tr><td>8</td><td>42.87</td></tr>\n",
      "<tr><td>9</td><td>47.16</td></tr>\n",
      "<tr><td>10</td><td>51.87</td></tr>\n",
      "</table>\n",
      "\n"
     ]
    }
   ],
   "source": [
    "table(inflationTable(10,20))"
   ]
  },
  {
   "cell_type": "code",
   "execution_count": null,
   "metadata": {},
   "outputs": [],
   "source": []
  }
 ],
 "metadata": {
  "kernelspec": {
   "display_name": "JavaScript",
   "language": "javascript",
   "name": "jslab"
  },
  "language_info": {
   "file_extension": ".js",
   "mimetype": "text/javascript",
   "name": "javascript",
   "version": ""
  }
 },
 "nbformat": 4,
 "nbformat_minor": 4
}
