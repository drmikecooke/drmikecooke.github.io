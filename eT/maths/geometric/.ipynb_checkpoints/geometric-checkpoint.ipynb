{
 "cells": [
  {
   "cell_type": "markdown",
   "metadata": {},
   "source": [
    "# Geometric series"
   ]
  },
  {
   "cell_type": "markdown",
   "metadata": {},
   "source": [
    "Geometric series are sums of terms of the form $z_n=a r^n$ with $a,r$ constants."
   ]
  },
  {
   "cell_type": "markdown",
   "metadata": {},
   "source": [
    "Define $S_n = \\sum \\limits_{k=0}^{n} a r^k$."
   ]
  },
  {
   "cell_type": "markdown",
   "metadata": {},
   "source": [
    "Multiplying by $r$ and using the distributive law: $$r S_n=\\sum\\limits_{k=0}^{n}a r^{k+1}$$"
   ]
  },
  {
   "cell_type": "markdown",
   "metadata": {},
   "source": [
    "We notice that this series includes all the terms of $S_n$ _except_ for the $k=0$ term, $r$. We also have an extra term, $a r^{n+1}$: $$r S_n=S_n +a r^{n+1} -a$$"
   ]
  },
  {
   "cell_type": "markdown",
   "metadata": {},
   "source": [
    "Solving and simplifying: $$S_n=a \\frac{r^{n+1} -1}{r-1}$$"
   ]
  },
  {
   "cell_type": "markdown",
   "metadata": {},
   "source": [
    "## Differentiating"
   ]
  },
  {
   "cell_type": "markdown",
   "metadata": {},
   "source": [
    "We notice that $$\\frac{d S_n}{dr} = \\sum \\limits_{k=0}^{n} a k r^{k-1}=a \\frac{(n+1)r^n(r-1)- r^{n+1}+1}{(r-1)^2}$$"
   ]
  },
  {
   "cell_type": "markdown",
   "metadata": {},
   "source": [
    "The last part comes from the sum formula. It simplifies (somewhat) to: $$\\sum \\limits_{k=0}^{n} a k r^{k-1}=a \\frac{n r^{n+1}-(n+1)r^n +1}{(r-1)^2}$$"
   ]
  },
  {
   "cell_type": "markdown",
   "metadata": {},
   "source": [
    "A sort of interesting limit is $r\\rightarrow1$. We investigate it using $r=1+\\epsilon$: $$\\sum \\limits_{k=0}^{n} a k =\\lim_{\\epsilon\\rightarrow0} a \\frac{n (1+\\epsilon)^{n+1}-(n+1)(1+\\epsilon)^n +1}{\\epsilon^2}$$"
   ]
  },
  {
   "cell_type": "markdown",
   "metadata": {},
   "source": [
    "Expanding the binomials to the quadratic term: $$\\sum \\limits_{k=0}^{n} a k =\\lim_{\\epsilon\\rightarrow0} a \\frac{n \\left(1+(n+1)\\epsilon+\\dfrac{(n+1)n}{2}\\epsilon^2\\right)-(n+1)\\left(1+n\\epsilon+\\dfrac{n(n-1)}{2}\\epsilon^2\\right) +1 +O(\\epsilon^3)}{\\epsilon^2}$$"
   ]
  },
  {
   "cell_type": "markdown",
   "metadata": {},
   "source": [
    "This looks like it will blow up in the limit. But there are some convenient cancellations and we are left with: $$\\sum \\limits_{k=0}^{n} a k =\\lim_{\\epsilon\\rightarrow0} a \\frac{n (n+1)n\\epsilon^2-(n+1)n(n-1)\\epsilon^2 +O(\\epsilon^3)}{2\\epsilon^2}$$"
   ]
  },
  {
   "cell_type": "markdown",
   "metadata": {},
   "source": [
    "This looks like it will blow up in the limit. But there are some convenient cancellations and we are left with: $$\\sum \\limits_{k=0}^{n} a k =\\lim_{\\epsilon\\rightarrow0} a \\frac{n(n+1)}{2} (1+O(\\epsilon))=a \\frac{n(n+1)}{2}$$"
   ]
  },
  {
   "cell_type": "markdown",
   "metadata": {},
   "source": [
    "This is the well-known formula (multiplied by a constant) for the sum of the arithmetic series, $$\\sum\\limits_{k=0}^n k=\\frac{n(n+1)}{2}$$"
   ]
  },
  {
   "cell_type": "markdown",
   "metadata": {},
   "source": [
    "By differentiating further, and taking appropriate limits, in principle one could derive sums of higher integer powers."
   ]
  },
  {
   "cell_type": "code",
   "execution_count": null,
   "metadata": {},
   "outputs": [],
   "source": []
  }
 ],
 "metadata": {
  "kernelspec": {
   "display_name": "Python 3",
   "language": "python",
   "name": "python3"
  },
  "language_info": {
   "codemirror_mode": {
    "name": "ipython",
    "version": 3
   },
   "file_extension": ".py",
   "mimetype": "text/x-python",
   "name": "python",
   "nbconvert_exporter": "python",
   "pygments_lexer": "ipython3",
   "version": "3.7.3"
  }
 },
 "nbformat": 4,
 "nbformat_minor": 4
}
