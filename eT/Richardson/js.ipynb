{
 "cells": [
  {
   "cell_type": "code",
   "execution_count": 2,
   "metadata": {},
   "outputs": [],
   "source": [
    "function power(b,N) {\n",
    "    var a;\n",
    "    if(N==1) {\n",
    "        return b;\n",
    "    } else {\n",
    "    var d = divmod(N,2);\n",
    "    var p = power(b,d[0]);\n",
    "    if(d[1]) {\n",
    "        a = b\n",
    "    } else {\n",
    "        a = 1\n",
    "    }\n",
    "    return p*p*a\n",
    "    }\n",
    "}\n",
    "\n",
    "function divmod(x,y) {\n",
    "    return [Math.floor(x/y),x%y]\n",
    "}"
   ]
  },
  {
   "cell_type": "code",
   "execution_count": 7,
   "metadata": {},
   "outputs": [
    {
     "name": "stdout",
     "output_type": "stream",
     "text": [
      "\u001b[33m1024\u001b[39m\n"
     ]
    }
   ],
   "source": [
    "power(2,10)"
   ]
  },
  {
   "cell_type": "code",
   "execution_count": 8,
   "metadata": {},
   "outputs": [
    {
     "name": "stdout",
     "output_type": "stream",
     "text": [
      "\u001b[33m32\u001b[39m\n"
     ]
    }
   ],
   "source": [
    "power(2,5)"
   ]
  },
  {
   "cell_type": "code",
   "execution_count": 9,
   "metadata": {},
   "outputs": [],
   "source": [
    "function wrap(open, close) {return (v)=>{return open+v+close}}\n",
    "function arrayWrap(array, open, close) {return array.map(wrap(open,close))}\n",
    "function elementWrap(array, open, close) {return array.map((v)=>{return arrayWrap(v,open,close).join(\"\")})}\n",
    "\n",
    "function Column(head, data) {\n",
    "    if(!(this instanceof Column)) {return new Column(head, data)}\n",
    "    this.head = head;\n",
    "    this.data = data;\n",
    "}\n",
    "\n",
    "function Table(heading, heads, data) {\n",
    "    if(!(this instanceof Table)) {return new Table(heading, heads, data)}\n",
    "    this.heading = heading;\n",
    "    this.heads = heads;\n",
    "    this.data = data;\n",
    "    this.HTML = ()=>{\n",
    "        var caption = wrap(\"<caption>\",\"</caption>\\n\")(this.heading);\n",
    "        var th = wrap(\"<tr>\",\"</tr>\\n\")(arrayWrap(this.heads,\"<th>\",\"</th>\").join(\"\"));\n",
    "        var td = arrayWrap(elementWrap(this.data,\"<td>\",\"</td>\"),\"<tr>\",\"</tr>\\n\").join(\"\");\n",
    "        return wrap(\"<table>\\n\",\"</table>\\n\")(caption+th+td)\n",
    "    };\n",
    "    this.column = (i)=>{return new Column(heads[i], data.map((v)=>{return v[i]}))}\n",
    "    this.insertColumn = (i, col)=>{\n",
    "        this.heads.splice(i,0, col.head);\n",
    "        this.data.map((v,j)=>{v.splice(i,0,col.data[j])});\n",
    "        };\n",
    "    this.CSV = ()=>{return heads.join() + \"\\n\" + data.join(\"\\n\")};\n",
    "}\n",
    "\n",
    "function PlotlyArgs(div, table, i, j, color, width, bgcolor) {\n",
    "    if(!(this instanceof PlotlyArgs)) {return new PlotlyArgs(div, table, i, j, color, width, bgcolor)}\n",
    "    this.div = div;\n",
    "    this.data = [plotlyTrace(table, i, j, color, width)];\n",
    "    this.layout = plotlyLayout(table, i, j, bgcolor);\n",
    "    this.config = {scrollZoom: false};\n",
    "    this.args = [div, this.data, this.layout, this.config]\n",
    "}\n",
    "\n",
    "function plotlyTrace(table, i, j, color, width) {\n",
    "    return {\n",
    "        x: table.column(i).data,\n",
    "        y: table.column(j).data,\n",
    "        type: 'scatter',\n",
    "        mode: 'lines',\n",
    "        line: {color: color, width: width}\n",
    "    }\n",
    "}\n",
    "\n",
    "function plotlyLayout(table, i, j, bgcolor) {\n",
    "    return {\n",
    "        title: table.heading,\n",
    "        showlegend: false,\n",
    "        xaxis: {title: table.heads[i]},\n",
    "        yaxis: {title: table.heads[j], rangemode: 'tozero'},\n",
    "        plot_bgcolor: bgcolor,\n",
    "    }\n",
    "}"
   ]
  },
  {
   "cell_type": "code",
   "execution_count": 13,
   "metadata": {},
   "outputs": [],
   "source": [
    "var data = [[1,1,2]], N=1;\n",
    "for (var n=0;n<10;n++) {\n",
    "    N = N<<1;\n",
    "    data.push([N,1/N,power(1+1/N,N)]);\n",
    "}"
   ]
  },
  {
   "cell_type": "code",
   "execution_count": 14,
   "metadata": {},
   "outputs": [
    {
     "name": "stdout",
     "output_type": "stream",
     "text": [
      "[ [ \u001b[33m1\u001b[39m, \u001b[33m1\u001b[39m, \u001b[33m2\u001b[39m ],\n",
      "  [ \u001b[33m2\u001b[39m, \u001b[33m0.5\u001b[39m, \u001b[33m2.25\u001b[39m ],\n",
      "  [ \u001b[33m4\u001b[39m, \u001b[33m0.25\u001b[39m, \u001b[33m2.44140625\u001b[39m ],\n",
      "  [ \u001b[33m8\u001b[39m, \u001b[33m0.125\u001b[39m, \u001b[33m2.565784513950348\u001b[39m ],\n",
      "  [ \u001b[33m16\u001b[39m, \u001b[33m0.0625\u001b[39m, \u001b[33m2.6379284973666\u001b[39m ],\n",
      "  [ \u001b[33m32\u001b[39m, \u001b[33m0.03125\u001b[39m, \u001b[33m2.6769901293781824\u001b[39m ],\n",
      "  [ \u001b[33m64\u001b[39m, \u001b[33m0.015625\u001b[39m, \u001b[33m2.6973449525651\u001b[39m ],\n",
      "  [ \u001b[33m128\u001b[39m, \u001b[33m0.0078125\u001b[39m, \u001b[33m2.7077390196880198\u001b[39m ],\n",
      "  [ \u001b[33m256\u001b[39m, \u001b[33m0.00390625\u001b[39m, \u001b[33m2.712991624253442\u001b[39m ],\n",
      "  [ \u001b[33m512\u001b[39m, \u001b[33m0.001953125\u001b[39m, \u001b[33m2.715632000168995\u001b[39m ],\n",
      "  [ \u001b[33m1024\u001b[39m, \u001b[33m0.0009765625\u001b[39m, \u001b[33m2.7169557294664273\u001b[39m ] ]\n"
     ]
    }
   ],
   "source": [
    "data"
   ]
  },
  {
   "cell_type": "code",
   "execution_count": 16,
   "metadata": {},
   "outputs": [],
   "source": [
    "var eTable = new Table(\"Estimates for <em>e</em>\",[\"N\",\"Δx\",\"e (est.)\"], data);"
   ]
  },
  {
   "cell_type": "code",
   "execution_count": 18,
   "metadata": {},
   "outputs": [
    {
     "name": "stdout",
     "output_type": "stream",
     "text": [
      "<table>\n",
      "<caption>Estimates for <em>e</em></caption>\n",
      "<tr><th>N</th><th>Δx</th><th>e (est.)</th></tr>\n",
      "<tr><td>1</td><td>1</td><td>2</td></tr>\n",
      "<tr><td>2</td><td>0.5</td><td>2.25</td></tr>\n",
      "<tr><td>4</td><td>0.25</td><td>2.44140625</td></tr>\n",
      "<tr><td>8</td><td>0.125</td><td>2.565784513950348</td></tr>\n",
      "<tr><td>16</td><td>0.0625</td><td>2.6379284973666</td></tr>\n",
      "<tr><td>32</td><td>0.03125</td><td>2.6769901293781824</td></tr>\n",
      "<tr><td>64</td><td>0.015625</td><td>2.6973449525651</td></tr>\n",
      "<tr><td>128</td><td>0.0078125</td><td>2.7077390196880198</td></tr>\n",
      "<tr><td>256</td><td>0.00390625</td><td>2.712991624253442</td></tr>\n",
      "<tr><td>512</td><td>0.001953125</td><td>2.715632000168995</td></tr>\n",
      "<tr><td>1024</td><td>0.0009765625</td><td>2.7169557294664273</td></tr>\n",
      "</table>\n",
      "\n"
     ]
    }
   ],
   "source": [
    "eTable.HTML()"
   ]
  },
  {
   "cell_type": "code",
   "execution_count": 6,
   "metadata": {},
   "outputs": [],
   "source": [
    "var ndata = [], N=1;\n",
    "for (var n=0;n<10;n++) {\n",
    "    N = N<<1;\n",
    "    ndata.push([N,1/N,1/power(1-1/N,N)]);\n",
    "}"
   ]
  },
  {
   "cell_type": "code",
   "execution_count": 7,
   "metadata": {},
   "outputs": [
    {
     "name": "stdout",
     "output_type": "stream",
     "text": [
      "[ [ \u001b[33m2\u001b[39m, \u001b[33m0.5\u001b[39m, \u001b[33m4\u001b[39m ],\n",
      "  [ \u001b[33m4\u001b[39m, \u001b[33m0.25\u001b[39m, \u001b[33m3.1604938271604937\u001b[39m ],\n",
      "  [ \u001b[33m8\u001b[39m, \u001b[33m0.125\u001b[39m, \u001b[33m2.9102853680465293\u001b[39m ],\n",
      "  [ \u001b[33m16\u001b[39m, \u001b[33m0.0625\u001b[39m, \u001b[33m2.808403965576447\u001b[39m ],\n",
      "  [ \u001b[33m32\u001b[39m, \u001b[33m0.03125\u001b[39m, \u001b[33m2.7620090899764524\u001b[39m ],\n",
      "  [ \u001b[33m64\u001b[39m, \u001b[33m0.015625\u001b[39m, \u001b[33m2.7398271814872155\u001b[39m ],\n",
      "  [ \u001b[33m128\u001b[39m, \u001b[33m0.0078125\u001b[39m, \u001b[33m2.7289767306942796\u001b[39m ],\n",
      "  [ \u001b[33m256\u001b[39m, \u001b[33m0.00390625\u001b[39m, \u001b[33m2.723610054417357\u001b[39m ],\n",
      "  [ \u001b[33m512\u001b[39m, \u001b[33m0.001953125\u001b[39m, \u001b[33m2.7209411620864463\u001b[39m ],\n",
      "  [ \u001b[33m1024\u001b[39m, \u001b[33m0.0009765625\u001b[39m, \u001b[33m2.7196103037796973\u001b[39m ] ]\n"
     ]
    }
   ],
   "source": [
    "ndata"
   ]
  },
  {
   "cell_type": "code",
   "execution_count": 4,
   "metadata": {},
   "outputs": [],
   "source": [
    "function e(N) {\n",
    "    return power(1+1/N,N)\n",
    "}\n",
    "\n",
    "function e1(N) {\n",
    "    return 2*e(2*N)-e(N)\n",
    "}"
   ]
  },
  {
   "cell_type": "code",
   "execution_count": 9,
   "metadata": {},
   "outputs": [
    {
     "name": "stdout",
     "output_type": "stream",
     "text": [
      "\u001b[33m2.718281235207244\u001b[39m\n"
     ]
    }
   ],
   "source": [
    "e1(1024)"
   ]
  },
  {
   "cell_type": "code",
   "execution_count": 10,
   "metadata": {},
   "outputs": [
    {
     "name": "stdout",
     "output_type": "stream",
     "text": [
      "\u001b[33m2.7169557294664273\u001b[39m\n"
     ]
    }
   ],
   "source": [
    "e(1024)"
   ]
  },
  {
   "cell_type": "code",
   "execution_count": 13,
   "metadata": {},
   "outputs": [],
   "source": [
    "function R(f, N, n) {\n",
    "    if(n==0) {\n",
    "        return f(N)\n",
    "    } else {\n",
    "        return ((1<<n)*R(f,2*N,n-1)-R(f,N,n-1))/((1<<n)-1)\n",
    "    }\n",
    "}"
   ]
  },
  {
   "cell_type": "code",
   "execution_count": 25,
   "metadata": {},
   "outputs": [
    {
     "name": "stdout",
     "output_type": "stream",
     "text": [
      "\u001b[33m2.7182818284580947\u001b[39m\n"
     ]
    }
   ],
   "source": [
    "R(e,512,8)"
   ]
  },
  {
   "cell_type": "code",
   "execution_count": 15,
   "metadata": {},
   "outputs": [],
   "source": [
    "function ne(N) {return 1/power(1-1/N,N)}"
   ]
  },
  {
   "cell_type": "code",
   "execution_count": 24,
   "metadata": {},
   "outputs": [
    {
     "name": "stdout",
     "output_type": "stream",
     "text": [
      "\u001b[33m2.718281828458291\u001b[39m\n"
     ]
    }
   ],
   "source": [
    "R(ne,1024,8)"
   ]
  },
  {
   "cell_type": "code",
   "execution_count": 21,
   "metadata": {},
   "outputs": [
    {
     "name": "stdout",
     "output_type": "stream",
     "text": [
      "\u001b[33m2.718281828459045\u001b[39m\n"
     ]
    }
   ],
   "source": [
    "Math.exp(1)"
   ]
  },
  {
   "cell_type": "code",
   "execution_count": 34,
   "metadata": {},
   "outputs": [],
   "source": [
    "var list = [...Array(31).keys()]"
   ]
  },
  {
   "cell_type": "code",
   "execution_count": 36,
   "metadata": {},
   "outputs": [],
   "source": [
    "var exps = list.map((v)=>e(1<<v))"
   ]
  },
  {
   "cell_type": "code",
   "execution_count": 37,
   "metadata": {},
   "outputs": [
    {
     "name": "stdout",
     "output_type": "stream",
     "text": [
      "[ \u001b[33m2\u001b[39m,\n",
      "  \u001b[33m2.25\u001b[39m,\n",
      "  \u001b[33m2.44140625\u001b[39m,\n",
      "  \u001b[33m2.565784513950348\u001b[39m,\n",
      "  \u001b[33m2.6379284973666\u001b[39m,\n",
      "  \u001b[33m2.6769901293781824\u001b[39m,\n",
      "  \u001b[33m2.6973449525651\u001b[39m,\n",
      "  \u001b[33m2.7077390196880198\u001b[39m,\n",
      "  \u001b[33m2.712991624253442\u001b[39m,\n",
      "  \u001b[33m2.715632000168995\u001b[39m,\n",
      "  \u001b[33m2.7169557294664273\u001b[39m,\n",
      "  \u001b[33m2.7176184823368357\u001b[39m,\n",
      "  \u001b[33m2.7179500811896298\u001b[39m,\n",
      "  \u001b[33m2.7181159362660465\u001b[39m,\n",
      "  \u001b[33m2.718198877721643\u001b[39m,\n",
      "  \u001b[33m2.718240351930034\u001b[39m,\n",
      "  \u001b[33m2.71826108990388\u001b[39m,\n",
      "  \u001b[33m2.7182714591083794\u001b[39m,\n",
      "  \u001b[33m2.718276643766683\u001b[39m,\n",
      "  \u001b[33m2.718279236118503\u001b[39m,\n",
      "  \u001b[33m2.7182805322756565\u001b[39m,\n",
      "  \u001b[33m2.718281180364026\u001b[39m,\n",
      "  \u001b[33m2.7182815043985844\u001b[39m,\n",
      "  \u001b[33m2.718281666420753\u001b[39m,\n",
      "  \u001b[33m2.7182817474268006\u001b[39m,\n",
      "  \u001b[33m2.7182817879323764\u001b[39m,\n",
      "  \u001b[33m2.718281808182473\u001b[39m,\n",
      "  \u001b[33m2.718281808182473\u001b[39m,\n",
      "  \u001b[33m2.718281808182473\u001b[39m,\n",
      "  \u001b[33m2.718281808182473\u001b[39m,\n",
      "  \u001b[33m2.718281808182473\u001b[39m ]\n"
     ]
    }
   ],
   "source": [
    "exps"
   ]
  },
  {
   "cell_type": "code",
   "execution_count": 38,
   "metadata": {},
   "outputs": [],
   "source": [
    "var nexps = list.map((v)=>ne(1<<v))"
   ]
  },
  {
   "cell_type": "code",
   "execution_count": 39,
   "metadata": {},
   "outputs": [
    {
     "name": "stdout",
     "output_type": "stream",
     "text": [
      "[ \u001b[33mInfinity\u001b[39m,\n",
      "  \u001b[33m4\u001b[39m,\n",
      "  \u001b[33m3.1604938271604937\u001b[39m,\n",
      "  \u001b[33m2.9102853680465293\u001b[39m,\n",
      "  \u001b[33m2.808403965576447\u001b[39m,\n",
      "  \u001b[33m2.7620090899764524\u001b[39m,\n",
      "  \u001b[33m2.7398271814872155\u001b[39m,\n",
      "  \u001b[33m2.7289767306942796\u001b[39m,\n",
      "  \u001b[33m2.723610054417357\u001b[39m,\n",
      "  \u001b[33m2.7209411620864463\u001b[39m,\n",
      "  \u001b[33m2.7196103037796973\u001b[39m,\n",
      "  \u001b[33m2.718945768662837\u001b[39m,\n",
      "  \u001b[33m2.7186137242487085\u001b[39m,\n",
      "  \u001b[33m2.7184477577823842\u001b[39m,\n",
      "  \u001b[33m2.7183647884790356\u001b[39m,\n",
      "  \u001b[33m2.7183233073080997\u001b[39m,\n",
      "  \u001b[33m2.718302567593354\u001b[39m,\n",
      "  \u001b[33m2.718292197953994\u001b[39m,\n",
      "  \u001b[33m2.7182870131883345\u001b[39m,\n",
      "  \u001b[33m2.7182844208095602\u001b[39m,\n",
      "  \u001b[33m2.718283124611379\u001b[39m,\n",
      "  \u001b[33m2.7182824765315488\u001b[39m,\n",
      "  \u001b[33m2.718282152477305\u001b[39m,\n",
      "  \u001b[33m2.718281990460141\u001b[39m,\n",
      "  \u001b[33m2.718281909444073\u001b[39m,\n",
      "  \u001b[33m2.718281868940786\u001b[39m,\n",
      "  \u001b[33m2.718281848685499\u001b[39m,\n",
      "  \u001b[33m2.718281848685499\u001b[39m,\n",
      "  \u001b[33m2.718281848685499\u001b[39m,\n",
      "  \u001b[33m2.718281848685499\u001b[39m,\n",
      "  \u001b[33m2.718281848685499\u001b[39m ]\n"
     ]
    }
   ],
   "source": [
    "nexps"
   ]
  },
  {
   "cell_type": "code",
   "execution_count": 43,
   "metadata": {},
   "outputs": [
    {
     "name": "stdout",
     "output_type": "stream",
     "text": [
      "\u001b[33m2.0226453845140213e-8\u001b[39m\n"
     ]
    }
   ],
   "source": [
    "nexps[30]-Math.exp(1)"
   ]
  },
  {
   "cell_type": "code",
   "execution_count": 44,
   "metadata": {},
   "outputs": [],
   "source": [
    "var de =[];\n",
    "for(var n=1; n<exps.length;n++) {\n",
    "    de.push(exps[n]-exps[n-1]);\n",
    "}"
   ]
  },
  {
   "cell_type": "code",
   "execution_count": 45,
   "metadata": {},
   "outputs": [
    {
     "name": "stdout",
     "output_type": "stream",
     "text": [
      "[ \u001b[33m0.25\u001b[39m,\n",
      "  \u001b[33m0.19140625\u001b[39m,\n",
      "  \u001b[33m0.1243782639503479\u001b[39m,\n",
      "  \u001b[33m0.07214398341625206\u001b[39m,\n",
      "  \u001b[33m0.039061632011582414\u001b[39m,\n",
      "  \u001b[33m0.020354823186917503\u001b[39m,\n",
      "  \u001b[33m0.010394067122919903\u001b[39m,\n",
      "  \u001b[33m0.005252604565422203\u001b[39m,\n",
      "  \u001b[33m0.002640375915552884\u001b[39m,\n",
      "  \u001b[33m0.0013237292974324077\u001b[39m,\n",
      "  \u001b[33m0.0006627528704084007\u001b[39m,\n",
      "  \u001b[33m0.0003315988527941016\u001b[39m,\n",
      "  \u001b[33m0.00016585507641675434\u001b[39m,\n",
      "  \u001b[33m0.00008294145559650801\u001b[39m,\n",
      "  \u001b[33m0.00004147420839117899\u001b[39m,\n",
      "  \u001b[33m0.000020737973845719182\u001b[39m,\n",
      "  \u001b[33m0.000010369204499482976\u001b[39m,\n",
      "  \u001b[33m0.0000051846583035697336\u001b[39m,\n",
      "  \u001b[33m0.0000025923518198744944\u001b[39m,\n",
      "  \u001b[33m0.0000012961571536074246\u001b[39m,\n",
      "  \u001b[33m6.480883696369233e-7\u001b[39m,\n",
      "  \u001b[33m3.240345582966597e-7\u001b[39m,\n",
      "  \u001b[33m1.620221685705303e-7\u001b[39m,\n",
      "  \u001b[33m8.100604764749164e-8\u001b[39m,\n",
      "  \u001b[33m4.0505575782390224e-8\u001b[39m,\n",
      "  \u001b[33m2.025009671058342e-8\u001b[39m,\n",
      "  \u001b[33m0\u001b[39m,\n",
      "  \u001b[33m0\u001b[39m,\n",
      "  \u001b[33m0\u001b[39m,\n",
      "  \u001b[33m0\u001b[39m ]\n"
     ]
    }
   ],
   "source": [
    "de"
   ]
  },
  {
   "cell_type": "code",
   "execution_count": 46,
   "metadata": {},
   "outputs": [],
   "source": [
    "var dne =[];\n",
    "for(var n=1; n<nexps.length;n++) {\n",
    "    dne.push(nexps[n]-nexps[n-1]);\n",
    "}"
   ]
  },
  {
   "cell_type": "code",
   "execution_count": 47,
   "metadata": {},
   "outputs": [
    {
     "name": "stdout",
     "output_type": "stream",
     "text": [
      "[ \u001b[33m-Infinity\u001b[39m,\n",
      "  \u001b[33m-0.8395061728395063\u001b[39m,\n",
      "  \u001b[33m-0.2502084591139644\u001b[39m,\n",
      "  \u001b[33m-0.10188140247008226\u001b[39m,\n",
      "  \u001b[33m-0.046394875599994556\u001b[39m,\n",
      "  \u001b[33m-0.022181908489236957\u001b[39m,\n",
      "  \u001b[33m-0.010850450792935895\u001b[39m,\n",
      "  \u001b[33m-0.005366676276922444\u001b[39m,\n",
      "  \u001b[33m-0.0026688923309108326\u001b[39m,\n",
      "  \u001b[33m-0.001330858306749061\u001b[39m,\n",
      "  \u001b[33m-0.0006645351168601543\u001b[39m,\n",
      "  \u001b[33m-0.0003320444141285961\u001b[39m,\n",
      "  \u001b[33m-0.00016596646632427436\u001b[39m,\n",
      "  \u001b[33m-0.0000829693033486123\u001b[39m,\n",
      "  \u001b[33m-0.00004148117093594195\u001b[39m,\n",
      "  \u001b[33m-0.00002073971474558789\u001b[39m,\n",
      "  \u001b[33m-0.000010369639360074956\u001b[39m,\n",
      "  \u001b[33m-0.0000051847656594716796\u001b[39m,\n",
      "  \u001b[33m-0.0000025923787743131754\u001b[39m,\n",
      "  \u001b[33m-0.0000012961981812331658\u001b[39m,\n",
      "  \u001b[33m-6.480798302455071e-7\u001b[39m,\n",
      "  \u001b[33m-3.2405424388315396e-7\u001b[39m,\n",
      "  \u001b[33m-1.620171636851353e-7\u001b[39m,\n",
      "  \u001b[33m-8.10160680764227e-8\u001b[39m,\n",
      "  \u001b[33m-4.050328694660266e-8\u001b[39m,\n",
      "  \u001b[33m-2.0255287225268148e-8\u001b[39m,\n",
      "  \u001b[33m0\u001b[39m,\n",
      "  \u001b[33m0\u001b[39m,\n",
      "  \u001b[33m0\u001b[39m,\n",
      "  \u001b[33m0\u001b[39m ]\n"
     ]
    }
   ],
   "source": [
    "dne"
   ]
  },
  {
   "cell_type": "code",
   "execution_count": 49,
   "metadata": {},
   "outputs": [],
   "source": [
    "var r1exps = list.map((v)=>e1(1<<v))"
   ]
  },
  {
   "cell_type": "code",
   "execution_count": 51,
   "metadata": {},
   "outputs": [
    {
     "name": "stdout",
     "output_type": "stream",
     "text": [
      "[ \u001b[33m2.5\u001b[39m,\n",
      "  \u001b[33m2.6328125\u001b[39m,\n",
      "  \u001b[33m2.690162777900696\u001b[39m,\n",
      "  \u001b[33m2.710072480782852\u001b[39m,\n",
      "  \u001b[33m2.716051761389765\u001b[39m,\n",
      "  \u001b[33m2.7176997757520174\u001b[39m,\n",
      "  \u001b[33m2.7181330868109397\u001b[39m,\n",
      "  \u001b[33m2.718244228818864\u001b[39m,\n",
      "  \u001b[33m2.7182723760845477\u001b[39m,\n",
      "  \u001b[33m2.7182794587638597\u001b[39m,\n",
      "  \u001b[33m2.718281235207244\u001b[39m,\n",
      "  \u001b[33m2.718281680042424\u001b[39m,\n",
      "  \u001b[33m2.7182817913424633\u001b[39m,\n",
      "  \u001b[33m2.7182818191772395\u001b[39m,\n",
      "  \u001b[33m2.7182818261384254\u001b[39m,\n",
      "  \u001b[33m2.7182818278777257\u001b[39m,\n",
      "  \u001b[33m2.718281828312879\u001b[39m,\n",
      "  \u001b[33m2.7182818284249866\u001b[39m,\n",
      "  \u001b[33m2.7182818284703227\u001b[39m,\n",
      "  \u001b[33m2.71828182843281\u001b[39m,\n",
      "  \u001b[33m2.7182818284523957\u001b[39m,\n",
      "  \u001b[33m2.7182818284331427\u001b[39m,\n",
      "  \u001b[33m2.7182818284429215\u001b[39m,\n",
      "  \u001b[33m2.7182818284328483\u001b[39m,\n",
      "  \u001b[33m2.718281828437952\u001b[39m,\n",
      "  \u001b[33m2.71828182843257\u001b[39m,\n",
      "  \u001b[33m2.718281808182473\u001b[39m,\n",
      "  \u001b[33m2.718281808182473\u001b[39m,\n",
      "  \u001b[33m2.718281808182473\u001b[39m,\n",
      "  \u001b[33m2.718281808182473\u001b[39m,\n",
      "  \u001b[33m2.718281808182473\u001b[39m ]\n"
     ]
    }
   ],
   "source": [
    "r1exps"
   ]
  },
  {
   "cell_type": "code",
   "execution_count": 54,
   "metadata": {},
   "outputs": [],
   "source": [
    "var dr1e =[];\n",
    "for(var n=1; n<r1exps.length;n++) {\n",
    "    dr1e.push(r1exps[n]-r1exps[n-1]);\n",
    "}"
   ]
  },
  {
   "cell_type": "code",
   "execution_count": 55,
   "metadata": {},
   "outputs": [
    {
     "name": "stdout",
     "output_type": "stream",
     "text": [
      "[ \u001b[33m0.1328125\u001b[39m,\n",
      "  \u001b[33m0.0573502779006958\u001b[39m,\n",
      "  \u001b[33m0.01990970288215621\u001b[39m,\n",
      "  \u001b[33m0.0059792806069127735\u001b[39m,\n",
      "  \u001b[33m0.0016480143622525922\u001b[39m,\n",
      "  \u001b[33m0.00043331105892230326\u001b[39m,\n",
      "  \u001b[33m0.0001111420079245029\u001b[39m,\n",
      "  \u001b[33m0.000028147265683564626\u001b[39m,\n",
      "  \u001b[33m0.000007082679311931628\u001b[39m,\n",
      "  \u001b[33m0.0000017764433843936445\u001b[39m,\n",
      "  \u001b[33m4.448351798025385e-7\u001b[39m,\n",
      "  \u001b[33m1.1130003940706956e-7\u001b[39m,\n",
      "  \u001b[33m2.7834776261670413e-8\u001b[39m,\n",
      "  \u001b[33m6.961185849974072e-9\u001b[39m,\n",
      "  \u001b[33m1.7393002593735218e-9\u001b[39m,\n",
      "  \u001b[33m4.3515324676945966e-10\u001b[39m,\n",
      "  \u001b[33m1.1210765649138921e-10\u001b[39m,\n",
      "  \u001b[33m4.533617925517319e-11\u001b[39m,\n",
      "  \u001b[33m-3.751265964524464e-11\u001b[39m,\n",
      "  \u001b[33m1.958566642201731e-11\u001b[39m,\n",
      "  \u001b[33m-1.9253043603839615e-11\u001b[39m,\n",
      "  \u001b[33m9.778844400898379e-12\u001b[39m,\n",
      "  \u001b[33m-1.007327554702897e-11\u001b[39m,\n",
      "  \u001b[33m5.10391728880677e-12\u001b[39m,\n",
      "  \u001b[33m-5.382361223382759e-12\u001b[39m,\n",
      "  \u001b[33m-2.025009671058342e-8\u001b[39m,\n",
      "  \u001b[33m0\u001b[39m,\n",
      "  \u001b[33m0\u001b[39m,\n",
      "  \u001b[33m0\u001b[39m,\n",
      "  \u001b[33m0\u001b[39m ]\n"
     ]
    }
   ],
   "source": [
    "dr1e"
   ]
  },
  {
   "cell_type": "code",
   "execution_count": 57,
   "metadata": {},
   "outputs": [
    {
     "name": "stdout",
     "output_type": "stream",
     "text": [
      "\u001b[33m4.3515324676945966e-10\u001b[39m\n"
     ]
    }
   ],
   "source": [
    "dr1e[15]"
   ]
  },
  {
   "cell_type": "code",
   "execution_count": 58,
   "metadata": {},
   "outputs": [
    {
     "name": "stdout",
     "output_type": "stream",
     "text": [
      "\u001b[33m32768\u001b[39m\n"
     ]
    }
   ],
   "source": [
    "1<<15"
   ]
  },
  {
   "cell_type": "code",
   "execution_count": 59,
   "metadata": {},
   "outputs": [
    {
     "name": "stdout",
     "output_type": "stream",
     "text": [
      "\u001b[33m2.7182818278777257\u001b[39m\n"
     ]
    }
   ],
   "source": [
    "r1exps[15]"
   ]
  },
  {
   "cell_type": "code",
   "execution_count": 62,
   "metadata": {},
   "outputs": [
    {
     "name": "stdout",
     "output_type": "stream",
     "text": [
      "\u001b[33m2.718281828312879\u001b[39m\n"
     ]
    }
   ],
   "source": [
    "r1exps[16]"
   ]
  },
  {
   "cell_type": "code",
   "execution_count": 64,
   "metadata": {},
   "outputs": [
    {
     "name": "stderr",
     "output_type": "stream",
     "text": [
      "1:1 - Cannot find name 'ne1'.\n"
     ]
    }
   ],
   "source": [
    "ne1(1<<16)"
   ]
  },
  {
   "cell_type": "code",
   "execution_count": 66,
   "metadata": {},
   "outputs": [
    {
     "name": "stdout",
     "output_type": "stream",
     "text": [
      "\u001b[33m2.718281828458689\u001b[39m\n"
     ]
    }
   ],
   "source": [
    "R(ne,1<<16,2)"
   ]
  },
  {
   "cell_type": "code",
   "execution_count": 67,
   "metadata": {},
   "outputs": [
    {
     "name": "stdout",
     "output_type": "stream",
     "text": [
      "\u001b[33m2.7182818284623558\u001b[39m\n"
     ]
    }
   ],
   "source": [
    "R(e,1<<16,2)"
   ]
  },
  {
   "cell_type": "code",
   "execution_count": 69,
   "metadata": {},
   "outputs": [
    {
     "name": "stdout",
     "output_type": "stream",
     "text": [
      "[ \u001b[33m2.7182818284605226\u001b[39m, \u001b[33m-1.8334223028659835e-12\u001b[39m ]\n"
     ]
    }
   ],
   "source": [
    "[(R(e,1<<16,2)+R(ne,1<<16,2))/2,(-R(e,1<<16,2)+R(ne,1<<16,2))/2]"
   ]
  },
  {
   "cell_type": "code",
   "execution_count": 72,
   "metadata": {},
   "outputs": [
    {
     "name": "stdout",
     "output_type": "stream",
     "text": [
      "\u001b[33m2.7731066604697574\u001b[39m\n"
     ]
    }
   ],
   "source": [
    "R(ne,1<<1,2)"
   ]
  },
  {
   "cell_type": "code",
   "execution_count": 78,
   "metadata": {},
   "outputs": [],
   "source": [
    "function meanerr(N,n) {\n",
    "    return [(R(ne,N,n)+R(e,N,n))/2, (R(ne,N,n)-R(e,N,n))/2]\n",
    "}"
   ]
  },
  {
   "cell_type": "code",
   "execution_count": 104,
   "metadata": {},
   "outputs": [
    {
     "name": "stdout",
     "output_type": "stream",
     "text": [
      "[ \u001b[33m2.7182818284590415\u001b[39m, \u001b[33m3.019806626980426e-14\u001b[39m ]\n"
     ]
    }
   ],
   "source": [
    "meanerr(1<<4,6)"
   ]
  },
  {
   "cell_type": "code",
   "execution_count": 88,
   "metadata": {},
   "outputs": [
    {
     "name": "stdout",
     "output_type": "stream",
     "text": [
      "\u001b[33m2.718281828459045\u001b[39m\n"
     ]
    }
   ],
   "source": [
    "Math.exp(1)"
   ]
  },
  {
   "cell_type": "code",
   "execution_count": null,
   "metadata": {},
   "outputs": [],
   "source": []
  }
 ],
 "metadata": {
  "kernelspec": {
   "display_name": "JavaScript",
   "language": "javascript",
   "name": "jslab"
  },
  "language_info": {
   "file_extension": ".js",
   "mimetype": "text/javascript",
   "name": "javascript",
   "version": ""
  }
 },
 "nbformat": 4,
 "nbformat_minor": 4
}
