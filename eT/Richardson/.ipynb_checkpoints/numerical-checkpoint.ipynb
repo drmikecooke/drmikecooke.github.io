{
 "cells": [
  {
   "cell_type": "code",
   "execution_count": null,
   "metadata": {},
   "outputs": [],
   "source": [
    "def pcomb(n,k): # Pascal version\n",
    "    if k==0 or k==n :\n",
    "        return 1\n",
    "    else:\n",
    "        if k<0 or k>n:\n",
    "            return 0\n",
    "        else:\n",
    "            return comb(n-1,k)+comb(n-1,k-1)\n",
    "\n",
    "def comb(n,k): # Multiplicative version (more efficient)\n",
    "    if k<0 or k>n:\n",
    "        return 0\n",
    "    if k==0 or k==n:\n",
    "        return 1\n",
    "    if k>n//2:\n",
    "        return mcomb(n,n-k)\n",
    "    return n*mcomb(n-1,k-1)//k"
   ]
  }
 ],
 "metadata": {
  "kernelspec": {
   "display_name": "Python 3",
   "language": "python",
   "name": "python3"
  },
  "language_info": {
   "codemirror_mode": {
    "name": "ipython",
    "version": 3
   },
   "file_extension": ".py",
   "mimetype": "text/x-python",
   "name": "python",
   "nbconvert_exporter": "python",
   "pygments_lexer": "ipython3",
   "version": "3.7.3"
  }
 },
 "nbformat": 4,
 "nbformat_minor": 4
}
