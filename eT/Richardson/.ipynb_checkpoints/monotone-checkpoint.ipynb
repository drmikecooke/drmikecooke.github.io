{
 "cells": [
  {
   "cell_type": "code",
   "execution_count": 9,
   "metadata": {},
   "outputs": [],
   "source": [
    "def pcomb(n,k): # Pascal version\n",
    "    if k==0 or k==n :\n",
    "        return 1\n",
    "    else:\n",
    "        if k<0 or k>n:\n",
    "            return 0\n",
    "        else:\n",
    "            return comb(n-1,k)+comb(n-1,k-1)\n",
    "\n",
    "def comb(n,k): # Multiplicative version (more efficient)\n",
    "    if k<0 or k>n:\n",
    "        return 0\n",
    "    if k==0 or k==n:\n",
    "        return 1\n",
    "    if k>n//2:\n",
    "        return comb(n,n-k)\n",
    "    return n*comb(n-1,k-1)//k"
   ]
  },
  {
   "cell_type": "code",
   "execution_count": 10,
   "metadata": {},
   "outputs": [],
   "source": [
    "def expand(N):\n",
    "    exlist = []\n",
    "    for i in range(0,N+1):\n",
    "        exlist += [comb(N,i)/(N**i)]\n",
    "    return exlist"
   ]
  },
  {
   "cell_type": "code",
   "execution_count": 11,
   "metadata": {},
   "outputs": [],
   "source": [
    "exlist = []\n",
    "for i in range(1,11):\n",
    "    exlist += [expand(i)]"
   ]
  },
  {
   "cell_type": "code",
   "execution_count": 12,
   "metadata": {},
   "outputs": [
    {
     "data": {
      "text/plain": [
       "[[1.0, 1.0],\n",
       " [1.0, 1.0, 0.25],\n",
       " [1.0, 1.0, 0.3333333333333333, 0.037037037037037035],\n",
       " [1.0, 1.0, 0.375, 0.0625, 0.00390625],\n",
       " [1.0, 1.0, 0.4, 0.08, 0.008, 0.00032],\n",
       " [1.0,\n",
       "  1.0,\n",
       "  0.4166666666666667,\n",
       "  0.09259259259259259,\n",
       "  0.011574074074074073,\n",
       "  0.0007716049382716049,\n",
       "  2.143347050754458e-05],\n",
       " [1.0,\n",
       "  1.0,\n",
       "  0.42857142857142855,\n",
       "  0.10204081632653061,\n",
       "  0.014577259475218658,\n",
       "  0.0012494793835901709,\n",
       "  5.9499018266198606e-05,\n",
       "  1.2142656789020123e-06],\n",
       " [1.0,\n",
       "  1.0,\n",
       "  0.4375,\n",
       "  0.109375,\n",
       "  0.01708984375,\n",
       "  0.001708984375,\n",
       "  0.0001068115234375,\n",
       "  3.814697265625e-06,\n",
       "  5.960464477539063e-08],\n",
       " [1.0,\n",
       "  1.0,\n",
       "  0.4444444444444444,\n",
       "  0.11522633744855967,\n",
       "  0.019204389574759947,\n",
       "  0.002133821063862216,\n",
       "  0.00015806081954534935,\n",
       "  7.526705692635683e-06,\n",
       "  2.0907515812876897e-07,\n",
       "  2.581174791713197e-09],\n",
       " [1.0,\n",
       "  1.0,\n",
       "  0.45,\n",
       "  0.12,\n",
       "  0.021,\n",
       "  0.00252,\n",
       "  0.00021,\n",
       "  1.2e-05,\n",
       "  4.5e-07,\n",
       "  1e-08,\n",
       "  1e-10]]"
      ]
     },
     "execution_count": 12,
     "metadata": {},
     "output_type": "execute_result"
    }
   ],
   "source": [
    "exlist"
   ]
  },
  {
   "cell_type": "code",
   "execution_count": 13,
   "metadata": {},
   "outputs": [],
   "source": [
    "def f(N,n):\n",
    "    return (N/(N+1))**(n-1)*N/(N+1-n)"
   ]
  },
  {
   "cell_type": "code",
   "execution_count": 15,
   "metadata": {},
   "outputs": [
    {
     "data": {
      "text/plain": [
       "[<matplotlib.lines.Line2D at 0x7f30241a31d0>]"
      ]
     },
     "execution_count": 15,
     "metadata": {},
     "output_type": "execute_result"
    },
    {
     "data": {
      "image/png": "[encoded data removed]",
      "text/plain": [
       "<Figure size 432x288 with 1 Axes>"
      ]
     },
     "metadata": {
      "needs_background": "light"
     },
     "output_type": "display_data"
    }
   ],
   "source": [
    "import matplotlib.pyplot as plt\n",
    "import numpy as np\n",
    "n = np.linspace(0, 10, 11)\n",
    "fig, ax = plt.subplots()  # Create a figure and an axes.\n",
    "ax.plot(n, f(10,n), label='linear')  # Plot some data on the axes."
   ]
  },
  {
   "cell_type": "code",
   "execution_count": null,
   "metadata": {},
   "outputs": [],
   "source": []
  }
 ],
 "metadata": {
  "kernelspec": {
   "display_name": "Python 3",
   "language": "python",
   "name": "python3"
  },
  "language_info": {
   "codemirror_mode": {
    "name": "ipython",
    "version": 3
   },
   "file_extension": ".py",
   "mimetype": "text/x-python",
   "name": "python",
   "nbconvert_exporter": "python",
   "pygments_lexer": "ipython3",
   "version": "3.7.3"
  }
 },
 "nbformat": 4,
 "nbformat_minor": 4
}
