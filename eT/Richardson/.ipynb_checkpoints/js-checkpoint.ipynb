{
 "cells": [
  {
   "cell_type": "code",
   "execution_count": 2,
   "metadata": {},
   "outputs": [],
   "source": [
    "function power(b,N) {\n",
    "    var a;\n",
    "    if(N==1) {\n",
    "        return b;\n",
    "    } else {\n",
    "    var d = divmod(N,2);\n",
    "    var p = power(b,d[0]);\n",
    "    if(d[1]) {\n",
    "        a = b\n",
    "    } else {\n",
    "        a = 1\n",
    "    }\n",
    "    return p*p*a\n",
    "    }\n",
    "}\n",
    "\n",
    "function divmod(x,y) {\n",
    "    return [Math.floor(x/y),x%y]\n",
    "}"
   ]
  },
  {
   "cell_type": "code",
   "execution_count": 7,
   "metadata": {},
   "outputs": [
    {
     "name": "stdout",
     "output_type": "stream",
     "text": [
      "\u001b[33m1024\u001b[39m\n"
     ]
    }
   ],
   "source": [
    "power(2,10)"
   ]
  },
  {
   "cell_type": "code",
   "execution_count": 8,
   "metadata": {},
   "outputs": [
    {
     "name": "stdout",
     "output_type": "stream",
     "text": [
      "\u001b[33m32\u001b[39m\n"
     ]
    }
   ],
   "source": [
    "power(2,5)"
   ]
  },
  {
   "cell_type": "code",
   "execution_count": 9,
   "metadata": {},
   "outputs": [],
   "source": [
    "function wrap(open, close) {return (v)=>{return open+v+close}}\n",
    "function arrayWrap(array, open, close) {return array.map(wrap(open,close))}\n",
    "function elementWrap(array, open, close) {return array.map((v)=>{return arrayWrap(v,open,close).join(\"\")})}\n",
    "\n",
    "function Column(head, data) {\n",
    "    if(!(this instanceof Column)) {return new Column(head, data)}\n",
    "    this.head = head;\n",
    "    this.data = data;\n",
    "}\n",
    "\n",
    "function Table(heading, heads, data) {\n",
    "    if(!(this instanceof Table)) {return new Table(heading, heads, data)}\n",
    "    this.heading = heading;\n",
    "    this.heads = heads;\n",
    "    this.data = data;\n",
    "    this.HTML = ()=>{\n",
    "        var caption = wrap(\"<caption>\",\"</caption>\\n\")(this.heading);\n",
    "        var th = wrap(\"<tr>\",\"</tr>\\n\")(arrayWrap(this.heads,\"<th>\",\"</th>\").join(\"\"));\n",
    "        var td = arrayWrap(elementWrap(this.data,\"<td>\",\"</td>\"),\"<tr>\",\"</tr>\\n\").join(\"\");\n",
    "        return wrap(\"<table>\\n\",\"</table>\\n\")(caption+th+td)\n",
    "    };\n",
    "    this.column = (i)=>{return new Column(heads[i], data.map((v)=>{return v[i]}))}\n",
    "    this.insertColumn = (i, col)=>{\n",
    "        this.heads.splice(i,0, col.head);\n",
    "        this.data.map((v,j)=>{v.splice(i,0,col.data[j])});\n",
    "        };\n",
    "    this.CSV = ()=>{return heads.join() + \"\\n\" + data.join(\"\\n\")};\n",
    "}\n",
    "\n",
    "function PlotlyArgs(div, table, i, j, color, width, bgcolor) {\n",
    "    if(!(this instanceof PlotlyArgs)) {return new PlotlyArgs(div, table, i, j, color, width, bgcolor)}\n",
    "    this.div = div;\n",
    "    this.data = [plotlyTrace(table, i, j, color, width)];\n",
    "    this.layout = plotlyLayout(table, i, j, bgcolor);\n",
    "    this.config = {scrollZoom: false};\n",
    "    this.args = [div, this.data, this.layout, this.config]\n",
    "}\n",
    "\n",
    "function plotlyTrace(table, i, j, color, width) {\n",
    "    return {\n",
    "        x: table.column(i).data,\n",
    "        y: table.column(j).data,\n",
    "        type: 'scatter',\n",
    "        mode: 'lines',\n",
    "        line: {color: color, width: width}\n",
    "    }\n",
    "}\n",
    "\n",
    "function plotlyLayout(table, i, j, bgcolor) {\n",
    "    return {\n",
    "        title: table.heading,\n",
    "        showlegend: false,\n",
    "        xaxis: {title: table.heads[i]},\n",
    "        yaxis: {title: table.heads[j], rangemode: 'tozero'},\n",
    "        plot_bgcolor: bgcolor,\n",
    "    }\n",
    "}"
   ]
  },
  {
   "cell_type": "code",
   "execution_count": 13,
   "metadata": {},
   "outputs": [],
   "source": [
    "var data = [[1,1,2]], N=1;\n",
    "for (var n=0;n<10;n++) {\n",
    "    N = N<<1;\n",
    "    data.push([N,1/N,power(1+1/N,N)]);\n",
    "}"
   ]
  },
  {
   "cell_type": "code",
   "execution_count": 14,
   "metadata": {},
   "outputs": [
    {
     "name": "stdout",
     "output_type": "stream",
     "text": [
      "[ [ \u001b[33m1\u001b[39m, \u001b[33m1\u001b[39m, \u001b[33m2\u001b[39m ],\n",
      "  [ \u001b[33m2\u001b[39m, \u001b[33m0.5\u001b[39m, \u001b[33m2.25\u001b[39m ],\n",
      "  [ \u001b[33m4\u001b[39m, \u001b[33m0.25\u001b[39m, \u001b[33m2.44140625\u001b[39m ],\n",
      "  [ \u001b[33m8\u001b[39m, \u001b[33m0.125\u001b[39m, \u001b[33m2.565784513950348\u001b[39m ],\n",
      "  [ \u001b[33m16\u001b[39m, \u001b[33m0.0625\u001b[39m, \u001b[33m2.6379284973666\u001b[39m ],\n",
      "  [ \u001b[33m32\u001b[39m, \u001b[33m0.03125\u001b[39m, \u001b[33m2.6769901293781824\u001b[39m ],\n",
      "  [ \u001b[33m64\u001b[39m, \u001b[33m0.015625\u001b[39m, \u001b[33m2.6973449525651\u001b[39m ],\n",
      "  [ \u001b[33m128\u001b[39m, \u001b[33m0.0078125\u001b[39m, \u001b[33m2.7077390196880198\u001b[39m ],\n",
      "  [ \u001b[33m256\u001b[39m, \u001b[33m0.00390625\u001b[39m, \u001b[33m2.712991624253442\u001b[39m ],\n",
      "  [ \u001b[33m512\u001b[39m, \u001b[33m0.001953125\u001b[39m, \u001b[33m2.715632000168995\u001b[39m ],\n",
      "  [ \u001b[33m1024\u001b[39m, \u001b[33m0.0009765625\u001b[39m, \u001b[33m2.7169557294664273\u001b[39m ] ]\n"
     ]
    }
   ],
   "source": [
    "data"
   ]
  },
  {
   "cell_type": "code",
   "execution_count": 16,
   "metadata": {},
   "outputs": [],
   "source": [
    "var eTable = new Table(\"Estimates for <em>e</em>\",[\"N\",\"Δx\",\"e (est.)\"], data);"
   ]
  },
  {
   "cell_type": "code",
   "execution_count": 18,
   "metadata": {},
   "outputs": [
    {
     "name": "stdout",
     "output_type": "stream",
     "text": [
      "<table>\n",
      "<caption>Estimates for <em>e</em></caption>\n",
      "<tr><th>N</th><th>Δx</th><th>e (est.)</th></tr>\n",
      "<tr><td>1</td><td>1</td><td>2</td></tr>\n",
      "<tr><td>2</td><td>0.5</td><td>2.25</td></tr>\n",
      "<tr><td>4</td><td>0.25</td><td>2.44140625</td></tr>\n",
      "<tr><td>8</td><td>0.125</td><td>2.565784513950348</td></tr>\n",
      "<tr><td>16</td><td>0.0625</td><td>2.6379284973666</td></tr>\n",
      "<tr><td>32</td><td>0.03125</td><td>2.6769901293781824</td></tr>\n",
      "<tr><td>64</td><td>0.015625</td><td>2.6973449525651</td></tr>\n",
      "<tr><td>128</td><td>0.0078125</td><td>2.7077390196880198</td></tr>\n",
      "<tr><td>256</td><td>0.00390625</td><td>2.712991624253442</td></tr>\n",
      "<tr><td>512</td><td>0.001953125</td><td>2.715632000168995</td></tr>\n",
      "<tr><td>1024</td><td>0.0009765625</td><td>2.7169557294664273</td></tr>\n",
      "</table>\n",
      "\n"
     ]
    }
   ],
   "source": [
    "eTable.HTML()"
   ]
  },
  {
   "cell_type": "code",
   "execution_count": 6,
   "metadata": {},
   "outputs": [],
   "source": [
    "var ndata = [], N=1;\n",
    "for (var n=0;n<10;n++) {\n",
    "    N = N<<1;\n",
    "    ndata.push([N,1/N,1/power(1-1/N,N)]);\n",
    "}"
   ]
  },
  {
   "cell_type": "code",
   "execution_count": 7,
   "metadata": {},
   "outputs": [
    {
     "name": "stdout",
     "output_type": "stream",
     "text": [
      "[ [ \u001b[33m2\u001b[39m, \u001b[33m0.5\u001b[39m, \u001b[33m4\u001b[39m ],\n",
      "  [ \u001b[33m4\u001b[39m, \u001b[33m0.25\u001b[39m, \u001b[33m3.1604938271604937\u001b[39m ],\n",
      "  [ \u001b[33m8\u001b[39m, \u001b[33m0.125\u001b[39m, \u001b[33m2.9102853680465293\u001b[39m ],\n",
      "  [ \u001b[33m16\u001b[39m, \u001b[33m0.0625\u001b[39m, \u001b[33m2.808403965576447\u001b[39m ],\n",
      "  [ \u001b[33m32\u001b[39m, \u001b[33m0.03125\u001b[39m, \u001b[33m2.7620090899764524\u001b[39m ],\n",
      "  [ \u001b[33m64\u001b[39m, \u001b[33m0.015625\u001b[39m, \u001b[33m2.7398271814872155\u001b[39m ],\n",
      "  [ \u001b[33m128\u001b[39m, \u001b[33m0.0078125\u001b[39m, \u001b[33m2.7289767306942796\u001b[39m ],\n",
      "  [ \u001b[33m256\u001b[39m, \u001b[33m0.00390625\u001b[39m, \u001b[33m2.723610054417357\u001b[39m ],\n",
      "  [ \u001b[33m512\u001b[39m, \u001b[33m0.001953125\u001b[39m, \u001b[33m2.7209411620864463\u001b[39m ],\n",
      "  [ \u001b[33m1024\u001b[39m, \u001b[33m0.0009765625\u001b[39m, \u001b[33m2.7196103037796973\u001b[39m ] ]\n"
     ]
    }
   ],
   "source": [
    "ndata"
   ]
  },
  {
   "cell_type": "code",
   "execution_count": 4,
   "metadata": {},
   "outputs": [],
   "source": [
    "function e(N) {\n",
    "    return power(1+1/N,N)\n",
    "}\n",
    "\n",
    "function e1(N) {\n",
    "    return 2*e(2*N)-e(N)\n",
    "}"
   ]
  },
  {
   "cell_type": "code",
   "execution_count": 9,
   "metadata": {},
   "outputs": [
    {
     "name": "stdout",
     "output_type": "stream",
     "text": [
      "\u001b[33m2.718281235207244\u001b[39m\n"
     ]
    }
   ],
   "source": [
    "e1(1024)"
   ]
  },
  {
   "cell_type": "code",
   "execution_count": 10,
   "metadata": {},
   "outputs": [
    {
     "name": "stdout",
     "output_type": "stream",
     "text": [
      "\u001b[33m2.7169557294664273\u001b[39m\n"
     ]
    }
   ],
   "source": [
    "e(1024)"
   ]
  },
  {
   "cell_type": "code",
   "execution_count": 13,
   "metadata": {},
   "outputs": [],
   "source": [
    "function R(f, N, n) {\n",
    "    if(n==0) {\n",
    "        return f(N)\n",
    "    } else {\n",
    "        return ((1<<n)*R(f,2*N,n-1)-R(f,N,n-1))/((1<<n)-1)\n",
    "    }\n",
    "}"
   ]
  },
  {
   "cell_type": "code",
   "execution_count": 14,
   "metadata": {},
   "outputs": [
    {
     "name": "stdout",
     "output_type": "stream",
     "text": [
      "\u001b[33m2.718281235207244\u001b[39m\n"
     ]
    }
   ],
   "source": [
    "R(e,1024,1)"
   ]
  },
  {
   "cell_type": "code",
   "execution_count": null,
   "metadata": {},
   "outputs": [],
   "source": [
    "function ne(N) {return 1/power(1-1/N,N)}"
   ]
  }
 ],
 "metadata": {
  "kernelspec": {
   "display_name": "JavaScript",
   "language": "javascript",
   "name": "jslab"
  },
  "language_info": {
   "file_extension": ".js",
   "mimetype": "text/javascript",
   "name": "javascript",
   "version": ""
  }
 },
 "nbformat": 4,
 "nbformat_minor": 4
}
