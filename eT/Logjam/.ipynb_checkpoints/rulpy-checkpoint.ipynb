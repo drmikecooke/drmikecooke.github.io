{
 "cells": [
  {
   "cell_type": "code",
   "execution_count": 1,
   "metadata": {},
   "outputs": [],
   "source": [
    "import svgwrite"
   ]
  },
  {
   "cell_type": "code",
   "execution_count": 4,
   "metadata": {},
   "outputs": [],
   "source": [
    "dwg = svgwrite.Drawing('test.svg', profile='full')\n",
    "dwg.add(dwg.line((0, 0), (10, 0), stroke=svgwrite.rgb(10, 10, 16, '%')))\n",
    "dwg.add(dwg.text('Test', insert=(0, 10), fill='red'))\n",
    "dwg.save()"
   ]
  },
  {
   "cell_type": "code",
   "execution_count": 76,
   "metadata": {},
   "outputs": [],
   "source": [
    "dwg = svgwrite.Drawing('rule.svg', viewBox=\"0 0 840 70\", profile=\"tiny\")\n",
    "rule=dwg.add(dwg.rect((0, 0), (840, 70), fill='beige'))\n",
    "for i in range(0,21):\n",
    "    vl =dwg.add(dwg.line((20*(2*i+1),0),(20*(2*i+1),20),stroke=\"green\",stroke_width=2))\n",
    "    num=dwg.add(dwg.text(i,insert=(20*(2*i+1),40),text_anchor=\"middle\"))\n",
    "    vl =dwg.add(dwg.line((20*(2*i+1),50),(20*(2*i+1),70),stroke=\"green\",stroke_width=2))\n",
    "dwg.save()"
   ]
  },
  {
   "cell_type": "code",
   "execution_count": 77,
   "metadata": {},
   "outputs": [
    {
     "data": {
      "image/svg+xml": [
       "<svg baseProfile=\"tiny\" height=\"100%\" version=\"1.2\" viewBox=\"0 0 840 70\" width=\"100%\" xmlns=\"http://www.w3.org/2000/svg\" xmlns:ev=\"http://www.w3.org/2001/xml-events\" xmlns:xlink=\"http://www.w3.org/1999/xlink\"><defs /><rect fill=\"beige\" height=\"70\" width=\"840\" x=\"0\" y=\"0\" /><line stroke=\"green\" stroke-width=\"2\" x1=\"20\" x2=\"20\" y1=\"0\" y2=\"20\" /><text text-anchor=\"middle\" x=\"20\" y=\"40\">0</text><line stroke=\"green\" stroke-width=\"2\" x1=\"20\" x2=\"20\" y1=\"50\" y2=\"70\" /><line stroke=\"green\" stroke-width=\"2\" x1=\"60\" x2=\"60\" y1=\"0\" y2=\"20\" /><text text-anchor=\"middle\" x=\"60\" y=\"40\">1</text><line stroke=\"green\" stroke-width=\"2\" x1=\"60\" x2=\"60\" y1=\"50\" y2=\"70\" /><line stroke=\"green\" stroke-width=\"2\" x1=\"100\" x2=\"100\" y1=\"0\" y2=\"20\" /><text text-anchor=\"middle\" x=\"100\" y=\"40\">2</text><line stroke=\"green\" stroke-width=\"2\" x1=\"100\" x2=\"100\" y1=\"50\" y2=\"70\" /><line stroke=\"green\" stroke-width=\"2\" x1=\"140\" x2=\"140\" y1=\"0\" y2=\"20\" /><text text-anchor=\"middle\" x=\"140\" y=\"40\">3</text><line stroke=\"green\" stroke-width=\"2\" x1=\"140\" x2=\"140\" y1=\"50\" y2=\"70\" /><line stroke=\"green\" stroke-width=\"2\" x1=\"180\" x2=\"180\" y1=\"0\" y2=\"20\" /><text text-anchor=\"middle\" x=\"180\" y=\"40\">4</text><line stroke=\"green\" stroke-width=\"2\" x1=\"180\" x2=\"180\" y1=\"50\" y2=\"70\" /><line stroke=\"green\" stroke-width=\"2\" x1=\"220\" x2=\"220\" y1=\"0\" y2=\"20\" /><text text-anchor=\"middle\" x=\"220\" y=\"40\">5</text><line stroke=\"green\" stroke-width=\"2\" x1=\"220\" x2=\"220\" y1=\"50\" y2=\"70\" /><line stroke=\"green\" stroke-width=\"2\" x1=\"260\" x2=\"260\" y1=\"0\" y2=\"20\" /><text text-anchor=\"middle\" x=\"260\" y=\"40\">6</text><line stroke=\"green\" stroke-width=\"2\" x1=\"260\" x2=\"260\" y1=\"50\" y2=\"70\" /><line stroke=\"green\" stroke-width=\"2\" x1=\"300\" x2=\"300\" y1=\"0\" y2=\"20\" /><text text-anchor=\"middle\" x=\"300\" y=\"40\">7</text><line stroke=\"green\" stroke-width=\"2\" x1=\"300\" x2=\"300\" y1=\"50\" y2=\"70\" /><line stroke=\"green\" stroke-width=\"2\" x1=\"340\" x2=\"340\" y1=\"0\" y2=\"20\" /><text text-anchor=\"middle\" x=\"340\" y=\"40\">8</text><line stroke=\"green\" stroke-width=\"2\" x1=\"340\" x2=\"340\" y1=\"50\" y2=\"70\" /><line stroke=\"green\" stroke-width=\"2\" x1=\"380\" x2=\"380\" y1=\"0\" y2=\"20\" /><text text-anchor=\"middle\" x=\"380\" y=\"40\">9</text><line stroke=\"green\" stroke-width=\"2\" x1=\"380\" x2=\"380\" y1=\"50\" y2=\"70\" /><line stroke=\"green\" stroke-width=\"2\" x1=\"420\" x2=\"420\" y1=\"0\" y2=\"20\" /><text text-anchor=\"middle\" x=\"420\" y=\"40\">10</text><line stroke=\"green\" stroke-width=\"2\" x1=\"420\" x2=\"420\" y1=\"50\" y2=\"70\" /><line stroke=\"green\" stroke-width=\"2\" x1=\"460\" x2=\"460\" y1=\"0\" y2=\"20\" /><text text-anchor=\"middle\" x=\"460\" y=\"40\">11</text><line stroke=\"green\" stroke-width=\"2\" x1=\"460\" x2=\"460\" y1=\"50\" y2=\"70\" /><line stroke=\"green\" stroke-width=\"2\" x1=\"500\" x2=\"500\" y1=\"0\" y2=\"20\" /><text text-anchor=\"middle\" x=\"500\" y=\"40\">12</text><line stroke=\"green\" stroke-width=\"2\" x1=\"500\" x2=\"500\" y1=\"50\" y2=\"70\" /><line stroke=\"green\" stroke-width=\"2\" x1=\"540\" x2=\"540\" y1=\"0\" y2=\"20\" /><text text-anchor=\"middle\" x=\"540\" y=\"40\">13</text><line stroke=\"green\" stroke-width=\"2\" x1=\"540\" x2=\"540\" y1=\"50\" y2=\"70\" /><line stroke=\"green\" stroke-width=\"2\" x1=\"580\" x2=\"580\" y1=\"0\" y2=\"20\" /><text text-anchor=\"middle\" x=\"580\" y=\"40\">14</text><line stroke=\"green\" stroke-width=\"2\" x1=\"580\" x2=\"580\" y1=\"50\" y2=\"70\" /><line stroke=\"green\" stroke-width=\"2\" x1=\"620\" x2=\"620\" y1=\"0\" y2=\"20\" /><text text-anchor=\"middle\" x=\"620\" y=\"40\">15</text><line stroke=\"green\" stroke-width=\"2\" x1=\"620\" x2=\"620\" y1=\"50\" y2=\"70\" /><line stroke=\"green\" stroke-width=\"2\" x1=\"660\" x2=\"660\" y1=\"0\" y2=\"20\" /><text text-anchor=\"middle\" x=\"660\" y=\"40\">16</text><line stroke=\"green\" stroke-width=\"2\" x1=\"660\" x2=\"660\" y1=\"50\" y2=\"70\" /><line stroke=\"green\" stroke-width=\"2\" x1=\"700\" x2=\"700\" y1=\"0\" y2=\"20\" /><text text-anchor=\"middle\" x=\"700\" y=\"40\">17</text><line stroke=\"green\" stroke-width=\"2\" x1=\"700\" x2=\"700\" y1=\"50\" y2=\"70\" /><line stroke=\"green\" stroke-width=\"2\" x1=\"740\" x2=\"740\" y1=\"0\" y2=\"20\" /><text text-anchor=\"middle\" x=\"740\" y=\"40\">18</text><line stroke=\"green\" stroke-width=\"2\" x1=\"740\" x2=\"740\" y1=\"50\" y2=\"70\" /><line stroke=\"green\" stroke-width=\"2\" x1=\"780\" x2=\"780\" y1=\"0\" y2=\"20\" /><text text-anchor=\"middle\" x=\"780\" y=\"40\">19</text><line stroke=\"green\" stroke-width=\"2\" x1=\"780\" x2=\"780\" y1=\"50\" y2=\"70\" /><line stroke=\"green\" stroke-width=\"2\" x1=\"820\" x2=\"820\" y1=\"0\" y2=\"20\" /><text text-anchor=\"middle\" x=\"820\" y=\"40\">20</text><line stroke=\"green\" stroke-width=\"2\" x1=\"820\" x2=\"820\" y1=\"50\" y2=\"70\" /></svg>"
      ],
      "text/plain": [
       "<svgwrite.drawing.Drawing at 0x7f4d42f57630>"
      ]
     },
     "execution_count": 77,
     "metadata": {},
     "output_type": "execute_result"
    }
   ],
   "source": [
    "dwg"
   ]
  },
  {
   "cell_type": "code",
   "execution_count": 25,
   "metadata": {},
   "outputs": [
    {
     "name": "stdout",
     "output_type": "stream",
     "text": [
      "<svg baseProfile=\"full\" height=\"100%\" version=\"1.1\" width=\"100%\" xmlns=\"http://www.w3.org/2000/svg\" xmlns:ev=\"http://www.w3.org/2001/xml-events\" xmlns:xlink=\"http://www.w3.org/1999/xlink\"><defs><linearGradient id=\"vert_lin_grad\" x1=\"0\" x2=\"0\" y1=\"0\" y2=\"1\"><stop offset=\"0%\" stop-color=\"blue\" /><stop offset=\"50%\" stop-color=\"green\" /><stop offset=\"100%\" stop-color=\"yellow\" /></linearGradient></defs><rect fill=\"red\" height=\"200\" stroke=\"rgb(10%,10%,16%)\" width=\"300\" x=\"10\" y=\"10\" /><circle cx=\"25\" cy=\"25\" fill=\"white\" r=\"10\" stroke=\"rgb(15%,15%,15%)\" /><text fill=\"rgb(15%,15%,15%)\" font-size=\"15px\" font-weight=\"bold\" stroke=\"none\" x=\"21\" y=\"30\">1</text><text fill=\"#900\" font-family=\"Arial\" font-size=\"90px\" font-weight=\"bold\" stroke=\"none\" x=\"55\" y=\"125\">ABC</text><text fill=\"#A90690\" font-family=\"Courier New\" font-size=\"66px\" font-weight=\"bold\" stroke=\"#500\" stroke-width=\"2\" x=\"50\" y=\"180\">12345</text><text fill=\"white\" x=\"40\" y=\"40\">rectangle w/ black stroke &amp; red fill</text><rect fill=\"none\" height=\"190\" stroke=\"rgb(10%,10%,16%)\" width=\"300\" x=\"10\" y=\"220\" /><text fill=\"black\" x=\"40\" y=\"250\">rectangle w/ black stroke &amp; no fill</text><circle cx=\"26\" cy=\"235\" fill=\"#eeeeee\" r=\"10\" stroke=\"rgb(15%,15%,15%)\" /><text fill=\"rgb(15%,15%,15%)\" font-size=\"15px\" font-weight=\"bold\" stroke=\"none\" x=\"22\" y=\"240\">2</text><rect fill=\"url(#vert_lin_grad)\" height=\"120\" stroke=\"rgb(10%,10%,16%)\" width=\"240\" x=\"35\" y=\"270\" /><text fill=\"white\" x=\"60\" y=\"330\">rectangle w/ linear gradient</text><rect fill=\"blue\" height=\"400\" stroke=\"rgb(10%,10%,16%)\" width=\"400\" x=\"320\" y=\"10\" /><text fill=\"yellow\" x=\"360\" y=\"40\">rectangle w/ black stroke &amp; blue fill</text><circle cx=\"335\" cy=\"25\" fill=\"#eeeeee\" r=\"10\" stroke=\"rgb(15%,15%,15%)\" /><text fill=\"rgb(15%,15%,15%)\" font-size=\"15px\" font-weight=\"bold\" stroke=\"none\" x=\"331\" y=\"30\">3</text><circle cx=\"520\" cy=\"220\" fill=\"yellow\" r=\"90\" stroke=\"rgb(10%,10%,16%)\" /><circle cx=\"495\" cy=\"195\" fill=\"black\" r=\"10\" stroke=\"rgb(10%,10%,16%)\" /><circle cx=\"550\" cy=\"195\" fill=\"black\" r=\"10\" stroke=\"rgb(10%,10%,16%)\" /><path d=\"M470,240 C490,290, 550,290, 570,240\" fill=\"none\" stroke=\"#000\" stroke-width=\"12\" /></svg>\n"
     ]
    }
   ],
   "source": [
    "import svgwrite\n",
    "\n",
    "dwg = svgwrite.Drawing('svgwrite-example.svg', profile='full')\n",
    "\n",
    "# draw a red box\n",
    "dwg.add(dwg.rect((10, 10), (300, 200),\n",
    "    stroke=svgwrite.rgb(10, 10, 16, '%'),\n",
    "    fill='red')\n",
    ")\n",
    "\n",
    "# Draw a small white circle in the top left of box\n",
    "dwg.add(dwg.circle(center=(25,25),\n",
    "    r=10, \n",
    "    stroke=svgwrite.rgb(15, 15, 15, '%'),\n",
    "    fill='white')\n",
    ")\n",
    "\n",
    "# Label this box #1\n",
    "dwg.add(dwg.text('1',\n",
    "    insert=(21,30),\n",
    "    stroke='none',\n",
    "    fill=svgwrite.rgb(15, 15, 15, '%'),\n",
    "    font_size='15px',\n",
    "    font_weight=\"bold\")\n",
    ")\n",
    "\n",
    "# Draw some text demonstrating font_size, font_family, font_weight, font_color\n",
    "dwg.add(dwg.text('ABC',\n",
    "    insert=(55,125),\n",
    "    stroke='none',\n",
    "    fill='#900',\n",
    "    font_size='90px',\n",
    "    font_weight=\"bold\",\n",
    "    font_family=\"Arial\")\n",
    ")\n",
    "\n",
    "# Draw some text demonstrating font stroke color\n",
    "dwg.add(dwg.text('12345',\n",
    "    insert=(50,180),\n",
    "    stroke='#500',\n",
    "    fill='#A90690',\n",
    "    stroke_width=2,\n",
    "    font_size='66px',\n",
    "    font_weight=\"bold\",\n",
    "    font_family=\"Courier New\")\n",
    ")\n",
    "\n",
    "# white text over red box\n",
    "dwg.add(dwg.text('rectangle w/ black stroke & red fill',\n",
    "    insert=(40, 40), \n",
    "    fill='white')\n",
    ")\n",
    "\n",
    "# draw a nofill box\n",
    "dwg.add(dwg.rect((10, 220), (300, 190),\n",
    "    stroke=svgwrite.rgb(10, 10, 16, '%'),\n",
    "    fill='none')\n",
    ")\n",
    "\n",
    "# black text over nofill box\n",
    "dwg.add(dwg.text('rectangle w/ black stroke & no fill',\n",
    "    insert=(40, 250),\n",
    "    fill='black')\n",
    ")\n",
    "\n",
    "# Draw a small white circle in the top left of box\n",
    "dwg.add(dwg.circle(center=(26,235),\n",
    "    r=10, \n",
    "    stroke=svgwrite.rgb(15, 15, 15, '%'),\n",
    "    fill='#eeeeee')\n",
    ")\n",
    "\n",
    "# Label this box #2\n",
    "dwg.add(dwg.text('2',\n",
    "    insert=(22,240),\n",
    "    stroke='none',\n",
    "    fill=svgwrite.rgb(15, 15, 15, '%'),\n",
    "    font_size='15px',\n",
    "    font_weight=\"bold\")\n",
    ")\n",
    "\n",
    "# Create a vertical linear gradient and add it the svg's definitions\n",
    "vert_grad = svgwrite.gradients.LinearGradient(start=(0, 0), end=(0,1), id=\"vert_lin_grad\")\n",
    "vert_grad.add_stop_color(offset='0%', color='blue', opacity=None)\n",
    "vert_grad.add_stop_color(offset='50%', color='green', opacity=None)\n",
    "vert_grad.add_stop_color(offset='100%', color='yellow', opacity=None)\n",
    "dwg.defs.add(vert_grad)\n",
    "\n",
    "# draw a box and reference the above gradient definition by #id\n",
    "dwg.add(dwg.rect((35, 270), (240, 120),\n",
    "    stroke=svgwrite.rgb(10, 10, 16, '%'),\n",
    "    fill=\"url(#vert_lin_grad)\"\n",
    "))\n",
    "\n",
    "# black text over nofill box\n",
    "dwg.add(dwg.text('rectangle w/ linear gradient',\n",
    "    insert=(60, 330),\n",
    "    fill='white')\n",
    ")\n",
    "\n",
    "# draw a blue box\n",
    "dwg.add(dwg.rect((320,10), (400, 400),\n",
    "    stroke=svgwrite.rgb(10, 10, 16, '%'),\n",
    "    fill='blue')\n",
    ")\n",
    "\n",
    "# yellow text over blue box\n",
    "dwg.add(dwg.text('rectangle w/ black stroke & blue fill',\n",
    "    insert=(360, 40),\n",
    "    fill='yellow')\n",
    ")\n",
    "\n",
    "# Draw a small white circle in the top left of box\n",
    "dwg.add(dwg.circle(center=(335,25),\n",
    "    r=10, \n",
    "    stroke=svgwrite.rgb(15, 15, 15, '%'),\n",
    "    fill='#eeeeee')\n",
    ")\n",
    "\n",
    "# Label this box #3\n",
    "dwg.add(dwg.text('3',\n",
    "    insert=(331,30),\n",
    "    stroke='none',\n",
    "    fill=svgwrite.rgb(15, 15, 15, '%'),\n",
    "    font_size='15px',\n",
    "    font_weight=\"bold\")\n",
    ")\n",
    "\n",
    "# lets draw a smiley face\n",
    "# draw a yellow circle\n",
    "dwg.add(dwg.circle(center=(520,220),\n",
    "    r=90, \n",
    "    stroke=svgwrite.rgb(10, 10, 16, '%'),\n",
    "    fill='yellow')\n",
    ")\n",
    "# draw the left then right eye\n",
    "dwg.add(dwg.circle(center=(495,195),\n",
    "    r=10, \n",
    "    stroke=svgwrite.rgb(10, 10, 16, '%'),\n",
    "    fill='black')\n",
    ")\n",
    "dwg.add(dwg.circle(center=(550,195),\n",
    "    r=10,\n",
    "    stroke=svgwrite.rgb(10, 10, 16, '%'),\n",
    "    fill='black')\n",
    ")\n",
    "\n",
    "# draw a cubic-bezier-curve path from 470,240 to 570,240 \n",
    "# using control points 490,290 & 550,290\n",
    "dwg.add(dwg.path( d='M470,240 C490,290, 550,290, 570,240',\n",
    "    stroke=\"#000\",\n",
    "    fill=\"none\",\n",
    "    stroke_width=12)\n",
    ")\n",
    "\n",
    "# output our svg image as raw xml\n",
    "print(dwg.tostring())\n",
    "\n",
    "# write svg file to disk\n",
    "dwg.save()"
   ]
  },
  {
   "cell_type": "code",
   "execution_count": 2,
   "metadata": {},
   "outputs": [],
   "source": [
    "import svgwrite\n",
    "linear=svgwrite.Drawing('linear.svg', profile='tiny',viewBox=\"0 0 1050 70\")\n",
    "ltick=linear.line((0,0),(0,20),stroke=\"green\",stroke_width=2,id=\"ltick\")\n",
    "stick=linear.line((0,0),(0,10),stroke=\"green\",stroke_width=1,id=\"stick\")\n",
    "linear.defs.add(ltick)\n",
    "linear.defs.add(stick)\n",
    "linear.add(linear.rect((0, 0), (1050, 70), fill='beige'))\n",
    "for i in range(0,201):\n",
    "    if i%10==0:\n",
    "        linear.add(linear.use(\"#ltick\",(i*5+25,0)))\n",
    "        linear.add(linear.use(\"#ltick\",(i*5+25,50)))\n",
    "        linear.add(linear.text(i//10,(i*5+25,40),text_anchor=\"middle\"))\n",
    "    else:\n",
    "        linear.add(linear.use(\"#stick\",(i*5+25,0)))\n",
    "        linear.add(linear.use(\"#stick\",(i*5+25,60)))\n",
    "linear.save()"
   ]
  },
  {
   "cell_type": "code",
   "execution_count": 3,
   "metadata": {},
   "outputs": [
    {
     "data": {
      "image/svg+xml": [
       "<svg baseProfile=\"tiny\" height=\"100%\" version=\"1.2\" viewBox=\"0 0 1050 70\" width=\"100%\" xmlns=\"http://www.w3.org/2000/svg\" xmlns:ev=\"http://www.w3.org/2001/xml-events\" xmlns:xlink=\"http://www.w3.org/1999/xlink\"><defs><line id=\"ltick\" stroke=\"green\" stroke-width=\"2\" x1=\"0\" x2=\"0\" y1=\"0\" y2=\"20\" /><line id=\"stick\" stroke=\"green\" stroke-width=\"1\" x1=\"0\" x2=\"0\" y1=\"0\" y2=\"10\" /></defs><rect fill=\"beige\" height=\"70\" width=\"1050\" x=\"0\" y=\"0\" /><use x=\"25\" xlink:href=\"#ltick\" y=\"0\" /><use x=\"25\" xlink:href=\"#ltick\" y=\"50\" /><text text-anchor=\"middle\" x=\"25\" y=\"40\">0</text><use x=\"30\" xlink:href=\"#stick\" y=\"0\" /><use x=\"30\" xlink:href=\"#stick\" y=\"60\" /><use x=\"35\" xlink:href=\"#stick\" y=\"0\" /><use x=\"35\" xlink:href=\"#stick\" y=\"60\" /><use x=\"40\" xlink:href=\"#stick\" y=\"0\" /><use x=\"40\" xlink:href=\"#stick\" y=\"60\" /><use x=\"45\" xlink:href=\"#stick\" y=\"0\" /><use x=\"45\" xlink:href=\"#stick\" y=\"60\" /><use x=\"50\" xlink:href=\"#stick\" y=\"0\" /><use x=\"50\" xlink:href=\"#stick\" y=\"60\" /><use x=\"55\" xlink:href=\"#stick\" y=\"0\" /><use x=\"55\" xlink:href=\"#stick\" y=\"60\" /><use x=\"60\" xlink:href=\"#stick\" y=\"0\" /><use x=\"60\" xlink:href=\"#stick\" y=\"60\" /><use x=\"65\" xlink:href=\"#stick\" y=\"0\" /><use x=\"65\" xlink:href=\"#stick\" y=\"60\" /><use x=\"70\" xlink:href=\"#stick\" y=\"0\" /><use x=\"70\" xlink:href=\"#stick\" y=\"60\" /><use x=\"75\" xlink:href=\"#ltick\" y=\"0\" /><use x=\"75\" xlink:href=\"#ltick\" y=\"50\" /><text text-anchor=\"middle\" x=\"75\" y=\"40\">1</text><use x=\"80\" xlink:href=\"#stick\" y=\"0\" /><use x=\"80\" xlink:href=\"#stick\" y=\"60\" /><use x=\"85\" xlink:href=\"#stick\" y=\"0\" /><use x=\"85\" xlink:href=\"#stick\" y=\"60\" /><use x=\"90\" xlink:href=\"#stick\" y=\"0\" /><use x=\"90\" xlink:href=\"#stick\" y=\"60\" /><use x=\"95\" xlink:href=\"#stick\" y=\"0\" /><use x=\"95\" xlink:href=\"#stick\" y=\"60\" /><use x=\"100\" xlink:href=\"#stick\" y=\"0\" /><use x=\"100\" xlink:href=\"#stick\" y=\"60\" /><use x=\"105\" xlink:href=\"#stick\" y=\"0\" /><use x=\"105\" xlink:href=\"#stick\" y=\"60\" /><use x=\"110\" xlink:href=\"#stick\" y=\"0\" /><use x=\"110\" xlink:href=\"#stick\" y=\"60\" /><use x=\"115\" xlink:href=\"#stick\" y=\"0\" /><use x=\"115\" xlink:href=\"#stick\" y=\"60\" /><use x=\"120\" xlink:href=\"#stick\" y=\"0\" /><use x=\"120\" xlink:href=\"#stick\" y=\"60\" /><use x=\"125\" xlink:href=\"#ltick\" y=\"0\" /><use x=\"125\" xlink:href=\"#ltick\" y=\"50\" /><text text-anchor=\"middle\" x=\"125\" y=\"40\">2</text><use x=\"130\" xlink:href=\"#stick\" y=\"0\" /><use x=\"130\" xlink:href=\"#stick\" y=\"60\" /><use x=\"135\" xlink:href=\"#stick\" y=\"0\" /><use x=\"135\" xlink:href=\"#stick\" y=\"60\" /><use x=\"140\" xlink:href=\"#stick\" y=\"0\" /><use x=\"140\" xlink:href=\"#stick\" y=\"60\" /><use x=\"145\" xlink:href=\"#stick\" y=\"0\" /><use x=\"145\" xlink:href=\"#stick\" y=\"60\" /><use x=\"150\" xlink:href=\"#stick\" y=\"0\" /><use x=\"150\" xlink:href=\"#stick\" y=\"60\" /><use x=\"155\" xlink:href=\"#stick\" y=\"0\" /><use x=\"155\" xlink:href=\"#stick\" y=\"60\" /><use x=\"160\" xlink:href=\"#stick\" y=\"0\" /><use x=\"160\" xlink:href=\"#stick\" y=\"60\" /><use x=\"165\" xlink:href=\"#stick\" y=\"0\" /><use x=\"165\" xlink:href=\"#stick\" y=\"60\" /><use x=\"170\" xlink:href=\"#stick\" y=\"0\" /><use x=\"170\" xlink:href=\"#stick\" y=\"60\" /><use x=\"175\" xlink:href=\"#ltick\" y=\"0\" /><use x=\"175\" xlink:href=\"#ltick\" y=\"50\" /><text text-anchor=\"middle\" x=\"175\" y=\"40\">3</text><use x=\"180\" xlink:href=\"#stick\" y=\"0\" /><use x=\"180\" xlink:href=\"#stick\" y=\"60\" /><use x=\"185\" xlink:href=\"#stick\" y=\"0\" /><use x=\"185\" xlink:href=\"#stick\" y=\"60\" /><use x=\"190\" xlink:href=\"#stick\" y=\"0\" /><use x=\"190\" xlink:href=\"#stick\" y=\"60\" /><use x=\"195\" xlink:href=\"#stick\" y=\"0\" /><use x=\"195\" xlink:href=\"#stick\" y=\"60\" /><use x=\"200\" xlink:href=\"#stick\" y=\"0\" /><use x=\"200\" xlink:href=\"#stick\" y=\"60\" /><use x=\"205\" xlink:href=\"#stick\" y=\"0\" /><use x=\"205\" xlink:href=\"#stick\" y=\"60\" /><use x=\"210\" xlink:href=\"#stick\" y=\"0\" /><use x=\"210\" xlink:href=\"#stick\" y=\"60\" /><use x=\"215\" xlink:href=\"#stick\" y=\"0\" /><use x=\"215\" xlink:href=\"#stick\" y=\"60\" /><use x=\"220\" xlink:href=\"#stick\" y=\"0\" /><use x=\"220\" xlink:href=\"#stick\" y=\"60\" /><use x=\"225\" xlink:href=\"#ltick\" y=\"0\" /><use x=\"225\" xlink:href=\"#ltick\" y=\"50\" /><text text-anchor=\"middle\" x=\"225\" y=\"40\">4</text><use x=\"230\" xlink:href=\"#stick\" y=\"0\" /><use x=\"230\" xlink:href=\"#stick\" y=\"60\" /><use x=\"235\" xlink:href=\"#stick\" y=\"0\" /><use x=\"235\" xlink:href=\"#stick\" y=\"60\" /><use x=\"240\" xlink:href=\"#stick\" y=\"0\" /><use x=\"240\" xlink:href=\"#stick\" y=\"60\" /><use x=\"245\" xlink:href=\"#stick\" y=\"0\" /><use x=\"245\" xlink:href=\"#stick\" y=\"60\" /><use x=\"250\" xlink:href=\"#stick\" y=\"0\" /><use x=\"250\" xlink:href=\"#stick\" y=\"60\" /><use x=\"255\" xlink:href=\"#stick\" y=\"0\" /><use x=\"255\" xlink:href=\"#stick\" y=\"60\" /><use x=\"260\" xlink:href=\"#stick\" y=\"0\" /><use x=\"260\" xlink:href=\"#stick\" y=\"60\" /><use x=\"265\" xlink:href=\"#stick\" y=\"0\" /><use x=\"265\" xlink:href=\"#stick\" y=\"60\" /><use x=\"270\" xlink:href=\"#stick\" y=\"0\" /><use x=\"270\" xlink:href=\"#stick\" y=\"60\" /><use x=\"275\" xlink:href=\"#ltick\" y=\"0\" /><use x=\"275\" xlink:href=\"#ltick\" y=\"50\" /><text text-anchor=\"middle\" x=\"275\" y=\"40\">5</text><use x=\"280\" xlink:href=\"#stick\" y=\"0\" /><use x=\"280\" xlink:href=\"#stick\" y=\"60\" /><use x=\"285\" xlink:href=\"#stick\" y=\"0\" /><use x=\"285\" xlink:href=\"#stick\" y=\"60\" /><use x=\"290\" xlink:href=\"#stick\" y=\"0\" /><use x=\"290\" xlink:href=\"#stick\" y=\"60\" /><use x=\"295\" xlink:href=\"#stick\" y=\"0\" /><use x=\"295\" xlink:href=\"#stick\" y=\"60\" /><use x=\"300\" xlink:href=\"#stick\" y=\"0\" /><use x=\"300\" xlink:href=\"#stick\" y=\"60\" /><use x=\"305\" xlink:href=\"#stick\" y=\"0\" /><use x=\"305\" xlink:href=\"#stick\" y=\"60\" /><use x=\"310\" xlink:href=\"#stick\" y=\"0\" /><use x=\"310\" xlink:href=\"#stick\" y=\"60\" /><use x=\"315\" xlink:href=\"#stick\" y=\"0\" /><use x=\"315\" xlink:href=\"#stick\" y=\"60\" /><use x=\"320\" xlink:href=\"#stick\" y=\"0\" /><use x=\"320\" xlink:href=\"#stick\" y=\"60\" /><use x=\"325\" xlink:href=\"#ltick\" y=\"0\" /><use x=\"325\" xlink:href=\"#ltick\" y=\"50\" /><text text-anchor=\"middle\" x=\"325\" y=\"40\">6</text><use x=\"330\" xlink:href=\"#stick\" y=\"0\" /><use x=\"330\" xlink:href=\"#stick\" y=\"60\" /><use x=\"335\" xlink:href=\"#stick\" y=\"0\" /><use x=\"335\" xlink:href=\"#stick\" y=\"60\" /><use x=\"340\" xlink:href=\"#stick\" y=\"0\" /><use x=\"340\" xlink:href=\"#stick\" y=\"60\" /><use x=\"345\" xlink:href=\"#stick\" y=\"0\" /><use x=\"345\" xlink:href=\"#stick\" y=\"60\" /><use x=\"350\" xlink:href=\"#stick\" y=\"0\" /><use x=\"350\" xlink:href=\"#stick\" y=\"60\" /><use x=\"355\" xlink:href=\"#stick\" y=\"0\" /><use x=\"355\" xlink:href=\"#stick\" y=\"60\" /><use x=\"360\" xlink:href=\"#stick\" y=\"0\" /><use x=\"360\" xlink:href=\"#stick\" y=\"60\" /><use x=\"365\" xlink:href=\"#stick\" y=\"0\" /><use x=\"365\" xlink:href=\"#stick\" y=\"60\" /><use x=\"370\" xlink:href=\"#stick\" y=\"0\" /><use x=\"370\" xlink:href=\"#stick\" y=\"60\" /><use x=\"375\" xlink:href=\"#ltick\" y=\"0\" /><use x=\"375\" xlink:href=\"#ltick\" y=\"50\" /><text text-anchor=\"middle\" x=\"375\" y=\"40\">7</text><use x=\"380\" xlink:href=\"#stick\" y=\"0\" /><use x=\"380\" xlink:href=\"#stick\" y=\"60\" /><use x=\"385\" xlink:href=\"#stick\" y=\"0\" /><use x=\"385\" xlink:href=\"#stick\" y=\"60\" /><use x=\"390\" xlink:href=\"#stick\" y=\"0\" /><use x=\"390\" xlink:href=\"#stick\" y=\"60\" /><use x=\"395\" xlink:href=\"#stick\" y=\"0\" /><use x=\"395\" xlink:href=\"#stick\" y=\"60\" /><use x=\"400\" xlink:href=\"#stick\" y=\"0\" /><use x=\"400\" xlink:href=\"#stick\" y=\"60\" /><use x=\"405\" xlink:href=\"#stick\" y=\"0\" /><use x=\"405\" xlink:href=\"#stick\" y=\"60\" /><use x=\"410\" xlink:href=\"#stick\" y=\"0\" /><use x=\"410\" xlink:href=\"#stick\" y=\"60\" /><use x=\"415\" xlink:href=\"#stick\" y=\"0\" /><use x=\"415\" xlink:href=\"#stick\" y=\"60\" /><use x=\"420\" xlink:href=\"#stick\" y=\"0\" /><use x=\"420\" xlink:href=\"#stick\" y=\"60\" /><use x=\"425\" xlink:href=\"#ltick\" y=\"0\" /><use x=\"425\" xlink:href=\"#ltick\" y=\"50\" /><text text-anchor=\"middle\" x=\"425\" y=\"40\">8</text><use x=\"430\" xlink:href=\"#stick\" y=\"0\" /><use x=\"430\" xlink:href=\"#stick\" y=\"60\" /><use x=\"435\" xlink:href=\"#stick\" y=\"0\" /><use x=\"435\" xlink:href=\"#stick\" y=\"60\" /><use x=\"440\" xlink:href=\"#stick\" y=\"0\" /><use x=\"440\" xlink:href=\"#stick\" y=\"60\" /><use x=\"445\" xlink:href=\"#stick\" y=\"0\" /><use x=\"445\" xlink:href=\"#stick\" y=\"60\" /><use x=\"450\" xlink:href=\"#stick\" y=\"0\" /><use x=\"450\" xlink:href=\"#stick\" y=\"60\" /><use x=\"455\" xlink:href=\"#stick\" y=\"0\" /><use x=\"455\" xlink:href=\"#stick\" y=\"60\" /><use x=\"460\" xlink:href=\"#stick\" y=\"0\" /><use x=\"460\" xlink:href=\"#stick\" y=\"60\" /><use x=\"465\" xlink:href=\"#stick\" y=\"0\" /><use x=\"465\" xlink:href=\"#stick\" y=\"60\" /><use x=\"470\" xlink:href=\"#stick\" y=\"0\" /><use x=\"470\" xlink:href=\"#stick\" y=\"60\" /><use x=\"475\" xlink:href=\"#ltick\" y=\"0\" /><use x=\"475\" xlink:href=\"#ltick\" y=\"50\" /><text text-anchor=\"middle\" x=\"475\" y=\"40\">9</text><use x=\"480\" xlink:href=\"#stick\" y=\"0\" /><use x=\"480\" xlink:href=\"#stick\" y=\"60\" /><use x=\"485\" xlink:href=\"#stick\" y=\"0\" /><use x=\"485\" xlink:href=\"#stick\" y=\"60\" /><use x=\"490\" xlink:href=\"#stick\" y=\"0\" /><use x=\"490\" xlink:href=\"#stick\" y=\"60\" /><use x=\"495\" xlink:href=\"#stick\" y=\"0\" /><use x=\"495\" xlink:href=\"#stick\" y=\"60\" /><use x=\"500\" xlink:href=\"#stick\" y=\"0\" /><use x=\"500\" xlink:href=\"#stick\" y=\"60\" /><use x=\"505\" xlink:href=\"#stick\" y=\"0\" /><use x=\"505\" xlink:href=\"#stick\" y=\"60\" /><use x=\"510\" xlink:href=\"#stick\" y=\"0\" /><use x=\"510\" xlink:href=\"#stick\" y=\"60\" /><use x=\"515\" xlink:href=\"#stick\" y=\"0\" /><use x=\"515\" xlink:href=\"#stick\" y=\"60\" /><use x=\"520\" xlink:href=\"#stick\" y=\"0\" /><use x=\"520\" xlink:href=\"#stick\" y=\"60\" /><use x=\"525\" xlink:href=\"#ltick\" y=\"0\" /><use x=\"525\" xlink:href=\"#ltick\" y=\"50\" /><text text-anchor=\"middle\" x=\"525\" y=\"40\">10</text><use x=\"530\" xlink:href=\"#stick\" y=\"0\" /><use x=\"530\" xlink:href=\"#stick\" y=\"60\" /><use x=\"535\" xlink:href=\"#stick\" y=\"0\" /><use x=\"535\" xlink:href=\"#stick\" y=\"60\" /><use x=\"540\" xlink:href=\"#stick\" y=\"0\" /><use x=\"540\" xlink:href=\"#stick\" y=\"60\" /><use x=\"545\" xlink:href=\"#stick\" y=\"0\" /><use x=\"545\" xlink:href=\"#stick\" y=\"60\" /><use x=\"550\" xlink:href=\"#stick\" y=\"0\" /><use x=\"550\" xlink:href=\"#stick\" y=\"60\" /><use x=\"555\" xlink:href=\"#stick\" y=\"0\" /><use x=\"555\" xlink:href=\"#stick\" y=\"60\" /><use x=\"560\" xlink:href=\"#stick\" y=\"0\" /><use x=\"560\" xlink:href=\"#stick\" y=\"60\" /><use x=\"565\" xlink:href=\"#stick\" y=\"0\" /><use x=\"565\" xlink:href=\"#stick\" y=\"60\" /><use x=\"570\" xlink:href=\"#stick\" y=\"0\" /><use x=\"570\" xlink:href=\"#stick\" y=\"60\" /><use x=\"575\" xlink:href=\"#ltick\" y=\"0\" /><use x=\"575\" xlink:href=\"#ltick\" y=\"50\" /><text text-anchor=\"middle\" x=\"575\" y=\"40\">11</text><use x=\"580\" xlink:href=\"#stick\" y=\"0\" /><use x=\"580\" xlink:href=\"#stick\" y=\"60\" /><use x=\"585\" xlink:href=\"#stick\" y=\"0\" /><use x=\"585\" xlink:href=\"#stick\" y=\"60\" /><use x=\"590\" xlink:href=\"#stick\" y=\"0\" /><use x=\"590\" xlink:href=\"#stick\" y=\"60\" /><use x=\"595\" xlink:href=\"#stick\" y=\"0\" /><use x=\"595\" xlink:href=\"#stick\" y=\"60\" /><use x=\"600\" xlink:href=\"#stick\" y=\"0\" /><use x=\"600\" xlink:href=\"#stick\" y=\"60\" /><use x=\"605\" xlink:href=\"#stick\" y=\"0\" /><use x=\"605\" xlink:href=\"#stick\" y=\"60\" /><use x=\"610\" xlink:href=\"#stick\" y=\"0\" /><use x=\"610\" xlink:href=\"#stick\" y=\"60\" /><use x=\"615\" xlink:href=\"#stick\" y=\"0\" /><use x=\"615\" xlink:href=\"#stick\" y=\"60\" /><use x=\"620\" xlink:href=\"#stick\" y=\"0\" /><use x=\"620\" xlink:href=\"#stick\" y=\"60\" /><use x=\"625\" xlink:href=\"#ltick\" y=\"0\" /><use x=\"625\" xlink:href=\"#ltick\" y=\"50\" /><text text-anchor=\"middle\" x=\"625\" y=\"40\">12</text><use x=\"630\" xlink:href=\"#stick\" y=\"0\" /><use x=\"630\" xlink:href=\"#stick\" y=\"60\" /><use x=\"635\" xlink:href=\"#stick\" y=\"0\" /><use x=\"635\" xlink:href=\"#stick\" y=\"60\" /><use x=\"640\" xlink:href=\"#stick\" y=\"0\" /><use x=\"640\" xlink:href=\"#stick\" y=\"60\" /><use x=\"645\" xlink:href=\"#stick\" y=\"0\" /><use x=\"645\" xlink:href=\"#stick\" y=\"60\" /><use x=\"650\" xlink:href=\"#stick\" y=\"0\" /><use x=\"650\" xlink:href=\"#stick\" y=\"60\" /><use x=\"655\" xlink:href=\"#stick\" y=\"0\" /><use x=\"655\" xlink:href=\"#stick\" y=\"60\" /><use x=\"660\" xlink:href=\"#stick\" y=\"0\" /><use x=\"660\" xlink:href=\"#stick\" y=\"60\" /><use x=\"665\" xlink:href=\"#stick\" y=\"0\" /><use x=\"665\" xlink:href=\"#stick\" y=\"60\" /><use x=\"670\" xlink:href=\"#stick\" y=\"0\" /><use x=\"670\" xlink:href=\"#stick\" y=\"60\" /><use x=\"675\" xlink:href=\"#ltick\" y=\"0\" /><use x=\"675\" xlink:href=\"#ltick\" y=\"50\" /><text text-anchor=\"middle\" x=\"675\" y=\"40\">13</text><use x=\"680\" xlink:href=\"#stick\" y=\"0\" /><use x=\"680\" xlink:href=\"#stick\" y=\"60\" /><use x=\"685\" xlink:href=\"#stick\" y=\"0\" /><use x=\"685\" xlink:href=\"#stick\" y=\"60\" /><use x=\"690\" xlink:href=\"#stick\" y=\"0\" /><use x=\"690\" xlink:href=\"#stick\" y=\"60\" /><use x=\"695\" xlink:href=\"#stick\" y=\"0\" /><use x=\"695\" xlink:href=\"#stick\" y=\"60\" /><use x=\"700\" xlink:href=\"#stick\" y=\"0\" /><use x=\"700\" xlink:href=\"#stick\" y=\"60\" /><use x=\"705\" xlink:href=\"#stick\" y=\"0\" /><use x=\"705\" xlink:href=\"#stick\" y=\"60\" /><use x=\"710\" xlink:href=\"#stick\" y=\"0\" /><use x=\"710\" xlink:href=\"#stick\" y=\"60\" /><use x=\"715\" xlink:href=\"#stick\" y=\"0\" /><use x=\"715\" xlink:href=\"#stick\" y=\"60\" /><use x=\"720\" xlink:href=\"#stick\" y=\"0\" /><use x=\"720\" xlink:href=\"#stick\" y=\"60\" /><use x=\"725\" xlink:href=\"#ltick\" y=\"0\" /><use x=\"725\" xlink:href=\"#ltick\" y=\"50\" /><text text-anchor=\"middle\" x=\"725\" y=\"40\">14</text><use x=\"730\" xlink:href=\"#stick\" y=\"0\" /><use x=\"730\" xlink:href=\"#stick\" y=\"60\" /><use x=\"735\" xlink:href=\"#stick\" y=\"0\" /><use x=\"735\" xlink:href=\"#stick\" y=\"60\" /><use x=\"740\" xlink:href=\"#stick\" y=\"0\" /><use x=\"740\" xlink:href=\"#stick\" y=\"60\" /><use x=\"745\" xlink:href=\"#stick\" y=\"0\" /><use x=\"745\" xlink:href=\"#stick\" y=\"60\" /><use x=\"750\" xlink:href=\"#stick\" y=\"0\" /><use x=\"750\" xlink:href=\"#stick\" y=\"60\" /><use x=\"755\" xlink:href=\"#stick\" y=\"0\" /><use x=\"755\" xlink:href=\"#stick\" y=\"60\" /><use x=\"760\" xlink:href=\"#stick\" y=\"0\" /><use x=\"760\" xlink:href=\"#stick\" y=\"60\" /><use x=\"765\" xlink:href=\"#stick\" y=\"0\" /><use x=\"765\" xlink:href=\"#stick\" y=\"60\" /><use x=\"770\" xlink:href=\"#stick\" y=\"0\" /><use x=\"770\" xlink:href=\"#stick\" y=\"60\" /><use x=\"775\" xlink:href=\"#ltick\" y=\"0\" /><use x=\"775\" xlink:href=\"#ltick\" y=\"50\" /><text text-anchor=\"middle\" x=\"775\" y=\"40\">15</text><use x=\"780\" xlink:href=\"#stick\" y=\"0\" /><use x=\"780\" xlink:href=\"#stick\" y=\"60\" /><use x=\"785\" xlink:href=\"#stick\" y=\"0\" /><use x=\"785\" xlink:href=\"#stick\" y=\"60\" /><use x=\"790\" xlink:href=\"#stick\" y=\"0\" /><use x=\"790\" xlink:href=\"#stick\" y=\"60\" /><use x=\"795\" xlink:href=\"#stick\" y=\"0\" /><use x=\"795\" xlink:href=\"#stick\" y=\"60\" /><use x=\"800\" xlink:href=\"#stick\" y=\"0\" /><use x=\"800\" xlink:href=\"#stick\" y=\"60\" /><use x=\"805\" xlink:href=\"#stick\" y=\"0\" /><use x=\"805\" xlink:href=\"#stick\" y=\"60\" /><use x=\"810\" xlink:href=\"#stick\" y=\"0\" /><use x=\"810\" xlink:href=\"#stick\" y=\"60\" /><use x=\"815\" xlink:href=\"#stick\" y=\"0\" /><use x=\"815\" xlink:href=\"#stick\" y=\"60\" /><use x=\"820\" xlink:href=\"#stick\" y=\"0\" /><use x=\"820\" xlink:href=\"#stick\" y=\"60\" /><use x=\"825\" xlink:href=\"#ltick\" y=\"0\" /><use x=\"825\" xlink:href=\"#ltick\" y=\"50\" /><text text-anchor=\"middle\" x=\"825\" y=\"40\">16</text><use x=\"830\" xlink:href=\"#stick\" y=\"0\" /><use x=\"830\" xlink:href=\"#stick\" y=\"60\" /><use x=\"835\" xlink:href=\"#stick\" y=\"0\" /><use x=\"835\" xlink:href=\"#stick\" y=\"60\" /><use x=\"840\" xlink:href=\"#stick\" y=\"0\" /><use x=\"840\" xlink:href=\"#stick\" y=\"60\" /><use x=\"845\" xlink:href=\"#stick\" y=\"0\" /><use x=\"845\" xlink:href=\"#stick\" y=\"60\" /><use x=\"850\" xlink:href=\"#stick\" y=\"0\" /><use x=\"850\" xlink:href=\"#stick\" y=\"60\" /><use x=\"855\" xlink:href=\"#stick\" y=\"0\" /><use x=\"855\" xlink:href=\"#stick\" y=\"60\" /><use x=\"860\" xlink:href=\"#stick\" y=\"0\" /><use x=\"860\" xlink:href=\"#stick\" y=\"60\" /><use x=\"865\" xlink:href=\"#stick\" y=\"0\" /><use x=\"865\" xlink:href=\"#stick\" y=\"60\" /><use x=\"870\" xlink:href=\"#stick\" y=\"0\" /><use x=\"870\" xlink:href=\"#stick\" y=\"60\" /><use x=\"875\" xlink:href=\"#ltick\" y=\"0\" /><use x=\"875\" xlink:href=\"#ltick\" y=\"50\" /><text text-anchor=\"middle\" x=\"875\" y=\"40\">17</text><use x=\"880\" xlink:href=\"#stick\" y=\"0\" /><use x=\"880\" xlink:href=\"#stick\" y=\"60\" /><use x=\"885\" xlink:href=\"#stick\" y=\"0\" /><use x=\"885\" xlink:href=\"#stick\" y=\"60\" /><use x=\"890\" xlink:href=\"#stick\" y=\"0\" /><use x=\"890\" xlink:href=\"#stick\" y=\"60\" /><use x=\"895\" xlink:href=\"#stick\" y=\"0\" /><use x=\"895\" xlink:href=\"#stick\" y=\"60\" /><use x=\"900\" xlink:href=\"#stick\" y=\"0\" /><use x=\"900\" xlink:href=\"#stick\" y=\"60\" /><use x=\"905\" xlink:href=\"#stick\" y=\"0\" /><use x=\"905\" xlink:href=\"#stick\" y=\"60\" /><use x=\"910\" xlink:href=\"#stick\" y=\"0\" /><use x=\"910\" xlink:href=\"#stick\" y=\"60\" /><use x=\"915\" xlink:href=\"#stick\" y=\"0\" /><use x=\"915\" xlink:href=\"#stick\" y=\"60\" /><use x=\"920\" xlink:href=\"#stick\" y=\"0\" /><use x=\"920\" xlink:href=\"#stick\" y=\"60\" /><use x=\"925\" xlink:href=\"#ltick\" y=\"0\" /><use x=\"925\" xlink:href=\"#ltick\" y=\"50\" /><text text-anchor=\"middle\" x=\"925\" y=\"40\">18</text><use x=\"930\" xlink:href=\"#stick\" y=\"0\" /><use x=\"930\" xlink:href=\"#stick\" y=\"60\" /><use x=\"935\" xlink:href=\"#stick\" y=\"0\" /><use x=\"935\" xlink:href=\"#stick\" y=\"60\" /><use x=\"940\" xlink:href=\"#stick\" y=\"0\" /><use x=\"940\" xlink:href=\"#stick\" y=\"60\" /><use x=\"945\" xlink:href=\"#stick\" y=\"0\" /><use x=\"945\" xlink:href=\"#stick\" y=\"60\" /><use x=\"950\" xlink:href=\"#stick\" y=\"0\" /><use x=\"950\" xlink:href=\"#stick\" y=\"60\" /><use x=\"955\" xlink:href=\"#stick\" y=\"0\" /><use x=\"955\" xlink:href=\"#stick\" y=\"60\" /><use x=\"960\" xlink:href=\"#stick\" y=\"0\" /><use x=\"960\" xlink:href=\"#stick\" y=\"60\" /><use x=\"965\" xlink:href=\"#stick\" y=\"0\" /><use x=\"965\" xlink:href=\"#stick\" y=\"60\" /><use x=\"970\" xlink:href=\"#stick\" y=\"0\" /><use x=\"970\" xlink:href=\"#stick\" y=\"60\" /><use x=\"975\" xlink:href=\"#ltick\" y=\"0\" /><use x=\"975\" xlink:href=\"#ltick\" y=\"50\" /><text text-anchor=\"middle\" x=\"975\" y=\"40\">19</text><use x=\"980\" xlink:href=\"#stick\" y=\"0\" /><use x=\"980\" xlink:href=\"#stick\" y=\"60\" /><use x=\"985\" xlink:href=\"#stick\" y=\"0\" /><use x=\"985\" xlink:href=\"#stick\" y=\"60\" /><use x=\"990\" xlink:href=\"#stick\" y=\"0\" /><use x=\"990\" xlink:href=\"#stick\" y=\"60\" /><use x=\"995\" xlink:href=\"#stick\" y=\"0\" /><use x=\"995\" xlink:href=\"#stick\" y=\"60\" /><use x=\"1000\" xlink:href=\"#stick\" y=\"0\" /><use x=\"1000\" xlink:href=\"#stick\" y=\"60\" /><use x=\"1005\" xlink:href=\"#stick\" y=\"0\" /><use x=\"1005\" xlink:href=\"#stick\" y=\"60\" /><use x=\"1010\" xlink:href=\"#stick\" y=\"0\" /><use x=\"1010\" xlink:href=\"#stick\" y=\"60\" /><use x=\"1015\" xlink:href=\"#stick\" y=\"0\" /><use x=\"1015\" xlink:href=\"#stick\" y=\"60\" /><use x=\"1020\" xlink:href=\"#stick\" y=\"0\" /><use x=\"1020\" xlink:href=\"#stick\" y=\"60\" /><use x=\"1025\" xlink:href=\"#ltick\" y=\"0\" /><use x=\"1025\" xlink:href=\"#ltick\" y=\"50\" /><text text-anchor=\"middle\" x=\"1025\" y=\"40\">20</text></svg>"
      ],
      "text/plain": [
       "<svgwrite.drawing.Drawing at 0x7fc49c59b160>"
      ]
     },
     "execution_count": 3,
     "metadata": {},
     "output_type": "execute_result"
    }
   ],
   "source": [
    "linear"
   ]
  },
  {
   "cell_type": "code",
   "execution_count": 100,
   "metadata": {},
   "outputs": [],
   "source": [
    "import math\n",
    "def logi(x):\n",
    "    return math.log(x/10,10)*1000+25\n",
    "\n",
    "log=svgwrite.Drawing('log.svg', profile='tiny',viewBox=\"0 0 1050 70\")\n",
    "ltick=log.line((0,0),(0,20),stroke=\"green\",stroke_width=2,id=\"ltick\")\n",
    "stick=log.line((0,0),(0,10),stroke=\"green\",stroke_width=1,id=\"stick\")\n",
    "log.defs.add(ltick)\n",
    "log.defs.add(stick)\n",
    "log.add(log.rect((0, 0), (1050, 70), fill='beige'))\n",
    "for i in range(10,101):\n",
    "    if i%10==0:\n",
    "        log.add(log.use(\"#ltick\",(logi(i),0)))\n",
    "        log.add(log.use(\"#ltick\",(logi(i),50)))\n",
    "        log.add(log.text(i//10,(logi(i),40),text_anchor=\"middle\"))\n",
    "    else:\n",
    "        log.add(log.use(\"#stick\",(logi(i),0)))\n",
    "        log.add(log.use(\"#stick\",(logi(i),60)))\n",
    "log.save()"
   ]
  },
  {
   "cell_type": "code",
   "execution_count": 101,
   "metadata": {},
   "outputs": [
    {
     "data": {
      "image/svg+xml": [
       "<svg baseProfile=\"tiny\" height=\"100%\" version=\"1.2\" viewBox=\"0 0 1050 70\" width=\"100%\" xmlns=\"http://www.w3.org/2000/svg\" xmlns:ev=\"http://www.w3.org/2001/xml-events\" xmlns:xlink=\"http://www.w3.org/1999/xlink\"><defs><line id=\"ltick\" stroke=\"green\" stroke-width=\"2\" x1=\"0\" x2=\"0\" y1=\"0\" y2=\"20\" /><line id=\"stick\" stroke=\"green\" stroke-width=\"1\" x1=\"0\" x2=\"0\" y1=\"0\" y2=\"10\" /></defs><rect fill=\"beige\" height=\"70\" width=\"1050\" x=\"0\" y=\"0\" /><use x=\"25.0\" xlink:href=\"#ltick\" y=\"0\" /><use x=\"25.0\" xlink:href=\"#ltick\" y=\"50\" /><text text-anchor=\"middle\" x=\"25.0\" y=\"40\">1</text><use x=\"66.3927\" xlink:href=\"#stick\" y=\"0\" /><use x=\"66.3927\" xlink:href=\"#stick\" y=\"60\" /><use x=\"104.1812\" xlink:href=\"#stick\" y=\"0\" /><use x=\"104.1812\" xlink:href=\"#stick\" y=\"60\" /><use x=\"138.9434\" xlink:href=\"#stick\" y=\"0\" /><use x=\"138.9434\" xlink:href=\"#stick\" y=\"60\" /><use x=\"171.128\" xlink:href=\"#stick\" y=\"0\" /><use x=\"171.128\" xlink:href=\"#stick\" y=\"60\" /><use x=\"201.0913\" xlink:href=\"#stick\" y=\"0\" /><use x=\"201.0913\" xlink:href=\"#stick\" y=\"60\" /><use x=\"229.12\" xlink:href=\"#stick\" y=\"0\" /><use x=\"229.12\" xlink:href=\"#stick\" y=\"60\" /><use x=\"255.4489\" xlink:href=\"#stick\" y=\"0\" /><use x=\"255.4489\" xlink:href=\"#stick\" y=\"60\" /><use x=\"280.2725\" xlink:href=\"#stick\" y=\"0\" /><use x=\"280.2725\" xlink:href=\"#stick\" y=\"60\" /><use x=\"303.7536\" xlink:href=\"#stick\" y=\"0\" /><use x=\"303.7536\" xlink:href=\"#stick\" y=\"60\" /><use x=\"326.03\" xlink:href=\"#ltick\" y=\"0\" /><use x=\"326.03\" xlink:href=\"#ltick\" y=\"50\" /><text text-anchor=\"middle\" x=\"326.02999566398114\" y=\"40\">2</text><use x=\"347.2193\" xlink:href=\"#stick\" y=\"0\" /><use x=\"347.2193\" xlink:href=\"#stick\" y=\"60\" /><use x=\"367.4227\" xlink:href=\"#stick\" y=\"0\" /><use x=\"367.4227\" xlink:href=\"#stick\" y=\"60\" /><use x=\"386.7278\" xlink:href=\"#stick\" y=\"0\" /><use x=\"386.7278\" xlink:href=\"#stick\" y=\"60\" /><use x=\"405.2112\" xlink:href=\"#stick\" y=\"0\" /><use x=\"405.2112\" xlink:href=\"#stick\" y=\"60\" /><use x=\"422.94\" xlink:href=\"#stick\" y=\"0\" /><use x=\"422.94\" xlink:href=\"#stick\" y=\"60\" /><use x=\"439.9733\" xlink:href=\"#stick\" y=\"0\" /><use x=\"439.9733\" xlink:href=\"#stick\" y=\"60\" /><use x=\"456.3638\" xlink:href=\"#stick\" y=\"0\" /><use x=\"456.3638\" xlink:href=\"#stick\" y=\"60\" /><use x=\"472.158\" xlink:href=\"#stick\" y=\"0\" /><use x=\"472.158\" xlink:href=\"#stick\" y=\"60\" /><use x=\"487.398\" xlink:href=\"#stick\" y=\"0\" /><use x=\"487.398\" xlink:href=\"#stick\" y=\"60\" /><use x=\"502.1213\" xlink:href=\"#ltick\" y=\"0\" /><use x=\"502.1213\" xlink:href=\"#ltick\" y=\"50\" /><text text-anchor=\"middle\" x=\"502.12125471966243\" y=\"40\">3</text><use x=\"516.3617\" xlink:href=\"#stick\" y=\"0\" /><use x=\"516.3617\" xlink:href=\"#stick\" y=\"60\" /><use x=\"530.15\" xlink:href=\"#stick\" y=\"0\" /><use x=\"530.15\" xlink:href=\"#stick\" y=\"60\" /><use x=\"543.5139\" xlink:href=\"#stick\" y=\"0\" /><use x=\"543.5139\" xlink:href=\"#stick\" y=\"60\" /><use x=\"556.4789\" xlink:href=\"#stick\" y=\"0\" /><use x=\"556.4789\" xlink:href=\"#stick\" y=\"60\" /><use x=\"569.068\" xlink:href=\"#stick\" y=\"0\" /><use x=\"569.068\" xlink:href=\"#stick\" y=\"60\" /><use x=\"581.3025\" xlink:href=\"#stick\" y=\"0\" /><use x=\"581.3025\" xlink:href=\"#stick\" y=\"60\" /><use x=\"593.2017\" xlink:href=\"#stick\" y=\"0\" /><use x=\"593.2017\" xlink:href=\"#stick\" y=\"60\" /><use x=\"604.7836\" xlink:href=\"#stick\" y=\"0\" /><use x=\"604.7836\" xlink:href=\"#stick\" y=\"60\" /><use x=\"616.0646\" xlink:href=\"#stick\" y=\"0\" /><use x=\"616.0646\" xlink:href=\"#stick\" y=\"60\" /><use x=\"627.06\" xlink:href=\"#ltick\" y=\"0\" /><use x=\"627.06\" xlink:href=\"#ltick\" y=\"50\" /><text text-anchor=\"middle\" x=\"627.0599913279623\" y=\"40\">4</text><use x=\"637.7839\" xlink:href=\"#stick\" y=\"0\" /><use x=\"637.7839\" xlink:href=\"#stick\" y=\"60\" /><use x=\"648.2493\" xlink:href=\"#stick\" y=\"0\" /><use x=\"648.2493\" xlink:href=\"#stick\" y=\"60\" /><use x=\"658.4685\" xlink:href=\"#stick\" y=\"0\" /><use x=\"658.4685\" xlink:href=\"#stick\" y=\"60\" /><use x=\"668.4527\" xlink:href=\"#stick\" y=\"0\" /><use x=\"668.4527\" xlink:href=\"#stick\" y=\"60\" /><use x=\"678.2125\" xlink:href=\"#stick\" y=\"0\" /><use x=\"678.2125\" xlink:href=\"#stick\" y=\"60\" /><use x=\"687.7578\" xlink:href=\"#stick\" y=\"0\" /><use x=\"687.7578\" xlink:href=\"#stick\" y=\"60\" /><use x=\"697.0979\" xlink:href=\"#stick\" y=\"0\" /><use x=\"697.0979\" xlink:href=\"#stick\" y=\"60\" /><use x=\"706.2412\" xlink:href=\"#stick\" y=\"0\" /><use x=\"706.2412\" xlink:href=\"#stick\" y=\"60\" /><use x=\"715.1961\" xlink:href=\"#stick\" y=\"0\" /><use x=\"715.1961\" xlink:href=\"#stick\" y=\"60\" /><use x=\"723.97\" xlink:href=\"#ltick\" y=\"0\" /><use x=\"723.97\" xlink:href=\"#ltick\" y=\"50\" /><text text-anchor=\"middle\" x=\"723.9700043360187\" y=\"40\">5</text><use x=\"732.5702\" xlink:href=\"#stick\" y=\"0\" /><use x=\"732.5702\" xlink:href=\"#stick\" y=\"60\" /><use x=\"741.0033\" xlink:href=\"#stick\" y=\"0\" /><use x=\"741.0033\" xlink:href=\"#stick\" y=\"60\" /><use x=\"749.2759\" xlink:href=\"#stick\" y=\"0\" /><use x=\"749.2759\" xlink:href=\"#stick\" y=\"60\" /><use x=\"757.3938\" xlink:href=\"#stick\" y=\"0\" /><use x=\"757.3938\" xlink:href=\"#stick\" y=\"60\" /><use x=\"765.3627\" xlink:href=\"#stick\" y=\"0\" /><use x=\"765.3627\" xlink:href=\"#stick\" y=\"60\" /><use x=\"773.188\" xlink:href=\"#stick\" y=\"0\" /><use x=\"773.188\" xlink:href=\"#stick\" y=\"60\" /><use x=\"780.8749\" xlink:href=\"#stick\" y=\"0\" /><use x=\"780.8749\" xlink:href=\"#stick\" y=\"60\" /><use x=\"788.428\" xlink:href=\"#stick\" y=\"0\" /><use x=\"788.428\" xlink:href=\"#stick\" y=\"60\" /><use x=\"795.852\" xlink:href=\"#stick\" y=\"0\" /><use x=\"795.852\" xlink:href=\"#stick\" y=\"60\" /><use x=\"803.1513\" xlink:href=\"#ltick\" y=\"0\" /><use x=\"803.1513\" xlink:href=\"#ltick\" y=\"50\" /><text text-anchor=\"middle\" x=\"803.1512503836435\" y=\"40\">6</text><use x=\"810.3298\" xlink:href=\"#stick\" y=\"0\" /><use x=\"810.3298\" xlink:href=\"#stick\" y=\"60\" /><use x=\"817.3917\" xlink:href=\"#stick\" y=\"0\" /><use x=\"817.3917\" xlink:href=\"#stick\" y=\"60\" /><use x=\"824.3405\" xlink:href=\"#stick\" y=\"0\" /><use x=\"824.3405\" xlink:href=\"#stick\" y=\"60\" /><use x=\"831.18\" xlink:href=\"#stick\" y=\"0\" /><use x=\"831.18\" xlink:href=\"#stick\" y=\"60\" /><use x=\"837.9134\" xlink:href=\"#stick\" y=\"0\" /><use x=\"837.9134\" xlink:href=\"#stick\" y=\"60\" /><use x=\"844.5439\" xlink:href=\"#stick\" y=\"0\" /><use x=\"844.5439\" xlink:href=\"#stick\" y=\"60\" /><use x=\"851.0748\" xlink:href=\"#stick\" y=\"0\" /><use x=\"851.0748\" xlink:href=\"#stick\" y=\"60\" /><use x=\"857.5089\" xlink:href=\"#stick\" y=\"0\" /><use x=\"857.5089\" xlink:href=\"#stick\" y=\"60\" /><use x=\"863.8491\" xlink:href=\"#stick\" y=\"0\" /><use x=\"863.8491\" xlink:href=\"#stick\" y=\"60\" /><use x=\"870.098\" xlink:href=\"#ltick\" y=\"0\" /><use x=\"870.098\" xlink:href=\"#ltick\" y=\"50\" /><text text-anchor=\"middle\" x=\"870.0980400142568\" y=\"40\">7</text><use x=\"876.2583\" xlink:href=\"#stick\" y=\"0\" /><use x=\"876.2583\" xlink:href=\"#stick\" y=\"60\" /><use x=\"882.3325\" xlink:href=\"#stick\" y=\"0\" /><use x=\"882.3325\" xlink:href=\"#stick\" y=\"60\" /><use x=\"888.3229\" xlink:href=\"#stick\" y=\"0\" /><use x=\"888.3229\" xlink:href=\"#stick\" y=\"60\" /><use x=\"894.2317\" xlink:href=\"#stick\" y=\"0\" /><use x=\"894.2317\" xlink:href=\"#stick\" y=\"60\" /><use x=\"900.0613\" xlink:href=\"#stick\" y=\"0\" /><use x=\"900.0613\" xlink:href=\"#stick\" y=\"60\" /><use x=\"905.8136\" xlink:href=\"#stick\" y=\"0\" /><use x=\"905.8136\" xlink:href=\"#stick\" y=\"60\" /><use x=\"911.4907\" xlink:href=\"#stick\" y=\"0\" /><use x=\"911.4907\" xlink:href=\"#stick\" y=\"60\" /><use x=\"917.0946\" xlink:href=\"#stick\" y=\"0\" /><use x=\"917.0946\" xlink:href=\"#stick\" y=\"60\" /><use x=\"922.6271\" xlink:href=\"#stick\" y=\"0\" /><use x=\"922.6271\" xlink:href=\"#stick\" y=\"60\" /><use x=\"928.09\" xlink:href=\"#ltick\" y=\"0\" /><use x=\"928.09\" xlink:href=\"#ltick\" y=\"50\" /><text text-anchor=\"middle\" x=\"928.0899869919434\" y=\"40\">8</text><use x=\"933.485\" xlink:href=\"#stick\" y=\"0\" /><use x=\"933.485\" xlink:href=\"#stick\" y=\"60\" /><use x=\"938.8139\" xlink:href=\"#stick\" y=\"0\" /><use x=\"938.8139\" xlink:href=\"#stick\" y=\"60\" /><use x=\"944.0781\" xlink:href=\"#stick\" y=\"0\" /><use x=\"944.0781\" xlink:href=\"#stick\" y=\"60\" /><use x=\"949.2793\" xlink:href=\"#stick\" y=\"0\" /><use x=\"949.2793\" xlink:href=\"#stick\" y=\"60\" /><use x=\"954.4189\" xlink:href=\"#stick\" y=\"0\" /><use x=\"954.4189\" xlink:href=\"#stick\" y=\"60\" /><use x=\"959.4985\" xlink:href=\"#stick\" y=\"0\" /><use x=\"959.4985\" xlink:href=\"#stick\" y=\"60\" /><use x=\"964.5193\" xlink:href=\"#stick\" y=\"0\" /><use x=\"964.5193\" xlink:href=\"#stick\" y=\"60\" /><use x=\"969.4827\" xlink:href=\"#stick\" y=\"0\" /><use x=\"969.4827\" xlink:href=\"#stick\" y=\"60\" /><use x=\"974.39\" xlink:href=\"#stick\" y=\"0\" /><use x=\"974.39\" xlink:href=\"#stick\" y=\"60\" /><use x=\"979.2425\" xlink:href=\"#ltick\" y=\"0\" /><use x=\"979.2425\" xlink:href=\"#ltick\" y=\"50\" /><text text-anchor=\"middle\" x=\"979.2425094393249\" y=\"40\">9</text><use x=\"984.0414\" xlink:href=\"#stick\" y=\"0\" /><use x=\"984.0414\" xlink:href=\"#stick\" y=\"60\" /><use x=\"988.7878\" xlink:href=\"#stick\" y=\"0\" /><use x=\"988.7878\" xlink:href=\"#stick\" y=\"60\" /><use x=\"993.4829\" xlink:href=\"#stick\" y=\"0\" /><use x=\"993.4829\" xlink:href=\"#stick\" y=\"60\" /><use x=\"998.1279\" xlink:href=\"#stick\" y=\"0\" /><use x=\"998.1279\" xlink:href=\"#stick\" y=\"60\" /><use x=\"1002.7236\" xlink:href=\"#stick\" y=\"0\" /><use x=\"1002.7236\" xlink:href=\"#stick\" y=\"60\" /><use x=\"1007.2712\" xlink:href=\"#stick\" y=\"0\" /><use x=\"1007.2712\" xlink:href=\"#stick\" y=\"60\" /><use x=\"1011.7717\" xlink:href=\"#stick\" y=\"0\" /><use x=\"1011.7717\" xlink:href=\"#stick\" y=\"60\" /><use x=\"1016.2261\" xlink:href=\"#stick\" y=\"0\" /><use x=\"1016.2261\" xlink:href=\"#stick\" y=\"60\" /><use x=\"1020.6352\" xlink:href=\"#stick\" y=\"0\" /><use x=\"1020.6352\" xlink:href=\"#stick\" y=\"60\" /><use x=\"1025.0\" xlink:href=\"#ltick\" y=\"0\" /><use x=\"1025.0\" xlink:href=\"#ltick\" y=\"50\" /><text text-anchor=\"middle\" x=\"1025.0\" y=\"40\">10</text></svg>"
      ],
      "text/plain": [
       "<svgwrite.drawing.Drawing at 0x7f15b436d3c8>"
      ]
     },
     "execution_count": 101,
     "metadata": {},
     "output_type": "execute_result"
    }
   ],
   "source": [
    "log"
   ]
  },
  {
   "cell_type": "code",
   "execution_count": 3,
   "metadata": {},
   "outputs": [],
   "source": [
    "import math,svgwrite\n",
    "def logi(x):\n",
    "    return math.log(x/10,10)*1000+25\n",
    "\n",
    "log=svgwrite.Drawing('circle.svg', profile='tiny')\n",
    "ltick=log.line((0,0),(0,20),stroke=\"green\",stroke_width=2,id=\"ltick\")\n",
    "stick=log.line((0,0),(0,10),stroke=\"green\",stroke_width=1,id=\"stick\")\n",
    "log.defs.add(ltick)\n",
    "log.defs.add(stick)\n",
    "log.add(log.rect((0, 0), (1050, 70), fill='beige'))\n",
    "for i in range(10,101):\n",
    "    if i%10==0:\n",
    "        log.add(log.use(\"#ltick\",(logi(i),0)))\n",
    "        log.add(log.use(\"#ltick\",(logi(i),50)))\n",
    "        log.add(log.text(i//10,(logi(i),40),text_anchor=\"middle\"))\n",
    "    else:\n",
    "        log.add(log.use(\"#stick\",(logi(i),0)))\n",
    "        log.add(log.use(\"#stick\",(logi(i),60)))\n",
    "log.save()"
   ]
  },
  {
   "cell_type": "code",
   "execution_count": 102,
   "metadata": {},
   "outputs": [
    {
     "data": {
      "image/svg+xml": [
       "<svg baseProfile=\"tiny\" height=\"100%\" version=\"1.2\" viewBox=\"0 0 1050 70\" width=\"100%\" xmlns=\"http://www.w3.org/2000/svg\" xmlns:ev=\"http://www.w3.org/2001/xml-events\" xmlns:xlink=\"http://www.w3.org/1999/xlink\"><defs><line id=\"ltick\" stroke=\"green\" stroke-width=\"2\" x1=\"0\" x2=\"0\" y1=\"0\" y2=\"20\" /><line id=\"stick\" stroke=\"green\" stroke-width=\"1\" x1=\"0\" x2=\"0\" y1=\"0\" y2=\"10\" /></defs><rect fill=\"beige\" height=\"70\" width=\"1050\" x=\"0\" y=\"0\" /><use x=\"25.0\" xlink:href=\"#ltick\" y=\"0\" /><use x=\"25.0\" xlink:href=\"#ltick\" y=\"50\" /><text text-anchor=\"middle\" x=\"25.0\" y=\"40\">1</text><use x=\"66.3927\" xlink:href=\"#stick\" y=\"0\" /><use x=\"66.3927\" xlink:href=\"#stick\" y=\"60\" /><use x=\"104.1812\" xlink:href=\"#stick\" y=\"0\" /><use x=\"104.1812\" xlink:href=\"#stick\" y=\"60\" /><use x=\"138.9434\" xlink:href=\"#stick\" y=\"0\" /><use x=\"138.9434\" xlink:href=\"#stick\" y=\"60\" /><use x=\"171.128\" xlink:href=\"#stick\" y=\"0\" /><use x=\"171.128\" xlink:href=\"#stick\" y=\"60\" /><use x=\"201.0913\" xlink:href=\"#stick\" y=\"0\" /><use x=\"201.0913\" xlink:href=\"#stick\" y=\"60\" /><use x=\"229.12\" xlink:href=\"#stick\" y=\"0\" /><use x=\"229.12\" xlink:href=\"#stick\" y=\"60\" /><use x=\"255.4489\" xlink:href=\"#stick\" y=\"0\" /><use x=\"255.4489\" xlink:href=\"#stick\" y=\"60\" /><use x=\"280.2725\" xlink:href=\"#stick\" y=\"0\" /><use x=\"280.2725\" xlink:href=\"#stick\" y=\"60\" /><use x=\"303.7536\" xlink:href=\"#stick\" y=\"0\" /><use x=\"303.7536\" xlink:href=\"#stick\" y=\"60\" /><use x=\"326.03\" xlink:href=\"#ltick\" y=\"0\" /><use x=\"326.03\" xlink:href=\"#ltick\" y=\"50\" /><text text-anchor=\"middle\" x=\"326.02999566398114\" y=\"40\">2</text><use x=\"347.2193\" xlink:href=\"#stick\" y=\"0\" /><use x=\"347.2193\" xlink:href=\"#stick\" y=\"60\" /><use x=\"367.4227\" xlink:href=\"#stick\" y=\"0\" /><use x=\"367.4227\" xlink:href=\"#stick\" y=\"60\" /><use x=\"386.7278\" xlink:href=\"#stick\" y=\"0\" /><use x=\"386.7278\" xlink:href=\"#stick\" y=\"60\" /><use x=\"405.2112\" xlink:href=\"#stick\" y=\"0\" /><use x=\"405.2112\" xlink:href=\"#stick\" y=\"60\" /><use x=\"422.94\" xlink:href=\"#stick\" y=\"0\" /><use x=\"422.94\" xlink:href=\"#stick\" y=\"60\" /><use x=\"439.9733\" xlink:href=\"#stick\" y=\"0\" /><use x=\"439.9733\" xlink:href=\"#stick\" y=\"60\" /><use x=\"456.3638\" xlink:href=\"#stick\" y=\"0\" /><use x=\"456.3638\" xlink:href=\"#stick\" y=\"60\" /><use x=\"472.158\" xlink:href=\"#stick\" y=\"0\" /><use x=\"472.158\" xlink:href=\"#stick\" y=\"60\" /><use x=\"487.398\" xlink:href=\"#stick\" y=\"0\" /><use x=\"487.398\" xlink:href=\"#stick\" y=\"60\" /><use x=\"502.1213\" xlink:href=\"#ltick\" y=\"0\" /><use x=\"502.1213\" xlink:href=\"#ltick\" y=\"50\" /><text text-anchor=\"middle\" x=\"502.12125471966243\" y=\"40\">3</text><use x=\"516.3617\" xlink:href=\"#stick\" y=\"0\" /><use x=\"516.3617\" xlink:href=\"#stick\" y=\"60\" /><use x=\"530.15\" xlink:href=\"#stick\" y=\"0\" /><use x=\"530.15\" xlink:href=\"#stick\" y=\"60\" /><use x=\"543.5139\" xlink:href=\"#stick\" y=\"0\" /><use x=\"543.5139\" xlink:href=\"#stick\" y=\"60\" /><use x=\"556.4789\" xlink:href=\"#stick\" y=\"0\" /><use x=\"556.4789\" xlink:href=\"#stick\" y=\"60\" /><use x=\"569.068\" xlink:href=\"#stick\" y=\"0\" /><use x=\"569.068\" xlink:href=\"#stick\" y=\"60\" /><use x=\"581.3025\" xlink:href=\"#stick\" y=\"0\" /><use x=\"581.3025\" xlink:href=\"#stick\" y=\"60\" /><use x=\"593.2017\" xlink:href=\"#stick\" y=\"0\" /><use x=\"593.2017\" xlink:href=\"#stick\" y=\"60\" /><use x=\"604.7836\" xlink:href=\"#stick\" y=\"0\" /><use x=\"604.7836\" xlink:href=\"#stick\" y=\"60\" /><use x=\"616.0646\" xlink:href=\"#stick\" y=\"0\" /><use x=\"616.0646\" xlink:href=\"#stick\" y=\"60\" /><use x=\"627.06\" xlink:href=\"#ltick\" y=\"0\" /><use x=\"627.06\" xlink:href=\"#ltick\" y=\"50\" /><text text-anchor=\"middle\" x=\"627.0599913279623\" y=\"40\">4</text><use x=\"637.7839\" xlink:href=\"#stick\" y=\"0\" /><use x=\"637.7839\" xlink:href=\"#stick\" y=\"60\" /><use x=\"648.2493\" xlink:href=\"#stick\" y=\"0\" /><use x=\"648.2493\" xlink:href=\"#stick\" y=\"60\" /><use x=\"658.4685\" xlink:href=\"#stick\" y=\"0\" /><use x=\"658.4685\" xlink:href=\"#stick\" y=\"60\" /><use x=\"668.4527\" xlink:href=\"#stick\" y=\"0\" /><use x=\"668.4527\" xlink:href=\"#stick\" y=\"60\" /><use x=\"678.2125\" xlink:href=\"#stick\" y=\"0\" /><use x=\"678.2125\" xlink:href=\"#stick\" y=\"60\" /><use x=\"687.7578\" xlink:href=\"#stick\" y=\"0\" /><use x=\"687.7578\" xlink:href=\"#stick\" y=\"60\" /><use x=\"697.0979\" xlink:href=\"#stick\" y=\"0\" /><use x=\"697.0979\" xlink:href=\"#stick\" y=\"60\" /><use x=\"706.2412\" xlink:href=\"#stick\" y=\"0\" /><use x=\"706.2412\" xlink:href=\"#stick\" y=\"60\" /><use x=\"715.1961\" xlink:href=\"#stick\" y=\"0\" /><use x=\"715.1961\" xlink:href=\"#stick\" y=\"60\" /><use x=\"723.97\" xlink:href=\"#ltick\" y=\"0\" /><use x=\"723.97\" xlink:href=\"#ltick\" y=\"50\" /><text text-anchor=\"middle\" x=\"723.9700043360187\" y=\"40\">5</text><use x=\"732.5702\" xlink:href=\"#stick\" y=\"0\" /><use x=\"732.5702\" xlink:href=\"#stick\" y=\"60\" /><use x=\"741.0033\" xlink:href=\"#stick\" y=\"0\" /><use x=\"741.0033\" xlink:href=\"#stick\" y=\"60\" /><use x=\"749.2759\" xlink:href=\"#stick\" y=\"0\" /><use x=\"749.2759\" xlink:href=\"#stick\" y=\"60\" /><use x=\"757.3938\" xlink:href=\"#stick\" y=\"0\" /><use x=\"757.3938\" xlink:href=\"#stick\" y=\"60\" /><use x=\"765.3627\" xlink:href=\"#stick\" y=\"0\" /><use x=\"765.3627\" xlink:href=\"#stick\" y=\"60\" /><use x=\"773.188\" xlink:href=\"#stick\" y=\"0\" /><use x=\"773.188\" xlink:href=\"#stick\" y=\"60\" /><use x=\"780.8749\" xlink:href=\"#stick\" y=\"0\" /><use x=\"780.8749\" xlink:href=\"#stick\" y=\"60\" /><use x=\"788.428\" xlink:href=\"#stick\" y=\"0\" /><use x=\"788.428\" xlink:href=\"#stick\" y=\"60\" /><use x=\"795.852\" xlink:href=\"#stick\" y=\"0\" /><use x=\"795.852\" xlink:href=\"#stick\" y=\"60\" /><use x=\"803.1513\" xlink:href=\"#ltick\" y=\"0\" /><use x=\"803.1513\" xlink:href=\"#ltick\" y=\"50\" /><text text-anchor=\"middle\" x=\"803.1512503836435\" y=\"40\">6</text><use x=\"810.3298\" xlink:href=\"#stick\" y=\"0\" /><use x=\"810.3298\" xlink:href=\"#stick\" y=\"60\" /><use x=\"817.3917\" xlink:href=\"#stick\" y=\"0\" /><use x=\"817.3917\" xlink:href=\"#stick\" y=\"60\" /><use x=\"824.3405\" xlink:href=\"#stick\" y=\"0\" /><use x=\"824.3405\" xlink:href=\"#stick\" y=\"60\" /><use x=\"831.18\" xlink:href=\"#stick\" y=\"0\" /><use x=\"831.18\" xlink:href=\"#stick\" y=\"60\" /><use x=\"837.9134\" xlink:href=\"#stick\" y=\"0\" /><use x=\"837.9134\" xlink:href=\"#stick\" y=\"60\" /><use x=\"844.5439\" xlink:href=\"#stick\" y=\"0\" /><use x=\"844.5439\" xlink:href=\"#stick\" y=\"60\" /><use x=\"851.0748\" xlink:href=\"#stick\" y=\"0\" /><use x=\"851.0748\" xlink:href=\"#stick\" y=\"60\" /><use x=\"857.5089\" xlink:href=\"#stick\" y=\"0\" /><use x=\"857.5089\" xlink:href=\"#stick\" y=\"60\" /><use x=\"863.8491\" xlink:href=\"#stick\" y=\"0\" /><use x=\"863.8491\" xlink:href=\"#stick\" y=\"60\" /><use x=\"870.098\" xlink:href=\"#ltick\" y=\"0\" /><use x=\"870.098\" xlink:href=\"#ltick\" y=\"50\" /><text text-anchor=\"middle\" x=\"870.0980400142568\" y=\"40\">7</text><use x=\"876.2583\" xlink:href=\"#stick\" y=\"0\" /><use x=\"876.2583\" xlink:href=\"#stick\" y=\"60\" /><use x=\"882.3325\" xlink:href=\"#stick\" y=\"0\" /><use x=\"882.3325\" xlink:href=\"#stick\" y=\"60\" /><use x=\"888.3229\" xlink:href=\"#stick\" y=\"0\" /><use x=\"888.3229\" xlink:href=\"#stick\" y=\"60\" /><use x=\"894.2317\" xlink:href=\"#stick\" y=\"0\" /><use x=\"894.2317\" xlink:href=\"#stick\" y=\"60\" /><use x=\"900.0613\" xlink:href=\"#stick\" y=\"0\" /><use x=\"900.0613\" xlink:href=\"#stick\" y=\"60\" /><use x=\"905.8136\" xlink:href=\"#stick\" y=\"0\" /><use x=\"905.8136\" xlink:href=\"#stick\" y=\"60\" /><use x=\"911.4907\" xlink:href=\"#stick\" y=\"0\" /><use x=\"911.4907\" xlink:href=\"#stick\" y=\"60\" /><use x=\"917.0946\" xlink:href=\"#stick\" y=\"0\" /><use x=\"917.0946\" xlink:href=\"#stick\" y=\"60\" /><use x=\"922.6271\" xlink:href=\"#stick\" y=\"0\" /><use x=\"922.6271\" xlink:href=\"#stick\" y=\"60\" /><use x=\"928.09\" xlink:href=\"#ltick\" y=\"0\" /><use x=\"928.09\" xlink:href=\"#ltick\" y=\"50\" /><text text-anchor=\"middle\" x=\"928.0899869919434\" y=\"40\">8</text><use x=\"933.485\" xlink:href=\"#stick\" y=\"0\" /><use x=\"933.485\" xlink:href=\"#stick\" y=\"60\" /><use x=\"938.8139\" xlink:href=\"#stick\" y=\"0\" /><use x=\"938.8139\" xlink:href=\"#stick\" y=\"60\" /><use x=\"944.0781\" xlink:href=\"#stick\" y=\"0\" /><use x=\"944.0781\" xlink:href=\"#stick\" y=\"60\" /><use x=\"949.2793\" xlink:href=\"#stick\" y=\"0\" /><use x=\"949.2793\" xlink:href=\"#stick\" y=\"60\" /><use x=\"954.4189\" xlink:href=\"#stick\" y=\"0\" /><use x=\"954.4189\" xlink:href=\"#stick\" y=\"60\" /><use x=\"959.4985\" xlink:href=\"#stick\" y=\"0\" /><use x=\"959.4985\" xlink:href=\"#stick\" y=\"60\" /><use x=\"964.5193\" xlink:href=\"#stick\" y=\"0\" /><use x=\"964.5193\" xlink:href=\"#stick\" y=\"60\" /><use x=\"969.4827\" xlink:href=\"#stick\" y=\"0\" /><use x=\"969.4827\" xlink:href=\"#stick\" y=\"60\" /><use x=\"974.39\" xlink:href=\"#stick\" y=\"0\" /><use x=\"974.39\" xlink:href=\"#stick\" y=\"60\" /><use x=\"979.2425\" xlink:href=\"#ltick\" y=\"0\" /><use x=\"979.2425\" xlink:href=\"#ltick\" y=\"50\" /><text text-anchor=\"middle\" x=\"979.2425094393249\" y=\"40\">9</text><use x=\"984.0414\" xlink:href=\"#stick\" y=\"0\" /><use x=\"984.0414\" xlink:href=\"#stick\" y=\"60\" /><use x=\"988.7878\" xlink:href=\"#stick\" y=\"0\" /><use x=\"988.7878\" xlink:href=\"#stick\" y=\"60\" /><use x=\"993.4829\" xlink:href=\"#stick\" y=\"0\" /><use x=\"993.4829\" xlink:href=\"#stick\" y=\"60\" /><use x=\"998.1279\" xlink:href=\"#stick\" y=\"0\" /><use x=\"998.1279\" xlink:href=\"#stick\" y=\"60\" /><use x=\"1002.7236\" xlink:href=\"#stick\" y=\"0\" /><use x=\"1002.7236\" xlink:href=\"#stick\" y=\"60\" /><use x=\"1007.2712\" xlink:href=\"#stick\" y=\"0\" /><use x=\"1007.2712\" xlink:href=\"#stick\" y=\"60\" /><use x=\"1011.7717\" xlink:href=\"#stick\" y=\"0\" /><use x=\"1011.7717\" xlink:href=\"#stick\" y=\"60\" /><use x=\"1016.2261\" xlink:href=\"#stick\" y=\"0\" /><use x=\"1016.2261\" xlink:href=\"#stick\" y=\"60\" /><use x=\"1020.6352\" xlink:href=\"#stick\" y=\"0\" /><use x=\"1020.6352\" xlink:href=\"#stick\" y=\"60\" /><use x=\"1025.0\" xlink:href=\"#ltick\" y=\"0\" /><use x=\"1025.0\" xlink:href=\"#ltick\" y=\"50\" /><text text-anchor=\"middle\" x=\"1025.0\" y=\"40\">10</text></svg>"
      ],
      "text/plain": [
       "<svgwrite.drawing.Drawing at 0x7f15b436d3c8>"
      ]
     },
     "execution_count": 102,
     "metadata": {},
     "output_type": "execute_result"
    }
   ],
   "source": [
    "log"
   ]
  },
  {
   "cell_type": "code",
   "execution_count": 114,
   "metadata": {},
   "outputs": [],
   "source": [
    "import math,svgwrite\n",
    "def angle(x):\n",
    "    return math.log(x/10,10)*360\n",
    "circle=svgwrite.Drawing('circle.svg', profile='tiny', viewBox='0 0 610 610')\n",
    "circle.add(circle.circle((305,305),300,fill='beige',stroke=\"green\",stroke_width=5))\n",
    "ltick=circle.line((0,0),(0,20),stroke=\"green\",stroke_width=2,id=\"ltick\")\n",
    "stick=circle.line((0,0),(0,70),stroke=\"green\",stroke_width=1,id=\"stick\")\n",
    "circle.defs.add(ltick)\n",
    "circle.defs.add(stick)\n",
    "for i in range(10,100):\n",
    "    group=circle.g(transform=\"rotate(\"+str(angle(i))+\" 305 305)\")\n",
    "    if i%10==0:\n",
    "        group.add(circle.use(ltick,(305,5)))\n",
    "        group.add(circle.use(ltick,(305,55)))\n",
    "        group.add(circle.text(i//10,(305,45),text_anchor=\"middle\"))\n",
    "    else:\n",
    "        group.add(circle.use(stick,(305,5)))\n",
    "    circle.add(group)\n",
    "circle.save()        \n"
   ]
  },
  {
   "cell_type": "code",
   "execution_count": 113,
   "metadata": {},
   "outputs": [
    {
     "data": {
      "image/svg+xml": [
       "<svg baseProfile=\"tiny\" height=\"100%\" version=\"1.2\" viewBox=\"0 0 610 610\" width=\"100%\" xmlns=\"http://www.w3.org/2000/svg\" xmlns:ev=\"http://www.w3.org/2001/xml-events\" xmlns:xlink=\"http://www.w3.org/1999/xlink\"><defs><line id=\"ltick\" stroke=\"green\" stroke-width=\"2\" x1=\"0\" x2=\"0\" y1=\"0\" y2=\"20\" /><line id=\"stick\" stroke=\"green\" stroke-width=\"1\" x1=\"0\" x2=\"0\" y1=\"0\" y2=\"70\" /></defs><circle cx=\"305\" cy=\"305\" fill=\"beige\" r=\"300\" stroke=\"green\" stroke-width=\"5\" /><g transform=\"rotate(0.0 305 305)\"><use x=\"305\" xlink:href=\"#ltick\" y=\"5\" /><use x=\"305\" xlink:href=\"#ltick\" y=\"55\" /><text text-anchor=\"middle\" x=\"305\" y=\"45\">1</text></g><g transform=\"rotate(14.901366656961025 305 305)\"><use x=\"305\" xlink:href=\"#stick\" y=\"5\" /></g><g transform=\"rotate(28.50524857714493 305 305)\"><use x=\"305\" xlink:href=\"#stick\" y=\"5\" /></g><g transform=\"rotate(41.019606830461235 305 305)\"><use x=\"305\" xlink:href=\"#stick\" y=\"5\" /></g><g transform=\"rotate(52.60609284416567 305 305)\"><use x=\"305\" xlink:href=\"#stick\" y=\"5\" /></g><g transform=\"rotate(63.39285326004524 305 305)\"><use x=\"305\" xlink:href=\"#stick\" y=\"5\" /></g><g transform=\"rotate(73.48319375613292 305 305)\"><use x=\"305\" xlink:href=\"#stick\" y=\"5\" /></g><g transform=\"rotate(82.9616116961786 305 305)\"><use x=\"305\" xlink:href=\"#stick\" y=\"5\" /></g><g transform=\"rotate(91.89810183719018 305 305)\"><use x=\"305\" xlink:href=\"#stick\" y=\"5\" /></g><g transform=\"rotate(100.3512963430184 305 305)\"><use x=\"305\" xlink:href=\"#stick\" y=\"5\" /></g><g transform=\"rotate(108.37079843903321 305 305)\"><use x=\"305\" xlink:href=\"#ltick\" y=\"5\" /><use x=\"305\" xlink:href=\"#ltick\" y=\"55\" /><text text-anchor=\"middle\" x=\"305\" y=\"45\">2</text></g><g transform=\"rotate(115.99894610421093 305 305)\"><use x=\"305\" xlink:href=\"#stick\" y=\"5\" /></g><g transform=\"rotate(123.27216509599424 305 305)\"><use x=\"305\" xlink:href=\"#stick\" y=\"5\" /></g><g transform=\"rotate(130.2220209663334 305 305)\"><use x=\"305\" xlink:href=\"#stick\" y=\"5\" /></g><g transform=\"rotate(136.87604701617815 305 305)\"><use x=\"305\" xlink:href=\"#stick\" y=\"5\" /></g><g transform=\"rotate(143.25840312193353 305 305)\"><use x=\"305\" xlink:href=\"#stick\" y=\"5\" /></g><g transform=\"rotate(149.39040526949444 305 305)\"><use x=\"305\" xlink:href=\"#stick\" y=\"5\" /></g><g transform=\"rotate(155.29095509723544 305 305)\"><use x=\"305\" xlink:href=\"#stick\" y=\"5\" /></g><g transform=\"rotate(160.97689128319888 305 305)\"><use x=\"305\" xlink:href=\"#stick\" y=\"5\" /></g><g transform=\"rotate(166.46327924362416 305 305)\"><use x=\"305\" xlink:href=\"#stick\" y=\"5\" /></g><g transform=\"rotate(171.76365169907848 305 305)\"><use x=\"305\" xlink:href=\"#ltick\" y=\"5\" /><use x=\"305\" xlink:href=\"#ltick\" y=\"55\" /><text text-anchor=\"middle\" x=\"305\" y=\"45\">3</text></g><g transform=\"rotate(176.89020978033815 305 305)\"><use x=\"305\" xlink:href=\"#stick\" y=\"5\" /></g><g transform=\"rotate(181.85399219516614 305 305)\"><use x=\"305\" xlink:href=\"#stick\" y=\"5\" /></g><g transform=\"rotate(186.66501835603947 305 305)\"><use x=\"305\" xlink:href=\"#stick\" y=\"5\" /></g><g transform=\"rotate(191.3324101352118 305 305)\"><use x=\"305\" xlink:href=\"#stick\" y=\"5\" /></g><g transform=\"rotate(195.8644959660992 305 305)\"><use x=\"305\" xlink:href=\"#stick\" y=\"5\" /></g><g transform=\"rotate(200.26890027622338 305 305)\"><use x=\"305\" xlink:href=\"#stick\" y=\"5\" /></g><g transform=\"rotate(204.5526206641182 305 305)\"><use x=\"305\" xlink:href=\"#stick\" y=\"5\" /></g><g transform=\"rotate(208.7220947820516 305 305)\"><use x=\"305\" xlink:href=\"#stick\" y=\"5\" /></g><g transform=\"rotate(212.78325852953967 305 305)\"><use x=\"305\" xlink:href=\"#stick\" y=\"5\" /></g><g transform=\"rotate(216.74159687806642 305 305)\"><use x=\"305\" xlink:href=\"#ltick\" y=\"5\" /><use x=\"305\" xlink:href=\"#ltick\" y=\"55\" /><text text-anchor=\"middle\" x=\"305\" y=\"45\">4</text></g><g transform=\"rotate(220.60218841910478 305 305)\"><use x=\"305\" xlink:href=\"#stick\" y=\"5\" /></g><g transform=\"rotate(224.36974454324417 305 305)\"><use x=\"305\" xlink:href=\"#stick\" y=\"5\" /></g><g transform=\"rotate(228.0486440086511 305 305)\"><use x=\"305\" xlink:href=\"#stick\" y=\"5\" /></g><g transform=\"rotate(231.64296353502746 305 305)\"><use x=\"305\" xlink:href=\"#stick\" y=\"5\" /></g><g transform=\"rotate(235.1565049591237 305 305)\"><use x=\"305\" xlink:href=\"#stick\" y=\"5\" /></g><g transform=\"rotate(238.59281940536664 305 305)\"><use x=\"305\" xlink:href=\"#stick\" y=\"5\" /></g><g transform=\"rotate(241.95522885685827 305 305)\"><use x=\"305\" xlink:href=\"#stick\" y=\"5\" /></g><g transform=\"rotate(245.24684545521137 305 305)\"><use x=\"305\" xlink:href=\"#stick\" y=\"5\" /></g><g transform=\"rotate(248.4705888102649 305 305)\"><use x=\"305\" xlink:href=\"#stick\" y=\"5\" /></g><g transform=\"rotate(251.62920156096675 305 305)\"><use x=\"305\" xlink:href=\"#ltick\" y=\"5\" /><use x=\"305\" xlink:href=\"#ltick\" y=\"55\" /><text text-anchor=\"middle\" x=\"305\" y=\"45\">5</text></g><g transform=\"rotate(254.72526339525706 305 305)\"><use x=\"305\" xlink:href=\"#stick\" y=\"5\" /></g><g transform=\"rotate(257.76120370852766 305 305)\"><use x=\"305\" xlink:href=\"#stick\" y=\"5\" /></g><g transform=\"rotate(260.739313056284 305 305)\"><use x=\"305\" xlink:href=\"#stick\" y=\"5\" /></g><g transform=\"rotate(263.66175353626863 305 305)\"><use x=\"305\" xlink:href=\"#stick\" y=\"5\" /></g><g transform=\"rotate(266.53056821792774 305 305)\"><use x=\"305\" xlink:href=\"#stick\" y=\"5\" /></g><g transform=\"rotate(269.34768972223213 305 305)\"><use x=\"305\" xlink:href=\"#stick\" y=\"5\" /></g><g transform=\"rotate(272.1149480420969 305 305)\"><use x=\"305\" xlink:href=\"#stick\" y=\"5\" /></g><g transform=\"rotate(274.8340776826574 305 305)\"><use x=\"305\" xlink:href=\"#stick\" y=\"5\" /></g><g transform=\"rotate(277.5067241911719 305 305)\"><use x=\"305\" xlink:href=\"#stick\" y=\"5\" /></g><g transform=\"rotate(280.1344501381117 305 305)\"><use x=\"305\" xlink:href=\"#ltick\" y=\"5\" /><use x=\"305\" xlink:href=\"#ltick\" y=\"55\" /><text text-anchor=\"middle\" x=\"305\" y=\"45\">6</text></g><g transform=\"rotate(282.7187406038761 305 305)\"><use x=\"305\" xlink:href=\"#stick\" y=\"5\" /></g><g transform=\"rotate(285.2610082193714 305 305)\"><use x=\"305\" xlink:href=\"#stick\" y=\"5\" /></g><g transform=\"rotate(287.76259780328934 305 305)\"><use x=\"305\" xlink:href=\"#stick\" y=\"5\" /></g><g transform=\"rotate(290.2247906341994 305 305)\"><use x=\"305\" xlink:href=\"#stick\" y=\"5\" /></g><g transform=\"rotate(292.64880839142796 305 305)\"><use x=\"305\" xlink:href=\"#stick\" y=\"5\" /></g><g transform=\"rotate(295.03581679507266 305 305)\"><use x=\"305\" xlink:href=\"#stick\" y=\"5\" /></g><g transform=\"rotate(297.38692897229754 305 305)\"><use x=\"305\" xlink:href=\"#stick\" y=\"5\" /></g><g transform=\"rotate(299.7032085742451 305 305)\"><use x=\"305\" xlink:href=\"#stick\" y=\"5\" /></g><g transform=\"rotate(301.98567266541187 305 305)\"><use x=\"305\" xlink:href=\"#stick\" y=\"5\" /></g><g transform=\"rotate(304.23529440513244 305 305)\"><use x=\"305\" xlink:href=\"#ltick\" y=\"5\" /><use x=\"305\" xlink:href=\"#ltick\" y=\"55\" /><text text-anchor=\"middle\" x=\"305\" y=\"45\">7</text></g><g transform=\"rotate(306.4530055388671 305 305)\"><use x=\"305\" xlink:href=\"#stick\" y=\"5\" /></g><g transform=\"rotate(308.6396987152566 305 305)\"><use x=\"305\" xlink:href=\"#stick\" y=\"5\" /></g><g transform=\"rotate(310.79622964336414 305 305)\"><use x=\"305\" xlink:href=\"#stick\" y=\"5\" /></g><g transform=\"rotate(312.92341910315145 305 305)\"><use x=\"305\" xlink:href=\"#stick\" y=\"5\" /></g><g transform=\"rotate(315.022054821012 305 305)\"><use x=\"305\" xlink:href=\"#stick\" y=\"5\" /></g><g transform=\"rotate(317.0928932210848 305 305)\"><use x=\"305\" xlink:href=\"#stick\" y=\"5\" /></g><g transform=\"rotate(319.1366610620935 305 305)\"><use x=\"305\" xlink:href=\"#stick\" y=\"5\" /></g><g transform=\"rotate(321.15405696857295 305 305)\"><use x=\"305\" xlink:href=\"#stick\" y=\"5\" /></g><g transform=\"rotate(323.1457528645589 305 305)\"><use x=\"305\" xlink:href=\"#stick\" y=\"5\" /></g><g transform=\"rotate(325.11239531709964 305 305)\"><use x=\"305\" xlink:href=\"#ltick\" y=\"5\" /><use x=\"305\" xlink:href=\"#ltick\" y=\"55\" /><text text-anchor=\"middle\" x=\"305\" y=\"45\">8</text></g><g transform=\"rotate(327.0546067963139 305 305)\"><use x=\"305\" xlink:href=\"#stick\" y=\"5\" /></g><g transform=\"rotate(328.972986858138 305 305)\"><use x=\"305\" xlink:href=\"#stick\" y=\"5\" /></g><g transform=\"rotate(330.86811325538656 305 305)\"><use x=\"305\" xlink:href=\"#stick\" y=\"5\" /></g><g transform=\"rotate(332.74054298227736 305 305)\"><use x=\"305\" xlink:href=\"#stick\" y=\"5\" /></g><g transform=\"rotate(334.5908132571453 305 305)\"><use x=\"305\" xlink:href=\"#stick\" y=\"5\" /></g><g transform=\"rotate(336.41944244768433 305 305)\"><use x=\"305\" xlink:href=\"#stick\" y=\"5\" /></g><g transform=\"rotate(338.2269309427026 305 305)\"><use x=\"305\" xlink:href=\"#stick\" y=\"5\" /></g><g transform=\"rotate(340.0137619740607 305 305)\"><use x=\"305\" xlink:href=\"#stick\" y=\"5\" /></g><g transform=\"rotate(341.7804023921686 305 305)\"><use x=\"305\" xlink:href=\"#stick\" y=\"5\" /></g><g transform=\"rotate(343.52730339815696 305 305)\"><use x=\"305\" xlink:href=\"#ltick\" y=\"5\" /><use x=\"305\" xlink:href=\"#ltick\" y=\"55\" /><text text-anchor=\"middle\" x=\"305\" y=\"45\">9</text></g><g transform=\"rotate(345.25490123559365 305 305)\"><use x=\"305\" xlink:href=\"#stick\" y=\"5\" /></g><g transform=\"rotate(346.96361784439983 305 305)\"><use x=\"305\" xlink:href=\"#stick\" y=\"5\" /></g><g transform=\"rotate(348.65386147941666 305 305)\"><use x=\"305\" xlink:href=\"#stick\" y=\"5\" /></g><g transform=\"rotate(350.3260272958915 305 305)\"><use x=\"305\" xlink:href=\"#stick\" y=\"5\" /></g><g transform=\"rotate(351.98049790398517 305 305)\"><use x=\"305\" xlink:href=\"#stick\" y=\"5\" /></g><g transform=\"rotate(353.61764389424457 305 305)\"><use x=\"305\" xlink:href=\"#stick\" y=\"5\" /></g><g transform=\"rotate(355.2378243358481 305 305)\"><use x=\"305\" xlink:href=\"#stick\" y=\"5\" /></g><g transform=\"rotate(356.8413872492982 305 305)\"><use x=\"305\" xlink:href=\"#stick\" y=\"5\" /></g><g transform=\"rotate(358.42867005511795 305 305)\"><use x=\"305\" xlink:href=\"#stick\" y=\"5\" /></g></svg>"
      ],
      "text/plain": [
       "<svgwrite.drawing.Drawing at 0x7f15b4323240>"
      ]
     },
     "execution_count": 113,
     "metadata": {},
     "output_type": "execute_result"
    }
   ],
   "source": [
    "circle"
   ]
  },
  {
   "cell_type": "code",
   "execution_count": 33,
   "metadata": {},
   "outputs": [],
   "source": [
    "import math,svgwrite\n",
    "def angle(x):\n",
    "    return math.log(x/10,10)*360\n",
    "inner=svgwrite.Drawing('inner.svg', profile='tiny', viewBox='0 0 610 610')\n",
    "inner.add(inner.circle((305,305),230,fill='lightgrey'))\n",
    "ltick=inner.line((0,0),(0,20),stroke=\"green\",stroke_width=2,id=\"ltick\")\n",
    "stick=inner.line((0,0),(0,70),stroke=\"green\",stroke_width=1,id=\"stick\")\n",
    "inner.defs.add(ltick)\n",
    "inner.defs.add(stick)\n",
    "for i in range(11,100):\n",
    "    group=inner.g(transform=\"rotate(\"+str(angle(i))+\" 305 305)\")\n",
    "    if i%10==0:\n",
    "        group.add(inner.use(ltick,(305,75)))\n",
    "        group.add(inner.use(ltick,(305,125)))\n",
    "        group.add(inner.text(i//10,(305,115),text_anchor=\"middle\"))\n",
    "    else:\n",
    "        group.add(inner.use(stick,(305,75)))\n",
    "    inner.add(group)\n",
    "group=inner.g()\n",
    "group.add(inner.line((305,0),(305,25),stroke=\"red\",stroke_width=2))\n",
    "group.add(inner.line((305,55),(305,95),stroke=\"red\",stroke_width=2))\n",
    "group.add(inner.text(1,(305,115),text_anchor=\"middle\"))\n",
    "group.add(inner.line((305,125),(305,150),stroke=\"red\",stroke_width=2))\n",
    "inner.add(group)\n",
    "inner.save()"
   ]
  },
  {
   "cell_type": "code",
   "execution_count": 34,
   "metadata": {},
   "outputs": [
    {
     "data": {
      "image/svg+xml": [
       "<svg baseProfile=\"tiny\" height=\"100%\" version=\"1.2\" viewBox=\"0 0 610 610\" width=\"100%\" xmlns=\"http://www.w3.org/2000/svg\" xmlns:ev=\"http://www.w3.org/2001/xml-events\" xmlns:xlink=\"http://www.w3.org/1999/xlink\"><defs><line id=\"ltick\" stroke=\"green\" stroke-width=\"2\" x1=\"0\" x2=\"0\" y1=\"0\" y2=\"20\" /><line id=\"stick\" stroke=\"green\" stroke-width=\"1\" x1=\"0\" x2=\"0\" y1=\"0\" y2=\"70\" /></defs><circle cx=\"305\" cy=\"305\" fill=\"lightgrey\" r=\"230\" /><g transform=\"rotate(14.901366656961025 305 305)\"><use x=\"305\" xlink:href=\"#stick\" y=\"75\" /></g><g transform=\"rotate(28.50524857714493 305 305)\"><use x=\"305\" xlink:href=\"#stick\" y=\"75\" /></g><g transform=\"rotate(41.019606830461235 305 305)\"><use x=\"305\" xlink:href=\"#stick\" y=\"75\" /></g><g transform=\"rotate(52.60609284416567 305 305)\"><use x=\"305\" xlink:href=\"#stick\" y=\"75\" /></g><g transform=\"rotate(63.39285326004524 305 305)\"><use x=\"305\" xlink:href=\"#stick\" y=\"75\" /></g><g transform=\"rotate(73.48319375613292 305 305)\"><use x=\"305\" xlink:href=\"#stick\" y=\"75\" /></g><g transform=\"rotate(82.9616116961786 305 305)\"><use x=\"305\" xlink:href=\"#stick\" y=\"75\" /></g><g transform=\"rotate(91.89810183719018 305 305)\"><use x=\"305\" xlink:href=\"#stick\" y=\"75\" /></g><g transform=\"rotate(100.3512963430184 305 305)\"><use x=\"305\" xlink:href=\"#stick\" y=\"75\" /></g><g transform=\"rotate(108.37079843903321 305 305)\"><use x=\"305\" xlink:href=\"#ltick\" y=\"75\" /><use x=\"305\" xlink:href=\"#ltick\" y=\"125\" /><text text-anchor=\"middle\" x=\"305\" y=\"115\">2</text></g><g transform=\"rotate(115.99894610421093 305 305)\"><use x=\"305\" xlink:href=\"#stick\" y=\"75\" /></g><g transform=\"rotate(123.27216509599424 305 305)\"><use x=\"305\" xlink:href=\"#stick\" y=\"75\" /></g><g transform=\"rotate(130.2220209663334 305 305)\"><use x=\"305\" xlink:href=\"#stick\" y=\"75\" /></g><g transform=\"rotate(136.87604701617815 305 305)\"><use x=\"305\" xlink:href=\"#stick\" y=\"75\" /></g><g transform=\"rotate(143.25840312193353 305 305)\"><use x=\"305\" xlink:href=\"#stick\" y=\"75\" /></g><g transform=\"rotate(149.39040526949444 305 305)\"><use x=\"305\" xlink:href=\"#stick\" y=\"75\" /></g><g transform=\"rotate(155.29095509723544 305 305)\"><use x=\"305\" xlink:href=\"#stick\" y=\"75\" /></g><g transform=\"rotate(160.97689128319888 305 305)\"><use x=\"305\" xlink:href=\"#stick\" y=\"75\" /></g><g transform=\"rotate(166.46327924362416 305 305)\"><use x=\"305\" xlink:href=\"#stick\" y=\"75\" /></g><g transform=\"rotate(171.76365169907848 305 305)\"><use x=\"305\" xlink:href=\"#ltick\" y=\"75\" /><use x=\"305\" xlink:href=\"#ltick\" y=\"125\" /><text text-anchor=\"middle\" x=\"305\" y=\"115\">3</text></g><g transform=\"rotate(176.89020978033815 305 305)\"><use x=\"305\" xlink:href=\"#stick\" y=\"75\" /></g><g transform=\"rotate(181.85399219516614 305 305)\"><use x=\"305\" xlink:href=\"#stick\" y=\"75\" /></g><g transform=\"rotate(186.66501835603947 305 305)\"><use x=\"305\" xlink:href=\"#stick\" y=\"75\" /></g><g transform=\"rotate(191.3324101352118 305 305)\"><use x=\"305\" xlink:href=\"#stick\" y=\"75\" /></g><g transform=\"rotate(195.8644959660992 305 305)\"><use x=\"305\" xlink:href=\"#stick\" y=\"75\" /></g><g transform=\"rotate(200.26890027622338 305 305)\"><use x=\"305\" xlink:href=\"#stick\" y=\"75\" /></g><g transform=\"rotate(204.5526206641182 305 305)\"><use x=\"305\" xlink:href=\"#stick\" y=\"75\" /></g><g transform=\"rotate(208.7220947820516 305 305)\"><use x=\"305\" xlink:href=\"#stick\" y=\"75\" /></g><g transform=\"rotate(212.78325852953967 305 305)\"><use x=\"305\" xlink:href=\"#stick\" y=\"75\" /></g><g transform=\"rotate(216.74159687806642 305 305)\"><use x=\"305\" xlink:href=\"#ltick\" y=\"75\" /><use x=\"305\" xlink:href=\"#ltick\" y=\"125\" /><text text-anchor=\"middle\" x=\"305\" y=\"115\">4</text></g><g transform=\"rotate(220.60218841910478 305 305)\"><use x=\"305\" xlink:href=\"#stick\" y=\"75\" /></g><g transform=\"rotate(224.36974454324417 305 305)\"><use x=\"305\" xlink:href=\"#stick\" y=\"75\" /></g><g transform=\"rotate(228.0486440086511 305 305)\"><use x=\"305\" xlink:href=\"#stick\" y=\"75\" /></g><g transform=\"rotate(231.64296353502746 305 305)\"><use x=\"305\" xlink:href=\"#stick\" y=\"75\" /></g><g transform=\"rotate(235.1565049591237 305 305)\"><use x=\"305\" xlink:href=\"#stick\" y=\"75\" /></g><g transform=\"rotate(238.59281940536664 305 305)\"><use x=\"305\" xlink:href=\"#stick\" y=\"75\" /></g><g transform=\"rotate(241.95522885685827 305 305)\"><use x=\"305\" xlink:href=\"#stick\" y=\"75\" /></g><g transform=\"rotate(245.24684545521137 305 305)\"><use x=\"305\" xlink:href=\"#stick\" y=\"75\" /></g><g transform=\"rotate(248.4705888102649 305 305)\"><use x=\"305\" xlink:href=\"#stick\" y=\"75\" /></g><g transform=\"rotate(251.62920156096675 305 305)\"><use x=\"305\" xlink:href=\"#ltick\" y=\"75\" /><use x=\"305\" xlink:href=\"#ltick\" y=\"125\" /><text text-anchor=\"middle\" x=\"305\" y=\"115\">5</text></g><g transform=\"rotate(254.72526339525706 305 305)\"><use x=\"305\" xlink:href=\"#stick\" y=\"75\" /></g><g transform=\"rotate(257.76120370852766 305 305)\"><use x=\"305\" xlink:href=\"#stick\" y=\"75\" /></g><g transform=\"rotate(260.739313056284 305 305)\"><use x=\"305\" xlink:href=\"#stick\" y=\"75\" /></g><g transform=\"rotate(263.66175353626863 305 305)\"><use x=\"305\" xlink:href=\"#stick\" y=\"75\" /></g><g transform=\"rotate(266.53056821792774 305 305)\"><use x=\"305\" xlink:href=\"#stick\" y=\"75\" /></g><g transform=\"rotate(269.34768972223213 305 305)\"><use x=\"305\" xlink:href=\"#stick\" y=\"75\" /></g><g transform=\"rotate(272.1149480420969 305 305)\"><use x=\"305\" xlink:href=\"#stick\" y=\"75\" /></g><g transform=\"rotate(274.8340776826574 305 305)\"><use x=\"305\" xlink:href=\"#stick\" y=\"75\" /></g><g transform=\"rotate(277.5067241911719 305 305)\"><use x=\"305\" xlink:href=\"#stick\" y=\"75\" /></g><g transform=\"rotate(280.1344501381117 305 305)\"><use x=\"305\" xlink:href=\"#ltick\" y=\"75\" /><use x=\"305\" xlink:href=\"#ltick\" y=\"125\" /><text text-anchor=\"middle\" x=\"305\" y=\"115\">6</text></g><g transform=\"rotate(282.7187406038761 305 305)\"><use x=\"305\" xlink:href=\"#stick\" y=\"75\" /></g><g transform=\"rotate(285.2610082193714 305 305)\"><use x=\"305\" xlink:href=\"#stick\" y=\"75\" /></g><g transform=\"rotate(287.76259780328934 305 305)\"><use x=\"305\" xlink:href=\"#stick\" y=\"75\" /></g><g transform=\"rotate(290.2247906341994 305 305)\"><use x=\"305\" xlink:href=\"#stick\" y=\"75\" /></g><g transform=\"rotate(292.64880839142796 305 305)\"><use x=\"305\" xlink:href=\"#stick\" y=\"75\" /></g><g transform=\"rotate(295.03581679507266 305 305)\"><use x=\"305\" xlink:href=\"#stick\" y=\"75\" /></g><g transform=\"rotate(297.38692897229754 305 305)\"><use x=\"305\" xlink:href=\"#stick\" y=\"75\" /></g><g transform=\"rotate(299.7032085742451 305 305)\"><use x=\"305\" xlink:href=\"#stick\" y=\"75\" /></g><g transform=\"rotate(301.98567266541187 305 305)\"><use x=\"305\" xlink:href=\"#stick\" y=\"75\" /></g><g transform=\"rotate(304.23529440513244 305 305)\"><use x=\"305\" xlink:href=\"#ltick\" y=\"75\" /><use x=\"305\" xlink:href=\"#ltick\" y=\"125\" /><text text-anchor=\"middle\" x=\"305\" y=\"115\">7</text></g><g transform=\"rotate(306.4530055388671 305 305)\"><use x=\"305\" xlink:href=\"#stick\" y=\"75\" /></g><g transform=\"rotate(308.6396987152566 305 305)\"><use x=\"305\" xlink:href=\"#stick\" y=\"75\" /></g><g transform=\"rotate(310.79622964336414 305 305)\"><use x=\"305\" xlink:href=\"#stick\" y=\"75\" /></g><g transform=\"rotate(312.92341910315145 305 305)\"><use x=\"305\" xlink:href=\"#stick\" y=\"75\" /></g><g transform=\"rotate(315.022054821012 305 305)\"><use x=\"305\" xlink:href=\"#stick\" y=\"75\" /></g><g transform=\"rotate(317.0928932210848 305 305)\"><use x=\"305\" xlink:href=\"#stick\" y=\"75\" /></g><g transform=\"rotate(319.1366610620935 305 305)\"><use x=\"305\" xlink:href=\"#stick\" y=\"75\" /></g><g transform=\"rotate(321.15405696857295 305 305)\"><use x=\"305\" xlink:href=\"#stick\" y=\"75\" /></g><g transform=\"rotate(323.1457528645589 305 305)\"><use x=\"305\" xlink:href=\"#stick\" y=\"75\" /></g><g transform=\"rotate(325.11239531709964 305 305)\"><use x=\"305\" xlink:href=\"#ltick\" y=\"75\" /><use x=\"305\" xlink:href=\"#ltick\" y=\"125\" /><text text-anchor=\"middle\" x=\"305\" y=\"115\">8</text></g><g transform=\"rotate(327.0546067963139 305 305)\"><use x=\"305\" xlink:href=\"#stick\" y=\"75\" /></g><g transform=\"rotate(328.972986858138 305 305)\"><use x=\"305\" xlink:href=\"#stick\" y=\"75\" /></g><g transform=\"rotate(330.86811325538656 305 305)\"><use x=\"305\" xlink:href=\"#stick\" y=\"75\" /></g><g transform=\"rotate(332.74054298227736 305 305)\"><use x=\"305\" xlink:href=\"#stick\" y=\"75\" /></g><g transform=\"rotate(334.5908132571453 305 305)\"><use x=\"305\" xlink:href=\"#stick\" y=\"75\" /></g><g transform=\"rotate(336.41944244768433 305 305)\"><use x=\"305\" xlink:href=\"#stick\" y=\"75\" /></g><g transform=\"rotate(338.2269309427026 305 305)\"><use x=\"305\" xlink:href=\"#stick\" y=\"75\" /></g><g transform=\"rotate(340.0137619740607 305 305)\"><use x=\"305\" xlink:href=\"#stick\" y=\"75\" /></g><g transform=\"rotate(341.7804023921686 305 305)\"><use x=\"305\" xlink:href=\"#stick\" y=\"75\" /></g><g transform=\"rotate(343.52730339815696 305 305)\"><use x=\"305\" xlink:href=\"#ltick\" y=\"75\" /><use x=\"305\" xlink:href=\"#ltick\" y=\"125\" /><text text-anchor=\"middle\" x=\"305\" y=\"115\">9</text></g><g transform=\"rotate(345.25490123559365 305 305)\"><use x=\"305\" xlink:href=\"#stick\" y=\"75\" /></g><g transform=\"rotate(346.96361784439983 305 305)\"><use x=\"305\" xlink:href=\"#stick\" y=\"75\" /></g><g transform=\"rotate(348.65386147941666 305 305)\"><use x=\"305\" xlink:href=\"#stick\" y=\"75\" /></g><g transform=\"rotate(350.3260272958915 305 305)\"><use x=\"305\" xlink:href=\"#stick\" y=\"75\" /></g><g transform=\"rotate(351.98049790398517 305 305)\"><use x=\"305\" xlink:href=\"#stick\" y=\"75\" /></g><g transform=\"rotate(353.61764389424457 305 305)\"><use x=\"305\" xlink:href=\"#stick\" y=\"75\" /></g><g transform=\"rotate(355.2378243358481 305 305)\"><use x=\"305\" xlink:href=\"#stick\" y=\"75\" /></g><g transform=\"rotate(356.8413872492982 305 305)\"><use x=\"305\" xlink:href=\"#stick\" y=\"75\" /></g><g transform=\"rotate(358.42867005511795 305 305)\"><use x=\"305\" xlink:href=\"#stick\" y=\"75\" /></g><g><line stroke=\"red\" stroke-width=\"2\" x1=\"305\" x2=\"305\" y1=\"0\" y2=\"25\" /><line stroke=\"red\" stroke-width=\"2\" x1=\"305\" x2=\"305\" y1=\"55\" y2=\"95\" /><text text-anchor=\"middle\" x=\"305\" y=\"115\">1</text><line stroke=\"red\" stroke-width=\"2\" x1=\"305\" x2=\"305\" y1=\"125\" y2=\"150\" /></g></svg>"
      ],
      "text/plain": [
       "<svgwrite.drawing.Drawing at 0x7fc49c2cacc0>"
      ]
     },
     "execution_count": 34,
     "metadata": {},
     "output_type": "execute_result"
    }
   ],
   "source": [
    "inner"
   ]
  },
  {
   "cell_type": "code",
   "execution_count": 73,
   "metadata": {},
   "outputs": [
    {
     "data": {
      "image/svg+xml": [
       "<circle cx=\"305\" cy=\"305\" fill=\"blue\" r=\"50\" />"
      ],
      "text/plain": [
       "<svgwrite.shapes.Circle at 0x7fc49c3dd518>"
      ]
     },
     "execution_count": 73,
     "metadata": {},
     "output_type": "execute_result"
    }
   ],
   "source": [
    "import math,svgwrite\n",
    "wedge=svgwrite.Drawing('wedge.svg', profile='tiny', viewBox='0 0 610 610')\n",
    "group=wedge.g()\n",
    "group.add(wedge.line((305,0),(305,25),stroke=\"red\",stroke_width=2))\n",
    "group.add(wedge.line((305,55),(305,95),stroke=\"red\",stroke_width=2))\n",
    "group.add(wedge.line((305,125),(305,150),stroke=\"red\",stroke_width=2))\n",
    "wedge.add(group)\n",
    "wedge.add(wedge.path(d=\"M280 2 a304 304 0 0 1 50 0 l -25 300 z\", fill=\"lightgrey\", opacity=0.1, stroke=\"grey\", stroke_width=1 ))\n",
    "wedge.add(wedge.circle((305,305),50,fill=\"blue\"))"
   ]
  },
  {
   "cell_type": "code",
   "execution_count": 74,
   "metadata": {},
   "outputs": [
    {
     "data": {
      "image/svg+xml": [
       "<svg baseProfile=\"tiny\" height=\"100%\" version=\"1.2\" viewBox=\"0 0 610 610\" width=\"100%\" xmlns=\"http://www.w3.org/2000/svg\" xmlns:ev=\"http://www.w3.org/2001/xml-events\" xmlns:xlink=\"http://www.w3.org/1999/xlink\"><defs /><g><line stroke=\"red\" stroke-width=\"2\" x1=\"305\" x2=\"305\" y1=\"0\" y2=\"25\" /><line stroke=\"red\" stroke-width=\"2\" x1=\"305\" x2=\"305\" y1=\"55\" y2=\"95\" /><line stroke=\"red\" stroke-width=\"2\" x1=\"305\" x2=\"305\" y1=\"125\" y2=\"150\" /></g><path d=\"M280 2 a304 304 0 0 1 50 0 l -25 300 z\" fill=\"lightgrey\" stroke=\"grey\" stroke-width=\"1\" /><circle cx=\"305\" cy=\"305\" fill=\"blue\" r=\"50\" /></svg>"
      ],
      "text/plain": [
       "<svgwrite.drawing.Drawing at 0x7fc49c2eb908>"
      ]
     },
     "execution_count": 74,
     "metadata": {},
     "output_type": "execute_result"
    }
   ],
   "source": [
    "wedge"
   ]
  },
  {
   "cell_type": "code",
   "execution_count": null,
   "metadata": {},
   "outputs": [],
   "source": []
  }
 ],
 "metadata": {
  "kernelspec": {
   "display_name": "Python 3",
   "language": "python",
   "name": "python3"
  },
  "language_info": {
   "codemirror_mode": {
    "name": "ipython",
    "version": 3
   },
   "file_extension": ".py",
   "mimetype": "text/x-python",
   "name": "python",
   "nbconvert_exporter": "python",
   "pygments_lexer": "ipython3",
   "version": "3.7.3"
  }
 },
 "nbformat": 4,
 "nbformat_minor": 4
}
