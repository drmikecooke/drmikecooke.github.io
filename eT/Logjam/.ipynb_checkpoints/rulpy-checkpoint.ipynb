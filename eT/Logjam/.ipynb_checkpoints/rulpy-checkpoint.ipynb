{
 "cells": [
  {
   "cell_type": "code",
   "execution_count": 1,
   "metadata": {},
   "outputs": [],
   "source": [
    "import svgwrite"
   ]
  },
  {
   "cell_type": "code",
   "execution_count": 4,
   "metadata": {},
   "outputs": [],
   "source": [
    "dwg = svgwrite.Drawing('test.svg', profile='full')\n",
    "dwg.add(dwg.line((0, 0), (10, 0), stroke=svgwrite.rgb(10, 10, 16, '%')))\n",
    "dwg.add(dwg.text('Test', insert=(0, 10), fill='red'))\n",
    "dwg.save()"
   ]
  },
  {
   "cell_type": "code",
   "execution_count": 76,
   "metadata": {},
   "outputs": [],
   "source": [
    "dwg = svgwrite.Drawing('rule.svg', viewBox=\"0 0 840 70\", profile=\"tiny\")\n",
    "rule=dwg.add(dwg.rect((0, 0), (840, 70), fill='beige'))\n",
    "for i in range(0,21):\n",
    "    vl =dwg.add(dwg.line((20*(2*i+1),0),(20*(2*i+1),20),stroke=\"green\",stroke_width=2))\n",
    "    num=dwg.add(dwg.text(i,insert=(20*(2*i+1),40),text_anchor=\"middle\"))\n",
    "    vl =dwg.add(dwg.line((20*(2*i+1),50),(20*(2*i+1),70),stroke=\"green\",stroke_width=2))\n",
    "dwg.save()"
   ]
  },
  {
   "cell_type": "code",
   "execution_count": 77,
   "metadata": {},
   "outputs": [
    {
     "data": {
      "image/svg+xml": [
       "<svg baseProfile=\"tiny\" height=\"100%\" version=\"1.2\" viewBox=\"0 0 840 70\" width=\"100%\" xmlns=\"http://www.w3.org/2000/svg\" xmlns:ev=\"http://www.w3.org/2001/xml-events\" xmlns:xlink=\"http://www.w3.org/1999/xlink\"><defs /><rect fill=\"beige\" height=\"70\" width=\"840\" x=\"0\" y=\"0\" /><line stroke=\"green\" stroke-width=\"2\" x1=\"20\" x2=\"20\" y1=\"0\" y2=\"20\" /><text text-anchor=\"middle\" x=\"20\" y=\"40\">0</text><line stroke=\"green\" stroke-width=\"2\" x1=\"20\" x2=\"20\" y1=\"50\" y2=\"70\" /><line stroke=\"green\" stroke-width=\"2\" x1=\"60\" x2=\"60\" y1=\"0\" y2=\"20\" /><text text-anchor=\"middle\" x=\"60\" y=\"40\">1</text><line stroke=\"green\" stroke-width=\"2\" x1=\"60\" x2=\"60\" y1=\"50\" y2=\"70\" /><line stroke=\"green\" stroke-width=\"2\" x1=\"100\" x2=\"100\" y1=\"0\" y2=\"20\" /><text text-anchor=\"middle\" x=\"100\" y=\"40\">2</text><line stroke=\"green\" stroke-width=\"2\" x1=\"100\" x2=\"100\" y1=\"50\" y2=\"70\" /><line stroke=\"green\" stroke-width=\"2\" x1=\"140\" x2=\"140\" y1=\"0\" y2=\"20\" /><text text-anchor=\"middle\" x=\"140\" y=\"40\">3</text><line stroke=\"green\" stroke-width=\"2\" x1=\"140\" x2=\"140\" y1=\"50\" y2=\"70\" /><line stroke=\"green\" stroke-width=\"2\" x1=\"180\" x2=\"180\" y1=\"0\" y2=\"20\" /><text text-anchor=\"middle\" x=\"180\" y=\"40\">4</text><line stroke=\"green\" stroke-width=\"2\" x1=\"180\" x2=\"180\" y1=\"50\" y2=\"70\" /><line stroke=\"green\" stroke-width=\"2\" x1=\"220\" x2=\"220\" y1=\"0\" y2=\"20\" /><text text-anchor=\"middle\" x=\"220\" y=\"40\">5</text><line stroke=\"green\" stroke-width=\"2\" x1=\"220\" x2=\"220\" y1=\"50\" y2=\"70\" /><line stroke=\"green\" stroke-width=\"2\" x1=\"260\" x2=\"260\" y1=\"0\" y2=\"20\" /><text text-anchor=\"middle\" x=\"260\" y=\"40\">6</text><line stroke=\"green\" stroke-width=\"2\" x1=\"260\" x2=\"260\" y1=\"50\" y2=\"70\" /><line stroke=\"green\" stroke-width=\"2\" x1=\"300\" x2=\"300\" y1=\"0\" y2=\"20\" /><text text-anchor=\"middle\" x=\"300\" y=\"40\">7</text><line stroke=\"green\" stroke-width=\"2\" x1=\"300\" x2=\"300\" y1=\"50\" y2=\"70\" /><line stroke=\"green\" stroke-width=\"2\" x1=\"340\" x2=\"340\" y1=\"0\" y2=\"20\" /><text text-anchor=\"middle\" x=\"340\" y=\"40\">8</text><line stroke=\"green\" stroke-width=\"2\" x1=\"340\" x2=\"340\" y1=\"50\" y2=\"70\" /><line stroke=\"green\" stroke-width=\"2\" x1=\"380\" x2=\"380\" y1=\"0\" y2=\"20\" /><text text-anchor=\"middle\" x=\"380\" y=\"40\">9</text><line stroke=\"green\" stroke-width=\"2\" x1=\"380\" x2=\"380\" y1=\"50\" y2=\"70\" /><line stroke=\"green\" stroke-width=\"2\" x1=\"420\" x2=\"420\" y1=\"0\" y2=\"20\" /><text text-anchor=\"middle\" x=\"420\" y=\"40\">10</text><line stroke=\"green\" stroke-width=\"2\" x1=\"420\" x2=\"420\" y1=\"50\" y2=\"70\" /><line stroke=\"green\" stroke-width=\"2\" x1=\"460\" x2=\"460\" y1=\"0\" y2=\"20\" /><text text-anchor=\"middle\" x=\"460\" y=\"40\">11</text><line stroke=\"green\" stroke-width=\"2\" x1=\"460\" x2=\"460\" y1=\"50\" y2=\"70\" /><line stroke=\"green\" stroke-width=\"2\" x1=\"500\" x2=\"500\" y1=\"0\" y2=\"20\" /><text text-anchor=\"middle\" x=\"500\" y=\"40\">12</text><line stroke=\"green\" stroke-width=\"2\" x1=\"500\" x2=\"500\" y1=\"50\" y2=\"70\" /><line stroke=\"green\" stroke-width=\"2\" x1=\"540\" x2=\"540\" y1=\"0\" y2=\"20\" /><text text-anchor=\"middle\" x=\"540\" y=\"40\">13</text><line stroke=\"green\" stroke-width=\"2\" x1=\"540\" x2=\"540\" y1=\"50\" y2=\"70\" /><line stroke=\"green\" stroke-width=\"2\" x1=\"580\" x2=\"580\" y1=\"0\" y2=\"20\" /><text text-anchor=\"middle\" x=\"580\" y=\"40\">14</text><line stroke=\"green\" stroke-width=\"2\" x1=\"580\" x2=\"580\" y1=\"50\" y2=\"70\" /><line stroke=\"green\" stroke-width=\"2\" x1=\"620\" x2=\"620\" y1=\"0\" y2=\"20\" /><text text-anchor=\"middle\" x=\"620\" y=\"40\">15</text><line stroke=\"green\" stroke-width=\"2\" x1=\"620\" x2=\"620\" y1=\"50\" y2=\"70\" /><line stroke=\"green\" stroke-width=\"2\" x1=\"660\" x2=\"660\" y1=\"0\" y2=\"20\" /><text text-anchor=\"middle\" x=\"660\" y=\"40\">16</text><line stroke=\"green\" stroke-width=\"2\" x1=\"660\" x2=\"660\" y1=\"50\" y2=\"70\" /><line stroke=\"green\" stroke-width=\"2\" x1=\"700\" x2=\"700\" y1=\"0\" y2=\"20\" /><text text-anchor=\"middle\" x=\"700\" y=\"40\">17</text><line stroke=\"green\" stroke-width=\"2\" x1=\"700\" x2=\"700\" y1=\"50\" y2=\"70\" /><line stroke=\"green\" stroke-width=\"2\" x1=\"740\" x2=\"740\" y1=\"0\" y2=\"20\" /><text text-anchor=\"middle\" x=\"740\" y=\"40\">18</text><line stroke=\"green\" stroke-width=\"2\" x1=\"740\" x2=\"740\" y1=\"50\" y2=\"70\" /><line stroke=\"green\" stroke-width=\"2\" x1=\"780\" x2=\"780\" y1=\"0\" y2=\"20\" /><text text-anchor=\"middle\" x=\"780\" y=\"40\">19</text><line stroke=\"green\" stroke-width=\"2\" x1=\"780\" x2=\"780\" y1=\"50\" y2=\"70\" /><line stroke=\"green\" stroke-width=\"2\" x1=\"820\" x2=\"820\" y1=\"0\" y2=\"20\" /><text text-anchor=\"middle\" x=\"820\" y=\"40\">20</text><line stroke=\"green\" stroke-width=\"2\" x1=\"820\" x2=\"820\" y1=\"50\" y2=\"70\" /></svg>"
      ],
      "text/plain": [
       "<svgwrite.drawing.Drawing at 0x7f4d42f57630>"
      ]
     },
     "execution_count": 77,
     "metadata": {},
     "output_type": "execute_result"
    }
   ],
   "source": [
    "dwg"
   ]
  },
  {
   "cell_type": "code",
   "execution_count": 25,
   "metadata": {},
   "outputs": [
    {
     "name": "stdout",
     "output_type": "stream",
     "text": [
      "<svg baseProfile=\"full\" height=\"100%\" version=\"1.1\" width=\"100%\" xmlns=\"http://www.w3.org/2000/svg\" xmlns:ev=\"http://www.w3.org/2001/xml-events\" xmlns:xlink=\"http://www.w3.org/1999/xlink\"><defs><linearGradient id=\"vert_lin_grad\" x1=\"0\" x2=\"0\" y1=\"0\" y2=\"1\"><stop offset=\"0%\" stop-color=\"blue\" /><stop offset=\"50%\" stop-color=\"green\" /><stop offset=\"100%\" stop-color=\"yellow\" /></linearGradient></defs><rect fill=\"red\" height=\"200\" stroke=\"rgb(10%,10%,16%)\" width=\"300\" x=\"10\" y=\"10\" /><circle cx=\"25\" cy=\"25\" fill=\"white\" r=\"10\" stroke=\"rgb(15%,15%,15%)\" /><text fill=\"rgb(15%,15%,15%)\" font-size=\"15px\" font-weight=\"bold\" stroke=\"none\" x=\"21\" y=\"30\">1</text><text fill=\"#900\" font-family=\"Arial\" font-size=\"90px\" font-weight=\"bold\" stroke=\"none\" x=\"55\" y=\"125\">ABC</text><text fill=\"#A90690\" font-family=\"Courier New\" font-size=\"66px\" font-weight=\"bold\" stroke=\"#500\" stroke-width=\"2\" x=\"50\" y=\"180\">12345</text><text fill=\"white\" x=\"40\" y=\"40\">rectangle w/ black stroke &amp; red fill</text><rect fill=\"none\" height=\"190\" stroke=\"rgb(10%,10%,16%)\" width=\"300\" x=\"10\" y=\"220\" /><text fill=\"black\" x=\"40\" y=\"250\">rectangle w/ black stroke &amp; no fill</text><circle cx=\"26\" cy=\"235\" fill=\"#eeeeee\" r=\"10\" stroke=\"rgb(15%,15%,15%)\" /><text fill=\"rgb(15%,15%,15%)\" font-size=\"15px\" font-weight=\"bold\" stroke=\"none\" x=\"22\" y=\"240\">2</text><rect fill=\"url(#vert_lin_grad)\" height=\"120\" stroke=\"rgb(10%,10%,16%)\" width=\"240\" x=\"35\" y=\"270\" /><text fill=\"white\" x=\"60\" y=\"330\">rectangle w/ linear gradient</text><rect fill=\"blue\" height=\"400\" stroke=\"rgb(10%,10%,16%)\" width=\"400\" x=\"320\" y=\"10\" /><text fill=\"yellow\" x=\"360\" y=\"40\">rectangle w/ black stroke &amp; blue fill</text><circle cx=\"335\" cy=\"25\" fill=\"#eeeeee\" r=\"10\" stroke=\"rgb(15%,15%,15%)\" /><text fill=\"rgb(15%,15%,15%)\" font-size=\"15px\" font-weight=\"bold\" stroke=\"none\" x=\"331\" y=\"30\">3</text><circle cx=\"520\" cy=\"220\" fill=\"yellow\" r=\"90\" stroke=\"rgb(10%,10%,16%)\" /><circle cx=\"495\" cy=\"195\" fill=\"black\" r=\"10\" stroke=\"rgb(10%,10%,16%)\" /><circle cx=\"550\" cy=\"195\" fill=\"black\" r=\"10\" stroke=\"rgb(10%,10%,16%)\" /><path d=\"M470,240 C490,290, 550,290, 570,240\" fill=\"none\" stroke=\"#000\" stroke-width=\"12\" /></svg>\n"
     ]
    }
   ],
   "source": [
    "import svgwrite\n",
    "\n",
    "dwg = svgwrite.Drawing('svgwrite-example.svg', profile='full')\n",
    "\n",
    "# draw a red box\n",
    "dwg.add(dwg.rect((10, 10), (300, 200),\n",
    "    stroke=svgwrite.rgb(10, 10, 16, '%'),\n",
    "    fill='red')\n",
    ")\n",
    "\n",
    "# Draw a small white circle in the top left of box\n",
    "dwg.add(dwg.circle(center=(25,25),\n",
    "    r=10, \n",
    "    stroke=svgwrite.rgb(15, 15, 15, '%'),\n",
    "    fill='white')\n",
    ")\n",
    "\n",
    "# Label this box #1\n",
    "dwg.add(dwg.text('1',\n",
    "    insert=(21,30),\n",
    "    stroke='none',\n",
    "    fill=svgwrite.rgb(15, 15, 15, '%'),\n",
    "    font_size='15px',\n",
    "    font_weight=\"bold\")\n",
    ")\n",
    "\n",
    "# Draw some text demonstrating font_size, font_family, font_weight, font_color\n",
    "dwg.add(dwg.text('ABC',\n",
    "    insert=(55,125),\n",
    "    stroke='none',\n",
    "    fill='#900',\n",
    "    font_size='90px',\n",
    "    font_weight=\"bold\",\n",
    "    font_family=\"Arial\")\n",
    ")\n",
    "\n",
    "# Draw some text demonstrating font stroke color\n",
    "dwg.add(dwg.text('12345',\n",
    "    insert=(50,180),\n",
    "    stroke='#500',\n",
    "    fill='#A90690',\n",
    "    stroke_width=2,\n",
    "    font_size='66px',\n",
    "    font_weight=\"bold\",\n",
    "    font_family=\"Courier New\")\n",
    ")\n",
    "\n",
    "# white text over red box\n",
    "dwg.add(dwg.text('rectangle w/ black stroke & red fill',\n",
    "    insert=(40, 40), \n",
    "    fill='white')\n",
    ")\n",
    "\n",
    "# draw a nofill box\n",
    "dwg.add(dwg.rect((10, 220), (300, 190),\n",
    "    stroke=svgwrite.rgb(10, 10, 16, '%'),\n",
    "    fill='none')\n",
    ")\n",
    "\n",
    "# black text over nofill box\n",
    "dwg.add(dwg.text('rectangle w/ black stroke & no fill',\n",
    "    insert=(40, 250),\n",
    "    fill='black')\n",
    ")\n",
    "\n",
    "# Draw a small white circle in the top left of box\n",
    "dwg.add(dwg.circle(center=(26,235),\n",
    "    r=10, \n",
    "    stroke=svgwrite.rgb(15, 15, 15, '%'),\n",
    "    fill='#eeeeee')\n",
    ")\n",
    "\n",
    "# Label this box #2\n",
    "dwg.add(dwg.text('2',\n",
    "    insert=(22,240),\n",
    "    stroke='none',\n",
    "    fill=svgwrite.rgb(15, 15, 15, '%'),\n",
    "    font_size='15px',\n",
    "    font_weight=\"bold\")\n",
    ")\n",
    "\n",
    "# Create a vertical linear gradient and add it the svg's definitions\n",
    "vert_grad = svgwrite.gradients.LinearGradient(start=(0, 0), end=(0,1), id=\"vert_lin_grad\")\n",
    "vert_grad.add_stop_color(offset='0%', color='blue', opacity=None)\n",
    "vert_grad.add_stop_color(offset='50%', color='green', opacity=None)\n",
    "vert_grad.add_stop_color(offset='100%', color='yellow', opacity=None)\n",
    "dwg.defs.add(vert_grad)\n",
    "\n",
    "# draw a box and reference the above gradient definition by #id\n",
    "dwg.add(dwg.rect((35, 270), (240, 120),\n",
    "    stroke=svgwrite.rgb(10, 10, 16, '%'),\n",
    "    fill=\"url(#vert_lin_grad)\"\n",
    "))\n",
    "\n",
    "# black text over nofill box\n",
    "dwg.add(dwg.text('rectangle w/ linear gradient',\n",
    "    insert=(60, 330),\n",
    "    fill='white')\n",
    ")\n",
    "\n",
    "# draw a blue box\n",
    "dwg.add(dwg.rect((320,10), (400, 400),\n",
    "    stroke=svgwrite.rgb(10, 10, 16, '%'),\n",
    "    fill='blue')\n",
    ")\n",
    "\n",
    "# yellow text over blue box\n",
    "dwg.add(dwg.text('rectangle w/ black stroke & blue fill',\n",
    "    insert=(360, 40),\n",
    "    fill='yellow')\n",
    ")\n",
    "\n",
    "# Draw a small white circle in the top left of box\n",
    "dwg.add(dwg.circle(center=(335,25),\n",
    "    r=10, \n",
    "    stroke=svgwrite.rgb(15, 15, 15, '%'),\n",
    "    fill='#eeeeee')\n",
    ")\n",
    "\n",
    "# Label this box #3\n",
    "dwg.add(dwg.text('3',\n",
    "    insert=(331,30),\n",
    "    stroke='none',\n",
    "    fill=svgwrite.rgb(15, 15, 15, '%'),\n",
    "    font_size='15px',\n",
    "    font_weight=\"bold\")\n",
    ")\n",
    "\n",
    "# lets draw a smiley face\n",
    "# draw a yellow circle\n",
    "dwg.add(dwg.circle(center=(520,220),\n",
    "    r=90, \n",
    "    stroke=svgwrite.rgb(10, 10, 16, '%'),\n",
    "    fill='yellow')\n",
    ")\n",
    "# draw the left then right eye\n",
    "dwg.add(dwg.circle(center=(495,195),\n",
    "    r=10, \n",
    "    stroke=svgwrite.rgb(10, 10, 16, '%'),\n",
    "    fill='black')\n",
    ")\n",
    "dwg.add(dwg.circle(center=(550,195),\n",
    "    r=10,\n",
    "    stroke=svgwrite.rgb(10, 10, 16, '%'),\n",
    "    fill='black')\n",
    ")\n",
    "\n",
    "# draw a cubic-bezier-curve path from 470,240 to 570,240 \n",
    "# using control points 490,290 & 550,290\n",
    "dwg.add(dwg.path( d='M470,240 C490,290, 550,290, 570,240',\n",
    "    stroke=\"#000\",\n",
    "    fill=\"none\",\n",
    "    stroke_width=12)\n",
    ")\n",
    "\n",
    "# output our svg image as raw xml\n",
    "print(dwg.tostring())\n",
    "\n",
    "# write svg file to disk\n",
    "dwg.save()"
   ]
  },
  {
   "cell_type": "code",
   "execution_count": 75,
   "metadata": {},
   "outputs": [],
   "source": [
    "linear=svgwrite.Drawing('linear.svg', profile='tiny')\n",
    "ltick=linear.line((0,0),(0,20),stroke=\"green\",stroke_width=2,id=\"ltick\")\n",
    "stick=linear.line((0,0),(0,10),stroke=\"green\",stroke_width=1,id=\"stick\")\n",
    "linear.defs.add(ltick)\n",
    "linear.defs.add(stick)\n",
    "linear.add(linear.rect((0, 0), (1050, 70), fill='beige'))\n",
    "for i in range(0,201):\n",
    "    if i%10==0:\n",
    "        linear.add(linear.use(\"#ltick\",(i*5+25,0)))\n",
    "        linear.add(linear.use(\"#ltick\",(i*5+25,50)))\n",
    "        linear.add(linear.text(i//10,(i*5+25,40),text_anchor=\"middle\"))\n",
    "    else:\n",
    "        linear.add(linear.use(\"#stick\",(i*5+25,0)))\n",
    "        linear.add(linear.use(\"#stick\",(i*5+25,60)))\n",
    "linear.save()"
   ]
  },
  {
   "cell_type": "code",
   "execution_count": 59,
   "metadata": {},
   "outputs": [
    {
     "data": {
      "text/plain": [
       "'<svg baseProfile=\"tiny\" height=\"100%\" version=\"1.2\" width=\"100%\" xmlns=\"http://www.w3.org/2000/svg\" xmlns:ev=\"http://www.w3.org/2001/xml-events\" xmlns:xlink=\"http://www.w3.org/1999/xlink\"><defs><line id=\"ltick\" stroke=\"green\" stroke-width=\"2\" x1=\"0\" x2=\"0\" y1=\"0\" y2=\"20\" /><line id=\"stick\" stroke=\"green\" stroke-width=\"1\" x1=\"0\" x2=\"0\" y1=\"0\" y2=\"10\" /></defs><rect fill=\"beige\" height=\"70\" width=\"1010\" x=\"0\" y=\"0\" /><use x=\"20\" xlink:href=\"#ltick\" y=\"20\" /><line stroke=\"green\" stroke-width=\"2\" x1=\"0\" x2=\"0\" y1=\"0\" y2=\"20\" /></svg>'"
      ]
     },
     "execution_count": 59,
     "metadata": {},
     "output_type": "execute_result"
    }
   ],
   "source": [
    "linear.tostring()"
   ]
  },
  {
   "cell_type": "code",
   "execution_count": 60,
   "metadata": {},
   "outputs": [],
   "source": [
    "linear.save()"
   ]
  },
  {
   "cell_type": "code",
   "execution_count": 31,
   "metadata": {},
   "outputs": [],
   "source": [
    "import math\n",
    "def logi(x):\n",
    "    return math.log(x/10,10)*1000+25\n",
    "\n",
    "log=svgwrite.Drawing('log.svg', profile='tiny')\n",
    "ltick=log.line((0,0),(0,20),stroke=\"green\",stroke_width=2,id=\"ltick\")\n",
    "stick=log.line((0,0),(0,10),stroke=\"green\",stroke_width=1,id=\"stick\")\n",
    "log.defs.add(ltick)\n",
    "log.defs.add(stick)\n",
    "log.add(log.rect((0, 0), (1050, 70), fill='beige'))\n",
    "for i in range(10,101):\n",
    "    if i%10==0:\n",
    "        log.add(log.use(\"#ltick\",(logi(i),0)))\n",
    "        log.add(log.use(\"#ltick\",(logi(i),50)))\n",
    "        log.add(log.text(i//10,(logi(i),40),text_anchor=\"middle\"))\n",
    "    else:\n",
    "        log.add(log.use(\"#stick\",(logi(i),0)))\n",
    "        log.add(log.use(\"#stick\",(logi(i),60)))\n",
    "log.save()"
   ]
  },
  {
   "cell_type": "code",
   "execution_count": 28,
   "metadata": {},
   "outputs": [
    {
     "data": {
      "text/plain": [
       "1025.0"
      ]
     },
     "execution_count": 28,
     "metadata": {},
     "output_type": "execute_result"
    }
   ],
   "source": [
    "logi(10)"
   ]
  },
  {
   "cell_type": "code",
   "execution_count": 29,
   "metadata": {},
   "outputs": [
    {
     "data": {
      "text/plain": [
       "2025.0"
      ]
     },
     "execution_count": 29,
     "metadata": {},
     "output_type": "execute_result"
    }
   ],
   "source": [
    "logi(100)"
   ]
  },
  {
   "cell_type": "code",
   "execution_count": 30,
   "metadata": {},
   "outputs": [
    {
     "data": {
      "image/svg+xml": [
       "<svg baseProfile=\"tiny\" height=\"100%\" version=\"1.2\" width=\"100%\" xmlns=\"http://www.w3.org/2000/svg\" xmlns:ev=\"http://www.w3.org/2001/xml-events\" xmlns:xlink=\"http://www.w3.org/1999/xlink\"><defs><line id=\"ltick\" stroke=\"green\" stroke-width=\"2\" x1=\"0\" x2=\"0\" y1=\"0\" y2=\"20\" /><line id=\"stick\" stroke=\"green\" stroke-width=\"1\" x1=\"0\" x2=\"0\" y1=\"0\" y2=\"10\" /></defs><rect fill=\"beige\" height=\"70\" width=\"1050\" x=\"0\" y=\"0\" /><use x=\"1025.0\" xlink:href=\"#ltick\" y=\"0\" /><use x=\"75\" xlink:href=\"#ltick\" y=\"50\" /><text text-anchor=\"middle\" x=\"75\" y=\"40\">1</text><use x=\"80\" xlink:href=\"#stick\" y=\"0\" /><use x=\"80\" xlink:href=\"#stick\" y=\"60\" /><use x=\"85\" xlink:href=\"#stick\" y=\"0\" /><use x=\"85\" xlink:href=\"#stick\" y=\"60\" /><use x=\"90\" xlink:href=\"#stick\" y=\"0\" /><use x=\"90\" xlink:href=\"#stick\" y=\"60\" /><use x=\"95\" xlink:href=\"#stick\" y=\"0\" /><use x=\"95\" xlink:href=\"#stick\" y=\"60\" /><use x=\"100\" xlink:href=\"#stick\" y=\"0\" /><use x=\"100\" xlink:href=\"#stick\" y=\"60\" /><use x=\"105\" xlink:href=\"#stick\" y=\"0\" /><use x=\"105\" xlink:href=\"#stick\" y=\"60\" /><use x=\"110\" xlink:href=\"#stick\" y=\"0\" /><use x=\"110\" xlink:href=\"#stick\" y=\"60\" /><use x=\"115\" xlink:href=\"#stick\" y=\"0\" /><use x=\"115\" xlink:href=\"#stick\" y=\"60\" /><use x=\"120\" xlink:href=\"#stick\" y=\"0\" /><use x=\"120\" xlink:href=\"#stick\" y=\"60\" /><use x=\"1326.03\" xlink:href=\"#ltick\" y=\"0\" /><use x=\"125\" xlink:href=\"#ltick\" y=\"50\" /><text text-anchor=\"middle\" x=\"125\" y=\"40\">2</text><use x=\"130\" xlink:href=\"#stick\" y=\"0\" /><use x=\"130\" xlink:href=\"#stick\" y=\"60\" /><use x=\"135\" xlink:href=\"#stick\" y=\"0\" /><use x=\"135\" xlink:href=\"#stick\" y=\"60\" /><use x=\"140\" xlink:href=\"#stick\" y=\"0\" /><use x=\"140\" xlink:href=\"#stick\" y=\"60\" /><use x=\"145\" xlink:href=\"#stick\" y=\"0\" /><use x=\"145\" xlink:href=\"#stick\" y=\"60\" /><use x=\"150\" xlink:href=\"#stick\" y=\"0\" /><use x=\"150\" xlink:href=\"#stick\" y=\"60\" /><use x=\"155\" xlink:href=\"#stick\" y=\"0\" /><use x=\"155\" xlink:href=\"#stick\" y=\"60\" /><use x=\"160\" xlink:href=\"#stick\" y=\"0\" /><use x=\"160\" xlink:href=\"#stick\" y=\"60\" /><use x=\"165\" xlink:href=\"#stick\" y=\"0\" /><use x=\"165\" xlink:href=\"#stick\" y=\"60\" /><use x=\"170\" xlink:href=\"#stick\" y=\"0\" /><use x=\"170\" xlink:href=\"#stick\" y=\"60\" /><use x=\"1502.1213\" xlink:href=\"#ltick\" y=\"0\" /><use x=\"175\" xlink:href=\"#ltick\" y=\"50\" /><text text-anchor=\"middle\" x=\"175\" y=\"40\">3</text><use x=\"180\" xlink:href=\"#stick\" y=\"0\" /><use x=\"180\" xlink:href=\"#stick\" y=\"60\" /><use x=\"185\" xlink:href=\"#stick\" y=\"0\" /><use x=\"185\" xlink:href=\"#stick\" y=\"60\" /><use x=\"190\" xlink:href=\"#stick\" y=\"0\" /><use x=\"190\" xlink:href=\"#stick\" y=\"60\" /><use x=\"195\" xlink:href=\"#stick\" y=\"0\" /><use x=\"195\" xlink:href=\"#stick\" y=\"60\" /><use x=\"200\" xlink:href=\"#stick\" y=\"0\" /><use x=\"200\" xlink:href=\"#stick\" y=\"60\" /><use x=\"205\" xlink:href=\"#stick\" y=\"0\" /><use x=\"205\" xlink:href=\"#stick\" y=\"60\" /><use x=\"210\" xlink:href=\"#stick\" y=\"0\" /><use x=\"210\" xlink:href=\"#stick\" y=\"60\" /><use x=\"215\" xlink:href=\"#stick\" y=\"0\" /><use x=\"215\" xlink:href=\"#stick\" y=\"60\" /><use x=\"220\" xlink:href=\"#stick\" y=\"0\" /><use x=\"220\" xlink:href=\"#stick\" y=\"60\" /><use x=\"1627.06\" xlink:href=\"#ltick\" y=\"0\" /><use x=\"225\" xlink:href=\"#ltick\" y=\"50\" /><text text-anchor=\"middle\" x=\"225\" y=\"40\">4</text><use x=\"230\" xlink:href=\"#stick\" y=\"0\" /><use x=\"230\" xlink:href=\"#stick\" y=\"60\" /><use x=\"235\" xlink:href=\"#stick\" y=\"0\" /><use x=\"235\" xlink:href=\"#stick\" y=\"60\" /><use x=\"240\" xlink:href=\"#stick\" y=\"0\" /><use x=\"240\" xlink:href=\"#stick\" y=\"60\" /><use x=\"245\" xlink:href=\"#stick\" y=\"0\" /><use x=\"245\" xlink:href=\"#stick\" y=\"60\" /><use x=\"250\" xlink:href=\"#stick\" y=\"0\" /><use x=\"250\" xlink:href=\"#stick\" y=\"60\" /><use x=\"255\" xlink:href=\"#stick\" y=\"0\" /><use x=\"255\" xlink:href=\"#stick\" y=\"60\" /><use x=\"260\" xlink:href=\"#stick\" y=\"0\" /><use x=\"260\" xlink:href=\"#stick\" y=\"60\" /><use x=\"265\" xlink:href=\"#stick\" y=\"0\" /><use x=\"265\" xlink:href=\"#stick\" y=\"60\" /><use x=\"270\" xlink:href=\"#stick\" y=\"0\" /><use x=\"270\" xlink:href=\"#stick\" y=\"60\" /><use x=\"1723.97\" xlink:href=\"#ltick\" y=\"0\" /><use x=\"275\" xlink:href=\"#ltick\" y=\"50\" /><text text-anchor=\"middle\" x=\"275\" y=\"40\">5</text><use x=\"280\" xlink:href=\"#stick\" y=\"0\" /><use x=\"280\" xlink:href=\"#stick\" y=\"60\" /><use x=\"285\" xlink:href=\"#stick\" y=\"0\" /><use x=\"285\" xlink:href=\"#stick\" y=\"60\" /><use x=\"290\" xlink:href=\"#stick\" y=\"0\" /><use x=\"290\" xlink:href=\"#stick\" y=\"60\" /><use x=\"295\" xlink:href=\"#stick\" y=\"0\" /><use x=\"295\" xlink:href=\"#stick\" y=\"60\" /><use x=\"300\" xlink:href=\"#stick\" y=\"0\" /><use x=\"300\" xlink:href=\"#stick\" y=\"60\" /><use x=\"305\" xlink:href=\"#stick\" y=\"0\" /><use x=\"305\" xlink:href=\"#stick\" y=\"60\" /><use x=\"310\" xlink:href=\"#stick\" y=\"0\" /><use x=\"310\" xlink:href=\"#stick\" y=\"60\" /><use x=\"315\" xlink:href=\"#stick\" y=\"0\" /><use x=\"315\" xlink:href=\"#stick\" y=\"60\" /><use x=\"320\" xlink:href=\"#stick\" y=\"0\" /><use x=\"320\" xlink:href=\"#stick\" y=\"60\" /><use x=\"1803.1513\" xlink:href=\"#ltick\" y=\"0\" /><use x=\"325\" xlink:href=\"#ltick\" y=\"50\" /><text text-anchor=\"middle\" x=\"325\" y=\"40\">6</text><use x=\"330\" xlink:href=\"#stick\" y=\"0\" /><use x=\"330\" xlink:href=\"#stick\" y=\"60\" /><use x=\"335\" xlink:href=\"#stick\" y=\"0\" /><use x=\"335\" xlink:href=\"#stick\" y=\"60\" /><use x=\"340\" xlink:href=\"#stick\" y=\"0\" /><use x=\"340\" xlink:href=\"#stick\" y=\"60\" /><use x=\"345\" xlink:href=\"#stick\" y=\"0\" /><use x=\"345\" xlink:href=\"#stick\" y=\"60\" /><use x=\"350\" xlink:href=\"#stick\" y=\"0\" /><use x=\"350\" xlink:href=\"#stick\" y=\"60\" /><use x=\"355\" xlink:href=\"#stick\" y=\"0\" /><use x=\"355\" xlink:href=\"#stick\" y=\"60\" /><use x=\"360\" xlink:href=\"#stick\" y=\"0\" /><use x=\"360\" xlink:href=\"#stick\" y=\"60\" /><use x=\"365\" xlink:href=\"#stick\" y=\"0\" /><use x=\"365\" xlink:href=\"#stick\" y=\"60\" /><use x=\"370\" xlink:href=\"#stick\" y=\"0\" /><use x=\"370\" xlink:href=\"#stick\" y=\"60\" /><use x=\"1870.098\" xlink:href=\"#ltick\" y=\"0\" /><use x=\"375\" xlink:href=\"#ltick\" y=\"50\" /><text text-anchor=\"middle\" x=\"375\" y=\"40\">7</text><use x=\"380\" xlink:href=\"#stick\" y=\"0\" /><use x=\"380\" xlink:href=\"#stick\" y=\"60\" /><use x=\"385\" xlink:href=\"#stick\" y=\"0\" /><use x=\"385\" xlink:href=\"#stick\" y=\"60\" /><use x=\"390\" xlink:href=\"#stick\" y=\"0\" /><use x=\"390\" xlink:href=\"#stick\" y=\"60\" /><use x=\"395\" xlink:href=\"#stick\" y=\"0\" /><use x=\"395\" xlink:href=\"#stick\" y=\"60\" /><use x=\"400\" xlink:href=\"#stick\" y=\"0\" /><use x=\"400\" xlink:href=\"#stick\" y=\"60\" /><use x=\"405\" xlink:href=\"#stick\" y=\"0\" /><use x=\"405\" xlink:href=\"#stick\" y=\"60\" /><use x=\"410\" xlink:href=\"#stick\" y=\"0\" /><use x=\"410\" xlink:href=\"#stick\" y=\"60\" /><use x=\"415\" xlink:href=\"#stick\" y=\"0\" /><use x=\"415\" xlink:href=\"#stick\" y=\"60\" /><use x=\"420\" xlink:href=\"#stick\" y=\"0\" /><use x=\"420\" xlink:href=\"#stick\" y=\"60\" /><use x=\"1928.09\" xlink:href=\"#ltick\" y=\"0\" /><use x=\"425\" xlink:href=\"#ltick\" y=\"50\" /><text text-anchor=\"middle\" x=\"425\" y=\"40\">8</text><use x=\"430\" xlink:href=\"#stick\" y=\"0\" /><use x=\"430\" xlink:href=\"#stick\" y=\"60\" /><use x=\"435\" xlink:href=\"#stick\" y=\"0\" /><use x=\"435\" xlink:href=\"#stick\" y=\"60\" /><use x=\"440\" xlink:href=\"#stick\" y=\"0\" /><use x=\"440\" xlink:href=\"#stick\" y=\"60\" /><use x=\"445\" xlink:href=\"#stick\" y=\"0\" /><use x=\"445\" xlink:href=\"#stick\" y=\"60\" /><use x=\"450\" xlink:href=\"#stick\" y=\"0\" /><use x=\"450\" xlink:href=\"#stick\" y=\"60\" /><use x=\"455\" xlink:href=\"#stick\" y=\"0\" /><use x=\"455\" xlink:href=\"#stick\" y=\"60\" /><use x=\"460\" xlink:href=\"#stick\" y=\"0\" /><use x=\"460\" xlink:href=\"#stick\" y=\"60\" /><use x=\"465\" xlink:href=\"#stick\" y=\"0\" /><use x=\"465\" xlink:href=\"#stick\" y=\"60\" /><use x=\"470\" xlink:href=\"#stick\" y=\"0\" /><use x=\"470\" xlink:href=\"#stick\" y=\"60\" /><use x=\"1979.2425\" xlink:href=\"#ltick\" y=\"0\" /><use x=\"475\" xlink:href=\"#ltick\" y=\"50\" /><text text-anchor=\"middle\" x=\"475\" y=\"40\">9</text><use x=\"480\" xlink:href=\"#stick\" y=\"0\" /><use x=\"480\" xlink:href=\"#stick\" y=\"60\" /><use x=\"485\" xlink:href=\"#stick\" y=\"0\" /><use x=\"485\" xlink:href=\"#stick\" y=\"60\" /><use x=\"490\" xlink:href=\"#stick\" y=\"0\" /><use x=\"490\" xlink:href=\"#stick\" y=\"60\" /><use x=\"495\" xlink:href=\"#stick\" y=\"0\" /><use x=\"495\" xlink:href=\"#stick\" y=\"60\" /><use x=\"500\" xlink:href=\"#stick\" y=\"0\" /><use x=\"500\" xlink:href=\"#stick\" y=\"60\" /><use x=\"505\" xlink:href=\"#stick\" y=\"0\" /><use x=\"505\" xlink:href=\"#stick\" y=\"60\" /><use x=\"510\" xlink:href=\"#stick\" y=\"0\" /><use x=\"510\" xlink:href=\"#stick\" y=\"60\" /><use x=\"515\" xlink:href=\"#stick\" y=\"0\" /><use x=\"515\" xlink:href=\"#stick\" y=\"60\" /><use x=\"520\" xlink:href=\"#stick\" y=\"0\" /><use x=\"520\" xlink:href=\"#stick\" y=\"60\" /><use x=\"2025.0\" xlink:href=\"#ltick\" y=\"0\" /><use x=\"525\" xlink:href=\"#ltick\" y=\"50\" /><text text-anchor=\"middle\" x=\"525\" y=\"40\">10</text></svg>"
      ],
      "text/plain": [
       "<svgwrite.drawing.Drawing at 0x7f94dfe7a0f0>"
      ]
     },
     "execution_count": 30,
     "metadata": {},
     "output_type": "execute_result"
    }
   ],
   "source": [
    "log"
   ]
  },
  {
   "cell_type": "code",
   "execution_count": null,
   "metadata": {},
   "outputs": [],
   "source": []
  }
 ],
 "metadata": {
  "kernelspec": {
   "display_name": "Python 3",
   "language": "python",
   "name": "python3"
  },
  "language_info": {
   "codemirror_mode": {
    "name": "ipython",
    "version": 3
   },
   "file_extension": ".py",
   "mimetype": "text/x-python",
   "name": "python",
   "nbconvert_exporter": "python",
   "pygments_lexer": "ipython3",
   "version": "3.7.3"
  }
 },
 "nbformat": 4,
 "nbformat_minor": 4
}
