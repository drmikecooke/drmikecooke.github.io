{
 "cells": [
  {
   "cell_type": "code",
   "execution_count": 6,
   "metadata": {},
   "outputs": [],
   "source": [
    "import os\n",
    "\n",
    "# find directories\n",
    "thedir='.'\n",
    "directories=[ name for name in os.listdir(thedir) if os.path.isdir(os.path.join(thedir, name)) ]\n",
    "\n",
    "# find html files\n",
    "menu=[]\n",
    "for directory in directories:\n",
    "    htmls=[html for html in os.listdir(directory) if html[-5:]=='.html']\n",
    "    htmls.sort()\n",
    "    if htmls!=[]:\n",
    "        menu+=[[directory,htmls]]\n",
    "\n",
    "# get menu data from htmls\n",
    "from bs4 import BeautifulSoup as soup\n",
    "\n",
    "def getItemData(dname,file):\n",
    "    with open(f'{dname}/{file}') as fp:\n",
    "        html = soup(fp, 'html.parser')\n",
    "    if html.article.h1:\n",
    "        project=html.article.h1.text\n",
    "    if html.article.div:\n",
    "        project=html.article.div.text\n",
    "    return [project,f'{dname}/{file}',f'{file.split(\".\")[0]} — {html.h2.text}']\n",
    "\n",
    "details=[]\n",
    "for directory in menu:\n",
    "    details+=[getItemData(directory[0],file) for file in directory[1]]\n",
    "\n",
    "# group details\n",
    "group={}\n",
    "for item in details:\n",
    "    if item[0] in group:\n",
    "        group[item[0]]+=[item[1:]]\n",
    "    else:\n",
    "        group[item[0]]=[item[1:]]\n",
    "\n",
    "# write new nav.js file and backup\n",
    "from datetime import datetime\n",
    "\n",
    "with open('nav.js','r') as nav:\n",
    "    navlines=nav.readlines()\n",
    "    \n",
    "if not os.path.exists('bak'):\n",
    "    os.makedirs('bak')\n",
    "\n",
    "with open(f'bak/{int(datetime.timestamp(datetime.now()))}.js','w') as backup:\n",
    "    backup.writelines(navlines)\n",
    "\n",
    "navlines[0]=f\"var menuItems = {str(group)}\\n\"\n",
    "\n",
    "with open('nav.js','w') as newNav:\n",
    "    newNav.writelines(navlines)\n",
    "    \n",
    "print('New menu ready!')"
   ]
  },
  {
   "cell_type": "code",
   "execution_count": 5,
   "metadata": {},
   "outputs": [
    {
     "data": {
      "text/plain": [
       "['mobius', ['0.html']]"
      ]
     },
     "execution_count": 5,
     "metadata": {},
     "output_type": "execute_result"
    }
   ],
   "source": [
    "directory"
   ]
  },
  {
   "cell_type": "code",
   "execution_count": 4,
   "metadata": {},
   "outputs": [
    {
     "data": {
      "text/plain": [
       "[['mobius', ['0.html']],\n",
       " ['rotation', ['0.html', '1.html']],\n",
       " ['flatland', ['0.html', '1.html', '2.html', '3.html']]]"
      ]
     },
     "execution_count": 4,
     "metadata": {},
     "output_type": "execute_result"
    }
   ],
   "source": [
    "menu"
   ]
  },
  {
   "cell_type": "code",
   "execution_count": null,
   "metadata": {},
   "outputs": [],
   "source": []
  }
 ],
 "metadata": {
  "kernelspec": {
   "display_name": "Python 3",
   "language": "python",
   "name": "python3"
  },
  "language_info": {
   "codemirror_mode": {
    "name": "ipython",
    "version": 3
   },
   "file_extension": ".py",
   "mimetype": "text/x-python",
   "name": "python",
   "nbconvert_exporter": "python",
   "pygments_lexer": "ipython3",
   "version": "3.7.3"
  }
 },
 "nbformat": 4,
 "nbformat_minor": 4
}
