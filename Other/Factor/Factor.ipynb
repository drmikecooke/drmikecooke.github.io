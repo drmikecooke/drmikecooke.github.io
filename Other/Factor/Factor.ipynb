{
 "cells": [
  {
   "cell_type": "code",
   "execution_count": 35,
   "metadata": {},
   "outputs": [],
   "source": [
    "function gt0(a) {\n",
    "    return a>0 // greater than zero function\n",
    "}\n",
    "\n",
    "function tcol(nlist,plist,ilist) {\n",
    "    var tstring = \"<table>\\n\"; // set up table\n",
    "    tstring += \"<tr><th style='padding: 20px'>Number</th><th style='padding: 20px'>Factors</th></tr>\\n\"; // top row with descriptions\n",
    "    for (var i = 0; i < nlist.length; i++) {\n",
    "        // output table rows with number and formatted prime factorization\n",
    "        tstring += \"<tr><td>\"+nlist[i].toString()+\"</td><td>\";\n",
    "        var ps = plist[i];\n",
    "        var is = ilist[i];\n",
    "            \n",
    "        for (var j = 0; j < ps.length; j++) {\n",
    "        // prime + superscript index\n",
    "            tstring += ps[j].toString() + \"<sup>\" + is[j].toString() + \"</sup>\";\n",
    "        }\n",
    "            \n",
    "        tstring += \"</td></tr>\\n\"; // end row\n",
    "    }\n",
    "        \n",
    "    return tstring + \"</table>\\n\";\n",
    "}\n",
    "\n",
    "function dsieve(ls) {\n",
    "    // sieve lists to extract prime factors\n",
    "    var nl, pl, il, nxt, nm, np, st;\n",
    "    [nl, pl, il] = ls; // number, prime, index lists\n",
    "    nxt = nl.findIndex(gt0); // find first non-zero element index in nl\n",
    "    nm = nl.length; // list length\n",
    "    np = nl[nxt]; // prime for dividing selected numbers\n",
    "    st = nxt + 2; // step between divisions\n",
    "    \n",
    "    for (var i = nxt; i < nm; i = i + st){\n",
    "        nl[i] = nl[i]/np; // divide selected number by prime\n",
    "        if (pl[i].includes(np)) {\n",
    "            var j = pl[i].indexOf(np); // find position of prime in list\n",
    "            il[i][j]++;\n",
    "        } else {\n",
    "            //add prime to prime list if not already present\n",
    "            pl[i] = pl[i].concat([np]);\n",
    "            il[i] = il[i].concat([1]);\n",
    "        }\n",
    "        nl[nxt] = 0; // sieve step complete so zero work list entry\n",
    "    }\n",
    "    return [nl, pl, il]\n",
    "}\n",
    "\n",
    "function PrimeList(nMax) {\n",
    "    var nl = [], ol = [], pl = [], il = [], wlist, llist;\n",
    "    for (var i = 2; i < nMax + 1; i++) {\n",
    "        nl.push(i); // working number array\n",
    "        pl.push([]); // prime content\n",
    "    }\n",
    "    ol = [...nl]; // clone number array\n",
    "    il = [...pl]; // clone content array for indices\n",
    "    \n",
    "    llist = [nl,pl,il]; // component list for sieve\n",
    "        \n",
    "    for (var i =0; i < nMax -1; i++) {\n",
    "        if (llist[0][i]>1) {\n",
    "            llist = dsieve(llist); // perform sieve step\n",
    "        } else {\n",
    "            llist[0][i] = 0; // zero leading 1s from work list\n",
    "        }\n",
    "    }\n",
    "        \n",
    "    this.nlist = ol;\n",
    "    this.plist = llist[1];\n",
    "    this.ilist = llist[2];\n",
    "    this.table = function (numcol) {\n",
    "        var dslice = Math.ceil(this.nlist.length/numcol), tspread='<div style=\"display:inline-block;margin:auto;\">', i;\n",
    "        for (i= 0; i < this.nlist.length; i=i+dslice) {\n",
    "            tspread += \"<div style='float:left;padding:6px;'>\";\n",
    "            tspread += tcol(this.nlist.slice(i,i+dslice),this.plist.slice(i,i+dslice),this.ilist.slice(i,i+dslice));\n",
    "            tspread += \"</div>\"\n",
    "        }\n",
    "        return tspread+\"</div>\"; \n",
    "    }\n",
    "}"
   ]
  },
  {
   "cell_type": "code",
   "execution_count": 36,
   "metadata": {},
   "outputs": [],
   "source": [
    "var pl = new PrimeList(10)"
   ]
  },
  {
   "cell_type": "code",
   "execution_count": 37,
   "metadata": {},
   "outputs": [
    {
     "name": "stdout",
     "output_type": "stream",
     "text": [
      "PrimeList {\n",
      "  nlist: [ \u001b[33m2\u001b[39m, \u001b[33m3\u001b[39m, \u001b[33m4\u001b[39m, \u001b[33m5\u001b[39m, \u001b[33m6\u001b[39m, \u001b[33m7\u001b[39m, \u001b[33m8\u001b[39m, \u001b[33m9\u001b[39m, \u001b[33m10\u001b[39m ],\n",
      "  plist:\n",
      "   [ [ \u001b[33m2\u001b[39m ], [ \u001b[33m3\u001b[39m ], [ \u001b[33m2\u001b[39m ], [ \u001b[33m5\u001b[39m ], [ \u001b[33m2\u001b[39m, \u001b[33m3\u001b[39m ], [ \u001b[33m7\u001b[39m ], [ \u001b[33m2\u001b[39m ], [ \u001b[33m3\u001b[39m ], [ \u001b[33m2\u001b[39m, \u001b[33m5\u001b[39m ] ],\n",
      "  ilist:\n",
      "   [ [ \u001b[33m1\u001b[39m ], [ \u001b[33m1\u001b[39m ], [ \u001b[33m2\u001b[39m ], [ \u001b[33m1\u001b[39m ], [ \u001b[33m1\u001b[39m, \u001b[33m1\u001b[39m ], [ \u001b[33m1\u001b[39m ], [ \u001b[33m3\u001b[39m ], [ \u001b[33m2\u001b[39m ], [ \u001b[33m1\u001b[39m, \u001b[33m1\u001b[39m ] ],\n",
      "  table: \u001b[36m[Function]\u001b[39m }\n"
     ]
    }
   ],
   "source": [
    "pl"
   ]
  },
  {
   "cell_type": "code",
   "execution_count": 38,
   "metadata": {},
   "outputs": [
    {
     "name": "stdout",
     "output_type": "stream",
     "text": [
      "<div style=\"display:inline-block;margin:auto;\"><div style='float:left;padding:6px;'><table>\n",
      "<tr><th style='padding: 20px'>Number</th><th style='padding: 20px'>Factors</th></tr>\n",
      "<tr><td>2</td><td>2<sup>1</sup></td></tr>\n",
      "<tr><td>3</td><td>3<sup>1</sup></td></tr>\n",
      "</table>\n",
      "</div><div style='float:left;padding:6px;'><table>\n",
      "<tr><th style='padding: 20px'>Number</th><th style='padding: 20px'>Factors</th></tr>\n",
      "<tr><td>4</td><td>2<sup>2</sup></td></tr>\n",
      "<tr><td>5</td><td>5<sup>1</sup></td></tr>\n",
      "</table>\n",
      "</div><div style='float:left;padding:6px;'><table>\n",
      "<tr><th style='padding: 20px'>Number</th><th style='padding: 20px'>Factors</th></tr>\n",
      "<tr><td>6</td><td>2<sup>1</sup>3<sup>1</sup></td></tr>\n",
      "<tr><td>7</td><td>7<sup>1</sup></td></tr>\n",
      "</table>\n",
      "</div><div style='float:left;padding:6px;'><table>\n",
      "<tr><th style='padding: 20px'>Number</th><th style='padding: 20px'>Factors</th></tr>\n",
      "<tr><td>8</td><td>2<sup>3</sup></td></tr>\n",
      "<tr><td>9</td><td>3<sup>2</sup></td></tr>\n",
      "</table>\n",
      "</div><div style='float:left;padding:6px;'><table>\n",
      "<tr><th style='padding: 20px'>Number</th><th style='padding: 20px'>Factors</th></tr>\n",
      "<tr><td>10</td><td>2<sup>1</sup>5<sup>1</sup></td></tr>\n",
      "</table>\n",
      "</div></div>\n"
     ]
    }
   ],
   "source": [
    "pl.table(5)"
   ]
  },
  {
   "cell_type": "code",
   "execution_count": 11,
   "metadata": {},
   "outputs": [
    {
     "name": "stdout",
     "output_type": "stream",
     "text": [
      "[ \u001b[33m0\u001b[39m, \u001b[33m1\u001b[39m, \u001b[33m2\u001b[39m, \u001b[33m3\u001b[39m, \u001b[33m4\u001b[39m ]\n"
     ]
    }
   ],
   "source": [
    "[...Array(5).keys()]"
   ]
  },
  {
   "cell_type": "code",
   "execution_count": 15,
   "metadata": {},
   "outputs": [
    {
     "name": "stdout",
     "output_type": "stream",
     "text": [
      "\u001b[33m1\u001b[39m\n"
     ]
    }
   ],
   "source": [
    "var arr=[];\n",
    "arr.push(2);"
   ]
  },
  {
   "cell_type": "code",
   "execution_count": 16,
   "metadata": {},
   "outputs": [
    {
     "name": "stdout",
     "output_type": "stream",
     "text": [
      "[ \u001b[33m2\u001b[39m ]\n"
     ]
    }
   ],
   "source": [
    "arr"
   ]
  },
  {
   "cell_type": "code",
   "execution_count": 33,
   "metadata": {},
   "outputs": [
    {
     "name": "stdout",
     "output_type": "stream",
     "text": [
      "PrimeList {\n",
      "  nlist: [ \u001b[33m2\u001b[39m, \u001b[33m3\u001b[39m, \u001b[33m4\u001b[39m, \u001b[33m5\u001b[39m, \u001b[33m6\u001b[39m, \u001b[33m7\u001b[39m, \u001b[33m8\u001b[39m, \u001b[33m9\u001b[39m, \u001b[33m10\u001b[39m ],\n",
      "  plist:\n",
      "   [ [ \u001b[33m2\u001b[39m ], [ \u001b[33m3\u001b[39m ], [ \u001b[33m2\u001b[39m ], [ \u001b[33m5\u001b[39m ], [ \u001b[33m2\u001b[39m, \u001b[33m3\u001b[39m ], [ \u001b[33m7\u001b[39m ], [ \u001b[33m2\u001b[39m ], [ \u001b[33m3\u001b[39m ], [ \u001b[33m2\u001b[39m, \u001b[33m5\u001b[39m ] ],\n",
      "  ilist:\n",
      "   [ [ \u001b[33m1\u001b[39m ], [ \u001b[33m1\u001b[39m ], [ \u001b[33m2\u001b[39m ], [ \u001b[33m1\u001b[39m ], [ \u001b[33m1\u001b[39m, \u001b[33m1\u001b[39m ], [ \u001b[33m1\u001b[39m ], [ \u001b[33m3\u001b[39m ], [ \u001b[33m2\u001b[39m ], [ \u001b[33m1\u001b[39m, \u001b[33m1\u001b[39m ] ],\n",
      "  table: \u001b[36m[Function]\u001b[39m }\n"
     ]
    }
   ],
   "source": [
    "pl"
   ]
  },
  {
   "cell_type": "code",
   "execution_count": 43,
   "metadata": {},
   "outputs": [
    {
     "name": "stdout",
     "output_type": "stream",
     "text": [
      "\u001b[33m3\u001b[39m\n"
     ]
    }
   ],
   "source": [
    "var num = [];\n",
    "num.push(2);\n",
    "num.push([2]);\n",
    "num.push([1])"
   ]
  },
  {
   "cell_type": "code",
   "execution_count": 44,
   "metadata": {},
   "outputs": [
    {
     "name": "stdout",
     "output_type": "stream",
     "text": [
      "[ \u001b[33m2\u001b[39m, [ \u001b[33m2\u001b[39m ], [ \u001b[33m1\u001b[39m ] ]\n"
     ]
    }
   ],
   "source": [
    "num"
   ]
  },
  {
   "cell_type": "code",
   "execution_count": null,
   "metadata": {},
   "outputs": [],
   "source": []
  }
 ],
 "metadata": {
  "kernelspec": {
   "display_name": "JavaScript",
   "language": "javascript",
   "name": "jslab"
  },
  "language_info": {
   "file_extension": ".js",
   "mimetype": "text/javascript",
   "name": "javascript",
   "version": ""
  }
 },
 "nbformat": 4,
 "nbformat_minor": 4
}
