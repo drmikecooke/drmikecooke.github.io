{
 "cells": [
  {
   "cell_type": "code",
   "execution_count": 56,
   "metadata": {},
   "outputs": [],
   "source": [
    "function gt0(a) {\n",
    "    return a>0 // greater than zero function\n",
    "}\n",
    "\n",
    "function tcol(plist) {\n",
    "    var tstring = \"<table>\\n\"; // set up table\n",
    "    tstring += \"<tr><th>Number</th><th>Factors</th></tr>\\n\"; // top row with descriptions\n",
    "    for (var i = 0; i < nlist.length; i++) {\n",
    "        // output table row with number and formatted prime factorization\n",
    "        tstring += \"<tr><td>\" + plist[i][0] + \"</td><td>\";\n",
    "        \n",
    "        var ps = plist[i][1];\n",
    "        var is = plist[i][2];\n",
    "            \n",
    "        for (var j = 0; j < ps.length; j++) {\n",
    "            tstring += ps[j] + \"<sup>\" + is[j] + \"</sup>\"; // prime + superscript index\n",
    "        }\n",
    "            \n",
    "        tstring += \"</td></tr>\\n\"; // end row\n",
    "    }        \n",
    "    return tstring + \"</table>\\n\";\n",
    "}\n",
    "\n",
    "function dsieve(wl, pl) {\n",
    "    // sieve lists to extract prime factors\n",
    "    var nl, nxt, nm, np, st;\n",
    "    nxt = wl.findIndex(gt0); // find first non-zero element index in work array\n",
    "    nm = wl.length; // list length\n",
    "    np = wl[nxt]; // prime for dividing selected numbers\n",
    "    st = nxt + 2; // step between divisions\n",
    "    \n",
    "    for (var i = nxt; i < nm; i = i + st){\n",
    "        wl[i] = wl[i]/np; // divide selected number by prime\n",
    "        var j = pl[i][1].indexOf(np); // find position of prime in list\n",
    "        if (j!=-1) {\n",
    "            pl[i][2][j]++;\n",
    "        } else {\n",
    "            pl[i][1].push(np); //add prime to prime list if not already present\n",
    "            pl[i][2].push(1); // index of 1\n",
    "        }\n",
    "    }\n",
    "    wl[nxt] = 0; // sieve step complete so zero work list entry\n",
    "}\n",
    "\n",
    "function PrimeList(nMax) {\n",
    "    var wl = [], pl = [], wlist, llist;\n",
    "    for (var i = 2; i < nMax + 1; i++) {\n",
    "        wl.push(i); // working number array\n",
    "        pl.push([i,[],[]]); // prime list framework: number, prime content, indices\n",
    "    }\n",
    "    \n",
    "    for (var i =0; i < nMax -1; i++) {\n",
    "        if (wl[i]>1) {\n",
    "            dsieve(wl, pl); // perform sieve step\n",
    "        } else {\n",
    "            wl[i] = 0; // zero leading 1s from work list\n",
    "        }\n",
    "    }\n",
    "        \n",
    "    this.plist = pl;\n",
    "    this.wlist = wl;\n",
    "    this.table = function (numcol) {\n",
    "        var dslice = Math.ceil(this.nlist.length/numcol), tspread='<div style=\"display:inline-block;margin:auto;\">', i;\n",
    "        for (i= 0; i < this.nlist.length; i=i+dslice) {\n",
    "            tspread += \"<div style='float:left;padding:6px;'>\";\n",
    "            tspread += tcol(this.plist.slice(i,i+dslice));\n",
    "            tspread += \"</div>\"\n",
    "        }\n",
    "        return tspread+\"</div>\"; \n",
    "    }\n",
    "}"
   ]
  },
  {
   "cell_type": "code",
   "execution_count": 57,
   "metadata": {},
   "outputs": [],
   "source": [
    "var pl = new PrimeList(20)"
   ]
  },
  {
   "cell_type": "code",
   "execution_count": 58,
   "metadata": {},
   "outputs": [
    {
     "name": "stdout",
     "output_type": "stream",
     "text": [
      "[ [ \u001b[33m2\u001b[39m, [ \u001b[33m2\u001b[39m ], [ \u001b[33m1\u001b[39m ] ],\n",
      "  [ \u001b[33m3\u001b[39m, [ \u001b[33m3\u001b[39m ], [ \u001b[33m1\u001b[39m ] ],\n",
      "  [ \u001b[33m4\u001b[39m, [ \u001b[33m2\u001b[39m ], [ \u001b[33m2\u001b[39m ] ],\n",
      "  [ \u001b[33m5\u001b[39m, [ \u001b[33m5\u001b[39m ], [ \u001b[33m1\u001b[39m ] ],\n",
      "  [ \u001b[33m6\u001b[39m, [ \u001b[33m2\u001b[39m, \u001b[33m3\u001b[39m ], [ \u001b[33m1\u001b[39m, \u001b[33m1\u001b[39m ] ],\n",
      "  [ \u001b[33m7\u001b[39m, [ \u001b[33m7\u001b[39m ], [ \u001b[33m1\u001b[39m ] ],\n",
      "  [ \u001b[33m8\u001b[39m, [ \u001b[33m2\u001b[39m ], [ \u001b[33m3\u001b[39m ] ],\n",
      "  [ \u001b[33m9\u001b[39m, [ \u001b[33m3\u001b[39m ], [ \u001b[33m2\u001b[39m ] ],\n",
      "  [ \u001b[33m10\u001b[39m, [ \u001b[33m2\u001b[39m, \u001b[33m5\u001b[39m ], [ \u001b[33m1\u001b[39m, \u001b[33m1\u001b[39m ] ],\n",
      "  [ \u001b[33m11\u001b[39m, [ \u001b[33m11\u001b[39m ], [ \u001b[33m1\u001b[39m ] ],\n",
      "  [ \u001b[33m12\u001b[39m, [ \u001b[33m2\u001b[39m, \u001b[33m3\u001b[39m ], [ \u001b[33m2\u001b[39m, \u001b[33m1\u001b[39m ] ],\n",
      "  [ \u001b[33m13\u001b[39m, [ \u001b[33m13\u001b[39m ], [ \u001b[33m1\u001b[39m ] ],\n",
      "  [ \u001b[33m14\u001b[39m, [ \u001b[33m2\u001b[39m, \u001b[33m7\u001b[39m ], [ \u001b[33m1\u001b[39m, \u001b[33m1\u001b[39m ] ],\n",
      "  [ \u001b[33m15\u001b[39m, [ \u001b[33m3\u001b[39m, \u001b[33m5\u001b[39m ], [ \u001b[33m1\u001b[39m, \u001b[33m1\u001b[39m ] ],\n",
      "  [ \u001b[33m16\u001b[39m, [ \u001b[33m2\u001b[39m ], [ \u001b[33m4\u001b[39m ] ],\n",
      "  [ \u001b[33m17\u001b[39m, [ \u001b[33m17\u001b[39m ], [ \u001b[33m1\u001b[39m ] ],\n",
      "  [ \u001b[33m18\u001b[39m, [ \u001b[33m2\u001b[39m, \u001b[33m3\u001b[39m ], [ \u001b[33m1\u001b[39m, \u001b[33m2\u001b[39m ] ],\n",
      "  [ \u001b[33m19\u001b[39m, [ \u001b[33m19\u001b[39m ], [ \u001b[33m1\u001b[39m ] ],\n",
      "  [ \u001b[33m20\u001b[39m, [ \u001b[33m2\u001b[39m, \u001b[33m5\u001b[39m ], [ \u001b[33m2\u001b[39m, \u001b[33m1\u001b[39m ] ] ]\n"
     ]
    }
   ],
   "source": [
    "pl.plist"
   ]
  },
  {
   "cell_type": "code",
   "execution_count": null,
   "metadata": {},
   "outputs": [],
   "source": []
  },
  {
   "cell_type": "code",
   "execution_count": null,
   "metadata": {},
   "outputs": [],
   "source": []
  }
 ],
 "metadata": {
  "kernelspec": {
   "display_name": "JavaScript",
   "language": "javascript",
   "name": "jslab"
  },
  "language_info": {
   "file_extension": ".js",
   "mimetype": "text/javascript",
   "name": "javascript",
   "version": ""
  }
 },
 "nbformat": 4,
 "nbformat_minor": 4
}
