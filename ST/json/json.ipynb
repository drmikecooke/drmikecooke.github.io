{
 "cells": [
  {
   "cell_type": "code",
   "execution_count": 1,
   "metadata": {},
   "outputs": [],
   "source": [
    "import json\n",
    "\n",
    "def get(file):\n",
    "    with open(file, 'r') as fp:\n",
    "        return json.load(fp)\n",
    "\n",
    "def put(d,file):\n",
    "    with open(file, 'w') as fp:\n",
    "        json.dump(d, fp)\n",
    "\n",
    "def STitem(caption,img,url,ref):\n",
    "    return {'caption':caption,'img':img,'url':url,'ref':ref}\n",
    "\n",
    "def addSTitem(d,month,item):\n",
    "    if month in d.keys():\n",
    "        d[month] += [item]\n",
    "    else:\n",
    "        d = {month:[item],**d}\n",
    "    return d\n",
    "\n",
    "def inputST(d):\n",
    "    month=input('Month: ')\n",
    "    caption=input('Caption: ')\n",
    "    img=input('Image: ')\n",
    "    href=input('Link: ')\n",
    "    ref=input('Reference: ')\n",
    "    return addSTitem(d,month,STitem(caption,img,href,ref))"
   ]
  },
  {
   "cell_type": "code",
   "execution_count": 2,
   "metadata": {},
   "outputs": [],
   "source": [
    "j=get('2019.json')"
   ]
  },
  {
   "cell_type": "code",
   "execution_count": 99,
   "metadata": {},
   "outputs": [],
   "source": [
    "j['January'][5]['ref']='6 GaN vertical finFET'"
   ]
  },
  {
   "cell_type": "code",
   "execution_count": 100,
   "metadata": {},
   "outputs": [
    {
     "data": {
      "text/plain": [
       "[{'caption': 'Gallium oxide prospects for high-voltage and high-power electronics',\n",
       "  'img': 'jpg',\n",
       "  'url': 'http://www.semiconductor-today.com/news_items/2019/jan/nrl_170119.shtml',\n",
       "  'ref': '1 Ga2O3 review'},\n",
       " {'caption': 'Multi-channel tri-gate III-nitride high-electron-mobility transistors on silicon',\n",
       "  'img': 'jpg',\n",
       "  'url': 'http://www.semiconductor-today.com/news_items/2019/jan/ecole_240119.shtml',\n",
       "  'ref': '2 Multi-channel MOSHEMT'},\n",
       " {'caption': 'Reducing Schottky on-resistance in multi-channel III-nitride structures',\n",
       "  'img': 'jpg',\n",
       "  'url': 'http://www.semiconductor-today.com/news_items/2019/jan/ecole_300119.shtml',\n",
       "  'ref': '3 Multi-channel SBD'},\n",
       " {'caption': 'Octagonal cell topology for high-frequency silicon carbide transistors',\n",
       "  'img': 'jpg',\n",
       "  'url': 'http://www.semiconductor-today.com/news_items/2019/feb/ncsu_010219.shtml',\n",
       "  'ref': '4 SiC OCTFET'},\n",
       " {'caption': 'Graphene-enabled aluminium gallium nitride nanopyramid arrays on silicon',\n",
       "  'img': 'jpg',\n",
       "  'url': 'http://www.semiconductor-today.com/news_items/2019/feb/crayonano_070219.shtml',\n",
       "  'ref': '5 Graphene-enabled AlGaN nanopyramids on Si'},\n",
       " {'caption': 'Boosting switching frequency in gallium nitride vertical fin transistors',\n",
       "  'img': 'jpg',\n",
       "  'url': 'http://www.semiconductor-today.com/news_items/2019/feb/mit_140219.shtml',\n",
       "  'ref': '6 GaN vertical finFET'}]"
      ]
     },
     "execution_count": 100,
     "metadata": {},
     "output_type": "execute_result"
    }
   ],
   "source": [
    "j['January']"
   ]
  },
  {
   "cell_type": "code",
   "execution_count": 101,
   "metadata": {},
   "outputs": [],
   "source": [
    "put(j,'2019.json')"
   ]
  },
  {
   "cell_type": "code",
   "execution_count": null,
   "metadata": {},
   "outputs": [],
   "source": []
  }
 ],
 "metadata": {
  "kernelspec": {
   "display_name": "Python 3",
   "language": "python",
   "name": "python3"
  },
  "language_info": {
   "codemirror_mode": {
    "name": "ipython",
    "version": 3
   },
   "file_extension": ".py",
   "mimetype": "text/x-python",
   "name": "python",
   "nbconvert_exporter": "python",
   "pygments_lexer": "ipython3",
   "version": "3.7.3"
  }
 },
 "nbformat": 4,
 "nbformat_minor": 4
}
