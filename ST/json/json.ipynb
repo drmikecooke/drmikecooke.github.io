{
 "cells": [
  {
   "cell_type": "code",
   "execution_count": 1,
   "metadata": {},
   "outputs": [],
   "source": [
    "import json\n",
    "\n",
    "def get(file):\n",
    "    with open(file, 'r') as fp:\n",
    "        return json.load(fp)\n",
    "\n",
    "def put(d,file):\n",
    "    with open(file, 'w') as fp:\n",
    "        json.dump(d, fp)\n",
    "\n",
    "def STitem(caption,img,url,ref):\n",
    "    return {'caption':caption,'img':img,'url':url,'ref':ref}\n",
    "\n",
    "def addSTitem(d,month,item):\n",
    "    if month in d.keys():\n",
    "        d[month] += [item]\n",
    "    else:\n",
    "        d = {month:[item],**d}\n",
    "    return d\n",
    "\n",
    "def inputST(d):\n",
    "    month=input('Month: ')\n",
    "    caption=input('Caption: ')\n",
    "    img=input('Image: ')\n",
    "    href=input('Link: ')\n",
    "    ref=input('Reference: ')\n",
    "    return addSTitem(d,month,STitem(caption,img,href,ref))\n",
    "\n",
    "j=get('2022.json')"
   ]
  },
  {
   "cell_type": "code",
   "execution_count": 2,
   "metadata": {},
   "outputs": [
    {
     "data": {
      "text/plain": [
       "{'January': [{'caption': 'Ohmic contacts on lightly doped p-GaN',\n",
       "   'img': 'webp',\n",
       "   'url': 'http://www.semiconductor-today.com/news_items/2022/jan/nagoya-140122.shtml',\n",
       "   'ref': '1 p-GaN contacts'},\n",
       "  {'caption': 'Boosting transconductance and squeezing off-current',\n",
       "   'img': 'webp',\n",
       "   'url': 'http://www.semiconductor-today.com/news_items/2022/jan/nymct-200122.shtml',\n",
       "   'ref': '2 InGaAs FinFET boost'},\n",
       "  {'caption': 'Pushing indium phosphide DHBT frequency to 1.2THz',\n",
       "   'img': 'webp',\n",
       "   'url': 'http://www.semiconductor-today.com/news_items/2022/jan/ethzurich-270122.shtml',\n",
       "   'ref': '3 DHBT 1.2THz'}]}"
      ]
     },
     "execution_count": 2,
     "metadata": {},
     "output_type": "execute_result"
    }
   ],
   "source": [
    "j"
   ]
  },
  {
   "cell_type": "code",
   "execution_count": 4,
   "metadata": {},
   "outputs": [],
   "source": [
    "put(j,'2022.json')"
   ]
  },
  {
   "cell_type": "code",
   "execution_count": 3,
   "metadata": {},
   "outputs": [
    {
     "name": "stdin",
     "output_type": "stream",
     "text": [
      "Month:  January\n",
      "Caption:  NiO/Ga2O3 heterojunction power\n",
      "Image:  webp\n",
      "Link:  http://www.semiconductor-today.com/news_items/2022/feb/hebei-030222.shtml\n",
      "Reference:  4 NiO-Ga2O3 HJD\n"
     ]
    }
   ],
   "source": [
    "j=inputST(j)"
   ]
  },
  {
   "cell_type": "code",
   "execution_count": null,
   "metadata": {},
   "outputs": [],
   "source": []
  }
 ],
 "metadata": {
  "kernelspec": {
   "display_name": "Python 3",
   "language": "python",
   "name": "python3"
  },
  "language_info": {
   "codemirror_mode": {
    "name": "ipython",
    "version": 3
   },
   "file_extension": ".py",
   "mimetype": "text/x-python",
   "name": "python",
   "nbconvert_exporter": "python",
   "pygments_lexer": "ipython3",
   "version": "3.7.3"
  }
 },
 "nbformat": 4,
 "nbformat_minor": 4
}
