{
 "cells": [
  {
   "cell_type": "code",
   "execution_count": 25,
   "metadata": {},
   "outputs": [],
   "source": [
    "import json\n",
    "\n",
    "def get(file):\n",
    "    with open(file, 'r') as fp:\n",
    "        return json.load(fp)\n",
    "\n",
    "def dump(d,file):\n",
    "    with open(file, 'w') as fp:\n",
    "        json.dump(d, fp)\n",
    "    "
   ]
  },
  {
   "cell_type": "code",
   "execution_count": 53,
   "metadata": {},
   "outputs": [],
   "source": [
    "year=\"2021.json\"\n",
    "j = get(year)"
   ]
  },
  {
   "cell_type": "code",
   "execution_count": 54,
   "metadata": {},
   "outputs": [
    {
     "data": {
      "text/plain": [
       "{'January': [{'caption': '', 'img': '', 'url': ''}]}"
      ]
     },
     "execution_count": 54,
     "metadata": {},
     "output_type": "execute_result"
    }
   ],
   "source": [
    "j"
   ]
  },
  {
   "cell_type": "code",
   "execution_count": 45,
   "metadata": {},
   "outputs": [],
   "source": [
    "def STitem(caption,img,url,ref):\n",
    "    return {'caption':caption,'img':img,'url':url,'ref':ref}"
   ]
  },
  {
   "cell_type": "code",
   "execution_count": 58,
   "metadata": {},
   "outputs": [],
   "source": [
    "def addSTitem(d,month,item):\n",
    "    if month in d.keys():\n",
    "        d[month] += [item]\n",
    "    else:\n",
    "        d = {month:[item],**d}\n",
    "    return d"
   ]
  },
  {
   "cell_type": "code",
   "execution_count": 64,
   "metadata": {},
   "outputs": [],
   "source": [
    "j = addSTitem(j,\"February\",STitem(\"boo\",\"coo\",\"doo\",\"eoo\"))"
   ]
  },
  {
   "cell_type": "code",
   "execution_count": 65,
   "metadata": {},
   "outputs": [
    {
     "data": {
      "text/plain": [
       "{'February': [{'caption': 'boo', 'img': 'coo', 'url': 'doo', 'ref': 'eoo'},\n",
       "  {'caption': 'boo', 'img': 'coo', 'url': 'doo', 'ref': 'eoo'}],\n",
       " 'January': [{'caption': '', 'img': '', 'url': ''}]}"
      ]
     },
     "execution_count": 65,
     "metadata": {},
     "output_type": "execute_result"
    }
   ],
   "source": [
    "j"
   ]
  },
  {
   "cell_type": "code",
   "execution_count": 66,
   "metadata": {},
   "outputs": [
    {
     "data": {
      "text/plain": [
       "{'February': [{'caption': 'boo', 'img': 'coo', 'url': 'doo', 'ref': 'eoo'},\n",
       "  {'caption': 'boo', 'img': 'coo', 'url': 'doo', 'ref': 'eoo'},\n",
       "  {'caption': 'boo', 'img': 'coo', 'url': 'doo', 'ref': 'eoo'}],\n",
       " 'January': [{'caption': '', 'img': '', 'url': ''}]}"
      ]
     },
     "execution_count": 66,
     "metadata": {},
     "output_type": "execute_result"
    }
   ],
   "source": [
    "addSTitem(j,\"February\",STitem(\"boo\",\"coo\",\"doo\",\"eoo\"))"
   ]
  },
  {
   "cell_type": "code",
   "execution_count": 67,
   "metadata": {},
   "outputs": [
    {
     "data": {
      "text/plain": [
       "{'February': [{'caption': 'boo', 'img': 'coo', 'url': 'doo', 'ref': 'eoo'},\n",
       "  {'caption': 'boo', 'img': 'coo', 'url': 'doo', 'ref': 'eoo'},\n",
       "  {'caption': 'boo', 'img': 'coo', 'url': 'doo', 'ref': 'eoo'}],\n",
       " 'January': [{'caption': '', 'img': '', 'url': ''}]}"
      ]
     },
     "execution_count": 67,
     "metadata": {},
     "output_type": "execute_result"
    }
   ],
   "source": [
    "j"
   ]
  },
  {
   "cell_type": "code",
   "execution_count": 52,
   "metadata": {},
   "outputs": [
    {
     "data": {
      "text/plain": [
       "{'March': [{'caption': 'boo', 'img': 'coo', 'url': 'doo', 'ref': 'eoo'}],\n",
       " 'January': [{'caption': '', 'img': '', 'url': ''}],\n",
       " 'February': [{'caption': 'boo', 'img': 'coo', 'url': 'doo', 'ref': 'eoo'},\n",
       "  {'caption': 'boo', 'img': 'coo', 'url': 'doo', 'ref': 'eoo'}]}"
      ]
     },
     "execution_count": 52,
     "metadata": {},
     "output_type": "execute_result"
    }
   ],
   "source": [
    "{\"March\":[STitem(\"boo\",\"coo\",\"doo\",\"eoo\")],**j}"
   ]
  },
  {
   "cell_type": "code",
   "execution_count": null,
   "metadata": {},
   "outputs": [],
   "source": []
  }
 ],
 "metadata": {
  "kernelspec": {
   "display_name": "Python 3",
   "language": "python",
   "name": "python3"
  },
  "language_info": {
   "codemirror_mode": {
    "name": "ipython",
    "version": 3
   },
   "file_extension": ".py",
   "mimetype": "text/x-python",
   "name": "python",
   "nbconvert_exporter": "python",
   "pygments_lexer": "ipython3",
   "version": "3.7.3"
  }
 },
 "nbformat": 4,
 "nbformat_minor": 4
}
