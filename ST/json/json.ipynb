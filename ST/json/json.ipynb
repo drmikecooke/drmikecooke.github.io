{
 "cells": [
  {
   "cell_type": "code",
   "execution_count": 24,
   "metadata": {},
   "outputs": [],
   "source": [
    "import json\n",
    "\n",
    "def get(file):\n",
    "    with open(file, 'r') as fp:\n",
    "        return json.load(fp)\n",
    "\n",
    "def put(d,file):\n",
    "    with open(file, 'w') as fp:\n",
    "        json.dump(d, fp)\n",
    "\n",
    "def STitem(caption,img,url,ref):\n",
    "    return {'caption':caption,'img':img,'url':url,'ref':ref}\n",
    "\n",
    "def addSTitem(d,month,item):\n",
    "    if month in d.keys():\n",
    "        d[month] += [item]\n",
    "    else:\n",
    "        d = {month:[item],**d}\n",
    "    return d\n",
    "\n",
    "def inputST(d):\n",
    "    month=input('Month: ')\n",
    "    caption=input('Caption: ')\n",
    "    img=input('Image: ')\n",
    "    href=input('Link: ')\n",
    "    ref=input('Reference: ')\n",
    "    return addSTitem(d,month,STitem(caption,img,href,ref))"
   ]
  }
 ],
 "metadata": {
  "kernelspec": {
   "display_name": "Python 3",
   "language": "python",
   "name": "python3"
  },
  "language_info": {
   "codemirror_mode": {
    "name": "ipython",
    "version": 3
   },
   "file_extension": ".py",
   "mimetype": "text/x-python",
   "name": "python",
   "nbconvert_exporter": "python",
   "pygments_lexer": "ipython3",
   "version": "3.7.3"
  }
 },
 "nbformat": 4,
 "nbformat_minor": 4
}
