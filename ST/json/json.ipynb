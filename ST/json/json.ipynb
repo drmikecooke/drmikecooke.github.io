{
 "cells": [
  {
   "cell_type": "code",
   "execution_count": 1,
   "metadata": {},
   "outputs": [],
   "source": [
    "import json\n",
    "\n",
    "def get(file):\n",
    "    with open(file, 'r') as fp:\n",
    "        return json.load(fp)\n",
    "\n",
    "def put(d,file):\n",
    "    with open(file, 'w') as fp:\n",
    "        json.dump(d, fp)\n",
    "\n",
    "def STitem(caption,img,url,ref):\n",
    "    return {'caption':caption,'img':img,'url':url,'ref':ref}\n",
    "\n",
    "def addSTitem(d,month,item):\n",
    "    if month in d.keys():\n",
    "        d[month] += [item]\n",
    "    else:\n",
    "        d = {month:[item],**d}\n",
    "    return d\n",
    "\n",
    "def inputST(d):\n",
    "    month=input('Month: ')\n",
    "    caption=input('Caption: ')\n",
    "    img=input('Image: ')\n",
    "    href=input('Link: ')\n",
    "    ref=input('Reference: ')\n",
    "    return addSTitem(d,month,STitem(caption,img,href,ref))\n",
    "\n",
    "j=get('2021.json')"
   ]
  },
  {
   "cell_type": "code",
   "execution_count": 2,
   "metadata": {},
   "outputs": [
    {
     "data": {
      "text/plain": [
       "{'May': [{'caption': 'Fujitsu demonstrates X-band GaN HEMT on AlN',\n",
       "   'img': 'webp',\n",
       "   'url': 'http://www.semiconductor-today.com/news_items/2021/may/fujitsu-060521.shtml',\n",
       "   'ref': '1 X-band HEMT on AlN'},\n",
       "  {'caption': 'Towards continuous-wave UV-B laser diodes',\n",
       "   'img': 'webp',\n",
       "   'url': 'http://www.semiconductor-today.com/news_items/2021/may/meijo-130521.shtml',\n",
       "   'ref': '2 UV-B LD'}],\n",
       " 'April': [{'caption': 'III-V resonant tunneling for ULTRARAM',\n",
       "   'img': 'webp',\n",
       "   'url': 'http://www.semiconductor-today.com/news_items/2021/apr/lancasteruni-010421.shtml',\n",
       "   'ref': '1 ULTRARAM'},\n",
       "  {'caption': 'Routes to stacked III-V RF on silicon logic',\n",
       "   'img': 'webp',\n",
       "   'url': 'http://www.semiconductor-today.com/news_items/2021/apr/kaist-080421.shtml',\n",
       "   'ref': '2 InGaAs-OI M3D on Si'},\n",
       "  {'caption': 'Quantum dot powering up p-AlGaN',\n",
       "   'img': 'webp',\n",
       "   'url': 'http://www.semiconductor-today.com/news_items/2021/apr/changchun-150421.shtml',\n",
       "   'ref': '3 p-AlGaN with GaN QDs'},\n",
       "  {'caption': 'Diamond for Ga2O3 thermal management',\n",
       "   'img': 'webp',\n",
       "   'url': 'http://www.semiconductor-today.com/news_items/2021/apr/stanford-220421.shtml',\n",
       "   'ref': '4 Diamond on Ga2O3'}],\n",
       " 'March': [{'caption': 'HfO<sub>2</sub> gate insulator for N-polar GaN',\n",
       "   'img': 'webp',\n",
       "   'url': 'http://www.semiconductor-today.com/news_items/2021/mar/ucsb-040321.shtml',\n",
       "   'ref': '1 HfO2 for N-polar GaN transistors'},\n",
       "  {'caption': 'Monolithic UV LED/photodetector on silicon',\n",
       "   'img': 'webp',\n",
       "   'url': 'http://www.semiconductor-today.com/news_items/2021/mar/hkust-110321.shtml',\n",
       "   'ref': '2 Monolithic UV LED-PD on Si'},\n",
       "  {'caption': 'Cool thermoelectric/LED assembly',\n",
       "   'img': 'webp',\n",
       "   'url': 'http://www.semiconductor-today.com/news_items/2021/mar/hust-180321.shtml',\n",
       "   'ref': '3 TEC-LED assembly'},\n",
       "  {'caption': 'Ultraviolet shines for AlN conductivity',\n",
       "   'img': 'webp',\n",
       "   'url': 'http://www.semiconductor-today.com/news_items/2021/mar/ncsu-250321.shtml',\n",
       "   'ref': '4 UV post-implant AlN'}],\n",
       " 'February': [{'caption': 'Transistor cut-off frequency at 738GHz',\n",
       "   'img': 'webp',\n",
       "   'url': 'http://www.semiconductor-today.com/news_items/2021/Feb/knu-040221.shtml',\n",
       "   'ref': '1 Record InGaAs HEMT'},\n",
       "  {'caption': 'HEMTs from AlScN-barrier MOCVD',\n",
       "   'img': 'webp',\n",
       "   'url': 'http://www.semiconductor-today.com/news_items/2021/Feb/fraunhofer-110221.shtml',\n",
       "   'ref': '2 MOCVD AlScN-barrier HEMTs'},\n",
       "  {'caption': 'Hybrid III–V TFETs and MOSFETs on silicon',\n",
       "   'img': 'webp',\n",
       "   'url': 'http://www.semiconductor-today.com/news_items/2021/Feb/ibm-180221.shtml',\n",
       "   'ref': '3 III-V TFET-MOSFET on Si'},\n",
       "  {'caption': 'Flexible indium phosphide DHBT frequency boost',\n",
       "   'img': 'webp',\n",
       "   'url': 'http://www.semiconductor-today.com/news_items/2021/Feb/southeastuni-250221.shtml',\n",
       "   'ref': '4 Flexible InP DHBT'}],\n",
       " 'January': [{'caption': 'GaInAsSb 1.55μm telecom device',\n",
       "   'img': 'webp',\n",
       "   'url': 'http://www.semiconductor-today.com/news_items/2021/jan/ethzurich-070121.shtml',\n",
       "   'ref': '1 GaInAsSb UTC-PD'},\n",
       "  {'caption': 'Deep UV tunnel-junction LED efficiency',\n",
       "   'img': 'webp',\n",
       "   'url': 'http://www.semiconductor-today.com/news_items/2021/jan/uom-140121.shtml',\n",
       "   'ref': '2 Deep UV TJ LED'},\n",
       "  {'caption': 'CMOS-compatible III-V photodetector',\n",
       "   'img': 'webp',\n",
       "   'url': 'http://www.semiconductor-today.com/news_items/2021/jan/ibm-210121.shtml',\n",
       "   'ref': '3 III-V PD on Si PIC'},\n",
       "  {'caption': 'On-chip III-N LED/photodetector integration',\n",
       "   'img': 'webp',\n",
       "   'url': 'http://www.semiconductor-today.com/news_items/2021/jan/sust-280121.shtml',\n",
       "   'ref': '4 III-N LED-PD integration'}]}"
      ]
     },
     "execution_count": 2,
     "metadata": {},
     "output_type": "execute_result"
    }
   ],
   "source": [
    "j"
   ]
  },
  {
   "cell_type": "code",
   "execution_count": 5,
   "metadata": {},
   "outputs": [],
   "source": [
    "put(j,'2021.json')"
   ]
  },
  {
   "cell_type": "code",
   "execution_count": 3,
   "metadata": {},
   "outputs": [
    {
     "name": "stdin",
     "output_type": "stream",
     "text": [
      "Month:  May\n",
      "Caption:  Linear power of graded AlGaN-channel HEMTs\n",
      "Image:  webp\n",
      "Link:  http://www.semiconductor-today.com/news_items/2021/may/hrl-210521.shtml\n",
      "Reference:  3 Record fT-P product\n"
     ]
    }
   ],
   "source": [
    "j=inputST(j)"
   ]
  },
  {
   "cell_type": "code",
   "execution_count": 4,
   "metadata": {},
   "outputs": [
    {
     "data": {
      "text/plain": [
       "{'May': [{'caption': 'Fujitsu demonstrates X-band GaN HEMT on AlN',\n",
       "   'img': 'webp',\n",
       "   'url': 'http://www.semiconductor-today.com/news_items/2021/may/fujitsu-060521.shtml',\n",
       "   'ref': '1 X-band HEMT on AlN'},\n",
       "  {'caption': 'Towards continuous-wave UV-B laser diodes',\n",
       "   'img': 'webp',\n",
       "   'url': 'http://www.semiconductor-today.com/news_items/2021/may/meijo-130521.shtml',\n",
       "   'ref': '2 UV-B LD'},\n",
       "  {'caption': 'Linear power of graded AlGaN-channel HEMTs',\n",
       "   'img': 'webp',\n",
       "   'url': 'http://www.semiconductor-today.com/news_items/2021/may/hrl-210521.shtml',\n",
       "   'ref': '3 Record fT-P product'}],\n",
       " 'April': [{'caption': 'III-V resonant tunneling for ULTRARAM',\n",
       "   'img': 'webp',\n",
       "   'url': 'http://www.semiconductor-today.com/news_items/2021/apr/lancasteruni-010421.shtml',\n",
       "   'ref': '1 ULTRARAM'},\n",
       "  {'caption': 'Routes to stacked III-V RF on silicon logic',\n",
       "   'img': 'webp',\n",
       "   'url': 'http://www.semiconductor-today.com/news_items/2021/apr/kaist-080421.shtml',\n",
       "   'ref': '2 InGaAs-OI M3D on Si'},\n",
       "  {'caption': 'Quantum dot powering up p-AlGaN',\n",
       "   'img': 'webp',\n",
       "   'url': 'http://www.semiconductor-today.com/news_items/2021/apr/changchun-150421.shtml',\n",
       "   'ref': '3 p-AlGaN with GaN QDs'},\n",
       "  {'caption': 'Diamond for Ga2O3 thermal management',\n",
       "   'img': 'webp',\n",
       "   'url': 'http://www.semiconductor-today.com/news_items/2021/apr/stanford-220421.shtml',\n",
       "   'ref': '4 Diamond on Ga2O3'}],\n",
       " 'March': [{'caption': 'HfO<sub>2</sub> gate insulator for N-polar GaN',\n",
       "   'img': 'webp',\n",
       "   'url': 'http://www.semiconductor-today.com/news_items/2021/mar/ucsb-040321.shtml',\n",
       "   'ref': '1 HfO2 for N-polar GaN transistors'},\n",
       "  {'caption': 'Monolithic UV LED/photodetector on silicon',\n",
       "   'img': 'webp',\n",
       "   'url': 'http://www.semiconductor-today.com/news_items/2021/mar/hkust-110321.shtml',\n",
       "   'ref': '2 Monolithic UV LED-PD on Si'},\n",
       "  {'caption': 'Cool thermoelectric/LED assembly',\n",
       "   'img': 'webp',\n",
       "   'url': 'http://www.semiconductor-today.com/news_items/2021/mar/hust-180321.shtml',\n",
       "   'ref': '3 TEC-LED assembly'},\n",
       "  {'caption': 'Ultraviolet shines for AlN conductivity',\n",
       "   'img': 'webp',\n",
       "   'url': 'http://www.semiconductor-today.com/news_items/2021/mar/ncsu-250321.shtml',\n",
       "   'ref': '4 UV post-implant AlN'}],\n",
       " 'February': [{'caption': 'Transistor cut-off frequency at 738GHz',\n",
       "   'img': 'webp',\n",
       "   'url': 'http://www.semiconductor-today.com/news_items/2021/Feb/knu-040221.shtml',\n",
       "   'ref': '1 Record InGaAs HEMT'},\n",
       "  {'caption': 'HEMTs from AlScN-barrier MOCVD',\n",
       "   'img': 'webp',\n",
       "   'url': 'http://www.semiconductor-today.com/news_items/2021/Feb/fraunhofer-110221.shtml',\n",
       "   'ref': '2 MOCVD AlScN-barrier HEMTs'},\n",
       "  {'caption': 'Hybrid III–V TFETs and MOSFETs on silicon',\n",
       "   'img': 'webp',\n",
       "   'url': 'http://www.semiconductor-today.com/news_items/2021/Feb/ibm-180221.shtml',\n",
       "   'ref': '3 III-V TFET-MOSFET on Si'},\n",
       "  {'caption': 'Flexible indium phosphide DHBT frequency boost',\n",
       "   'img': 'webp',\n",
       "   'url': 'http://www.semiconductor-today.com/news_items/2021/Feb/southeastuni-250221.shtml',\n",
       "   'ref': '4 Flexible InP DHBT'}],\n",
       " 'January': [{'caption': 'GaInAsSb 1.55μm telecom device',\n",
       "   'img': 'webp',\n",
       "   'url': 'http://www.semiconductor-today.com/news_items/2021/jan/ethzurich-070121.shtml',\n",
       "   'ref': '1 GaInAsSb UTC-PD'},\n",
       "  {'caption': 'Deep UV tunnel-junction LED efficiency',\n",
       "   'img': 'webp',\n",
       "   'url': 'http://www.semiconductor-today.com/news_items/2021/jan/uom-140121.shtml',\n",
       "   'ref': '2 Deep UV TJ LED'},\n",
       "  {'caption': 'CMOS-compatible III-V photodetector',\n",
       "   'img': 'webp',\n",
       "   'url': 'http://www.semiconductor-today.com/news_items/2021/jan/ibm-210121.shtml',\n",
       "   'ref': '3 III-V PD on Si PIC'},\n",
       "  {'caption': 'On-chip III-N LED/photodetector integration',\n",
       "   'img': 'webp',\n",
       "   'url': 'http://www.semiconductor-today.com/news_items/2021/jan/sust-280121.shtml',\n",
       "   'ref': '4 III-N LED-PD integration'}]}"
      ]
     },
     "execution_count": 4,
     "metadata": {},
     "output_type": "execute_result"
    }
   ],
   "source": [
    "j"
   ]
  },
  {
   "cell_type": "code",
   "execution_count": null,
   "metadata": {},
   "outputs": [],
   "source": []
  }
 ],
 "metadata": {
  "kernelspec": {
   "display_name": "Python 3",
   "language": "python",
   "name": "python3"
  },
  "language_info": {
   "codemirror_mode": {
    "name": "ipython",
    "version": 3
   },
   "file_extension": ".py",
   "mimetype": "text/x-python",
   "name": "python",
   "nbconvert_exporter": "python",
   "pygments_lexer": "ipython3",
   "version": "3.7.3"
  }
 },
 "nbformat": 4,
 "nbformat_minor": 4
}
