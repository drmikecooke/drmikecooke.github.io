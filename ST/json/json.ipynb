{
 "cells": [
  {
   "cell_type": "code",
   "execution_count": 1,
   "metadata": {},
   "outputs": [],
   "source": [
    "import json\n",
    "\n",
    "def get(file):\n",
    "    with open(file, 'r') as fp:\n",
    "        return json.load(fp)\n",
    "\n",
    "def put(d,file):\n",
    "    with open(file, 'w') as fp:\n",
    "        json.dump(d, fp)\n",
    "\n",
    "def STitem(caption,img,url,ref):\n",
    "    return {'caption':caption,'img':img,'url':url,'ref':ref}\n",
    "\n",
    "def addSTitem(d,month,item):\n",
    "    if month in d.keys():\n",
    "        d[month] += [item]\n",
    "    else:\n",
    "        d = {month:[item],**d}\n",
    "    return d\n",
    "\n",
    "def inputST(d):\n",
    "    month=input('Month: ')\n",
    "    caption=input('Caption: ')\n",
    "    img=input('Image: ')\n",
    "    href=input('Link: ')\n",
    "    ref=input('Reference: ')\n",
    "    return addSTitem(d,month,STitem(caption,img,href,ref))\n",
    "\n",
    "j=get('2023.json')"
   ]
  },
  {
   "cell_type": "code",
   "execution_count": 3,
   "metadata": {},
   "outputs": [],
   "source": [
    "put(j,'2023.json')"
   ]
  },
  {
   "cell_type": "code",
   "execution_count": 2,
   "metadata": {},
   "outputs": [
    {
     "name": "stdin",
     "output_type": "stream",
     "text": [
      "Month:  May\n",
      "Caption:  Record sub-micron LED red emission efficiency\n",
      "Image:  webp\n",
      "Link:  https://www.semiconductor-today.com/news_items/2023/may/uom-110523.shtml\n",
      "Reference:  2 Record sub-micron LED red emission efficiency\n"
     ]
    }
   ],
   "source": [
    "j=inputST(j)"
   ]
  },
  {
   "cell_type": "code",
   "execution_count": 5,
   "metadata": {},
   "outputs": [
    {
     "data": {
      "text/plain": [
       "{'May': [{'caption': 'Thick single quantum well InGaN LEDs with high external quantum efficiency and low droop',\n",
       "   'img': 'webp',\n",
       "   'url': 'https://www.semiconductor-today.com/news_items/2023/may/ucsb-040523.shtml',\n",
       "   'ref': '1 Thick SQW InGaN LEDs with high EQE and low droop'}],\n",
       " 'April': [{'caption': 'Progress towards complementary GaN on silicon',\n",
       "   'img': 'webp',\n",
       "   'url': 'https://www.semiconductor-today.com/news_items/2023/apr/mit-030423.shtml',\n",
       "   'ref': '1 Progress towards complementary GaN on Si'},\n",
       "  {'caption': 'Annealing InP quantum dot MBE structures for laser diodes',\n",
       "   'img': 'webp',\n",
       "   'url': 'https://www.semiconductor-today.com/news_items/2023/apr/uiuc-130423.shtml',\n",
       "   'ref': '2 Annealing InP QD MBE structures for laser diodes'},\n",
       "  {'caption': 'Red InGaN LEDs for visible light communication',\n",
       "   'img': 'webp',\n",
       "   'url': 'https://www.semiconductor-today.com/news_items/2023/apr/fudan-210423.shtml',\n",
       "   'ref': '3 Red InGaN LEDs for visible light communication'},\n",
       "  {'caption': 'InAs quantum dot lasers butt-coupled to SOI waveguides',\n",
       "   'img': 'webp',\n",
       "   'url': 'https://www.semiconductor-today.com/news_items/2023/apr/lake-materials-270423.shtml',\n",
       "   'ref': '4 InAs QD lasers butt-coupled to SOI waveguides'}],\n",
       " 'March': [{'caption': 'MOVPE core–shell AlGaN nanorods for UV emission',\n",
       "   'img': 'webp',\n",
       "   'url': 'https://www.semiconductor-today.com/news_items/2023/mar/uos-090323.shtml',\n",
       "   'ref': '1 MOVPE shell-core AlGaN nanorods for UV emission'},\n",
       "  {'caption': 'First transverse DUV-LEDs without n-AlGaN layers',\n",
       "   'img': 'webp',\n",
       "   'url': 'https://www.semiconductor-today.com/news_items/2023/mar/lzsm-160323.shtml',\n",
       "   'ref': '2 First transverse DUV-LEDs without n-AlGaN layers'},\n",
       "  {'caption': 'GaN on silicon through surface-activated bonding',\n",
       "   'img': 'webp',\n",
       "   'url': 'https://www.semiconductor-today.com/news_items/2023/mar/university-of-bristol-230323.shtml',\n",
       "   'ref': '3 GaN on Si through surface activated bonding'},\n",
       "  {'caption': 'Re-assessing internal quantum efficiency assumptions',\n",
       "   'img': 'webp',\n",
       "   'url': 'https://www.semiconductor-today.com/news_items/2023/mar/uniill-290323.shtml',\n",
       "   'ref': '4 Re-assessing internal quantum efficiency assumptions'}],\n",
       " 'February': [{'caption': 'InGaAs QW HEMT for 6G communications',\n",
       "   'img': 'webp',\n",
       "   'url': 'https://www.semiconductor-today.com/news_items/2023/feb/knu-090223.shtml',\n",
       "   'ref': '1 InGaAs QW HEMT for 6G communications'},\n",
       "  {'caption': 'InGaN micro-LEDs for full-color passive-matrix displays',\n",
       "   'img': 'webp',\n",
       "   'url': 'https://www.semiconductor-today.com/news_items/2023/feb/innovation-160223.shtml',\n",
       "   'ref': '2 InGaN &micro;LEDs for full-color passive-matrix displays'},\n",
       "  {'caption': 'Indium arsenide quantum dot lasers on silicon with simple GaAs buffer',\n",
       "   'img': 'webp',\n",
       "   'url': 'https://www.semiconductor-today.com/news_items/2023/feb/ucas-230223.shtml',\n",
       "   'ref': '3 InAs QD lasers on silicon with simple GaAs buffer'},\n",
       "  {'caption': 'Green exciton emission from nanowire micro-LEDs',\n",
       "   'img': 'webp',\n",
       "   'url': 'https://www.semiconductor-today.com/news_items/2023/mar/uom-020323.shtml',\n",
       "   'ref': '4 Green exciton emission from nanowire micro-LEDs'}],\n",
       " 'January': [{'caption': 'Amorphous p-NiO/n-Ga2O3 crystal solar-blind detection',\n",
       "   'img': 'webp',\n",
       "   'url': 'https://www.semiconductor-today.com/news_items/2023/jan/ustc-120123.shtml',\n",
       "   'ref': '1 Amorphous NiO on Ga2O3 crystal solar-blind detection'},\n",
       "  {'caption': 'Integrating nanowire lasers in hybrid polymer-SiN waveguides',\n",
       "   'img': 'webp',\n",
       "   'url': 'https://www.semiconductor-today.com/news_items/2023/jan/npu-190123.shtml',\n",
       "   'ref': '2 Integraing NW lasers in hybrid polymer-SiN waveguides'},\n",
       "  {'caption': 'Enhancing interband cascades for longer wavelengths',\n",
       "   'img': 'webp',\n",
       "   'url': 'https://www.semiconductor-today.com/news_items/2023/jan/sandia-260123.shtml',\n",
       "   'ref': '3 Enhancing interband cascades for longer wavelengths'},\n",
       "  {'caption': 'Surge handling of GaN polarization superjunctions',\n",
       "   'img': 'webp',\n",
       "   'url': 'https://www.semiconductor-today.com/news_items/2023/feb/unisheffield-020223.shtml',\n",
       "   'ref': '4 Surge handling of GaN polarization superjunctions'}]}"
      ]
     },
     "execution_count": 5,
     "metadata": {},
     "output_type": "execute_result"
    }
   ],
   "source": [
    "j"
   ]
  },
  {
   "cell_type": "code",
   "execution_count": null,
   "metadata": {},
   "outputs": [],
   "source": []
  }
 ],
 "metadata": {
  "kernelspec": {
   "display_name": "Python 3 (ipykernel)",
   "language": "python",
   "name": "python3"
  },
  "language_info": {
   "codemirror_mode": {
    "name": "ipython",
    "version": 3
   },
   "file_extension": ".py",
   "mimetype": "text/x-python",
   "name": "python",
   "nbconvert_exporter": "python",
   "pygments_lexer": "ipython3",
   "version": "3.9.2"
  }
 },
 "nbformat": 4,
 "nbformat_minor": 4
}
