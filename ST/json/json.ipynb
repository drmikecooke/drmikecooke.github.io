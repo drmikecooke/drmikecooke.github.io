{
 "cells": [
  {
   "cell_type": "code",
   "execution_count": 16,
   "metadata": {},
   "outputs": [],
   "source": [
    "import json\n",
    "\n",
    "def get(file):\n",
    "    with open(file, 'r') as fp:\n",
    "        return json.load(fp)\n",
    "\n",
    "def put(d,file):\n",
    "    with open(file, 'w') as fp:\n",
    "        json.dump(d, fp)\n",
    "\n",
    "def STitem(caption,img,url,ref):\n",
    "    return {'caption':caption,'img':img,'url':url,'ref':ref}\n",
    "\n",
    "def addSTitem(d,month,item):\n",
    "    if month in d.keys():\n",
    "        d[month] += [item]\n",
    "    else:\n",
    "        d = {month:[item],**d}\n",
    "    return d\n",
    "\n",
    "def inputST(d):\n",
    "    month=input('Month: ')\n",
    "    caption=input('Caption: ')\n",
    "    img=input('Image: ')\n",
    "    href=input('Link: ')\n",
    "    ref=input('Reference: ')\n",
    "    return addSTitem(d,month,STitem(caption,img,href,ref))"
   ]
  },
  {
   "cell_type": "code",
   "execution_count": 14,
   "metadata": {},
   "outputs": [],
   "source": [
    "j=get('2021.json')"
   ]
  },
  {
   "cell_type": "code",
   "execution_count": 11,
   "metadata": {},
   "outputs": [
    {
     "data": {
      "text/plain": [
       "{'January': [{'caption': 'GaInAsSb 1.55μm telecom device',\n",
       "   'img': 'webp',\n",
       "   'url': 'http://www.semiconductor-today.com/news_items/2021/jan/ethzurich-070121.shtml',\n",
       "   'ref': '1 GaInAsSb UTC-PD'},\n",
       "  {'caption': 'Deep UV tunnel-junction LED efficiency',\n",
       "   'img': 'webp',\n",
       "   'url': 'http://www.semiconductor-today.com/news_items/2021/jan/uom-140121.shtml',\n",
       "   'ref': '2 Deep UV TJ LED'},\n",
       "  {'caption': 'CMOS-compatible III-V photodetector',\n",
       "   'img': 'webp',\n",
       "   'url': 'http://www.semiconductor-today.com/news_items/2021/jan/ibm-210121.shtml',\n",
       "   'ref': '3 III-V PD on Si PIC'},\n",
       "  {'caption': 'On-chip III-N LED/photodetector integration',\n",
       "   'img': 'webp',\n",
       "   'url': 'http://www.semiconductor-today.com/news_items/2021/jan/sust-280121.shtml',\n",
       "   'ref': '4 III-N LED-PD integration'}]}"
      ]
     },
     "execution_count": 11,
     "metadata": {},
     "output_type": "execute_result"
    }
   ],
   "source": [
    "j"
   ]
  },
  {
   "cell_type": "code",
   "execution_count": 20,
   "metadata": {},
   "outputs": [],
   "source": [
    "put(j,'2021.json')"
   ]
  },
  {
   "cell_type": "code",
   "execution_count": 18,
   "metadata": {},
   "outputs": [
    {
     "name": "stdin",
     "output_type": "stream",
     "text": [
      "Month:  February\n",
      "Caption:  Transistor cut-off frequency at 738GHz\n",
      "Image:  webp\n",
      "Link:  http://www.semiconductor-today.com/news_items/2021/Feb/knu-040221.shtml\n",
      "Reference:  1 Record InGaAs HEMT\n"
     ]
    }
   ],
   "source": [
    "j=inputST(j)"
   ]
  },
  {
   "cell_type": "code",
   "execution_count": 21,
   "metadata": {},
   "outputs": [
    {
     "data": {
      "text/plain": [
       "{'February': [{'caption': 'Transistor cut-off frequency at 738GHz',\n",
       "   'img': 'webp',\n",
       "   'url': 'http://www.semiconductor-today.com/news_items/2021/Feb/knu-040221.shtml',\n",
       "   'ref': '1 Record InGaAs HEMT'}],\n",
       " 'January': [{'caption': 'GaInAsSb 1.55μm telecom device',\n",
       "   'img': 'webp',\n",
       "   'url': 'http://www.semiconductor-today.com/news_items/2021/jan/ethzurich-070121.shtml',\n",
       "   'ref': '1 GaInAsSb UTC-PD'},\n",
       "  {'caption': 'Deep UV tunnel-junction LED efficiency',\n",
       "   'img': 'webp',\n",
       "   'url': 'http://www.semiconductor-today.com/news_items/2021/jan/uom-140121.shtml',\n",
       "   'ref': '2 Deep UV TJ LED'},\n",
       "  {'caption': 'CMOS-compatible III-V photodetector',\n",
       "   'img': 'webp',\n",
       "   'url': 'http://www.semiconductor-today.com/news_items/2021/jan/ibm-210121.shtml',\n",
       "   'ref': '3 III-V PD on Si PIC'},\n",
       "  {'caption': 'On-chip III-N LED/photodetector integration',\n",
       "   'img': 'webp',\n",
       "   'url': 'http://www.semiconductor-today.com/news_items/2021/jan/sust-280121.shtml',\n",
       "   'ref': '4 III-N LED-PD integration'}]}"
      ]
     },
     "execution_count": 21,
     "metadata": {},
     "output_type": "execute_result"
    }
   ],
   "source": [
    "j"
   ]
  },
  {
   "cell_type": "code",
   "execution_count": null,
   "metadata": {},
   "outputs": [],
   "source": []
  }
 ],
 "metadata": {
  "kernelspec": {
   "display_name": "Python 3",
   "language": "python",
   "name": "python3"
  },
  "language_info": {
   "codemirror_mode": {
    "name": "ipython",
    "version": 3
   },
   "file_extension": ".py",
   "mimetype": "text/x-python",
   "name": "python",
   "nbconvert_exporter": "python",
   "pygments_lexer": "ipython3",
   "version": "3.7.3"
  }
 },
 "nbformat": 4,
 "nbformat_minor": 4
}
