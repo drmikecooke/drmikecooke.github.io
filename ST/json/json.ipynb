{
 "cells": [
  {
   "cell_type": "code",
   "execution_count": 1,
   "metadata": {},
   "outputs": [],
   "source": [
    "import json\n",
    "\n",
    "def get(file):\n",
    "    with open(file, 'r') as fp:\n",
    "        return json.load(fp)\n",
    "\n",
    "def put(d,file):\n",
    "    with open(file, 'w') as fp:\n",
    "        json.dump(d, fp)\n",
    "\n",
    "def STitem(caption,img,url,ref):\n",
    "    return {'caption':caption,'img':img,'url':url,'ref':ref}\n",
    "\n",
    "def addSTitem(d,month,item):\n",
    "    if month in d.keys():\n",
    "        d[month] += [item]\n",
    "    else:\n",
    "        d = {month:[item],**d}\n",
    "    return d\n",
    "\n",
    "def inputST(d):\n",
    "    month=input('Month: ')\n",
    "    caption=input('Caption: ')\n",
    "    img=input('Image: ')\n",
    "    href=input('Link: ')\n",
    "    ref=input('Reference: ')\n",
    "    return addSTitem(d,month,STitem(caption,img,href,ref))\n",
    "\n",
    "j=get('2022.json')"
   ]
  },
  {
   "cell_type": "code",
   "execution_count": 2,
   "metadata": {},
   "outputs": [
    {
     "data": {
      "text/plain": [
       "{'May': [{'caption': 'UV-C LEDs with external quantum efficiency up to 8%',\n",
       "   'img': 'webp',\n",
       "   'url': 'http://www.semiconductor-today.com/news_items/2022/may/ucsb-050522.shtml',\n",
       "   'ref': '1 UV-C LEDs and FFA Sp-AlN'},\n",
       "  {'caption': 'InGaAs/AlGaAS nanowires on silicon',\n",
       "   'img': 'webp',\n",
       "   'url': 'http://www.semiconductor-today.com/news_items/2022/may/alferov-120522.shtml',\n",
       "   'ref': '2 InGaAs QD-QW in AlGaAs NW on Si'},\n",
       "  {'caption': 'AlN doping for future deep UV/power tech',\n",
       "   'img': 'webp',\n",
       "   'url': 'http://www.semiconductor-today.com/news_items/2022/may/git-190522.shtml',\n",
       "   'ref': '3 AlN PN homojunction'}],\n",
       " 'April': [{'caption': 'Microcavity QCL in CW operation at +5C',\n",
       "   'img': 'webp',\n",
       "   'url': 'http://www.semiconductor-today.com/news_items/2022/apr/cis-070422.shtml',\n",
       "   'ref': '1 CW microcavity QCL'},\n",
       "  {'caption': 'High-Al-content p-AlGaN with 17.5meV activation energy',\n",
       "   'img': 'webp',\n",
       "   'url': 'http://www.semiconductor-today.com/news_items/2022/apr/p-AlGaN-SLs-DUV-LEDs-140422.shtml',\n",
       "   'ref': '2 p-AlGaN SLs and DUV-LEDs'},\n",
       "  {'caption': 'Speedy, durable, retentive GaN non-volatile memory',\n",
       "   'img': 'webp',\n",
       "   'url': 'http://www.semiconductor-today.com/news_items/2022/apr/hkust-210422.shtml',\n",
       "   'ref': '3 GaN NVM overcomes trilemma'},\n",
       "  {'caption': 'Gallium oxide on strontium titanate',\n",
       "   'img': 'webp',\n",
       "   'url': 'http://www.semiconductor-today.com/news_items/2022/apr/arizona-280422.shtml',\n",
       "   'ref': '4 Ga2O3 on STO'}],\n",
       " 'March': [{'caption': 'Optimizing InGaN templates for LEDs',\n",
       "   'img': 'webp',\n",
       "   'url': 'http://www.semiconductor-today.com/news_items/2022/mar/ncsu-100322.shtml',\n",
       "   'ref': '1 LEDs on InGaN templates'},\n",
       "  {'caption': 'High-bandwidth membrane III-V lasers on SiO<sub>2</sub>/Si',\n",
       "   'img': 'webp',\n",
       "   'url': 'http://www.semiconductor-today.com/news_items/2022/mar/nippon-telegraph-170322.shtml',\n",
       "   'ref': '2 High bandwidth DMLs on Si'},\n",
       "  {'caption': 'Extending interband cascade laser wavelength',\n",
       "   'img': 'webp',\n",
       "   'url': 'http://www.semiconductor-today.com/news_items/2022/mar/sandia-240322.shtml',\n",
       "   'ref': '3 ICL at 13micron'},\n",
       "  {'caption': 'N-polar InGaN LEDs with record output power',\n",
       "   'img': 'webp',\n",
       "   'url': 'http://www.semiconductor-today.com/news_items/2022/mar/ucsb-300322.shtml',\n",
       "   'ref': '4 Inverted N-polar InGaN LEDs'}],\n",
       " 'February': [{'caption': 'Intermediate anneal therapy for QWs',\n",
       "   'img': 'webp',\n",
       "   'url': 'http://www.semiconductor-today.com/news_items/2022/feb/instituteofsemiconductors-100222.shtml',\n",
       "   'ref': '1 InGaN QW annealing'},\n",
       "  {'caption': 'Reliable 0.25μm GaN HEMTs for X-band applications',\n",
       "   'img': 'webp',\n",
       "   'url': 'http://www.semiconductor-today.com/news_items/2022/feb/wolfspeed-170222.shtml',\n",
       "   'ref': '2 Sunken FP GaN HEMTs'},\n",
       "  {'caption': 'InGaAs/colloidal nanocrystal infrared detector',\n",
       "   'img': 'webp',\n",
       "   'url': 'http://www.semiconductor-today.com/news_items/2022/feb/sorbonne-230222.shtml',\n",
       "   'ref': '3 InGaAs-HgTe hybrid'},\n",
       "  {'caption': 'Achieving thicker AlGaN material',\n",
       "   'img': 'webp',\n",
       "   'url': 'http://www.semiconductor-today.com/news_items/2022/mar/git-020322.shtml',\n",
       "   'ref': '4 Thick AlGaN for LDs'}],\n",
       " 'January': [{'caption': 'Ohmic contacts on lightly doped p-GaN',\n",
       "   'img': 'webp',\n",
       "   'url': 'http://www.semiconductor-today.com/news_items/2022/jan/nagoya-140122.shtml',\n",
       "   'ref': '1 p-GaN contacts'},\n",
       "  {'caption': 'Boosting transconductance and squeezing off-current',\n",
       "   'img': 'webp',\n",
       "   'url': 'http://www.semiconductor-today.com/news_items/2022/jan/nymct-200122.shtml',\n",
       "   'ref': '2 InGaAs FinFET boost'},\n",
       "  {'caption': 'Pushing indium phosphide DHBT frequency to 1.2THz',\n",
       "   'img': 'webp',\n",
       "   'url': 'http://www.semiconductor-today.com/news_items/2022/jan/ethzurich-270122.shtml',\n",
       "   'ref': '3 DHBT 1.2THz'},\n",
       "  {'caption': 'NiO/Ga2O3 heterojunction power',\n",
       "   'img': 'webp',\n",
       "   'url': 'http://www.semiconductor-today.com/news_items/2022/feb/hebei-030222.shtml',\n",
       "   'ref': '4 NiO-Ga2O3 HJD'}]}"
      ]
     },
     "execution_count": 2,
     "metadata": {},
     "output_type": "execute_result"
    }
   ],
   "source": [
    "j"
   ]
  },
  {
   "cell_type": "code",
   "execution_count": 4,
   "metadata": {},
   "outputs": [],
   "source": [
    "put(j,'2022.json')"
   ]
  },
  {
   "cell_type": "code",
   "execution_count": 3,
   "metadata": {},
   "outputs": [
    {
     "name": "stdin",
     "output_type": "stream",
     "text": [
      "Month:  May\n",
      "Caption:  Magnesium doping of hot-wall MOCVD GaN\n",
      "Image:  webp\n",
      "Link:  http://www.semiconductor-today.com/news_items/2022/may/chalmers-260522.shtml\n",
      "Reference:  4 Hot-wall MOCVD p-GaN\n"
     ]
    }
   ],
   "source": [
    "j=inputST(j)"
   ]
  },
  {
   "cell_type": "code",
   "execution_count": null,
   "metadata": {},
   "outputs": [],
   "source": []
  }
 ],
 "metadata": {
  "kernelspec": {
   "display_name": "Python 3 (ipykernel)",
   "language": "python",
   "name": "python3"
  },
  "language_info": {
   "codemirror_mode": {
    "name": "ipython",
    "version": 3
   },
   "file_extension": ".py",
   "mimetype": "text/x-python",
   "name": "python",
   "nbconvert_exporter": "python",
   "pygments_lexer": "ipython3",
   "version": "3.7.3"
  }
 },
 "nbformat": 4,
 "nbformat_minor": 4
}
