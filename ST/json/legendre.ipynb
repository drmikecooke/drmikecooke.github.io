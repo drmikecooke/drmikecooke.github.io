{
 "cells": [
  {
   "cell_type": "code",
   "execution_count": 36,
   "metadata": {},
   "outputs": [],
   "source": [
    "import sympy\n",
    "\n",
    "x=sympy.Symbol('x')\n",
    "\n",
    "def λ(n):\n",
    "    return ((n+1)%2)/2/(n+1)\n",
    "\n",
    "def P(n):\n",
    "    Pn=[]\n",
    "    for m in range(0,n):\n",
    "        row=[]\n",
    "        for k in range(0,n+1):\n",
    "            row+=[λ(k+m)]\n",
    "        Pn+=[row]\n",
    "    row=[]\n",
    "    for k in range(0,n+1):\n",
    "        row+=[x**k]\n",
    "    return Pn+[row]\n"
   ]
  },
  {
   "cell_type": "code",
   "execution_count": 37,
   "metadata": {},
   "outputs": [
    {
     "data": {
      "text/latex": [
       "$\\displaystyle 0.5 x$"
      ],
      "text/plain": [
       "0.5*x"
      ]
     },
     "execution_count": 37,
     "metadata": {},
     "output_type": "execute_result"
    }
   ],
   "source": [
    "\n",
    "\n",
    "sympy.Matrix([[λ(0),λ(1)],[1,x]]).det()"
   ]
  },
  {
   "cell_type": "code",
   "execution_count": 44,
   "metadata": {},
   "outputs": [
    {
     "data": {
      "text/latex": [
       "$\\displaystyle - \\frac{- 1.40439989600199 \\cdot 10^{-13} x^{15} + 4.65012410009553 \\cdot 10^{-13} x^{13} - 6.42635558761041 \\cdot 10^{-13} x^{11} + 4.80943803538801 \\cdot 10^{-13} x^{9} - 2.10777224132947 \\cdot 10^{-13} x^{7} + 5.41845716489235 \\cdot 10^{-14} x^{5} - 7.57930102604255 \\cdot 10^{-15} x^{3} + 4.45841236826032 \\cdot 10^{-16} x}{1.14311842706904 \\cdot 10^{-6} x^{10} - 2.5148605395519 \\cdot 10^{-6} x^{8} + 2.16430422191739 \\cdot 10^{-6} x^{6} - 9.1110772409355 \\cdot 10^{-7} x^{4} + 1.87979474673576 \\cdot 10^{-7} x^{2} - 1.52415790275873 \\cdot 10^{-8}}$"
      ],
      "text/plain": [
       "-(-1.40439989600199e-13*x**15 + 4.65012410009553e-13*x**13 - 6.42635558761041e-13*x**11 + 4.80943803538801e-13*x**9 - 2.10777224132947e-13*x**7 + 5.41845716489235e-14*x**5 - 7.57930102604255e-15*x**3 + 4.45841236826032e-16*x)/(1.14311842706904e-6*x**10 - 2.5148605395519e-6*x**8 + 2.16430422191739e-6*x**6 - 9.1110772409355e-7*x**4 + 1.87979474673576e-7*x**2 - 1.52415790275873e-8)"
      ]
     },
     "execution_count": 44,
     "metadata": {},
     "output_type": "execute_result"
    }
   ],
   "source": [
    "sympy.Matrix(P(5)).det()"
   ]
  },
  {
   "cell_type": "code",
   "execution_count": 41,
   "metadata": {},
   "outputs": [
    {
     "data": {
      "text/plain": [
       "[[0.5, 0.0, 0.16666666666666666, 0.0, 0.1, 0.0],\n",
       " [0.0, 0.16666666666666666, 0.0, 0.1, 0.0, 0.07142857142857142],\n",
       " [0.16666666666666666, 0.0, 0.1, 0.0, 0.07142857142857142, 0.0],\n",
       " [0.0, 0.1, 0.0, 0.07142857142857142, 0.0, 0.05555555555555555],\n",
       " [0.1, 0.0, 0.07142857142857142, 0.0, 0.05555555555555555, 0.0],\n",
       " [1, x, x**2, x**3, x**4, x**5]]"
      ]
     },
     "execution_count": 41,
     "metadata": {},
     "output_type": "execute_result"
    }
   ],
   "source": [
    "P(5)"
   ]
  },
  {
   "cell_type": "code",
   "execution_count": null,
   "metadata": {},
   "outputs": [],
   "source": []
  }
 ],
 "metadata": {
  "kernelspec": {
   "display_name": "Python 3",
   "language": "python",
   "name": "python3"
  },
  "language_info": {
   "codemirror_mode": {
    "name": "ipython",
    "version": 3
   },
   "file_extension": ".py",
   "mimetype": "text/x-python",
   "name": "python",
   "nbconvert_exporter": "python",
   "pygments_lexer": "ipython3",
   "version": "3.7.3"
  }
 },
 "nbformat": 4,
 "nbformat_minor": 4
}
