{
 "cells": [
  {
   "cell_type": "code",
   "execution_count": 36,
   "metadata": {},
   "outputs": [],
   "source": [
    "import sympy\n",
    "\n",
    "x=sympy.Symbol('x')\n",
    "\n",
    "def λ(n):\n",
    "    return ((n+1)%2)/2/(n+1)\n",
    "\n",
    "def P(n):\n",
    "    Pn=[]\n",
    "    for m in range(0,n):\n",
    "        row=[]\n",
    "        for k in range(0,n+1):\n",
    "            row+=[λ(k+m)]\n",
    "        Pn+=[row]\n",
    "    row=[]\n",
    "    for k in range(0,n+1):\n",
    "        row+=[x**k]\n",
    "    return Pn+[row]\n"
   ]
  },
  {
   "cell_type": "code",
   "execution_count": 37,
   "metadata": {},
   "outputs": [
    {
     "data": {
      "text/latex": [
       "$\\displaystyle 0.5 x$"
      ],
      "text/plain": [
       "0.5*x"
      ]
     },
     "execution_count": 37,
     "metadata": {},
     "output_type": "execute_result"
    }
   ],
   "source": [
    "\n",
    "\n",
    "sympy.Matrix([[λ(0),λ(1)],[1,x]]).det()"
   ]
  },
  {
   "cell_type": "code",
   "execution_count": null,
   "metadata": {},
   "outputs": [],
   "source": []
  },
  {
   "cell_type": "code",
   "execution_count": 41,
   "metadata": {},
   "outputs": [
    {
     "data": {
      "text/plain": [
       "[[0.5, 0.0, 0.16666666666666666, 0.0, 0.1, 0.0],\n",
       " [0.0, 0.16666666666666666, 0.0, 0.1, 0.0, 0.07142857142857142],\n",
       " [0.16666666666666666, 0.0, 0.1, 0.0, 0.07142857142857142, 0.0],\n",
       " [0.0, 0.1, 0.0, 0.07142857142857142, 0.0, 0.05555555555555555],\n",
       " [0.1, 0.0, 0.07142857142857142, 0.0, 0.05555555555555555, 0.0],\n",
       " [1, x, x**2, x**3, x**4, x**5]]"
      ]
     },
     "execution_count": 41,
     "metadata": {},
     "output_type": "execute_result"
    }
   ],
   "source": [
    "P(5)"
   ]
  },
  {
   "cell_type": "code",
   "execution_count": null,
   "metadata": {},
   "outputs": [],
   "source": []
  }
 ],
 "metadata": {
  "kernelspec": {
   "display_name": "Python 3",
   "language": "python",
   "name": "python3"
  },
  "language_info": {
   "codemirror_mode": {
    "name": "ipython",
    "version": 3
   },
   "file_extension": ".py",
   "mimetype": "text/x-python",
   "name": "python",
   "nbconvert_exporter": "python",
   "pygments_lexer": "ipython3",
   "version": "3.7.3"
  }
 },
 "nbformat": 4,
 "nbformat_minor": 4
}
