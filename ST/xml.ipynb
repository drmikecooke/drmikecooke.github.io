{
 "cells": [
  {
   "cell_type": "code",
   "execution_count": 1,
   "metadata": {},
   "outputs": [],
   "source": [
    "import xml.etree.ElementTree as ET"
   ]
  },
  {
   "cell_type": "code",
   "execution_count": 22,
   "metadata": {},
   "outputs": [],
   "source": [
    "tree = ET.parse('2020.html')"
   ]
  },
  {
   "cell_type": "code",
   "execution_count": 23,
   "metadata": {},
   "outputs": [
    {
     "data": {
      "text/plain": [
       "<xml.etree.ElementTree.ElementTree at 0x7f3068560c88>"
      ]
     },
     "execution_count": 23,
     "metadata": {},
     "output_type": "execute_result"
    }
   ],
   "source": [
    "tree"
   ]
  },
  {
   "cell_type": "code",
   "execution_count": 24,
   "metadata": {},
   "outputs": [],
   "source": [
    "root = tree.getroot()"
   ]
  },
  {
   "cell_type": "code",
   "execution_count": 25,
   "metadata": {},
   "outputs": [
    {
     "data": {
      "text/plain": [
       "'html'"
      ]
     },
     "execution_count": 25,
     "metadata": {},
     "output_type": "execute_result"
    }
   ],
   "source": [
    "root.tag"
   ]
  },
  {
   "cell_type": "code",
   "execution_count": 26,
   "metadata": {},
   "outputs": [],
   "source": [
    "dict2018={}\n",
    "for month in root.iter('div'):\n",
    "    for item in month:\n",
    "        if item.tag==\"h2\":\n",
    "            monthname = item.text\n",
    "            flist = []\n",
    "        if item.tag==\"figure\":\n",
    "            for fpart in item:\n",
    "                if fpart.tag==\"a\":\n",
    "                    url = fpart.attrib[\"href\"]\n",
    "                    for fdesc in fpart:\n",
    "                        if fdesc.tag==\"figcaption\":\n",
    "                            caption = fdesc.text\n",
    "                        if fdesc.tag==\"img\":\n",
    "                            img = fdesc.attrib['src']\n",
    "                    number = caption[:1]\n",
    "                    caption = caption[2:]\n",
    "                    figure = {'caption': caption, 'img': img, 'url': url}\n",
    "                    flist += [figure]\n",
    "    dict2018[monthname]=flist\n",
    "                    "
   ]
  },
  {
   "cell_type": "code",
   "execution_count": 27,
   "metadata": {},
   "outputs": [
    {
     "data": {
      "text/plain": [
       "{'December 2020': [{'caption': 'CW quantum dash lasers on silicon',\n",
       "   'img': '2020/12/1.jpg',\n",
       "   'url': 'http://www.semiconductor-today.com/news_items/2020/dec/hkust-031220.shtml'},\n",
       "  {'caption': 'Vertical power trigate SiC MOSFET',\n",
       "   'img': '2020/12/2.jpg',\n",
       "   'url': 'http://www.semiconductor-today.com/news_items/2020/dec/purdue-101220.shtml'},\n",
       "  {'caption': 'Boosting blue light emission with silica array substrates',\n",
       "   'img': '2020/12/3.jpg',\n",
       "   'url': 'http://www.semiconductor-today.com/news_items/2020/dec/wuhan-171220.shtml'},\n",
       "  {'caption': 'Extreme-k and Ga2O3 power moves',\n",
       "   'img': '2020/12/4.svg',\n",
       "   'url': 'http://www.semiconductor-today.com/news_items/2020/dec/osu-231220.shtml'}],\n",
       " 'November 2020': [{'caption': 'III-V photovoltaics for IoT dust',\n",
       "   'img': '2020/11/1.jpg',\n",
       "   'url': 'http://www.semiconductor-today.com/news_items/2020/nov/ibm-051120.shtml'},\n",
       "  {'caption': 'MOCVD tunnel junctions for GaN LEDs',\n",
       "   'img': '2020/11/2.jpg',\n",
       "   'url': 'http://www.semiconductor-today.com/news_items/2020/nov/ucsb-121120.shtml'},\n",
       "  {'caption': 'InP QDs on silicon with high PL intensity',\n",
       "   'img': '2020/11/3.jpg',\n",
       "   'url': 'http://www.semiconductor-today.com/news_items/2020/nov/naasp-191120.shtml'},\n",
       "  {'caption': 'Improving p-GaN gate HEMT reliability',\n",
       "   'img': '2020/11/4.jpg',\n",
       "   'url': 'http://www.semiconductor-today.com/news_items/2020/nov/hkust-261120.shtml'}],\n",
       " 'October 2020': [{'caption': 'Displaced misfits boost QD laser on silicon',\n",
       "   'img': '2020/10/1.jpg',\n",
       "   'url': 'http://www.semiconductor-today.com/news_items/2020/oct/ucsb-081020.shtml'},\n",
       "  {'caption': 'InGaN laser with n-type ridge on silicon',\n",
       "   'img': '2020/10/2.jpg',\n",
       "   'url': 'http://www.semiconductor-today.com/news_items/2020/oct/sinano-151020.shtml'},\n",
       "  {'caption': 'AlPN vapor phase epitaxy on GaN',\n",
       "   'img': '2020/10/3.svg',\n",
       "   'url': 'http://www.semiconductor-today.com/news_items/2020/oct/nims-221020.shtml'},\n",
       "  {'caption': 'Optimizing SiC MOSFET performance',\n",
       "   'img': '2020/10/4.svg',\n",
       "   'url': 'http://www.semiconductor-today.com/news_items/2020/oct/suny-291020.shtml'}],\n",
       " 'September 2020': [{'caption': 'Green and orange LEDs on porous GaN',\n",
       "   'img': '2020/09/1.jpg',\n",
       "   'url': 'http://www.semiconductor-today.com/news_items/2020/sep/ucsb-110920.shtml'},\n",
       "  {'caption': 'BiTeSe optoelectronic functional device',\n",
       "   'img': '2020/09/2.jpg',\n",
       "   'url': 'http://www.semiconductor-today.com/news_items/2020/sep/hebei-210920.shtml'},\n",
       "  {'caption': 'InAs quantum dot laser diodes on SOI',\n",
       "   'img': '2020/09/3.jpg',\n",
       "   'url': 'http://www.semiconductor-today.com/news_items/2020/sep/cas-240920.shtml'},\n",
       "  {'caption': 'Simultaneous emission-detection',\n",
       "   'img': '2020/09/4.jpg',\n",
       "   'url': 'http://www.semiconductor-today.com/news_items/2020/oct/nagoya-021020.shtml'}],\n",
       " 'August 2020': [{'caption': 'Avoiding mobility collapse in high-voltage gallium nitride power devices',\n",
       "   'img': '2020/08/1.jpg',\n",
       "   'url': 'http://www.semiconductor-today.com/news_items/2020/aug/sciops-190820.shtml'},\n",
       "  {'caption': 'Boron strain therapy for high-indium-content InGaAs layers',\n",
       "   'img': '2020/08/2.jpg',\n",
       "   'url': 'http://www.semiconductor-today.com/news_items/2020/aug/uot-200820.shtml'},\n",
       "  {'caption': 'Halogen-free vapor phase epitaxy for GaN',\n",
       "   'img': '2020/08/3.jpg',\n",
       "   'url': 'http://www.semiconductor-today.com/news_items/2020/aug/toyota-270820.shtml'},\n",
       "  {'caption': 'Large-area liquid-phase indium-V growth on SiO',\n",
       "   'img': '2020/08/4.jpg',\n",
       "   'url': 'http://www.semiconductor-today.com/news_items/2020/sep/nasa-030920.shtml'}],\n",
       " 'July 2020': [{'caption': 'Transfer printing and self-aligned etching for E-mode GaN transistors',\n",
       "   'img': '2020/07/1.jpg',\n",
       "   'url': 'http://www.semiconductor-today.com/news_items/2020/jul/xu-230720.shtml'},\n",
       "  {'caption': 'First claim of nitrogen-polar III-nitride tunnel-junction light-emitting diodes',\n",
       "   'img': '2020/07/2.jpg',\n",
       "   'url': 'http://www.semiconductor-today.com/news_items/2020/jul/kaust-300720.shtml'},\n",
       "  {'caption': 'CW operation of semi-polar GaN-on-sapphire laser',\n",
       "   'img': '2020/07/3.jpg',\n",
       "   'url': 'http://www.semiconductor-today.com/news_items/2020/aug/ucsb-060820.shtml'},\n",
       "  {'caption': 'Gallium nitride VCSEL with electrically conductive bottom mirror and contact',\n",
       "   'img': '2020/07/4.jpg',\n",
       "   'url': 'http://www.semiconductor-today.com/news_items/2020/aug/yale-070820.shtml'}],\n",
       " 'June 2020': [{'caption': 'Carrier-localization engineering for deep-ultraviolet light-emitting diodes',\n",
       "   'img': '2020/06/1.jpg',\n",
       "   'url': 'http://www.semiconductor-today.com/news_items/2020/jun/pu-260620.shtml'},\n",
       "  {'caption': 'Improving aluminium nitride nucleation and regrowth on sapphire',\n",
       "   'img': '2020/06/2.jpg',\n",
       "   'url': 'http://www.semiconductor-today.com/news_items/2020/jul/susc-030720.shtml'},\n",
       "  {'caption': 'Room-temperature continuous-wave 1.55μm quantum dash laser diodes on silicon',\n",
       "   'img': '2020/06/3.jpg',\n",
       "   'url': 'http://www.semiconductor-today.com/news_items/2020/jul/hkust-090720.shtml'},\n",
       "  {'caption': 'Improving MOCVD tunnel junctions for gallium nitride μ-light emitting diodes',\n",
       "   'img': '2020/06/4.jpg',\n",
       "   'url': 'http://www.semiconductor-today.com/news_items/2020/jul/ucsb-160720.shtml'}],\n",
       " 'May 2020': [{'caption': 'Gallium nitride complementary logic on silicon using normally-off transistors',\n",
       "   'img': '2020/05/1.jpg',\n",
       "   'url': 'http://www.semiconductor-today.com/news_items/2020/may/mit-280520.shtml'},\n",
       "  {'caption': 'Phosphor-free white light-emitting diodes for efficient displays and comms',\n",
       "   'img': '2020/05/2.jpg',\n",
       "   'url': 'http://www.semiconductor-today.com/news_items/2020/jun/ucsb-110620.shtml'},\n",
       "  {'caption': 'Boosting mobility in indium aluminium gallium nitride barrier heterostructure',\n",
       "   'img': '2020/05/3.jpg',\n",
       "   'url': 'http://www.semiconductor-today.com/news_items/2020/jun/nctu-190620.shtml'},\n",
       "  {'caption': 'Baking and plasma-enhanced low-temperature gallium nitride atomic layer deposition',\n",
       "   'img': '2020/05/4.jpg',\n",
       "   'url': 'http://www.semiconductor-today.com/news_items/2020/jun/ustb-120620.shtml'}],\n",
       " 'April 2020': [{'caption': 'Green vertical-cavity surface-emitting laser enabled by curved mirror process',\n",
       "   'img': '2020/04/1.jpg',\n",
       "   'url': 'http://www.semiconductor-today.com/news_items/2020/may/sony-070520.shtml'},\n",
       "  {'caption': 'Seeking lower-cost non- and semi-polar gallium nitride light-emitters',\n",
       "   'img': '2020/04/2.jpg',\n",
       "   'url': 'http://www.semiconductor-today.com/news_items/2020/may/ucsb-150520.shtml'},\n",
       "  {'caption': 'Increasing wet etch rate in gallium nitride by thermal enhancement',\n",
       "   'img': '2020/04/3.svg',\n",
       "   'url': 'http://www.semiconductor-today.com/news_items/2020/may/sciocs-150520.shtml'},\n",
       "  {'caption': 'Phosphorus-free S-band indium arsenide quantum dot lasers on SOI',\n",
       "   'img': '2020/04/4.jpg',\n",
       "   'url': 'http://www.semiconductor-today.com/news_items/2020/may/wuhanuni-210520.shtml'},\n",
       "  {'caption': 'Lower thresholds for indium arsenide quantum dash lasers on silicon',\n",
       "   'img': '2020/04/5.jpg',\n",
       "   'url': 'http://www.semiconductor-today.com/news_items/2020/may/hkust-210520.shtml'},\n",
       "  {'caption': 'Continuous-wave lasing from InGaN microdisk laser diodes on silicon',\n",
       "   'img': '2020/04/6.jpg',\n",
       "   'url': 'http://www.semiconductor-today.com/news_items/2020/may/ust-280520.shtml'}],\n",
       " 'March 2020': [{'caption': 'Micro-scaling of indium gallium nitride blue and green light-emitting diodes',\n",
       "   'img': '2020/03/1.jpg',\n",
       "   'url': 'http://www.semiconductor-today.com/news_items/2020/mar/ucsb-260320.shtml'},\n",
       "  {'caption': 'Ozone precursor for hafnium dioxide dielectric in gallium nitride transistors',\n",
       "   'img': '2020/03/2.jpg',\n",
       "   'url': 'http://www.semiconductor-today.com/news_items/2020/apr/ncsu-020420.shtml'},\n",
       "  {'caption': 'Boosting output power in aluminium gallium nitride channel transistors',\n",
       "   'img': '2020/03/3.jpg',\n",
       "   'url': 'http://www.semiconductor-today.com/news_items/2020/apr/osu-090420.shtml'},\n",
       "  {'caption': 'Magnesium thermal diffusion for normally-on gallium nitride transistors',\n",
       "   'img': '2020/03/4.jpg',\n",
       "   'url': 'http://www.semiconductor-today.com/news_items/2020/apr/scut-160420.shtml'},\n",
       "  {'caption': 'Dual-layer silicon nitride for threshold engineering gallium nitride transistors',\n",
       "   'img': '2020/03/5.jpg',\n",
       "   'url': 'http://www.semiconductor-today.com/news_items/2020/apr/sustech-230420.shtml'},\n",
       "  {'caption': 'High-index-contrast gratings for III-nitride vertical-cavity surface-emitting laser diodes',\n",
       "   'img': '2020/03/6.jpg',\n",
       "   'url': 'http://www.semiconductor-today.com/news_items/2020/may/acs-010520.shtml'}],\n",
       " 'February 2020': [{'caption': 'III-V photodetectors integrated with silicon-on-insulator transistors',\n",
       "   'img': '2020/02/1.jpg',\n",
       "   'url': 'http://www.semiconductor-today.com/news_items/2020/feb/kaist-270220.shtml'},\n",
       "  {'caption': 'Indium phosphide buffers on silicon for III-V laser diodes and data photonics',\n",
       "   'img': '2020/02/2.jpg',\n",
       "   'url': 'http://www.semiconductor-today.com/news_items/2020/mar/acsb-040320.shtml'},\n",
       "  {'caption': 'Growing ε polytype gallium oxide with gallium nitride',\n",
       "   'img': '2020/02/3.jpg',\n",
       "   'url': 'http://www.semiconductor-today.com/news_items/2020/mar/fiaf-040320.shtml'},\n",
       "  {'caption': 'Barium titanate and aluminium gallium nitride power electronics',\n",
       "   'img': '2020/02/4.svg',\n",
       "   'url': 'http://www.semiconductor-today.com/news_items/2020/mar/osu-050320.shtml'},\n",
       "  {'caption': 'Aluminium gallium nitride on silicon carbide for ultraviolet diodes',\n",
       "   'img': '2020/02/5.jpg',\n",
       "   'url': 'http://www.semiconductor-today.com/news_items/2020/mar/ucsb-120320.shtml'},\n",
       "  {'caption': 'Indium tin oxide as cladding for more efficient green laser diodes',\n",
       "   'img': '2020/02/6.jpg',\n",
       "   'url': 'http://www.semiconductor-today.com/news_items/2020/mar/suzhou-190320.shtml'}],\n",
       " 'January 2020': [{'caption': 'Enhancing AlGaN hole injection with germanium-doped tunnel junctions',\n",
       "   'img': '2020/01/1.jpg',\n",
       "   'url': 'http://www.semiconductor-today.com/news_items/2020/jan/minatec-230120.shtml'},\n",
       "  {'caption': 'Patterned sapphire silica substrate for ultraviolet light-emitting diodes',\n",
       "   'img': '2020/01/2.jpg',\n",
       "   'url': 'http://www.semiconductor-today.com/news_items/2020/jan/wuhan-300120.shtml'},\n",
       "  {'caption': 'Developing complementary p-channel transistors for GaN-on-silicon power',\n",
       "   'img': '2020/01/3.svg',\n",
       "   'url': 'http://www.semiconductor-today.com/news_items/2020/feb/hkust-060220.shtml'},\n",
       "  {'caption': 'Probing vertical conduction in indium selenide field-effect transistors',\n",
       "   'img': '2020/01/4.svg',\n",
       "   'url': 'http://www.semiconductor-today.com/news_items/2020/feb/nu-130220.shtml'},\n",
       "  {'caption': 'Monolithic indium gallium nitride white light-emitting diode',\n",
       "   'img': '2020/01/5.jpg',\n",
       "   'url': 'http://www.semiconductor-today.com/news_items/2020/feb/ostendo-200220.shtml'},\n",
       "  {'caption': 'Monolithic indium arsenide quantum dot avalanche photodiode on silicon',\n",
       "   'img': '2020/01/6.jpg',\n",
       "   'url': 'http://www.semiconductor-today.com/news_items/2020/feb/ucsb-270220.shtml'}]}"
      ]
     },
     "execution_count": 27,
     "metadata": {},
     "output_type": "execute_result"
    }
   ],
   "source": [
    "dict2018"
   ]
  },
  {
   "cell_type": "code",
   "execution_count": 28,
   "metadata": {},
   "outputs": [],
   "source": [
    "import json\n",
    "with open('2020.json', 'w') as fp:\n",
    "    json.dump(dict2018, fp)"
   ]
  },
  {
   "cell_type": "code",
   "execution_count": null,
   "metadata": {},
   "outputs": [],
   "source": []
  }
 ],
 "metadata": {
  "kernelspec": {
   "display_name": "Python 3",
   "language": "python",
   "name": "python3"
  },
  "language_info": {
   "codemirror_mode": {
    "name": "ipython",
    "version": 3
   },
   "file_extension": ".py",
   "mimetype": "text/x-python",
   "name": "python",
   "nbconvert_exporter": "python",
   "pygments_lexer": "ipython3",
   "version": "3.7.3"
  }
 },
 "nbformat": 4,
 "nbformat_minor": 4
}
