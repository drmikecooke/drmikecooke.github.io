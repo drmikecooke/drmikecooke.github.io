{
 "cells": [
  {
   "cell_type": "code",
   "execution_count": 5,
   "metadata": {},
   "outputs": [],
   "source": [
    "import xml.etree.ElementTree as ET"
   ]
  },
  {
   "cell_type": "code",
   "execution_count": 104,
   "metadata": {},
   "outputs": [],
   "source": [
    "tree = ET.parse('2018.html')"
   ]
  },
  {
   "cell_type": "code",
   "execution_count": 105,
   "metadata": {},
   "outputs": [
    {
     "data": {
      "text/plain": [
       "<xml.etree.ElementTree.ElementTree at 0x7ff708282cf8>"
      ]
     },
     "execution_count": 105,
     "metadata": {},
     "output_type": "execute_result"
    }
   ],
   "source": [
    "tree"
   ]
  },
  {
   "cell_type": "code",
   "execution_count": 106,
   "metadata": {},
   "outputs": [],
   "source": [
    "root = tree.getroot()"
   ]
  },
  {
   "cell_type": "code",
   "execution_count": 107,
   "metadata": {},
   "outputs": [
    {
     "data": {
      "text/plain": [
       "'html'"
      ]
     },
     "execution_count": 107,
     "metadata": {},
     "output_type": "execute_result"
    }
   ],
   "source": [
    "root.tag"
   ]
  },
  {
   "cell_type": "code",
   "execution_count": 108,
   "metadata": {},
   "outputs": [
    {
     "data": {
      "text/plain": [
       "{}"
      ]
     },
     "execution_count": 108,
     "metadata": {},
     "output_type": "execute_result"
    }
   ],
   "source": [
    "root.attrib"
   ]
  },
  {
   "cell_type": "code",
   "execution_count": 109,
   "metadata": {},
   "outputs": [
    {
     "data": {
      "text/plain": [
       "<Element 'html' at 0x7ff708275778>"
      ]
     },
     "execution_count": 109,
     "metadata": {},
     "output_type": "execute_result"
    }
   ],
   "source": [
    "root"
   ]
  },
  {
   "cell_type": "code",
   "execution_count": 110,
   "metadata": {},
   "outputs": [
    {
     "name": "stdout",
     "output_type": "stream",
     "text": [
      "head {}\n",
      "body {}\n"
     ]
    }
   ],
   "source": [
    "for child in root:\n",
    "    print(child.tag, child.attrib)\n",
    "    "
   ]
  },
  {
   "cell_type": "code",
   "execution_count": 111,
   "metadata": {},
   "outputs": [
    {
     "data": {
      "text/plain": [
       "<Element 'head' at 0x7ff70826c9f8>"
      ]
     },
     "execution_count": 111,
     "metadata": {},
     "output_type": "execute_result"
    }
   ],
   "source": [
    "root[0]"
   ]
  },
  {
   "cell_type": "code",
   "execution_count": 112,
   "metadata": {},
   "outputs": [
    {
     "data": {
      "text/plain": [
       "'2018/05/1.jpg'"
      ]
     },
     "execution_count": 112,
     "metadata": {},
     "output_type": "execute_result"
    }
   ],
   "source": [
    "root[1][13][1][0][1].attrib['src']"
   ]
  },
  {
   "cell_type": "code",
   "execution_count": 113,
   "metadata": {},
   "outputs": [
    {
     "data": {
      "text/plain": [
       "[('start', <Element 'div' at 0x7ff7082a0818>)]"
      ]
     },
     "execution_count": 113,
     "metadata": {},
     "output_type": "execute_result"
    }
   ],
   "source": [
    "parser = ET.XMLPullParser(['start', 'end'])\n",
    "parser.feed('<div>')\n",
    "list(parser.read_events())"
   ]
  },
  {
   "cell_type": "code",
   "execution_count": 122,
   "metadata": {},
   "outputs": [],
   "source": [
    "dict2018={}\n",
    "for month in root.iter('div'):\n",
    "    for item in month:\n",
    "        if item.tag==\"h2\":\n",
    "            monthname = item.text\n",
    "            flist = []\n",
    "        if item.tag==\"figure\":\n",
    "            for fpart in item:\n",
    "                if fpart.tag==\"a\":\n",
    "                    url = fpart.attrib[\"href\"]\n",
    "                    for fdesc in fpart:\n",
    "                        if fdesc.tag==\"figcaption\":\n",
    "                            caption = fdesc.text\n",
    "                        if fdesc.tag==\"img\":\n",
    "                            img = fdesc.attrib['src']\n",
    "                    number = caption[:1]\n",
    "                    caption = caption[2:]\n",
    "                    figure = {'caption': caption, 'img': img, 'url': url}\n",
    "                    flist += [figure]\n",
    "    dict2018[monthname]=flist\n",
    "                    "
   ]
  },
  {
   "cell_type": "code",
   "execution_count": 123,
   "metadata": {},
   "outputs": [
    {
     "data": {
      "text/plain": [
       "{'December 2018': [{'caption': 'Lateral graphene/hexagonal boron nitride heterostructures',\n",
       "   'img': '2018/12/1.jpg',\n",
       "   'url': 'http://www.semiconductor-today.com/news_items/2018/dec/xu_201218.shtml'},\n",
       "  {'caption': 'Quantum dot laser diodes on CMOS-compatible on-axis silicon substrates',\n",
       "   'img': '2018/12/2.jpg',\n",
       "   'url': 'http://www.semiconductor-today.com/news_items/2018/dec/hkust_271218.shtml'},\n",
       "  {'caption': 'Improving ohmic contacts in III-nitride high-electron-mobility transistors',\n",
       "   'img': '2018/12/3.jpg',\n",
       "   'url': 'http://www.semiconductor-today.com/news_items/2018/dec/iit_281218.shtml'},\n",
       "  {'caption': 'Increasing current performance in III-nitride p-channel transistors',\n",
       "   'img': '2018/12/4.jpg',\n",
       "   'url': 'http://www.semiconductor-today.com/news_items/2018/dec/cornell_311218.shtml'},\n",
       "  {'caption': 'Mid-infrared aluminium gallium nitride quantum cascade detector on silicon',\n",
       "   'img': '2018/12/5.jpg',\n",
       "   'url': 'http://www.semiconductor-today.com/news_items/2019/jan/technion_090119.shtml'},\n",
       "  {'caption': 'Diamond thermal management boosts output power of InAlGaN transistor',\n",
       "   'img': '2018/12/6.jpg',\n",
       "   'url': 'http://www.semiconductor-today.com/news_items/2019/jan/fujitsu_100119.shtml'}],\n",
       " 'November 2018': [{'caption': 'Monolithic near-ultraviolet optoelectronics systems on silicon',\n",
       "   'img': '2018/11/1.jpg',\n",
       "   'url': 'http://www.semiconductor-today.com/news_items/2018/nov/nupt_141118.shtml'},\n",
       "  {'caption': 'Laser annealing enables gate-first fabrication of III-nitride transistors',\n",
       "   'img': '2018/11/2.jpg',\n",
       "   'url': 'http://www.semiconductor-today.com/news_items/2018/nov/scut_221118.shtml'},\n",
       "  {'caption': 'Gallium nitride vertical-channel junction field-effect transistors',\n",
       "   'img': '2018/11/3.jpg',\n",
       "   'url': 'http://www.semiconductor-today.com/news_items/2018/nov/rwth_301118.shtml'},\n",
       "  {'caption': 'Gallium nitride microwire arrays on silicon for ultraviolet photodetection',\n",
       "   'img': '2018/11/4.jpg',\n",
       "   'url': 'http://www.semiconductor-today.com/news_items/2018/nov/scnu_281118.shtml'},\n",
       "  {'caption': 'Gallium oxide trench Schottky barrier diodes with ultra-low leakage',\n",
       "   'img': '2018/11/5.jpg',\n",
       "   'url': 'http://www.semiconductor-today.com/news_items/2018/dec/cornell_051218.shtml'},\n",
       "  {'caption': 'Powering up gallium oxide metal-oxide-semiconductor field-effect transistors',\n",
       "   'img': '2018/11/6.jpg',\n",
       "   'url': 'http://www.semiconductor-today.com/news_items/2018/dec/hebei_121218.shtml'}],\n",
       " 'October 2018': [{'caption': 'Orienting quantum cascade lasers to higher efficiency and lower threshold',\n",
       "   'img': '2018/10/1.jpg',\n",
       "   'url': 'http://www.semiconductor-today.com/news_items/2018/oct/humboldt_171018.shtml'},\n",
       "  {'caption': 'High-performance light emission from III-nitride stress/dislocation control',\n",
       "   'img': '2018/10/2.jpg',\n",
       "   'url': 'http://www.semiconductor-today.com/news_items/2018/oct/scu_191018.shtml'},\n",
       "  {'caption': 'Large-area silicon carbide ultraviolet visible-blind avalanche photodiode',\n",
       "   'img': '2018/10/3.jpg',\n",
       "   'url': 'http://www.semiconductor-today.com/news_items/2018/oct/hebei_241018.shtml'},\n",
       "  {'caption': 'Quantum cascade superluminescent arrays for mid-infrared applications',\n",
       "   'img': '2018/10/4.jpg',\n",
       "   'url': 'http://www.semiconductor-today.com/news_items/2018/nov/sinano_011118.shtml'},\n",
       "  {'caption': 'III-V heterojunction bipolar transistor MOCVD on 200mm (001) silicon',\n",
       "   'img': '2018/10/5.jpg',\n",
       "   'url': 'http://www.semiconductor-today.com/news_items/2018/nov/ntu_061118.shtml'},\n",
       "  {'caption': 'Lateral epitaxial overgrowth on silicon to boost ultraviolet output power',\n",
       "   'img': '2018/10/6.jpg',\n",
       "   'url': 'http://www.semiconductor-today.com/news_items/2018/nov/nu_071118.shtml'}],\n",
       " 'September 2018': [{'caption': 'Magnetic sensing with gallium nitride high-electron-mobility transistors',\n",
       "   'img': '2018/09/1.jpg',\n",
       "   'url': 'http://www.semiconductor-today.com/news_items/2018/sep/swansea-university_130918.shtml'},\n",
       "  {'caption': 'Vertical-cavity resonant near-green lasing of indium gallium nitride',\n",
       "   'img': '2018/09/2.jpg',\n",
       "   'url': 'http://www.semiconductor-today.com/news_items/2018/sep/sinano_210918.shtml'},\n",
       "  {'caption': 'Thin gallium nitride on silicon carbide high-power and high-frequency electronics',\n",
       "   'img': '2018/09/3.jpg',\n",
       "   'url': 'http://www.semiconductor-today.com/news_items/2018/sep/swegan_270918.shtml'},\n",
       "  {'caption': 'Black phosphorus photodiode for mid-wavelength infrared detection',\n",
       "   'img': '2018/09/4.jpg',\n",
       "   'url': 'http://www.semiconductor-today.com/news_items/2018/oct/lbnl_041018.shtml'},\n",
       "  {'caption': 'Silicon monoxide gate dielectric for gallium nitride transistors',\n",
       "   'img': '2018/09/5.jpg',\n",
       "   'url': 'http://www.semiconductor-today.com/news_items/2018/oct/shandong_091018.shtml'},\n",
       "  {'caption': 'Argon-ion-enhanced room-temperature bonding with low resistance',\n",
       "   'img': '2018/09/6.jpg',\n",
       "   'url': 'http://www.semiconductor-today.com/news_items/2018/oct/sinano_101018.shtml'}],\n",
       " 'August 2018': [{'caption': 'Integrating capacitors into p-gallium nitride gate transistors on silicon',\n",
       "   'img': '2018/08/1.jpg',\n",
       "   'url': 'http://www.semiconductor-today.com/news_items/2018/aug/hkust_090818.shtml'},\n",
       "  {'caption': 'III-nitride solar cells on hexagonal boron nitride separation layer',\n",
       "   'img': '2018/08/2.jpg',\n",
       "   'url': 'http://www.semiconductor-today.com/news_items/2018/aug/git_160818.shtml'},\n",
       "  {'caption': 'Gallium oxide transistors increase breakdown voltage to 1.8kV',\n",
       "   'img': '2018/08/3.jpg',\n",
       "   'url': 'http://www.semiconductor-today.com/news_items/2018/aug/buffalo_240818.shtml'},\n",
       "  {'caption': 'Atomic-layer sidewall passivation of indium gallium nitride μLEDs',\n",
       "   'img': '2018/08/4.jpg',\n",
       "   'url': 'http://www.semiconductor-today.com/news_items/2018/aug/ucsb_290818.shtml'},\n",
       "  {'caption': 'Photo-electro-chemical deep trench etching in gallium nitride',\n",
       "   'img': '2018/08/5.jpg',\n",
       "   'url': 'http://www.semiconductor-today.com/news_items/2018/aug/hosei_230818.shtml'},\n",
       "  {'caption': 'Activating buried p-type gallium nitride for power electronics',\n",
       "   'img': '2018/08/6.jpg',\n",
       "   'url': 'http://www.semiconductor-today.com/news_items/2018/sep/cornell_060918.shtml'}],\n",
       " 'July 2018': [{'caption': 'Undoped gallium nitride upper waveguide for reduced laser threshold',\n",
       "   'img': '2018/07/1.jpg',\n",
       "   'url': 'http://www.semiconductor-today.com/news_items/2018/jul/ucas_050718.shtml'},\n",
       "  {'caption': 'Speeding oscillation of double heterojunction bipolar transistors',\n",
       "   'img': '2018/07/2.jpg',\n",
       "   'url': 'http://www.semiconductor-today.com/news_items/2018/jul/eth_0120718.shtml'},\n",
       "  {'caption': 'Improving aluminium gallium nitride transistor channel performance',\n",
       "   'img': '2018/07/3.jpg',\n",
       "   'url': 'http://www.semiconductor-today.com/news_items/2018/jul/xu_180718.shtml'},\n",
       "  {'caption': 'Plasmon-enhanced mid-infrared photodetection at room temperature',\n",
       "   'img': '2018/07/4.jpg',\n",
       "   'url': 'http://www.semiconductor-today.com/news_items/2018/jul/ntu_250718.shtml'},\n",
       "  {'caption': 'Structures to enhance light extraction in indium gallium nitride LEDs',\n",
       "   'img': '2018/07/5.jpg',\n",
       "   'url': 'http://www.semiconductor-today.com/news_items/2018/jul/ncku_300718.shtml'},\n",
       "  {'caption': 'Amber light for zinc tin nitride boost from indium gallium nitride wells',\n",
       "   'img': '2018/07/6.jpg',\n",
       "   'url': 'http://www.semiconductor-today.com/news_items/2018/aug/osu_020818.shtml'}],\n",
       " 'June 2018': [{'caption': 'Aluminium indium nitride as interlayer for green-emitting multi-quantum wells',\n",
       "   'img': '2018/06/1.jpg',\n",
       "   'url': 'http://www.semiconductor-today.com/news_items/2018/jun/lehigh_070618.shtml'},\n",
       "  {'caption': 'Gallium nitride tunnel junctions from pure MOCVD process for VCSELs',\n",
       "   'img': '2018/06/2.jpg',\n",
       "   'url': 'http://www.semiconductor-today.com/news_items/2018/jun/ucsb_130618.shtml'},\n",
       "  {'caption': 'Lateral epitaxial overgrowth on silicon to boost ultraviolet output power',\n",
       "   'img': '2018/06/3.jpg',\n",
       "   'url': 'http://www.semiconductor-today.com/news_items/2018/jun/toyota_210618.shtml'},\n",
       "  {'caption': 'Monolithic indium phosphide on silicon growth for optoelectronics',\n",
       "   'img': '2018/06/4.jpg',\n",
       "   'url': 'http://www.semiconductor-today.com/news_items/2018/jun/hkust_270618.shtml'},\n",
       "  {'caption': 'Schottky diodes integrated in vertical gallium nitride transistors on silicon',\n",
       "   'img': '2018/06/5.jpg',\n",
       "   'url': 'http://www.semiconductor-today.com/news_items/2018/jun/epfl_290618.shtml'},\n",
       "  {'caption': 'Hole gas boost for deep ultraviolet diode wall-plug efficiency',\n",
       "   'img': '2018/06/6.jpg',\n",
       "   'url': 'http://www.semiconductor-today.com/news_items/2018/jul/bolb_040718.shtml'}],\n",
       " 'May 2018': [{'caption': 'Normally-off gallium nitride nanowire transistors with inverted p-channel',\n",
       "   'img': '2018/05/1.jpg',\n",
       "   'url': 'http://www.semiconductor-today.com/news\\\\_items/2018/may/tub\\\\_110518.shtml'},\n",
       "  {'caption': 'Lowering thresholds for III-nitride vertical-cavity surface emitting lasers',\n",
       "   'img': '2018/05/2.jpg',\n",
       "   'url': 'http://www.semiconductor-today.com/news_items/2018/may/xiamen_150518.shtml'},\n",
       "  {'caption': 'High-voltage gallium oxide transistors with more than 1kV breakdown',\n",
       "   'img': '2018/05/3.jpg',\n",
       "   'url': 'http://www.semiconductor-today.com/news_items/2018/may/cornell_160518.shtml'},\n",
       "  {'caption': 'Strain engineering higher hole density in N-polar aluminium gallium nitride',\n",
       "   'img': '2018/05/4.jpg',\n",
       "   'url': 'http://www.semiconductor-today.com/news_items/2018/may/kaust_250518.shtml'},\n",
       "  {'caption': 'Room-temperature photoluminescence from III-IV-V semiconductor alloys',\n",
       "   'img': '2018/05/5.jpg',\n",
       "   'url': 'http://www.semiconductor-today.com/news_items/2018/may/mit_300518.shtml'},\n",
       "  {'caption': 'Expanding the application potential of hydride vapor phase epitaxy',\n",
       "   'img': '2018/05/6.jpg',\n",
       "   'url': 'http://www.semiconductor-today.com/news_items/2018/jun/sciocs_080618.shtml'}],\n",
       " 'April 2018': [{'caption': 'Near-ultraviolet aluminium gallium nitride laser diode on silicon',\n",
       "   'img': '2018/04/1.jpg',\n",
       "   'url': 'http://www.semiconductor-today.com/news_items/2018/apr/suzhou_110418.shtml'},\n",
       "  {'caption': 'Combining boron nitride and gallium oxide to boost power transistor',\n",
       "   'img': '2018/04/2.jpg',\n",
       "   'url': 'http://www.semiconductor-today.com/news_items/2018/apr/keri_160418.shtml'},\n",
       "  {'caption': 'Electro-absorption modulators for vertical-cavity surface-emitting',\n",
       "   'img': '2018/04/3.jpg',\n",
       "   'url': 'http://www.semiconductor-today.com/news_items/2018/apr/udt_180418.shtml'},\n",
       "  {'caption': 'Platform for fully vertical gallium nitride on silicon power devices',\n",
       "   'img': '2018/04/4.jpg',\n",
       "   'url': 'http://www.semiconductor-today.com/news_items/2018/apr/mit_260418.shtml'},\n",
       "  {'caption': 'Near-ultraviolet optoelectronic transmitter/receiver system',\n",
       "   'img': '2018/04/5.jpg',\n",
       "   'url': 'http://www.semiconductor-today.com/news_items/2018/may/nagoya_020518.shtml'},\n",
       "  {'caption': 'Indium arsenide quantum dot laser on silicon from molecular beam epitaxy',\n",
       "   'img': '2018/04/6.jpg',\n",
       "   'url': 'http://www.semiconductor-today.com/news_items/2018/may/uot_090518.shtml'}],\n",
       " 'March 2018': [{'caption': 'Semi-polar III-nitride integration for visible light communication',\n",
       "   'img': '2018/03/1.jpg',\n",
       "   'url': 'http://www.semiconductor-today.com/news_items/2018/mar/kaust_190318.shtml'},\n",
       "  {'caption': 'Indium arsenide channel transistors for mm-wave and high-speed applications',\n",
       "   'img': '2018/03/2.jpg',\n",
       "   'url': 'http://www.semiconductor-today.com/news_items/2018/mar/ucsb_200318.shtml'},\n",
       "  {'caption': 'Silicon hole injector for deep ultraviolet aluminium gallium nitride diodes',\n",
       "   'img': '2018/03/3.jpg',\n",
       "   'url': 'http://www.semiconductor-today.com/news_items/2018/mar/hexatech_210318.shtml'},\n",
       "  {'caption': 'Tunneling to green light emission with improved efficiency performance',\n",
       "   'img': '2018/03/4.jpg',\n",
       "   'url': 'http://www.semiconductor-today.com/news_items/2018/mar/kacst_280318.shtml'},\n",
       "  {'caption': 'Improving magnesium doping of aluminium gallium nitride',\n",
       "   'img': '2018/03/5.jpg',\n",
       "   'url': 'http://www.semiconductor-today.com/news_items/2018/apr/cmu_040418.shtml'},\n",
       "  {'caption': 'Silicon carbide superjunction Schottky junction diodes',\n",
       "   'img': '2018/03/6.jpg',\n",
       "   'url': 'http://www.semiconductor-today.com/news\\\\_items/2018/apr/zhejiang\\\\_090418.shtml'}],\n",
       " 'February 2018': [{'caption': 'Opening up bandwidth for visible light communication technology',\n",
       "   'img': '2018/02/1.jpg',\n",
       "   'url': 'http://www.semiconductor-today.com/news_items/2018/feb/unm_090218.shtml'},\n",
       "  {'caption': 'Continuous-wave operation of semi-polar blue laser diodes',\n",
       "   'img': '2018/02/2.jpg',\n",
       "   'url': 'http://www.semiconductor-today.com/news_items/2018/feb/ucsb_140218.shtml'},\n",
       "  {'caption': 'III-nitride microphotodetector for visible light communication',\n",
       "   'img': '2018/02/3.jpg',\n",
       "   'url': 'http://www.semiconductor-today.com/news_items/2018/feb/kaust_220218.shtml'},\n",
       "  {'caption': 'Tri-anode/slant-gate gallium nitride Schottky barrier diode on silicon',\n",
       "   'img': '2018/02/4.jpg',\n",
       "   'url': 'http://www.semiconductor-today.com/news_items/2018/feb/epfl_280218.shtml'},\n",
       "  {'caption': 'Vanadium dioxide enables III-nitride phase-transition field-effect transistor',\n",
       "   'img': '2018/02/5.jpg',\n",
       "   'url': 'http://www.semiconductor-today.com/news_items/2018/mar/cornell_070318.shtml'},\n",
       "  {'caption': 'Room-temperature electrically pumped indium gallium nitride microdisk laser',\n",
       "   'img': '2018/02/6.jpg',\n",
       "   'url': 'http://www.semiconductor-today.com/news_items/2018/mar/sin_120318.shtml'}],\n",
       " 'January 2018': [{'caption': '‘First’ quasi-vertical gallium nitride trench MOSFET on six-inch',\n",
       "   'img': '2018/01/1.jpg',\n",
       "   'url': 'http://www.semiconductor-today.com/news_items/2018/jan/epfl_160118.shtml'},\n",
       "  {'caption': 'Reducing dislocations in gallium arsenide on silicon templates',\n",
       "   'img': '2018/01/2.jpg',\n",
       "   'url': 'http://www.semiconductor-today.com/news_items/2018/jan/ucsb_230118.shtml'},\n",
       "  {'caption': 'Questioning carrier distributions in III-nitride light-emitting diodes',\n",
       "   'img': '2018/01/3.jpg',\n",
       "   'url': 'http://www.semiconductor-today.com/news_items/2018/jan/unibath_290118.shtml'},\n",
       "  {'caption': 'Boosting indium gallium nitride LEDs on silicon with tensile stress',\n",
       "   'img': '2018/01/4.jpg',\n",
       "   'url': 'http://www.semiconductor-today.com/news_items/2018/jan/scut_300118.shtml'},\n",
       "  {'caption': 'Stacking III-nitride laser diodes with tunnel junction connections',\n",
       "   'img': '2018/01/5.jpg',\n",
       "   'url': 'http://www.semiconductor-today.com/news_items/2018/jan/hamamatsu_310118.shtml'},\n",
       "  {'caption': 'Microwave deposition of gallium oxide on III-nitride on silicon substrate',\n",
       "   'img': '2018/01/6.jpg',\n",
       "   'url': 'http://www.semiconductor-today.com/news\\\\_items/2018/feb/indian-institute\\\\_070218.shtml'}]}"
      ]
     },
     "execution_count": 123,
     "metadata": {},
     "output_type": "execute_result"
    }
   ],
   "source": [
    "dict2018"
   ]
  },
  {
   "cell_type": "code",
   "execution_count": 127,
   "metadata": {},
   "outputs": [],
   "source": [
    "import json\n",
    "with open('2018.json', 'w') as fp:\n",
    "    json.dump(dict2018, fp)"
   ]
  },
  {
   "cell_type": "code",
   "execution_count": null,
   "metadata": {},
   "outputs": [],
   "source": []
  }
 ],
 "metadata": {
  "kernelspec": {
   "display_name": "JavaScript",
   "language": "javascript",
   "name": "jslab"
  },
  "language_info": {
   "file_extension": ".js",
   "mimetype": "text/javascript",
   "name": "javascript",
   "version": ""
  }
 },
 "nbformat": 4,
 "nbformat_minor": 4
}
